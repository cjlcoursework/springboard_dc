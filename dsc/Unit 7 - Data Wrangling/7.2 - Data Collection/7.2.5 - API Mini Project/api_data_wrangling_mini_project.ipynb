{
 "cells": [
  {
   "cell_type": "markdown",
   "source": [
    "This exercise will require you to pull some data from https://data.nasdaq.com/ (formerly Quandl API)."
   ],
   "metadata": {}
  },
  {
   "cell_type": "markdown",
   "source": [
    "As a first step, you will need to register a free account on the https://data.nasdaq.com/ website."
   ],
   "metadata": {}
  },
  {
   "cell_type": "markdown",
   "source": [
    "After you register, you will be provided with a unique API key, that you should store:\n",
    "\n",
    "*Note*: Use a `.env` file and put your key in there and `python-dotenv` to access it in this notebook. \n",
    "\n",
    "The code below uses a key that was used when generating this project but has since been deleted. Never submit your keys to source control. There is a `.env-example` file in this repository to illusrtate what you need. Copy that to a file called `.env` and use your own api key in that `.env` file. Make sure you also have a `.gitignore` file with a line for `.env` added to it. \n",
    "\n",
    "The standard Python gitignore is [here](https://github.com/github/gitignore/blob/master/Python.gitignore) you can just copy that. "
   ],
   "metadata": {}
  },
  {
   "cell_type": "code",
   "execution_count": 255,
   "source": [
    "# get api key from your .env file\n",
    "import os\n",
    "from dotenv import load_dotenv\n",
    "\n",
    "load_dotenv()\n",
    "API_KEY = os.getenv('NASDAQ_API_KEY')\n",
    "\n",
    "print(API_KEY)"
   ],
   "outputs": [
    {
     "name": "stdout",
     "output_type": "stream",
     "text": [
      "Jsy1rmczYf7Vvg4rZSmv\n"
     ]
    }
   ],
   "metadata": {}
  },
  {
   "cell_type": "markdown",
   "source": [
    "Nasdaq Data has a large number of data sources, but, unfortunately, most of them require a Premium subscription. Still, there are also a good number of free datasets."
   ],
   "metadata": {}
  },
  {
   "cell_type": "markdown",
   "source": [
    "For this mini project, we will focus on equities data from the Frankfurt Stock Exhange (FSE), which is available for free. We'll try and analyze the stock prices of a company called Carl Zeiss Meditec, which manufactures tools for eye examinations, as well as medical lasers for laser eye surgery: https://www.zeiss.com/meditec/int/home.html. The company is listed under the stock ticker AFX_X."
   ],
   "metadata": {}
  },
  {
   "cell_type": "markdown",
   "source": [
    "## create the uri\n",
    "> for calling Nasdaq with a dataset and arguments"
   ],
   "metadata": {
    "collapsed": false
   }
  },
  {
   "cell_type": "code",
   "execution_count": 256,
   "outputs": [],
   "source": [
    "# These are the request URL parameters\n",
    "uri = 'https://data.nasdaq.com/api/v3/datasets'\n",
    "database_code = 'FSE'\n",
    "dataset_code = 'AFX_X'\n",
    "data = \"data\"  # or data or metadata\n",
    "return_format = 'json'\n",
    "\n",
    "# Add any request arguments\n",
    "filters = dict(\n",
    "    start_date='2016-12-28',   # keep a few extra dates in case the api calculates non-inclusive - we'll filter them out later\n",
    "    end_date='2018-01-02',\n",
    "    # collapse='monthly',\n",
    "    # transform='rdiff',\n",
    "    api_key=API_KEY\n",
    ")\n",
    "arguments = \"&\".join(  [f\"{x}={y}\" for x,y in filters.items()]  )\n",
    "\n",
    "# create the url\n",
    "url = os.path.join(uri,database_code,dataset_code,f\"{data}.{return_format}?{arguments}\")\n",
    "\n"
   ],
   "metadata": {
    "collapsed": false
   }
  },
  {
   "cell_type": "markdown",
   "source": [
    "You can find the detailed Nasdaq Data API instructions here: https://docs.data.nasdaq.com/docs/in-depth-usage"
   ],
   "metadata": {}
  },
  {
   "cell_type": "markdown",
   "source": [
    "While there is a dedicated Python package for connecting to the Nasdaq API, we would prefer that you use the *requests* package, which can be easily downloaded using *pip* or *conda*. You can find the documentation for the package here: http://docs.python-requests.org/en/master/ "
   ],
   "metadata": {}
  },
  {
   "cell_type": "markdown",
   "source": [
    "Finally, apart from the *requests* package, you are encouraged to not use any third party Python packages, such as *pandas*, and instead focus on what's available in the Python Standard Library (the *collections* module might come in handy: https://pymotw.com/3/collections/).\n",
    "Also, since you won't have access to DataFrames, you are encouraged to us Python's native data structures - preferably dictionaries, though some questions can also be answered using lists.\n",
    "You can read more on these data structures here: https://docs.python.org/3/tutorial/datastructures.html"
   ],
   "metadata": {}
  },
  {
   "cell_type": "markdown",
   "source": [
    "Keep in mind that the JSON responses you will be getting from the API map almost one-to-one to Python's dictionaries. Unfortunately, they can be very nested, so make sure you read up on indexing dictionaries in the documentation provided above."
   ],
   "metadata": {}
  },
  {
   "cell_type": "markdown",
   "source": [
    "## imports"
   ],
   "metadata": {
    "collapsed": false
   }
  },
  {
   "cell_type": "code",
   "execution_count": 257,
   "source": [
    "# First, import the relevant modules\n",
    "import requests\n",
    "import json\n",
    "import datetime\n",
    "from datetime import datetime, date, timedelta\n",
    "from functools import reduce\n"
   ],
   "outputs": [],
   "metadata": {}
  },
  {
   "cell_type": "markdown",
   "source": [
    "Note: API's can change a bit with each version, for this exercise it is reccomended to use the nasdaq api at `https://data.nasdaq.com/api/v3/`. This is the same api as what used to be quandl so `https://www.quandl.com/api/v3/` should work too.\n",
    "\n",
    "Hint: We are looking for the `AFX_X` data on the `datasets/FSE/` dataset."
   ],
   "metadata": {}
  },
  {
   "cell_type": "markdown",
   "source": [
    "## request the data"
   ],
   "metadata": {
    "collapsed": false
   }
  },
  {
   "cell_type": "code",
   "execution_count": 258,
   "source": [
    "# Now, call the Nasdaq API and pull out a small sample of the data (only one day) to get a glimpse\n",
    "# into the JSON structure that will be returned\n",
    "r = requests.get(url)\n",
    "json_dict = r.json()\n"
   ],
   "outputs": [],
   "metadata": {}
  },
  {
   "cell_type": "markdown",
   "source": [
    "## inspect the data"
   ],
   "metadata": {
    "collapsed": false
   }
  },
  {
   "cell_type": "code",
   "execution_count": 259,
   "source": [
    "# Inspect the JSON structure of the object you created, and take note of how nested it is,\n",
    "# as well as the overall structure\n",
    "\n",
    "#print(json.dumps(json_dict, indent=2))"
   ],
   "outputs": [],
   "metadata": {}
  },
  {
   "cell_type": "markdown",
   "source": [],
   "metadata": {
    "collapsed": false
   }
  },
  {
   "cell_type": "markdown",
   "source": [
    "### 1. Collect data from the Frankfurt Stock Exchange, for the ticker AFX_X, for the whole year 2017\n",
    "> (keep in mind that the date format is YYYY-MM-DD)\n",
    "\n",
    "### 2. Convert the returned JSON object into a Python dictionary"
   ],
   "metadata": {
    "collapsed": false
   }
  },
  {
   "cell_type": "code",
   "execution_count": 260,
   "outputs": [],
   "source": [
    "# get the columns names and the data\n",
    "columns = json_dict['dataset_data']['column_names']\n",
    "events = json_dict['dataset_data']['data']\n",
    "\n",
    "# cleanup the columns names for database or other\n",
    "columns  = [str(x).lower().replace(\" \", \"_\") for x in columns[1:]]\n",
    "\n",
    "unordered_dict = {}\n",
    "for event in events:\n",
    "    date_string = event[:1][0]\n",
    "    date = datetime.strptime(date_string, '%Y-%m-%d')\n",
    "    data = event[1:]\n",
    "    res = dict(zip(columns, data))\n",
    "    unordered_dict[date] = res\n"
   ],
   "metadata": {
    "collapsed": false
   }
  },
  {
   "cell_type": "code",
   "execution_count": 261,
   "outputs": [
    {
     "name": "stdout",
     "output_type": "stream",
     "text": [
      "earliest date: 2016-12-28 00:00:00, last_date: 2018-01-02 00:00:00\n"
     ]
    }
   ],
   "source": [
    "my_keys = list(unordered_dict.keys())\n",
    "my_keys.sort()\n",
    "nasdaq = {i: unordered_dict[i] for i in my_keys}\n",
    "\n",
    "# earliest and latest date\n",
    "print(f\"earliest date: {my_keys[0]}, last_date: {my_keys[len(my_keys)-1]}\")\n",
    "\n",
    "# are all days accounted for?\n",
    " # tbd"
   ],
   "metadata": {
    "collapsed": false
   }
  },
  {
   "cell_type": "code",
   "execution_count": 262,
   "outputs": [],
   "source": [
    "#\n",
    "class StockSummary:\n",
    "\n",
    "    def __init__(self):\n",
    "        self.last_date = datetime(2016,12,31)\n",
    "        self.last_event = None\n",
    "        self.highest_open = 0.0\n",
    "        self.lowest_open = 0.0\n",
    "        self.largest_1day_change = 0.0\n",
    "        self.largest_2day_change = 0.0\n",
    "        self.largest_trading_volume = 0.0\n",
    "        self.trading_volumes = []\n",
    "\n",
    "    def summarize(self, date: datetime, event: dict):\n",
    "        self.last_date = date\n",
    "        open = event['open']\n",
    "        close = event['close']\n",
    "        vol = event['traded_volume']\n",
    "        self.highest_open = max(open, self.highest_open)\n",
    "        self.lowest_open = min(open, self.lowest_open) if self.lowest_open != 0 else open\n",
    "\n",
    "        self.largest_1day_change = max(\n",
    "            event['high'] - event['low'],\n",
    "            self.largest_1day_change\n",
    "        )\n",
    "\n",
    "        if self.last_event is not None:\n",
    "            self.largest_2day_change = max(\n",
    "                self.last_event['close'] - event['close'],\n",
    "                self.largest_2day_change\n",
    "            )\n",
    "\n",
    "        self.trading_volumes.append(event['traded_volume'])\n",
    "\n",
    "        self.last_date = date\n",
    "        self.last_event = event\n",
    "\n"
   ],
   "metadata": {
    "collapsed": false
   }
  },
  {
   "cell_type": "markdown",
   "source": [
    "## validate holidays - TBD - verify this\n",
    "\n",
    "|---|---|---|\n",
    "|New Year’s Day  |Sunday,                 |January 1 (Observed Monday, January 2)|\n",
    "|Martin Luther King, Jr. Day |Monday,     |January 16|\n",
    "|Washington’s Birthday   |Monday,         |February 20|\n",
    "|Good Friday |Friday,                     |April 14|\n",
    "|Memorial Day    |Monday,                 |May 29|\n",
    "|Independence Day    |Tuesday,            |July 4**|\n",
    "|Labor Day   |Monday,                     |September 4|\n",
    "|Thanksgiving Day    |Thursday,           |November 23*|\n",
    "|Christmas Day   |Monday,                 |December 25|"
   ],
   "metadata": {
    "collapsed": false
   }
  },
  {
   "cell_type": "code",
   "execution_count": 263,
   "outputs": [
    {
     "name": "stdout",
     "output_type": "stream",
     "text": [
      "NYSE Holday schedule 2017\n"
     ]
    },
    {
     "data": {
      "text/plain": "{datetime.datetime(2017, 1, 1, 0, 0),\n datetime.datetime(2017, 1, 16, 0, 0),\n datetime.datetime(2017, 2, 20, 0, 0),\n datetime.datetime(2017, 4, 14, 0, 0),\n datetime.datetime(2017, 5, 29, 0, 0),\n datetime.datetime(2017, 6, 4, 0, 0),\n datetime.datetime(2017, 9, 4, 0, 0),\n datetime.datetime(2017, 11, 23, 0, 0),\n datetime.datetime(2017, 12, 25, 0, 0)}"
     },
     "execution_count": 263,
     "metadata": {},
     "output_type": "execute_result"
    }
   ],
   "source": [
    "NYSE_2017_holidays = set([\n",
    "    datetime(2017,1,1),\n",
    "    datetime(2017,1,16),\n",
    "    datetime(2017,2,20),\n",
    "    datetime(2017,4,14),\n",
    "    datetime(2017,5,29),\n",
    "    datetime(2017,6,4),\n",
    "    datetime(2017,9,4),\n",
    "    datetime(2017,11,23),\n",
    "    datetime(2017,12,25)\n",
    "])\n",
    "\n",
    "print(\"NYSE Holday schedule 2017\")\n",
    "NYSE_2017_holidays"
   ],
   "metadata": {
    "collapsed": false
   }
  },
  {
   "cell_type": "code",
   "execution_count": 264,
   "outputs": [],
   "source": [
    "def valid_float(element, field) -> float or None:\n",
    "    if field not in element:\n",
    "        return None\n",
    "    datum = element[field]\n",
    "    try:\n",
    "        return float(datum)\n",
    "    except:\n",
    "        return None\n",
    "\n",
    "def valid_record(event: dict) -> bool:\n",
    "    if valid_float(event, 'open') is None:\n",
    "        return False\n",
    "    if valid_float(event, 'close') is None:\n",
    "        return False\n",
    "    if valid_float(event, 'high') is None:\n",
    "        return False\n",
    "    if valid_float(event, 'low') is None:\n",
    "        return False\n",
    "    if valid_float(event, 'traded_volume') is None:\n",
    "        return False\n",
    "    return True\n",
    "\n",
    "\n",
    "def sum_array(arr: list[float]) -> float:\n",
    "    sum = reduce(lambda x, y: x+y, arr)\n",
    "    return(sum)\n",
    "\n",
    "def median_array(arr: list[float]) -> float:\n",
    "    arr.sort()\n",
    "    n = len(arr)\n",
    "    half = n / 2\n",
    "    if n % 2 == 0:\n",
    "        x = arr[int(half) - 1]\n",
    "        y = arr[int(half)]\n",
    "        median = (x + y) / 2\n",
    "    else:\n",
    "        median = arr[int(half)]\n",
    "    return median\n"
   ],
   "metadata": {
    "collapsed": false
   }
  },
  {
   "cell_type": "code",
   "execution_count": 265,
   "outputs": [],
   "source": [
    "start_date = datetime(2017,1,1)\n",
    "end_date = datetime(2018,1,1)\n",
    "missing_dates = []\n",
    "missing_data = []\n",
    "stock = StockSummary()\n"
   ],
   "metadata": {
    "collapsed": false
   }
  },
  {
   "cell_type": "code",
   "execution_count": 266,
   "outputs": [],
   "source": [
    "while start_date != end_date:\n",
    "\n",
    "    if start_date not in nasdaq:\n",
    "        if start_date.weekday() not in [5,6] and start_date not in NYSE_2017_holidays:\n",
    "            missing_dates.append(start_date)\n",
    "    else:\n",
    "        event = nasdaq[start_date]\n",
    "        if not valid_record(event):\n",
    "            missing_data.append((start_date, event))\n",
    "        else:\n",
    "            stock.summarize(start_date, event)\n",
    "\n",
    "    start_date += timedelta(days=1)"
   ],
   "metadata": {
    "collapsed": false
   }
  },
  {
   "cell_type": "markdown",
   "source": [
    "## Data issues\n",
    "> For now, we'll ignore missing dates, and drop invalid records"
   ],
   "metadata": {
    "collapsed": false
   }
  },
  {
   "cell_type": "markdown",
   "source": [
    "### Missing dates are ignored\n",
    "> If any day is missing, we'll just use the previously recorded day to calculate changes\n",
    "> Some missing dates could be holidays, but there are a few different lists of NYSE holidays - we are using one unofficial version from web - needs more work\n",
    "\n",
    "### Weekends are not included in the data\n",
    "> This is expected\n"
   ],
   "metadata": {
    "collapsed": false
   }
  },
  {
   "cell_type": "code",
   "execution_count": 267,
   "outputs": [
    {
     "name": "stdout",
     "output_type": "stream",
     "text": [
      "There are 4 missing dates in 2017\n",
      "2017-06-05 00:00:00 0\n",
      "2017-10-03 00:00:00 1\n",
      "2017-10-31 00:00:00 1\n",
      "2017-12-26 00:00:00 1\n"
     ]
    }
   ],
   "source": [
    "print(f\"There are {len(missing_dates)} missing dates in 2017\")\n",
    "for i in missing_dates:\n",
    "    print(i, i.weekday())"
   ],
   "metadata": {
    "collapsed": false
   }
  },
  {
   "cell_type": "markdown",
   "source": [
    "### There are some bad records\n",
    "> Where there is a bad number in one of the fields - these are also dropped"
   ],
   "metadata": {
    "collapsed": false
   }
  },
  {
   "cell_type": "code",
   "execution_count": 268,
   "outputs": [
    {
     "name": "stdout",
     "output_type": "stream",
     "text": [
      " Date: 2017-04-14 00:00:00  open = None  close = 42.2  high = 42.48  low = 41.985  volume = 88416.0\n",
      " Date: 2017-04-17 00:00:00  open = None  close = 42.2  high = 42.48  low = 41.985  volume = 88416.0\n",
      " Date: 2017-05-01 00:00:00  open = None  close = 41.72  high = 42.245  low = 41.655  volume = 86348.0\n"
     ]
    }
   ],
   "source": [
    "for i in missing_data:\n",
    "    print(f\" Date: {str(i[0])}\", end=\" \")\n",
    "    print(f\" open = {i[1]['open']}\", end=\" \")\n",
    "    print(f\" close = {i[1]['close']}\", end=\" \")\n",
    "    print(f\" high = {i[1]['high']}\", end=\" \")\n",
    "    print(f\" low = {i[1]['low']}\", end=\" \")\n",
    "    print(f\" volume = {i[1]['traded_volume']}\")"
   ],
   "metadata": {
    "collapsed": false
   }
  },
  {
   "cell_type": "markdown",
   "source": [
    "## Tasks"
   ],
   "metadata": {
    "collapsed": false
   }
  },
  {
   "cell_type": "markdown",
   "source": [
    "These are your tasks for this mini project:\n",
    "\n",
    "1. Collect data from the Franfurt Stock Exchange, for the ticker AFX_X, for the whole year 2017 (keep in mind that the date format is YYYY-MM-DD).\n",
    "2. Convert the returned JSON object into a Python dictionary.\n",
    "3. Calculate what the highest and lowest opening prices were for the stock in this period.\n",
    "4. What was the largest change in any one day (based on High and Low price)?\n",
    "5. What was the largest change between any two days (based on Closing Price)?\n",
    "6. What was the average daily trading volume during this year?\n",
    "7. (Optional) What was the median trading volume during this year. (Note: you may need to implement your own function for calculating the median.)"
   ],
   "metadata": {
    "collapsed": false
   }
  },
  {
   "cell_type": "markdown",
   "source": [
    "### 3. Calculate what the highest and lowest opening prices were for the stock in this period."
   ],
   "metadata": {
    "collapsed": false
   }
  },
  {
   "cell_type": "code",
   "execution_count": 269,
   "outputs": [
    {
     "name": "stdout",
     "output_type": "stream",
     "text": [
      "Highest open: 53.11\n",
      "Lowest open: 34.0\n"
     ]
    }
   ],
   "source": [
    "print(f\"Highest open: {stock.highest_open}\")\n",
    "print(f\"Lowest open: {stock.lowest_open}\")"
   ],
   "metadata": {
    "collapsed": false
   }
  },
  {
   "cell_type": "markdown",
   "source": [
    "### 4. What was the largest change in any one day (based on High and Low price)"
   ],
   "metadata": {
    "collapsed": false
   }
  },
  {
   "cell_type": "code",
   "execution_count": 270,
   "outputs": [
    {
     "name": "stdout",
     "output_type": "stream",
     "text": [
      "Largest one day change: 2.81\n"
     ]
    }
   ],
   "source": [
    "print(f\"Largest one day change: {round(stock.largest_1day_change,2)}\")"
   ],
   "metadata": {
    "collapsed": false
   }
  },
  {
   "cell_type": "markdown",
   "source": [
    "### 5. What was the largest change between any two days (based on Closing Price)"
   ],
   "metadata": {
    "collapsed": false
   }
  },
  {
   "cell_type": "code",
   "execution_count": 271,
   "source": [
    "print(f\"Largest difference between previous close and next day close: {round(stock.largest_2day_change,2)}\")"
   ],
   "outputs": [
    {
     "name": "stdout",
     "output_type": "stream",
     "text": [
      "Largest difference between previous close and next day close: 2.56\n"
     ]
    }
   ],
   "metadata": {}
  },
  {
   "cell_type": "markdown",
   "source": [
    "### 6. What was the average daily trading volume during this year"
   ],
   "metadata": {
    "collapsed": false
   }
  },
  {
   "cell_type": "code",
   "execution_count": 272,
   "outputs": [
    {
     "name": "stdout",
     "output_type": "stream",
     "text": [
      "Average daily trading volume during 2017: 89140.98\n"
     ]
    }
   ],
   "source": [
    "average_trading_volume  = sum_array(stock.trading_volumes) / len(stock.trading_volumes)\n",
    "print(f\"Average daily trading volume during 2017: {round(average_trading_volume,2)}\")"
   ],
   "metadata": {
    "collapsed": false
   }
  },
  {
   "cell_type": "markdown",
   "source": [
    "### 7. (Optional) What was the median trading volume during this year."
   ],
   "metadata": {
    "collapsed": false
   }
  },
  {
   "cell_type": "code",
   "execution_count": 273,
   "outputs": [
    {
     "name": "stdout",
     "output_type": "stream",
     "text": [
      "Median trading volume during 2017: 74723.5\n"
     ]
    }
   ],
   "source": [
    "median_trading_volume  = median_array(stock.trading_volumes)\n",
    "print(f\"Median trading volume during 2017: {round(median_trading_volume,2)}\")"
   ],
   "metadata": {
    "collapsed": false
   }
  }
 ],
 "metadata": {
  "kernelspec": {
   "name": "python3",
   "display_name": "Python 3.8.1 64-bit ('dsc_v5_solutions-7Q1D_Dt-': venv)"
  },
  "language_info": {
   "codemirror_mode": {
    "name": "ipython",
    "version": 3
   },
   "file_extension": ".py",
   "mimetype": "text/x-python",
   "name": "python",
   "nbconvert_exporter": "python",
   "pygments_lexer": "ipython3",
   "version": "3.8.1"
  },
  "interpreter": {
   "hash": "7635eb1b9d0fe97add78a7368b6b431c09bb8ad5c42e437d64abdd99821c31ae"
  }
 },
 "nbformat": 4,
 "nbformat_minor": 4
}
