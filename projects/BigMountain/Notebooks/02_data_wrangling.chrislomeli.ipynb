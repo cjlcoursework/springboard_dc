{
 "cells": [
  {
   "cell_type": "markdown",
   "metadata": {},
   "source": [
    "# 2 Data wrangling<a id='2_Data_wrangling'></a>"
   ]
  },
  {
   "cell_type": "markdown",
   "metadata": {},
   "source": [
    "## 2.1 Contents<a id='2.1_Contents'></a>\n",
    "* [2 Data wrangling](#2_Data_wrangling)\n",
    "  * [2.1 Contents](#2.1_Contents)\n",
    "  * [2.2 Introduction](#2.2_Introduction)\n",
    "    * [2.2.1 Recap Of Data Science Problem](#2.2.1_Recap_Of_Data_Science_Problem)\n",
    "    * [2.2.2 Introduction To Notebook](#2.2.2_Introduction_To_Notebook)\n",
    "  * [2.3 Imports](#2.3_Imports)\n",
    "  * [2.4 Objectives](#2.4_Objectives)\n",
    "  * [2.5 Load The Ski Resort Data](#2.5_Load_The_Ski_Resort_Data)\n",
    "  * [2.6 Explore The Data](#2.6_Explore_The_Data)\n",
    "    * [2.6.1 Find Your Resort Of Interest](#2.6.1_Find_Your_Resort_Of_Interest)\n",
    "    * [2.6.2 Number Of Missing Values By Column](#2.6.2_Number_Of_Missing_Values_By_Column)\n",
    "    * [2.6.3 Categorical Features](#2.6.3_Categorical_Features)\n",
    "      * [2.6.3.1 Unique Resort Names](#2.6.3.1_Unique_Resort_Names)\n",
    "      * [2.6.3.2 Region And State](#2.6.3.2_Region_And_State)\n",
    "      * [2.6.3.3 Number of distinct regions and states](#2.6.3.3_Number_of_distinct_regions_and_states)\n",
    "      * [2.6.3.4 Distribution Of Resorts By Region And State](#2.6.3.4_Distribution_Of_Resorts_By_Region_And_State)\n",
    "      * [2.6.3.5 Distribution Of Ticket Price By State](#2.6.3.5_Distribution_Of_Ticket_Price_By_State)\n",
    "        * [2.6.3.5.1 Average weekend and weekday price by state](#2.6.3.5.1_Average_weekend_and_weekday_price_by_state)\n",
    "        * [2.6.3.5.2 Distribution of weekday and weekend price by state](#2.6.3.5.2_Distribution_of_weekday_and_weekend_price_by_state)\n",
    "    * [2.6.4 Numeric Features](#2.6.4_Numeric_Features)\n",
    "      * [2.6.4.1 Numeric data summary](#2.6.4.1_Numeric_data_summary)\n",
    "      * [2.6.4.2 Distributions Of Feature Values](#2.6.4.2_Distributions_Of_Feature_Values)\n",
    "        * [2.6.4.2.1 SkiableTerrain_ac](#2.6.4.2.1_SkiableTerrain_ac)\n",
    "        * [2.6.4.2.2 Snow Making_ac](#2.6.4.2.2_Snow_Making_ac)\n",
    "        * [2.6.4.2.3 fastEight](#2.6.4.2.3_fastEight)\n",
    "        * [2.6.4.2.4 fastSixes and Trams](#2.6.4.2.4_fastSixes_and_Trams)\n",
    "  * [2.7 Derive State-wide Summary Statistics For Our Market Segment](#2.7_Derive_State-wide_Summary_Statistics_For_Our_Market_Segment)\n",
    "  * [2.8 Drop Rows With No Price Data](#2.8_Drop_Rows_With_No_Price_Data)\n",
    "  * [2.9 Review distributions](#2.9_Review_distributions)\n",
    "  * [2.10 Population data](#2.10_Population_data)\n",
    "  * [2.11 Target Feature](#2.11_Target_Feature)\n",
    "    * [2.11.1 Number Of Missing Values By Row - Resort](#2.11.1_Number_Of_Missing_Values_By_Row_-_Resort)\n",
    "  * [2.12 Save data](#2.12_Save_data)\n",
    "  * [2.13 Summary](#2.13_Summary)\n"
   ]
  },
  {
   "cell_type": "markdown",
   "metadata": {},
   "source": [
    "## 2.2 Introduction<a id='2.2_Introduction'></a>"
   ]
  },
  {
   "cell_type": "markdown",
   "metadata": {},
   "source": [
    "This step focuses on collecting your data, organizing it, and making sure it's well defined. Paying attention to these tasks will pay off greatly later on. Some data cleaning can be done at this stage, but it's important not to be overzealous in your cleaning before you've explored the data to better understand it."
   ]
  },
  {
   "cell_type": "markdown",
   "metadata": {},
   "source": [
    "### 2.2.1 Recap Of Data Science Problem<a id='2.2.1_Recap_Of_Data_Science_Problem'></a>"
   ]
  },
  {
   "cell_type": "markdown",
   "metadata": {},
   "source": [
    "The purpose of this data science project is to come up with a pricing model for ski resort tickets in our market segment. Big Mountain suspects it may not be maximizing its returns, relative to its position in the market. It also does not have a strong sense of what facilities matter most to visitors, particularly which ones they're most likely to pay more for. This project aims to build a predictive model for ticket price based on a number of facilities, or properties, boasted by resorts (*at the resorts).* \n",
    "This model will be used to provide guidance for Big Mountain's pricing and future facility investment plans."
   ]
  },
  {
   "cell_type": "markdown",
   "metadata": {},
   "source": [
    "### 2.2.2 Introduction To Notebook<a id='2.2.2_Introduction_To_Notebook'></a>"
   ]
  },
  {
   "cell_type": "markdown",
   "metadata": {},
   "source": [
    "Notebooks grow organically as we explore our data. If you used paper notebooks, you could discover a mistake and cross out or revise some earlier work. Later work may give you a reason to revisit earlier work and explore it further. The great thing about Jupyter notebooks is that you can edit, add, and move cells around without needing to cross out figures or scrawl in the margin. However, this means you can lose track of your changes easily. If you worked in a regulated environment, the company may have a a policy of always dating entries and clearly crossing out any mistakes, with your initials and the date.\n",
    "\n",
    "**Best practice here is to commit your changes using a version control system such as Git.** Try to get into the habit of adding and committing your files to the Git repository you're working in after you save them. You're are working in a Git repository, right? If you make a significant change, save the notebook and commit it to Git. In fact, if you're about to make a significant change, it's a good idea to commit before as well. Then if the change is a mess, you've got the previous version to go back to.\n",
    "\n",
    "**Another best practice with notebooks is to try to keep them organized with helpful headings and comments.** Not only can a good structure, but associated headings help you keep track of what you've done and your current focus. Anyone reading your notebook will have a much easier time following the flow of work. Remember, that 'anyone' will most likely be you. Be kind to future you!\n",
    "\n",
    "In this notebook, note how we try to use well structured, helpful headings that frequently are self-explanatory, and we make a brief note after any results to highlight key takeaways. This is an immense help to anyone reading your notebook and it will greatly help you when you come to summarise your findings. **Top tip: jot down key findings in a final summary at the end of the notebook as they arise. You can tidy this up later.** This is a great way to ensure important results don't get lost in the middle of your notebooks."
   ]
  },
  {
   "cell_type": "markdown",
   "metadata": {},
   "source": [
    "In this, and subsequent notebooks, there are coding tasks marked with `#Code task n#` with code to complete. The `___` will guide you to where you need to insert code."
   ]
  },
  {
   "cell_type": "markdown",
   "metadata": {},
   "source": [
    "## 2.3 Imports<a id='2.3_Imports'></a>"
   ]
  },
  {
   "cell_type": "markdown",
   "metadata": {},
   "source": [
    "Placing your imports all together at the start of your notebook means you only need to consult one place to check your notebook's dependencies. By all means import something 'in situ' later on when you're experimenting, but if the imported dependency ends up being kept, you should subsequently move the import statement here with the rest."
   ]
  },
  {
   "cell_type": "code",
   "execution_count": 796,
   "metadata": {},
   "outputs": [],
   "source": [
    "#Code task 1#\n",
    "#Import pandas, matplotlib.pyplot, and seaborn in the correct lines below\n",
    "import pandas as pd\n",
    "import seaborn as sns\n",
    "import os\n",
    "\n",
    "# Load the pyplot collection of functions from matplotlib, as plt\n",
    "from matplotlib import pyplot as plt\n",
    "\n",
    "\n",
    "import warnings\n",
    "\n",
    "warnings.filterwarnings('ignore')\n",
    "pd.set_option('display.float_format', lambda x: '%.5f' % x)\n",
    "# comments: <span style=\"color:#20B2AA\">\n",
    "\n",
    "from library.sb_utils import save_file\n"
   ]
  },
  {
   "cell_type": "markdown",
   "metadata": {},
   "source": [
    "## 2.4 Objectives<a id='2.4_Objectives'></a>"
   ]
  },
  {
   "cell_type": "markdown",
   "metadata": {},
   "source": [
    "There are some fundamental questions to resolve in this notebook before you move on.\n",
    "\n",
    "* Do you think you may have the data you need to tackle the desired question?\n",
    "    * Have you identified the required target value?\n",
    "    * Do you have potentially useful features?\n",
    "* Do you have any fundamental issues with the data?"
   ]
  },
  {
   "cell_type": "markdown",
   "metadata": {},
   "source": [
    "## 2.5 Load The Ski Resort Data<a id='2.5_Load_The_Ski_Resort_Data'></a>"
   ]
  },
  {
   "cell_type": "markdown",
   "source": [],
   "metadata": {
    "collapsed": false
   }
  },
  {
   "cell_type": "code",
   "execution_count": 797,
   "metadata": {},
   "outputs": [],
   "source": [
    "# the supplied CSV data file is the raw_data directory\n",
    "ski_data = pd.read_csv('../raw_data/ski_resort_data.csv')"
   ]
  },
  {
   "cell_type": "markdown",
   "metadata": {},
   "source": [
    "Good first steps in auditing the data are the info method and displaying the first few records with head."
   ]
  },
  {
   "cell_type": "code",
   "execution_count": 798,
   "metadata": {},
   "outputs": [
    {
     "name": "stdout",
     "output_type": "stream",
     "text": [
      "<class 'pandas.core.frame.DataFrame'>\n",
      "RangeIndex: 330 entries, 0 to 329\n",
      "Data columns (total 27 columns):\n",
      " #   Column             Non-Null Count  Dtype  \n",
      "---  ------             --------------  -----  \n",
      " 0   Name               330 non-null    object \n",
      " 1   Region             330 non-null    object \n",
      " 2   state              330 non-null    object \n",
      " 3   summit_elev        330 non-null    int64  \n",
      " 4   vertical_drop      330 non-null    int64  \n",
      " 5   base_elev          330 non-null    int64  \n",
      " 6   trams              330 non-null    int64  \n",
      " 7   fastEight          164 non-null    float64\n",
      " 8   fastSixes          330 non-null    int64  \n",
      " 9   fastQuads          330 non-null    int64  \n",
      " 10  quad               330 non-null    int64  \n",
      " 11  triple             330 non-null    int64  \n",
      " 12  double             330 non-null    int64  \n",
      " 13  surface            330 non-null    int64  \n",
      " 14  total_chairs       330 non-null    int64  \n",
      " 15  Runs               326 non-null    float64\n",
      " 16  TerrainParks       279 non-null    float64\n",
      " 17  LongestRun_mi      325 non-null    float64\n",
      " 18  SkiableTerrain_ac  327 non-null    float64\n",
      " 19  Snow Making_ac     284 non-null    float64\n",
      " 20  daysOpenLastYear   279 non-null    float64\n",
      " 21  yearsOpen          329 non-null    float64\n",
      " 22  averageSnowfall    316 non-null    float64\n",
      " 23  AdultWeekday       276 non-null    float64\n",
      " 24  AdultWeekend       279 non-null    float64\n",
      " 25  projectedDaysOpen  283 non-null    float64\n",
      " 26  NightSkiing_ac     187 non-null    float64\n",
      "dtypes: float64(13), int64(11), object(3)\n",
      "memory usage: 69.7+ KB\n"
     ]
    }
   ],
   "source": [
    "#Code task 2#\n",
    "#Call the info method on ski_data to see a summary of the data\n",
    "ski_data.info()"
   ]
  },
  {
   "cell_type": "markdown",
   "metadata": {},
   "source": [
    "`AdultWeekday` is the price of an adult weekday ticket. `AdultWeekend` is the price of an adult weekend ticket. The other columns are potential features."
   ]
  },
  {
   "cell_type": "markdown",
   "metadata": {},
   "source": [
    "This immediately raises the question of what quantity will you want to model? You know you want to model the ticket price, but you realise there are two kinds of ticket price!"
   ]
  },
  {
   "cell_type": "code",
   "execution_count": 799,
   "metadata": {
    "scrolled": true
   },
   "outputs": [
    {
     "data": {
      "text/plain": "                  Name   Region    state  summit_elev  vertical_drop  \\\n0       Alyeska Resort   Alaska   Alaska         3939           2500   \n1  Eaglecrest Ski Area   Alaska   Alaska         2600           1540   \n2     Hilltop Ski Area   Alaska   Alaska         2090            294   \n3     Arizona Snowbowl  Arizona  Arizona        11500           2300   \n4  Sunrise Park Resort  Arizona  Arizona        11100           1800   \n\n   base_elev  trams  fastEight  fastSixes  fastQuads  ...  LongestRun_mi  \\\n0        250      1    0.00000          0          2  ...        1.00000   \n1       1200      0    0.00000          0          0  ...        2.00000   \n2       1796      0    0.00000          0          0  ...        1.00000   \n3       9200      0    0.00000          1          0  ...        2.00000   \n4       9200      0        NaN          0          1  ...        1.20000   \n\n   SkiableTerrain_ac  Snow Making_ac  daysOpenLastYear  yearsOpen  \\\n0         1610.00000       113.00000         150.00000   60.00000   \n1          640.00000        60.00000          45.00000   44.00000   \n2           30.00000        30.00000         150.00000   36.00000   \n3          777.00000       104.00000         122.00000   81.00000   \n4          800.00000        80.00000         115.00000   49.00000   \n\n   averageSnowfall  AdultWeekday  AdultWeekend  projectedDaysOpen  \\\n0        669.00000      65.00000      85.00000          150.00000   \n1        350.00000      47.00000      53.00000           90.00000   \n2         69.00000      30.00000      34.00000          152.00000   \n3        260.00000      89.00000      89.00000          122.00000   \n4        250.00000      74.00000      78.00000          104.00000   \n\n   NightSkiing_ac  \n0       550.00000  \n1             NaN  \n2        30.00000  \n3             NaN  \n4        80.00000  \n\n[5 rows x 27 columns]",
      "text/html": "<div>\n<style scoped>\n    .dataframe tbody tr th:only-of-type {\n        vertical-align: middle;\n    }\n\n    .dataframe tbody tr th {\n        vertical-align: top;\n    }\n\n    .dataframe thead th {\n        text-align: right;\n    }\n</style>\n<table border=\"1\" class=\"dataframe\">\n  <thead>\n    <tr style=\"text-align: right;\">\n      <th></th>\n      <th>Name</th>\n      <th>Region</th>\n      <th>state</th>\n      <th>summit_elev</th>\n      <th>vertical_drop</th>\n      <th>base_elev</th>\n      <th>trams</th>\n      <th>fastEight</th>\n      <th>fastSixes</th>\n      <th>fastQuads</th>\n      <th>...</th>\n      <th>LongestRun_mi</th>\n      <th>SkiableTerrain_ac</th>\n      <th>Snow Making_ac</th>\n      <th>daysOpenLastYear</th>\n      <th>yearsOpen</th>\n      <th>averageSnowfall</th>\n      <th>AdultWeekday</th>\n      <th>AdultWeekend</th>\n      <th>projectedDaysOpen</th>\n      <th>NightSkiing_ac</th>\n    </tr>\n  </thead>\n  <tbody>\n    <tr>\n      <th>0</th>\n      <td>Alyeska Resort</td>\n      <td>Alaska</td>\n      <td>Alaska</td>\n      <td>3939</td>\n      <td>2500</td>\n      <td>250</td>\n      <td>1</td>\n      <td>0.00000</td>\n      <td>0</td>\n      <td>2</td>\n      <td>...</td>\n      <td>1.00000</td>\n      <td>1610.00000</td>\n      <td>113.00000</td>\n      <td>150.00000</td>\n      <td>60.00000</td>\n      <td>669.00000</td>\n      <td>65.00000</td>\n      <td>85.00000</td>\n      <td>150.00000</td>\n      <td>550.00000</td>\n    </tr>\n    <tr>\n      <th>1</th>\n      <td>Eaglecrest Ski Area</td>\n      <td>Alaska</td>\n      <td>Alaska</td>\n      <td>2600</td>\n      <td>1540</td>\n      <td>1200</td>\n      <td>0</td>\n      <td>0.00000</td>\n      <td>0</td>\n      <td>0</td>\n      <td>...</td>\n      <td>2.00000</td>\n      <td>640.00000</td>\n      <td>60.00000</td>\n      <td>45.00000</td>\n      <td>44.00000</td>\n      <td>350.00000</td>\n      <td>47.00000</td>\n      <td>53.00000</td>\n      <td>90.00000</td>\n      <td>NaN</td>\n    </tr>\n    <tr>\n      <th>2</th>\n      <td>Hilltop Ski Area</td>\n      <td>Alaska</td>\n      <td>Alaska</td>\n      <td>2090</td>\n      <td>294</td>\n      <td>1796</td>\n      <td>0</td>\n      <td>0.00000</td>\n      <td>0</td>\n      <td>0</td>\n      <td>...</td>\n      <td>1.00000</td>\n      <td>30.00000</td>\n      <td>30.00000</td>\n      <td>150.00000</td>\n      <td>36.00000</td>\n      <td>69.00000</td>\n      <td>30.00000</td>\n      <td>34.00000</td>\n      <td>152.00000</td>\n      <td>30.00000</td>\n    </tr>\n    <tr>\n      <th>3</th>\n      <td>Arizona Snowbowl</td>\n      <td>Arizona</td>\n      <td>Arizona</td>\n      <td>11500</td>\n      <td>2300</td>\n      <td>9200</td>\n      <td>0</td>\n      <td>0.00000</td>\n      <td>1</td>\n      <td>0</td>\n      <td>...</td>\n      <td>2.00000</td>\n      <td>777.00000</td>\n      <td>104.00000</td>\n      <td>122.00000</td>\n      <td>81.00000</td>\n      <td>260.00000</td>\n      <td>89.00000</td>\n      <td>89.00000</td>\n      <td>122.00000</td>\n      <td>NaN</td>\n    </tr>\n    <tr>\n      <th>4</th>\n      <td>Sunrise Park Resort</td>\n      <td>Arizona</td>\n      <td>Arizona</td>\n      <td>11100</td>\n      <td>1800</td>\n      <td>9200</td>\n      <td>0</td>\n      <td>NaN</td>\n      <td>0</td>\n      <td>1</td>\n      <td>...</td>\n      <td>1.20000</td>\n      <td>800.00000</td>\n      <td>80.00000</td>\n      <td>115.00000</td>\n      <td>49.00000</td>\n      <td>250.00000</td>\n      <td>74.00000</td>\n      <td>78.00000</td>\n      <td>104.00000</td>\n      <td>80.00000</td>\n    </tr>\n  </tbody>\n</table>\n<p>5 rows × 27 columns</p>\n</div>"
     },
     "execution_count": 799,
     "metadata": {},
     "output_type": "execute_result"
    }
   ],
   "source": [
    "#Code task 3#\n",
    "#Call the head method on ski_data to print the first several rows of the data\n",
    "ski_data.head()"
   ]
  },
  {
   "cell_type": "code",
   "execution_count": 800,
   "outputs": [
    {
     "name": "stdout",
     "output_type": "stream",
     "text": [
      "(330, 27)\n"
     ]
    }
   ],
   "source": [
    "print(ski_data.shape)"
   ],
   "metadata": {
    "collapsed": false
   }
  },
  {
   "cell_type": "code",
   "execution_count": 801,
   "outputs": [],
   "source": [
    "original_columns_set = set(ski_data.columns)"
   ],
   "metadata": {
    "collapsed": false
   }
  },
  {
   "cell_type": "markdown",
   "metadata": {},
   "source": [
    "The output above suggests you've made a good start getting the ski resort data organized. You have plausible column headings. You can already see you have a missing value in the `fastEight` column"
   ]
  },
  {
   "cell_type": "markdown",
   "metadata": {},
   "source": [
    "## 2.6 Explore The Data<a id='2.6_Explore_The_Data'></a>"
   ]
  },
  {
   "cell_type": "markdown",
   "metadata": {},
   "source": [
    "### 2.6.1 Find Your Resort Of Interest<a id='2.6.1_Find_Your_Resort_Of_Interest'></a>"
   ]
  },
  {
   "cell_type": "markdown",
   "metadata": {},
   "source": [
    "Your resort of interest is called Big Mountain Resort. Check it's in the data:"
   ]
  },
  {
   "cell_type": "code",
   "execution_count": 802,
   "metadata": {},
   "outputs": [
    {
     "data": {
      "text/plain": "                    Name   Region    state  summit_elev  vertical_drop  \\\n151  Big Mountain Resort  Montana  Montana         6817           2353   \n\n     base_elev  trams  fastEight  fastSixes  fastQuads  ...  LongestRun_mi  \\\n151       4464      0    0.00000          0          3  ...        3.30000   \n\n     SkiableTerrain_ac  Snow Making_ac  daysOpenLastYear  yearsOpen  \\\n151         3000.00000       600.00000         123.00000   72.00000   \n\n     averageSnowfall  AdultWeekday  AdultWeekend  projectedDaysOpen  \\\n151        333.00000      81.00000      81.00000          123.00000   \n\n     NightSkiing_ac  \n151       600.00000  \n\n[1 rows x 27 columns]",
      "text/html": "<div>\n<style scoped>\n    .dataframe tbody tr th:only-of-type {\n        vertical-align: middle;\n    }\n\n    .dataframe tbody tr th {\n        vertical-align: top;\n    }\n\n    .dataframe thead th {\n        text-align: right;\n    }\n</style>\n<table border=\"1\" class=\"dataframe\">\n  <thead>\n    <tr style=\"text-align: right;\">\n      <th></th>\n      <th>Name</th>\n      <th>Region</th>\n      <th>state</th>\n      <th>summit_elev</th>\n      <th>vertical_drop</th>\n      <th>base_elev</th>\n      <th>trams</th>\n      <th>fastEight</th>\n      <th>fastSixes</th>\n      <th>fastQuads</th>\n      <th>...</th>\n      <th>LongestRun_mi</th>\n      <th>SkiableTerrain_ac</th>\n      <th>Snow Making_ac</th>\n      <th>daysOpenLastYear</th>\n      <th>yearsOpen</th>\n      <th>averageSnowfall</th>\n      <th>AdultWeekday</th>\n      <th>AdultWeekend</th>\n      <th>projectedDaysOpen</th>\n      <th>NightSkiing_ac</th>\n    </tr>\n  </thead>\n  <tbody>\n    <tr>\n      <th>151</th>\n      <td>Big Mountain Resort</td>\n      <td>Montana</td>\n      <td>Montana</td>\n      <td>6817</td>\n      <td>2353</td>\n      <td>4464</td>\n      <td>0</td>\n      <td>0.00000</td>\n      <td>0</td>\n      <td>3</td>\n      <td>...</td>\n      <td>3.30000</td>\n      <td>3000.00000</td>\n      <td>600.00000</td>\n      <td>123.00000</td>\n      <td>72.00000</td>\n      <td>333.00000</td>\n      <td>81.00000</td>\n      <td>81.00000</td>\n      <td>123.00000</td>\n      <td>600.00000</td>\n    </tr>\n  </tbody>\n</table>\n<p>1 rows × 27 columns</p>\n</div>"
     },
     "execution_count": 802,
     "metadata": {},
     "output_type": "execute_result"
    }
   ],
   "source": [
    "#Code task 4#\n",
    "#Filter the ski_data dataframe to display just the row for our resort with the name 'Big Mountain Resort'\n",
    "#Hint: you will find that the transpose of the row will give a nicer output. DataFrame's do have a\n",
    "#transpose method, but you can access this conveniently with the `T` property.\n",
    "ski_data[ski_data.Name == 'Big Mountain Resort'].head()\n"
   ]
  },
  {
   "cell_type": "code",
   "execution_count": 803,
   "outputs": [
    {
     "data": {
      "text/plain": "                    Name   Region    state  summit_elev  vertical_drop  \\\n151  Big Mountain Resort  Montana  Montana         6817           2353   \n\n     base_elev  trams  fastEight  fastSixes  fastQuads  ...  LongestRun_mi  \\\n151       4464      0    0.00000          0          3  ...        3.30000   \n\n     SkiableTerrain_ac  Snow Making_ac  daysOpenLastYear  yearsOpen  \\\n151         3000.00000       600.00000         123.00000   72.00000   \n\n     averageSnowfall  AdultWeekday  AdultWeekend  projectedDaysOpen  \\\n151        333.00000      81.00000      81.00000          123.00000   \n\n     NightSkiing_ac  \n151       600.00000  \n\n[1 rows x 27 columns]",
      "text/html": "<div>\n<style scoped>\n    .dataframe tbody tr th:only-of-type {\n        vertical-align: middle;\n    }\n\n    .dataframe tbody tr th {\n        vertical-align: top;\n    }\n\n    .dataframe thead th {\n        text-align: right;\n    }\n</style>\n<table border=\"1\" class=\"dataframe\">\n  <thead>\n    <tr style=\"text-align: right;\">\n      <th></th>\n      <th>Name</th>\n      <th>Region</th>\n      <th>state</th>\n      <th>summit_elev</th>\n      <th>vertical_drop</th>\n      <th>base_elev</th>\n      <th>trams</th>\n      <th>fastEight</th>\n      <th>fastSixes</th>\n      <th>fastQuads</th>\n      <th>...</th>\n      <th>LongestRun_mi</th>\n      <th>SkiableTerrain_ac</th>\n      <th>Snow Making_ac</th>\n      <th>daysOpenLastYear</th>\n      <th>yearsOpen</th>\n      <th>averageSnowfall</th>\n      <th>AdultWeekday</th>\n      <th>AdultWeekend</th>\n      <th>projectedDaysOpen</th>\n      <th>NightSkiing_ac</th>\n    </tr>\n  </thead>\n  <tbody>\n    <tr>\n      <th>151</th>\n      <td>Big Mountain Resort</td>\n      <td>Montana</td>\n      <td>Montana</td>\n      <td>6817</td>\n      <td>2353</td>\n      <td>4464</td>\n      <td>0</td>\n      <td>0.00000</td>\n      <td>0</td>\n      <td>3</td>\n      <td>...</td>\n      <td>3.30000</td>\n      <td>3000.00000</td>\n      <td>600.00000</td>\n      <td>123.00000</td>\n      <td>72.00000</td>\n      <td>333.00000</td>\n      <td>81.00000</td>\n      <td>81.00000</td>\n      <td>123.00000</td>\n      <td>600.00000</td>\n    </tr>\n  </tbody>\n</table>\n<p>1 rows × 27 columns</p>\n</div>"
     },
     "execution_count": 803,
     "metadata": {},
     "output_type": "execute_result"
    }
   ],
   "source": [
    "#scratch\n",
    "ski_data.query('Name == \\'Big Mountain Resort\\'').head()"
   ],
   "metadata": {
    "collapsed": false
   }
  },
  {
   "cell_type": "markdown",
   "metadata": {},
   "source": [
    "It's good that your resort doesn't appear to have any missing values."
   ]
  },
  {
   "cell_type": "markdown",
   "metadata": {},
   "source": [
    "### 2.6.2 Number Of Missing Values By Column<a id='2.6.2_Number_Of_Missing_Values_By_Column'></a>"
   ]
  },
  {
   "cell_type": "markdown",
   "metadata": {},
   "source": [
    "Count the number of missing values in each column and sort them."
   ]
  },
  {
   "cell_type": "code",
   "execution_count": 804,
   "metadata": {},
   "outputs": [
    {
     "data": {
      "text/plain": "       summit_elev  vertical_drop   base_elev     trams  fastEight  fastSixes  \\\ncount    330.00000      330.00000   330.00000 330.00000  164.00000  330.00000   \nmean    4591.81818     1215.42727  3374.00000   0.17273    0.00610    0.18485   \nstd     3735.53593      947.86456  3117.12162   0.55995    0.07809    0.65169   \nmin      315.00000       60.00000    70.00000   0.00000    0.00000    0.00000   \n25%     1403.75000      461.25000   869.00000   0.00000    0.00000    0.00000   \n50%     3127.50000      964.50000  1561.50000   0.00000    0.00000    0.00000   \n75%     7806.00000     1800.00000  6325.25000   0.00000    0.00000    0.00000   \nmax    13487.00000     4425.00000 10800.00000   4.00000    1.00000    6.00000   \n\n       fastQuads      quad    triple    double  ...  LongestRun_mi  \\\ncount  330.00000 330.00000 330.00000 330.00000  ...      325.00000   \nmean     1.01818   0.93333   1.50000   1.83333  ...        1.43323   \nstd      2.19829   1.31224   1.61913   1.81503  ...        1.15617   \nmin      0.00000   0.00000   0.00000   0.00000  ...        0.00000   \n25%      0.00000   0.00000   0.00000   1.00000  ...        0.50000   \n50%      0.00000   0.00000   1.00000   1.00000  ...        1.00000   \n75%      1.00000   1.00000   2.00000   3.00000  ...        2.00000   \nmax     15.00000   8.00000   8.00000  14.00000  ...        6.00000   \n\n       SkiableTerrain_ac  Snow Making_ac  daysOpenLastYear  yearsOpen  \\\ncount          327.00000       284.00000         279.00000  329.00000   \nmean           739.80122       174.87324         115.10394   63.65653   \nstd           1816.16744       261.33613          35.06325  109.42993   \nmin              8.00000         2.00000           3.00000    6.00000   \n25%             85.00000        50.00000          97.00000   50.00000   \n50%            200.00000       100.00000         114.00000   58.00000   \n75%            690.00000       200.50000         135.00000   69.00000   \nmax          26819.00000      3379.00000         305.00000 2019.00000   \n\n       averageSnowfall  AdultWeekday  AdultWeekend  projectedDaysOpen  \\\ncount        316.00000     276.00000     279.00000          283.00000   \nmean         185.31646      57.91696      64.16681          120.05300   \nstd          136.35684      26.14013      24.55458           31.04596   \nmin           18.00000      15.00000      17.00000           30.00000   \n25%           69.00000      40.00000      47.00000          100.00000   \n50%          150.00000      50.00000      60.00000          120.00000   \n75%          300.00000      71.00000      77.50000          139.50000   \nmax          669.00000     179.00000     179.00000          305.00000   \n\n       NightSkiing_ac  \ncount       187.00000  \nmean        100.39572  \nstd         105.16962  \nmin           2.00000  \n25%          40.00000  \n50%          72.00000  \n75%         114.00000  \nmax         650.00000  \n\n[8 rows x 24 columns]",
      "text/html": "<div>\n<style scoped>\n    .dataframe tbody tr th:only-of-type {\n        vertical-align: middle;\n    }\n\n    .dataframe tbody tr th {\n        vertical-align: top;\n    }\n\n    .dataframe thead th {\n        text-align: right;\n    }\n</style>\n<table border=\"1\" class=\"dataframe\">\n  <thead>\n    <tr style=\"text-align: right;\">\n      <th></th>\n      <th>summit_elev</th>\n      <th>vertical_drop</th>\n      <th>base_elev</th>\n      <th>trams</th>\n      <th>fastEight</th>\n      <th>fastSixes</th>\n      <th>fastQuads</th>\n      <th>quad</th>\n      <th>triple</th>\n      <th>double</th>\n      <th>...</th>\n      <th>LongestRun_mi</th>\n      <th>SkiableTerrain_ac</th>\n      <th>Snow Making_ac</th>\n      <th>daysOpenLastYear</th>\n      <th>yearsOpen</th>\n      <th>averageSnowfall</th>\n      <th>AdultWeekday</th>\n      <th>AdultWeekend</th>\n      <th>projectedDaysOpen</th>\n      <th>NightSkiing_ac</th>\n    </tr>\n  </thead>\n  <tbody>\n    <tr>\n      <th>count</th>\n      <td>330.00000</td>\n      <td>330.00000</td>\n      <td>330.00000</td>\n      <td>330.00000</td>\n      <td>164.00000</td>\n      <td>330.00000</td>\n      <td>330.00000</td>\n      <td>330.00000</td>\n      <td>330.00000</td>\n      <td>330.00000</td>\n      <td>...</td>\n      <td>325.00000</td>\n      <td>327.00000</td>\n      <td>284.00000</td>\n      <td>279.00000</td>\n      <td>329.00000</td>\n      <td>316.00000</td>\n      <td>276.00000</td>\n      <td>279.00000</td>\n      <td>283.00000</td>\n      <td>187.00000</td>\n    </tr>\n    <tr>\n      <th>mean</th>\n      <td>4591.81818</td>\n      <td>1215.42727</td>\n      <td>3374.00000</td>\n      <td>0.17273</td>\n      <td>0.00610</td>\n      <td>0.18485</td>\n      <td>1.01818</td>\n      <td>0.93333</td>\n      <td>1.50000</td>\n      <td>1.83333</td>\n      <td>...</td>\n      <td>1.43323</td>\n      <td>739.80122</td>\n      <td>174.87324</td>\n      <td>115.10394</td>\n      <td>63.65653</td>\n      <td>185.31646</td>\n      <td>57.91696</td>\n      <td>64.16681</td>\n      <td>120.05300</td>\n      <td>100.39572</td>\n    </tr>\n    <tr>\n      <th>std</th>\n      <td>3735.53593</td>\n      <td>947.86456</td>\n      <td>3117.12162</td>\n      <td>0.55995</td>\n      <td>0.07809</td>\n      <td>0.65169</td>\n      <td>2.19829</td>\n      <td>1.31224</td>\n      <td>1.61913</td>\n      <td>1.81503</td>\n      <td>...</td>\n      <td>1.15617</td>\n      <td>1816.16744</td>\n      <td>261.33613</td>\n      <td>35.06325</td>\n      <td>109.42993</td>\n      <td>136.35684</td>\n      <td>26.14013</td>\n      <td>24.55458</td>\n      <td>31.04596</td>\n      <td>105.16962</td>\n    </tr>\n    <tr>\n      <th>min</th>\n      <td>315.00000</td>\n      <td>60.00000</td>\n      <td>70.00000</td>\n      <td>0.00000</td>\n      <td>0.00000</td>\n      <td>0.00000</td>\n      <td>0.00000</td>\n      <td>0.00000</td>\n      <td>0.00000</td>\n      <td>0.00000</td>\n      <td>...</td>\n      <td>0.00000</td>\n      <td>8.00000</td>\n      <td>2.00000</td>\n      <td>3.00000</td>\n      <td>6.00000</td>\n      <td>18.00000</td>\n      <td>15.00000</td>\n      <td>17.00000</td>\n      <td>30.00000</td>\n      <td>2.00000</td>\n    </tr>\n    <tr>\n      <th>25%</th>\n      <td>1403.75000</td>\n      <td>461.25000</td>\n      <td>869.00000</td>\n      <td>0.00000</td>\n      <td>0.00000</td>\n      <td>0.00000</td>\n      <td>0.00000</td>\n      <td>0.00000</td>\n      <td>0.00000</td>\n      <td>1.00000</td>\n      <td>...</td>\n      <td>0.50000</td>\n      <td>85.00000</td>\n      <td>50.00000</td>\n      <td>97.00000</td>\n      <td>50.00000</td>\n      <td>69.00000</td>\n      <td>40.00000</td>\n      <td>47.00000</td>\n      <td>100.00000</td>\n      <td>40.00000</td>\n    </tr>\n    <tr>\n      <th>50%</th>\n      <td>3127.50000</td>\n      <td>964.50000</td>\n      <td>1561.50000</td>\n      <td>0.00000</td>\n      <td>0.00000</td>\n      <td>0.00000</td>\n      <td>0.00000</td>\n      <td>0.00000</td>\n      <td>1.00000</td>\n      <td>1.00000</td>\n      <td>...</td>\n      <td>1.00000</td>\n      <td>200.00000</td>\n      <td>100.00000</td>\n      <td>114.00000</td>\n      <td>58.00000</td>\n      <td>150.00000</td>\n      <td>50.00000</td>\n      <td>60.00000</td>\n      <td>120.00000</td>\n      <td>72.00000</td>\n    </tr>\n    <tr>\n      <th>75%</th>\n      <td>7806.00000</td>\n      <td>1800.00000</td>\n      <td>6325.25000</td>\n      <td>0.00000</td>\n      <td>0.00000</td>\n      <td>0.00000</td>\n      <td>1.00000</td>\n      <td>1.00000</td>\n      <td>2.00000</td>\n      <td>3.00000</td>\n      <td>...</td>\n      <td>2.00000</td>\n      <td>690.00000</td>\n      <td>200.50000</td>\n      <td>135.00000</td>\n      <td>69.00000</td>\n      <td>300.00000</td>\n      <td>71.00000</td>\n      <td>77.50000</td>\n      <td>139.50000</td>\n      <td>114.00000</td>\n    </tr>\n    <tr>\n      <th>max</th>\n      <td>13487.00000</td>\n      <td>4425.00000</td>\n      <td>10800.00000</td>\n      <td>4.00000</td>\n      <td>1.00000</td>\n      <td>6.00000</td>\n      <td>15.00000</td>\n      <td>8.00000</td>\n      <td>8.00000</td>\n      <td>14.00000</td>\n      <td>...</td>\n      <td>6.00000</td>\n      <td>26819.00000</td>\n      <td>3379.00000</td>\n      <td>305.00000</td>\n      <td>2019.00000</td>\n      <td>669.00000</td>\n      <td>179.00000</td>\n      <td>179.00000</td>\n      <td>305.00000</td>\n      <td>650.00000</td>\n    </tr>\n  </tbody>\n</table>\n<p>8 rows × 24 columns</p>\n</div>"
     },
     "execution_count": 804,
     "metadata": {},
     "output_type": "execute_result"
    }
   ],
   "source": [
    "# cjl scratch\n",
    "ski_data.describe()"
   ]
  },
  {
   "cell_type": "code",
   "execution_count": 805,
   "metadata": {},
   "outputs": [
    {
     "data": {
      "text/plain": "                                  Name               Region       state  \\\n1                  Eaglecrest Ski Area               Alaska      Alaska   \n3                     Arizona Snowbowl              Arizona     Arizona   \n4                  Sunrise Park Resort              Arizona     Arizona   \n5        Yosemite Ski & Snowboard Area  Northern California  California   \n6                        Bear Mountain        Sierra Nevada  California   \n..                                 ...                  ...         ...   \n325               Meadowlark Ski Lodge              Wyoming     Wyoming   \n326          Sleeping Giant Ski Resort              Wyoming     Wyoming   \n327                   Snow King Resort              Wyoming     Wyoming   \n328  Snowy Range Ski & Recreation Area              Wyoming     Wyoming   \n329                White Pine Ski Area              Wyoming     Wyoming   \n\n     summit_elev  vertical_drop  base_elev  trams  fastEight  fastSixes  \\\n1           2600           1540       1200      0    0.00000          0   \n3          11500           2300       9200      0    0.00000          1   \n4          11100           1800       9200      0        NaN          0   \n5           7800            600       7200      0    0.00000          0   \n6           8805           1665       7140      0    0.00000          0   \n..           ...            ...        ...    ...        ...        ...   \n325         9500           1000       8500      0        NaN          0   \n326         7428            810       6619      0    0.00000          0   \n327         7808           1571       6237      0        NaN          0   \n328         9663            990       8798      0    0.00000          0   \n329         9500           1100       8400      0        NaN          0   \n\n     fastQuads  ...  LongestRun_mi  SkiableTerrain_ac  Snow Making_ac  \\\n1            0  ...        2.00000          640.00000        60.00000   \n3            0  ...        2.00000          777.00000       104.00000   \n4            1  ...        1.20000          800.00000        80.00000   \n5            0  ...        0.40000           88.00000             NaN   \n6            2  ...        1.50000          198.00000       198.00000   \n..         ...  ...            ...                ...             ...   \n325          0  ...        1.50000          300.00000             NaN   \n326          0  ...        1.00000          184.00000        18.00000   \n327          0  ...        1.00000          400.00000       250.00000   \n328          0  ...        0.70000           75.00000        30.00000   \n329          0  ...        0.40000          370.00000             NaN   \n\n     daysOpenLastYear  yearsOpen  averageSnowfall  AdultWeekday  AdultWeekend  \\\n1            45.00000   44.00000        350.00000      47.00000      53.00000   \n3           122.00000   81.00000        260.00000      89.00000      89.00000   \n4           115.00000   49.00000        250.00000      74.00000      78.00000   \n5           110.00000   84.00000        300.00000      47.00000      47.00000   \n6           122.00000   76.00000        100.00000           NaN           NaN   \n..                ...        ...              ...           ...           ...   \n325               NaN    9.00000              NaN           NaN           NaN   \n326          61.00000   81.00000        310.00000      42.00000      42.00000   \n327         121.00000   80.00000        300.00000      59.00000      59.00000   \n328         131.00000   59.00000        250.00000      49.00000      49.00000   \n329               NaN   81.00000        150.00000           NaN      49.00000   \n\n     projectedDaysOpen  NightSkiing_ac  \n1             90.00000             NaN  \n3            122.00000             NaN  \n4            104.00000        80.00000  \n5            107.00000             NaN  \n6            130.00000             NaN  \n..                 ...             ...  \n325                NaN             NaN  \n326           77.00000             NaN  \n327          123.00000       110.00000  \n328                NaN             NaN  \n329                NaN             NaN  \n\n[289 rows x 27 columns]",
      "text/html": "<div>\n<style scoped>\n    .dataframe tbody tr th:only-of-type {\n        vertical-align: middle;\n    }\n\n    .dataframe tbody tr th {\n        vertical-align: top;\n    }\n\n    .dataframe thead th {\n        text-align: right;\n    }\n</style>\n<table border=\"1\" class=\"dataframe\">\n  <thead>\n    <tr style=\"text-align: right;\">\n      <th></th>\n      <th>Name</th>\n      <th>Region</th>\n      <th>state</th>\n      <th>summit_elev</th>\n      <th>vertical_drop</th>\n      <th>base_elev</th>\n      <th>trams</th>\n      <th>fastEight</th>\n      <th>fastSixes</th>\n      <th>fastQuads</th>\n      <th>...</th>\n      <th>LongestRun_mi</th>\n      <th>SkiableTerrain_ac</th>\n      <th>Snow Making_ac</th>\n      <th>daysOpenLastYear</th>\n      <th>yearsOpen</th>\n      <th>averageSnowfall</th>\n      <th>AdultWeekday</th>\n      <th>AdultWeekend</th>\n      <th>projectedDaysOpen</th>\n      <th>NightSkiing_ac</th>\n    </tr>\n  </thead>\n  <tbody>\n    <tr>\n      <th>1</th>\n      <td>Eaglecrest Ski Area</td>\n      <td>Alaska</td>\n      <td>Alaska</td>\n      <td>2600</td>\n      <td>1540</td>\n      <td>1200</td>\n      <td>0</td>\n      <td>0.00000</td>\n      <td>0</td>\n      <td>0</td>\n      <td>...</td>\n      <td>2.00000</td>\n      <td>640.00000</td>\n      <td>60.00000</td>\n      <td>45.00000</td>\n      <td>44.00000</td>\n      <td>350.00000</td>\n      <td>47.00000</td>\n      <td>53.00000</td>\n      <td>90.00000</td>\n      <td>NaN</td>\n    </tr>\n    <tr>\n      <th>3</th>\n      <td>Arizona Snowbowl</td>\n      <td>Arizona</td>\n      <td>Arizona</td>\n      <td>11500</td>\n      <td>2300</td>\n      <td>9200</td>\n      <td>0</td>\n      <td>0.00000</td>\n      <td>1</td>\n      <td>0</td>\n      <td>...</td>\n      <td>2.00000</td>\n      <td>777.00000</td>\n      <td>104.00000</td>\n      <td>122.00000</td>\n      <td>81.00000</td>\n      <td>260.00000</td>\n      <td>89.00000</td>\n      <td>89.00000</td>\n      <td>122.00000</td>\n      <td>NaN</td>\n    </tr>\n    <tr>\n      <th>4</th>\n      <td>Sunrise Park Resort</td>\n      <td>Arizona</td>\n      <td>Arizona</td>\n      <td>11100</td>\n      <td>1800</td>\n      <td>9200</td>\n      <td>0</td>\n      <td>NaN</td>\n      <td>0</td>\n      <td>1</td>\n      <td>...</td>\n      <td>1.20000</td>\n      <td>800.00000</td>\n      <td>80.00000</td>\n      <td>115.00000</td>\n      <td>49.00000</td>\n      <td>250.00000</td>\n      <td>74.00000</td>\n      <td>78.00000</td>\n      <td>104.00000</td>\n      <td>80.00000</td>\n    </tr>\n    <tr>\n      <th>5</th>\n      <td>Yosemite Ski &amp; Snowboard Area</td>\n      <td>Northern California</td>\n      <td>California</td>\n      <td>7800</td>\n      <td>600</td>\n      <td>7200</td>\n      <td>0</td>\n      <td>0.00000</td>\n      <td>0</td>\n      <td>0</td>\n      <td>...</td>\n      <td>0.40000</td>\n      <td>88.00000</td>\n      <td>NaN</td>\n      <td>110.00000</td>\n      <td>84.00000</td>\n      <td>300.00000</td>\n      <td>47.00000</td>\n      <td>47.00000</td>\n      <td>107.00000</td>\n      <td>NaN</td>\n    </tr>\n    <tr>\n      <th>6</th>\n      <td>Bear Mountain</td>\n      <td>Sierra Nevada</td>\n      <td>California</td>\n      <td>8805</td>\n      <td>1665</td>\n      <td>7140</td>\n      <td>0</td>\n      <td>0.00000</td>\n      <td>0</td>\n      <td>2</td>\n      <td>...</td>\n      <td>1.50000</td>\n      <td>198.00000</td>\n      <td>198.00000</td>\n      <td>122.00000</td>\n      <td>76.00000</td>\n      <td>100.00000</td>\n      <td>NaN</td>\n      <td>NaN</td>\n      <td>130.00000</td>\n      <td>NaN</td>\n    </tr>\n    <tr>\n      <th>...</th>\n      <td>...</td>\n      <td>...</td>\n      <td>...</td>\n      <td>...</td>\n      <td>...</td>\n      <td>...</td>\n      <td>...</td>\n      <td>...</td>\n      <td>...</td>\n      <td>...</td>\n      <td>...</td>\n      <td>...</td>\n      <td>...</td>\n      <td>...</td>\n      <td>...</td>\n      <td>...</td>\n      <td>...</td>\n      <td>...</td>\n      <td>...</td>\n      <td>...</td>\n      <td>...</td>\n    </tr>\n    <tr>\n      <th>325</th>\n      <td>Meadowlark Ski Lodge</td>\n      <td>Wyoming</td>\n      <td>Wyoming</td>\n      <td>9500</td>\n      <td>1000</td>\n      <td>8500</td>\n      <td>0</td>\n      <td>NaN</td>\n      <td>0</td>\n      <td>0</td>\n      <td>...</td>\n      <td>1.50000</td>\n      <td>300.00000</td>\n      <td>NaN</td>\n      <td>NaN</td>\n      <td>9.00000</td>\n      <td>NaN</td>\n      <td>NaN</td>\n      <td>NaN</td>\n      <td>NaN</td>\n      <td>NaN</td>\n    </tr>\n    <tr>\n      <th>326</th>\n      <td>Sleeping Giant Ski Resort</td>\n      <td>Wyoming</td>\n      <td>Wyoming</td>\n      <td>7428</td>\n      <td>810</td>\n      <td>6619</td>\n      <td>0</td>\n      <td>0.00000</td>\n      <td>0</td>\n      <td>0</td>\n      <td>...</td>\n      <td>1.00000</td>\n      <td>184.00000</td>\n      <td>18.00000</td>\n      <td>61.00000</td>\n      <td>81.00000</td>\n      <td>310.00000</td>\n      <td>42.00000</td>\n      <td>42.00000</td>\n      <td>77.00000</td>\n      <td>NaN</td>\n    </tr>\n    <tr>\n      <th>327</th>\n      <td>Snow King Resort</td>\n      <td>Wyoming</td>\n      <td>Wyoming</td>\n      <td>7808</td>\n      <td>1571</td>\n      <td>6237</td>\n      <td>0</td>\n      <td>NaN</td>\n      <td>0</td>\n      <td>0</td>\n      <td>...</td>\n      <td>1.00000</td>\n      <td>400.00000</td>\n      <td>250.00000</td>\n      <td>121.00000</td>\n      <td>80.00000</td>\n      <td>300.00000</td>\n      <td>59.00000</td>\n      <td>59.00000</td>\n      <td>123.00000</td>\n      <td>110.00000</td>\n    </tr>\n    <tr>\n      <th>328</th>\n      <td>Snowy Range Ski &amp; Recreation Area</td>\n      <td>Wyoming</td>\n      <td>Wyoming</td>\n      <td>9663</td>\n      <td>990</td>\n      <td>8798</td>\n      <td>0</td>\n      <td>0.00000</td>\n      <td>0</td>\n      <td>0</td>\n      <td>...</td>\n      <td>0.70000</td>\n      <td>75.00000</td>\n      <td>30.00000</td>\n      <td>131.00000</td>\n      <td>59.00000</td>\n      <td>250.00000</td>\n      <td>49.00000</td>\n      <td>49.00000</td>\n      <td>NaN</td>\n      <td>NaN</td>\n    </tr>\n    <tr>\n      <th>329</th>\n      <td>White Pine Ski Area</td>\n      <td>Wyoming</td>\n      <td>Wyoming</td>\n      <td>9500</td>\n      <td>1100</td>\n      <td>8400</td>\n      <td>0</td>\n      <td>NaN</td>\n      <td>0</td>\n      <td>0</td>\n      <td>...</td>\n      <td>0.40000</td>\n      <td>370.00000</td>\n      <td>NaN</td>\n      <td>NaN</td>\n      <td>81.00000</td>\n      <td>150.00000</td>\n      <td>NaN</td>\n      <td>49.00000</td>\n      <td>NaN</td>\n      <td>NaN</td>\n    </tr>\n  </tbody>\n</table>\n<p>289 rows × 27 columns</p>\n</div>"
     },
     "execution_count": 805,
     "metadata": {},
     "output_type": "execute_result"
    }
   ],
   "source": [
    "is_NaN = ski_data.isnull()\n",
    "row_has_NaN = is_NaN.any(axis=1)\n",
    "rows_with_NaN = ski_data[row_has_NaN]\n",
    "rows_with_NaN"
   ]
  },
  {
   "cell_type": "code",
   "execution_count": 806,
   "outputs": [
    {
     "data": {
      "text/plain": "Name                 False\nRegion               False\nstate                False\nsummit_elev          False\nvertical_drop        False\nbase_elev            False\ntrams                False\nfastEight             True\nfastSixes            False\nfastQuads            False\nquad                 False\ntriple               False\ndouble               False\nsurface              False\ntotal_chairs         False\nRuns                  True\nTerrainParks          True\nLongestRun_mi         True\nSkiableTerrain_ac     True\nSnow Making_ac        True\ndaysOpenLastYear      True\nyearsOpen             True\naverageSnowfall       True\nAdultWeekday          True\nAdultWeekend          True\nprojectedDaysOpen     True\nNightSkiing_ac        True\ndtype: bool"
     },
     "execution_count": 806,
     "metadata": {},
     "output_type": "execute_result"
    }
   ],
   "source": [
    "# scratch - any columns that have nulls\n",
    "ski_data.isnull().any(axis=0)"
   ],
   "metadata": {
    "collapsed": false
   }
  },
  {
   "cell_type": "code",
   "execution_count": 807,
   "metadata": {},
   "outputs": [
    {
     "data": {
      "text/plain": "                   sum     mean\nfastEight          166 50.30303\nNightSkiing_ac     143 43.33333\nAdultWeekday        54 16.36364\nAdultWeekend        51 15.45455\ndaysOpenLastYear    51 15.45455\nTerrainParks        51 15.45455\nprojectedDaysOpen   47 14.24242\nSnow Making_ac      46 13.93939\naverageSnowfall     14  4.24242\nLongestRun_mi        5  1.51515\nRuns                 4  1.21212\nSkiableTerrain_ac    3  0.90909\nyearsOpen            1  0.30303\ntotal_chairs         0  0.00000\nName                 0  0.00000\nRegion               0  0.00000\ndouble               0  0.00000\ntriple               0  0.00000\nquad                 0  0.00000\nfastQuads            0  0.00000\nfastSixes            0  0.00000\ntrams                0  0.00000\nbase_elev            0  0.00000\nvertical_drop        0  0.00000\nsummit_elev          0  0.00000\nstate                0  0.00000\nsurface              0  0.00000",
      "text/html": "<div>\n<style scoped>\n    .dataframe tbody tr th:only-of-type {\n        vertical-align: middle;\n    }\n\n    .dataframe tbody tr th {\n        vertical-align: top;\n    }\n\n    .dataframe thead th {\n        text-align: right;\n    }\n</style>\n<table border=\"1\" class=\"dataframe\">\n  <thead>\n    <tr style=\"text-align: right;\">\n      <th></th>\n      <th>sum</th>\n      <th>mean</th>\n    </tr>\n  </thead>\n  <tbody>\n    <tr>\n      <th>fastEight</th>\n      <td>166</td>\n      <td>50.30303</td>\n    </tr>\n    <tr>\n      <th>NightSkiing_ac</th>\n      <td>143</td>\n      <td>43.33333</td>\n    </tr>\n    <tr>\n      <th>AdultWeekday</th>\n      <td>54</td>\n      <td>16.36364</td>\n    </tr>\n    <tr>\n      <th>AdultWeekend</th>\n      <td>51</td>\n      <td>15.45455</td>\n    </tr>\n    <tr>\n      <th>daysOpenLastYear</th>\n      <td>51</td>\n      <td>15.45455</td>\n    </tr>\n    <tr>\n      <th>TerrainParks</th>\n      <td>51</td>\n      <td>15.45455</td>\n    </tr>\n    <tr>\n      <th>projectedDaysOpen</th>\n      <td>47</td>\n      <td>14.24242</td>\n    </tr>\n    <tr>\n      <th>Snow Making_ac</th>\n      <td>46</td>\n      <td>13.93939</td>\n    </tr>\n    <tr>\n      <th>averageSnowfall</th>\n      <td>14</td>\n      <td>4.24242</td>\n    </tr>\n    <tr>\n      <th>LongestRun_mi</th>\n      <td>5</td>\n      <td>1.51515</td>\n    </tr>\n    <tr>\n      <th>Runs</th>\n      <td>4</td>\n      <td>1.21212</td>\n    </tr>\n    <tr>\n      <th>SkiableTerrain_ac</th>\n      <td>3</td>\n      <td>0.90909</td>\n    </tr>\n    <tr>\n      <th>yearsOpen</th>\n      <td>1</td>\n      <td>0.30303</td>\n    </tr>\n    <tr>\n      <th>total_chairs</th>\n      <td>0</td>\n      <td>0.00000</td>\n    </tr>\n    <tr>\n      <th>Name</th>\n      <td>0</td>\n      <td>0.00000</td>\n    </tr>\n    <tr>\n      <th>Region</th>\n      <td>0</td>\n      <td>0.00000</td>\n    </tr>\n    <tr>\n      <th>double</th>\n      <td>0</td>\n      <td>0.00000</td>\n    </tr>\n    <tr>\n      <th>triple</th>\n      <td>0</td>\n      <td>0.00000</td>\n    </tr>\n    <tr>\n      <th>quad</th>\n      <td>0</td>\n      <td>0.00000</td>\n    </tr>\n    <tr>\n      <th>fastQuads</th>\n      <td>0</td>\n      <td>0.00000</td>\n    </tr>\n    <tr>\n      <th>fastSixes</th>\n      <td>0</td>\n      <td>0.00000</td>\n    </tr>\n    <tr>\n      <th>trams</th>\n      <td>0</td>\n      <td>0.00000</td>\n    </tr>\n    <tr>\n      <th>base_elev</th>\n      <td>0</td>\n      <td>0.00000</td>\n    </tr>\n    <tr>\n      <th>vertical_drop</th>\n      <td>0</td>\n      <td>0.00000</td>\n    </tr>\n    <tr>\n      <th>summit_elev</th>\n      <td>0</td>\n      <td>0.00000</td>\n    </tr>\n    <tr>\n      <th>state</th>\n      <td>0</td>\n      <td>0.00000</td>\n    </tr>\n    <tr>\n      <th>surface</th>\n      <td>0</td>\n      <td>0.00000</td>\n    </tr>\n  </tbody>\n</table>\n</div>"
     },
     "execution_count": 807,
     "metadata": {},
     "output_type": "execute_result"
    }
   ],
   "source": [
    "#Code task 5#\n",
    "#Count (using `.sum()`) the number of missing values (`.isnull()`) in each column of \n",
    "#ski_data as well as the percentages (using `.mean()` instead of `.sum()`).\n",
    "#Order them (increasing or decreasing) using sort_values\n",
    "#Call `pd.concat` to present these in a single table (DataFrame) with the helpful column names 'count' and '%'\n",
    "missing = pd.concat([ski_data.isna().sum(), 100 * ski_data.isna().mean()], axis=1, keys=['sum', 'mean'])\n",
    "# missing.columns=['cheese', 'crakers']\n",
    "missing.sort_values(by='sum', ascending=False)"
   ]
  },
  {
   "cell_type": "markdown",
   "metadata": {},
   "source": [
    "`fastEight` has the most missing values, at just over 50%. Unfortunately, you see you're also missing quite a few of your desired target quantity, the ticket price, which is missing 15-16% of values. `AdultWeekday` is missing in a few more records than `AdultWeekend`. What overlap is there in these missing values? This is a question you'll want to investigate. You should also point out that `isnull()` is not the only indicator of missing data. Sometimes 'missingness' can be encoded, perhaps by a -1 or 999. Such values are typically chosen because they are \"obviously\" not genuine values. If you were capturing data on people's heights and weights but missing someone's height, you could certainly encode that as a 0 because no one has a height of zero (in any units). Yet such entries would not be revealed by `isnull()`. Here, you need a data dictionary and/or to spot such values as part of looking for outliers. Someone with a height of zero should definitely show up as an outlier!"
   ]
  },
  {
   "cell_type": "markdown",
   "metadata": {},
   "source": [
    "### 2.6.3 Categorical Features<a id='2.6.3_Categorical_Features'></a>"
   ]
  },
  {
   "cell_type": "markdown",
   "metadata": {},
   "source": [
    "So far you've examined only the numeric features. Now you inspect categorical ones such as resort name and state. These are discrete entities. 'Alaska' is a name. Although names can be sorted alphabetically, it makes no sense to take the average of 'Alaska' and 'Arizona'. Similarly, 'Alaska' is before 'Arizona' only lexicographically; it is neither 'less than' nor 'greater than' 'Arizona'. As such, they tend to require different handling than strictly numeric quantities. Note, a feature _can_ be numeric but also categorical. For example, instead of giving the number of `fastEight` lifts, a feature might be `has_fastEights` and have the value 0 or 1 to denote absence or presence of such a lift. In such a case it would not make sense to take an average of this or perform other mathematical calculations on it. Although you digress a little to make a point, month numbers are also, strictly speaking, categorical features. Yes, when a month is represented by its number (1 for January, 2 for Februrary etc.) it provides a convenient way to graph trends over a year. And, arguably, there is some logical interpretation of the average of 1 and 3 (January and March) being 2 (February). However, clearly December of one years precedes January of the next and yet 12 as a number is not less than 1. The numeric quantities in the section above are truly numeric; they are the number of feet in the drop, or acres or years open or the amount of snowfall etc."
   ]
  },
  {
   "cell_type": "code",
   "execution_count": 808,
   "metadata": {},
   "outputs": [
    {
     "data": {
      "text/plain": "Name                  object\nRegion                object\nstate                 object\nsummit_elev            int64\nvertical_drop          int64\nbase_elev              int64\ntrams                  int64\nfastEight            float64\nfastSixes              int64\nfastQuads              int64\nquad                   int64\ntriple                 int64\ndouble                 int64\nsurface                int64\ntotal_chairs           int64\nRuns                 float64\nTerrainParks         float64\nLongestRun_mi        float64\nSkiableTerrain_ac    float64\nSnow Making_ac       float64\ndaysOpenLastYear     float64\nyearsOpen            float64\naverageSnowfall      float64\nAdultWeekday         float64\nAdultWeekend         float64\nprojectedDaysOpen    float64\nNightSkiing_ac       float64\ndtype: object"
     },
     "execution_count": 808,
     "metadata": {},
     "output_type": "execute_result"
    }
   ],
   "source": [
    "\n",
    "ski_data.dtypes"
   ]
  },
  {
   "cell_type": "code",
   "execution_count": 809,
   "metadata": {},
   "outputs": [
    {
     "data": {
      "text/plain": "                                  Name   Region    state\n0                       Alyeska Resort   Alaska   Alaska\n1                  Eaglecrest Ski Area   Alaska   Alaska\n2                     Hilltop Ski Area   Alaska   Alaska\n3                     Arizona Snowbowl  Arizona  Arizona\n4                  Sunrise Park Resort  Arizona  Arizona\n..                                 ...      ...      ...\n325               Meadowlark Ski Lodge  Wyoming  Wyoming\n326          Sleeping Giant Ski Resort  Wyoming  Wyoming\n327                   Snow King Resort  Wyoming  Wyoming\n328  Snowy Range Ski & Recreation Area  Wyoming  Wyoming\n329                White Pine Ski Area  Wyoming  Wyoming\n\n[330 rows x 3 columns]",
      "text/html": "<div>\n<style scoped>\n    .dataframe tbody tr th:only-of-type {\n        vertical-align: middle;\n    }\n\n    .dataframe tbody tr th {\n        vertical-align: top;\n    }\n\n    .dataframe thead th {\n        text-align: right;\n    }\n</style>\n<table border=\"1\" class=\"dataframe\">\n  <thead>\n    <tr style=\"text-align: right;\">\n      <th></th>\n      <th>Name</th>\n      <th>Region</th>\n      <th>state</th>\n    </tr>\n  </thead>\n  <tbody>\n    <tr>\n      <th>0</th>\n      <td>Alyeska Resort</td>\n      <td>Alaska</td>\n      <td>Alaska</td>\n    </tr>\n    <tr>\n      <th>1</th>\n      <td>Eaglecrest Ski Area</td>\n      <td>Alaska</td>\n      <td>Alaska</td>\n    </tr>\n    <tr>\n      <th>2</th>\n      <td>Hilltop Ski Area</td>\n      <td>Alaska</td>\n      <td>Alaska</td>\n    </tr>\n    <tr>\n      <th>3</th>\n      <td>Arizona Snowbowl</td>\n      <td>Arizona</td>\n      <td>Arizona</td>\n    </tr>\n    <tr>\n      <th>4</th>\n      <td>Sunrise Park Resort</td>\n      <td>Arizona</td>\n      <td>Arizona</td>\n    </tr>\n    <tr>\n      <th>...</th>\n      <td>...</td>\n      <td>...</td>\n      <td>...</td>\n    </tr>\n    <tr>\n      <th>325</th>\n      <td>Meadowlark Ski Lodge</td>\n      <td>Wyoming</td>\n      <td>Wyoming</td>\n    </tr>\n    <tr>\n      <th>326</th>\n      <td>Sleeping Giant Ski Resort</td>\n      <td>Wyoming</td>\n      <td>Wyoming</td>\n    </tr>\n    <tr>\n      <th>327</th>\n      <td>Snow King Resort</td>\n      <td>Wyoming</td>\n      <td>Wyoming</td>\n    </tr>\n    <tr>\n      <th>328</th>\n      <td>Snowy Range Ski &amp; Recreation Area</td>\n      <td>Wyoming</td>\n      <td>Wyoming</td>\n    </tr>\n    <tr>\n      <th>329</th>\n      <td>White Pine Ski Area</td>\n      <td>Wyoming</td>\n      <td>Wyoming</td>\n    </tr>\n  </tbody>\n</table>\n<p>330 rows × 3 columns</p>\n</div>"
     },
     "execution_count": 809,
     "metadata": {},
     "output_type": "execute_result"
    }
   ],
   "source": [
    "#Code task 6#\n",
    "#Use ski_data's `select_dtypes` method to select columns of dtype 'object'\n",
    "ski_data.select_dtypes(include=\"object\")"
   ]
  },
  {
   "cell_type": "markdown",
   "metadata": {},
   "source": [
    "You saw earlier on that these three columns had no missing values. But are there any other issues with these columns? Sensible questions to ask here include:\n",
    "\n",
    "* Is `Name` (or at least a combination of Name/Region/State) unique?\n",
    "* Is `Region` always the same as `state`?"
   ]
  },
  {
   "cell_type": "markdown",
   "metadata": {},
   "source": [
    "#### 2.6.3.1 Unique Resort Names<a id='2.6.3.1_Unique_Resort_Names'></a>"
   ]
  },
  {
   "cell_type": "code",
   "execution_count": 810,
   "metadata": {},
   "outputs": [
    {
     "data": {
      "text/plain": "Crystal Mountain                 2\nSierra-at-Tahoe                  1\nArizona Snowbowl                 1\nSunrise Park Resort              1\nYosemite Ski & Snowboard Area    1\nName: Name, dtype: int64"
     },
     "execution_count": 810,
     "metadata": {},
     "output_type": "execute_result"
    }
   ],
   "source": [
    "#Code task 7#\n",
    "#Use pandas' Series method `value_counts` to find any duplicated resort names\n",
    "ski_data['Name'].value_counts().sort_values(ascending=False).head()\n"
   ]
  },
  {
   "cell_type": "markdown",
   "metadata": {},
   "source": [
    "You have a duplicated resort name: Crystal Mountain."
   ]
  },
  {
   "cell_type": "markdown",
   "metadata": {},
   "source": [
    "**Q: 1** Is this resort duplicated if you take into account Region and/or state as well?"
   ]
  },
  {
   "cell_type": "code",
   "execution_count": 811,
   "metadata": {},
   "outputs": [
    {
     "data": {
      "text/plain": "Alyeska Resort, Alaska                                1\nHilltop Ski Area, Alaska                              1\nSunrise Park Resort, Arizona                          1\nYosemite Ski & Snowboard Area, Northern California    1\nBear Mountain, Sierra Nevada                          1\ndtype: int64"
     },
     "execution_count": 811,
     "metadata": {},
     "output_type": "execute_result"
    }
   ],
   "source": [
    "#Code task 8#\n",
    "#Concatenate the string columns 'Name' and 'Region' and count the values again (as above)\n",
    "(ski_data['Name'] + ', ' + ski_data['Region']).value_counts().sort_values(ascending=False).head()"
   ]
  },
  {
   "cell_type": "code",
   "execution_count": 812,
   "metadata": {},
   "outputs": [
    {
     "name": "stdout",
     "output_type": "stream",
     "text": [
      "Alternatively, Just look at  'Crystal Mountain'\n",
      "                 Name      Region       state\n",
      "104  Crystal Mountain    Michigan    Michigan\n",
      "295  Crystal Mountain  Washington  Washington\n"
     ]
    }
   ],
   "source": [
    "#scratch\n",
    "print(\"Alternatively, Just look at  'Crystal Mountain'\")\n",
    "print(ski_data[(ski_data['Name'] == 'Crystal Mountain')][['Name','Region','state']])"
   ]
  },
  {
   "cell_type": "code",
   "execution_count": 813,
   "metadata": {},
   "outputs": [
    {
     "data": {
      "text/plain": "Alyeska Resort, Alaska                        1\nHilltop Ski Area, Alaska                      1\nSunrise Park Resort, Arizona                  1\nYosemite Ski & Snowboard Area, California     1\nBear Mountain, California                     1\n                                             ..\nMeadowlark Ski Lodge, Wyoming                 1\nSleeping Giant Ski Resort, Wyoming            1\nSnow King Resort, Wyoming                     1\nSnowy Range Ski & Recreation Area, Wyoming    1\nWhite Pine Ski Area, Wyoming                  1\nLength: 330, dtype: int64"
     },
     "execution_count": 813,
     "metadata": {},
     "output_type": "execute_result"
    }
   ],
   "source": [
    "#Code task 9#\n",
    "#Concatenate 'Name' and 'state' and count the values again (as above)\n",
    "(ski_data['Name'] + ', ' + ski_data['state']).value_counts().sort_values(ascending=False)"
   ]
  },
  {
   "cell_type": "markdown",
   "metadata": {},
   "source": [
    "**NB** because you know `value_counts()` sorts descending, you can use the `head()` method and know the rest of the counts must be 1."
   ]
  },
  {
   "cell_type": "markdown",
   "metadata": {},
   "source": [
    "**A: 1** Your answer here  - was there a question?"
   ]
  },
  {
   "cell_type": "markdown",
   "metadata": {},
   "source": [
    "So there are two Crystal Mountain resorts, but they are clearly two different resorts in two different states. This is a powerful signal that you have unique records on each row."
   ]
  },
  {
   "cell_type": "markdown",
   "metadata": {},
   "source": [
    "#### 2.6.3.2 Region And State<a id='2.6.3.2_Region_And_State'></a>"
   ]
  },
  {
   "cell_type": "markdown",
   "metadata": {},
   "source": [
    "What's the relationship between region and state?"
   ]
  },
  {
   "cell_type": "markdown",
   "metadata": {},
   "source": [
    "You know they are the same in many cases (e.g. both the Region and the state are given as 'Michigan'). In how many cases do they differ?"
   ]
  },
  {
   "cell_type": "code",
   "execution_count": 814,
   "metadata": {},
   "outputs": [
    {
     "data": {
      "text/plain": "330"
     },
     "execution_count": 814,
     "metadata": {},
     "output_type": "execute_result"
    }
   ],
   "source": [
    "#Code task 10#\n",
    "#Calculate the number of times Region does not equal state\n",
    "(ski_data.Region != ski_data.state).count()"
   ]
  },
  {
   "cell_type": "markdown",
   "metadata": {},
   "source": [
    "You know what a state is. What is a region? You can tabulate the distinct values along with their respective frequencies using `value_counts()`."
   ]
  },
  {
   "cell_type": "code",
   "execution_count": 815,
   "metadata": {},
   "outputs": [
    {
     "data": {
      "text/plain": "New York               33\nMichigan               29\nSierra Nevada          22\nColorado               22\nPennsylvania           19\nWisconsin              16\nNew Hampshire          16\nVermont                15\nMinnesota              14\nIdaho                  12\nMontana                12\nMassachusetts          11\nWashington             10\nNew Mexico              9\nMaine                   9\nWyoming                 8\nUtah                    7\nSalt Lake City          6\nNorth Carolina          6\nOregon                  6\nConnecticut             5\nOhio                    5\nVirginia                4\nWest Virginia           4\nIllinois                4\nMt. Hood                4\nAlaska                  3\nIowa                    3\nSouth Dakota            2\nArizona                 2\nNevada                  2\nMissouri                2\nIndiana                 2\nNew Jersey              2\nRhode Island            1\nTennessee               1\nMaryland                1\nNorthern California     1\nName: Region, dtype: int64"
     },
     "execution_count": 815,
     "metadata": {},
     "output_type": "execute_result"
    }
   ],
   "source": [
    "ski_data['Region'].value_counts()"
   ]
  },
  {
   "cell_type": "markdown",
   "metadata": {},
   "source": [
    "A casual inspection by eye reveals some non-state names such as Sierra Nevada, Salt Lake City, and Northern California. Tabulate the differences between Region and state. On a note regarding scaling to larger data sets, you might wonder how you could spot such cases when presented with millions of rows. This is an interesting point. Imagine you have access to a database with a Region and state column in a table and there are millions of rows. You wouldn't eyeball all the rows looking for differences! Bear in mind that our first interest lies in establishing the answer to the question \"Are they always the same?\" One approach might be to ask the database to return records where they differ, but limit the output to 10 rows. If there were differences, you'd only get up to 10 results, and so you wouldn't know whether you'd located all differences, but you'd know that there were 'a nonzero number' of differences. If you got an empty result set back, then you would know that the two columns always had the same value. At the risk of digressing, some values in one column only might be NULL (missing) and different databases treat NULL differently, so be aware that on many an occasion a seamingly 'simple' question gets very interesting to answer very quickly!"
   ]
  },
  {
   "cell_type": "code",
   "execution_count": 816,
   "metadata": {},
   "outputs": [
    {
     "data": {
      "text/plain": "state       Region             \nCalifornia  Sierra Nevada          20\nUtah        Salt Lake City          6\nOregon      Mt. Hood                4\nNevada      Sierra Nevada           2\nCalifornia  Northern California     1\ndtype: int64"
     },
     "execution_count": 816,
     "metadata": {},
     "output_type": "execute_result"
    }
   ],
   "source": [
    "ski_data[(ski_data.Region != ski_data.state)][['Region', 'state']]\\\n",
    "    .groupby(['state', 'Region'])\\\n",
    "    .value_counts()\\\n",
    "    .sort_values(ascending=False)"
   ]
  },
  {
   "cell_type": "markdown",
   "metadata": {},
   "source": [
    "<span style=\"color:#cc0000\">California has Northern Cal and many Sierra Nevadas, California and Nevada both have Sierra Nevadas, Oregon has Mt. Hood, and Utah has Salt Lake </span>\n",
    "<span style=\"color:#cc0000\">Region is a subset of state</span>"
   ]
  },
  {
   "cell_type": "code",
   "execution_count": 817,
   "metadata": {},
   "outputs": [
    {
     "data": {
      "text/plain": "state       Region             \nCalifornia  Sierra Nevada          20\n            Northern California     1\nNevada      Sierra Nevada           2\nOregon      Mt. Hood                4\nUtah        Salt Lake City          6\nName: Region, dtype: int64"
     },
     "execution_count": 817,
     "metadata": {},
     "output_type": "execute_result"
    }
   ],
   "source": [
    "#Code task 11#\n",
    "#Filter the ski_data dataframe for rows where 'Region' and 'state' are different,\n",
    "#group that by 'state' and perform `value_counts` on the 'Region'\n",
    "(ski_data[ski_data.Region != ski_data.state]\n",
    " .groupby(['state'])['Region']\n",
    " .value_counts())\n"
   ]
  },
  {
   "cell_type": "markdown",
   "metadata": {},
   "source": [
    "The vast majority of the differences are in California, with most Regions being called Sierra Nevada and just one referred to as Northern California."
   ]
  },
  {
   "cell_type": "markdown",
   "metadata": {},
   "source": [
    "#### 2.6.3.3 Number of distinct regions and states<a id='2.6.3.3_Number_of_distinct_regions_and_states'></a>"
   ]
  },
  {
   "cell_type": "code",
   "execution_count": 818,
   "metadata": {},
   "outputs": [
    {
     "data": {
      "text/plain": "Region    38\nstate     35\ndtype: int64"
     },
     "execution_count": 818,
     "metadata": {},
     "output_type": "execute_result"
    }
   ],
   "source": [
    "#Code task 12#\n",
    "#Select the 'Region' and 'state' columns from ski_data and use the `nunique` method to calculate\n",
    "#the number of unique values in each\n",
    "ski_data[['Region', 'state']].nunique()"
   ]
  },
  {
   "cell_type": "markdown",
   "metadata": {},
   "source": [
    "Because a few states are split across multiple named regions, there are slightly more unique regions than states."
   ]
  },
  {
   "cell_type": "markdown",
   "metadata": {},
   "source": [
    "#### 2.6.3.4 Distribution Of Resorts By Region And State<a id='2.6.3.4_Distribution_Of_Resorts_By_Region_And_State'></a>"
   ]
  },
  {
   "cell_type": "markdown",
   "metadata": {},
   "source": [
    "If this is your first time using [matplotlib](https://matplotlib.org/3.2.2/index.html)'s [subplots](https://matplotlib.org/3.2.2/api/_as_gen/matplotlib.pyplot.subplots.html), you may find the online documentation useful."
   ]
  },
  {
   "cell_type": "code",
   "execution_count": 819,
   "metadata": {},
   "outputs": [
    {
     "data": {
      "text/plain": "<Figure size 864x576 with 2 Axes>",
      "image/png": "[encoded data removed]"
     },
     "metadata": {},
     "output_type": "display_data"
    }
   ],
   "source": [
    "#Code task 13#\n",
    "#Create two subplots on 1 row and 2 columns with a figsize of (12, 8)\n",
    "fig, ax = plt.subplots(1, 2, figsize=(12,8))\n",
    "\n",
    "# REGION\n",
    "#Specify a horizontal barplot ('barh') as kind of plot (kind=)\n",
    "ski_data.Region.value_counts().plot(kind='barh', ax=ax[0])\n",
    "#Give the plot a helpful title of 'Region'\n",
    "ax[0].set_title('Region')\n",
    "#Label the xaxis 'Count'\n",
    "ax[0].set_xlabel('Count')\n",
    "\n",
    "# STATE\n",
    "#Specify a horizontal barplot ('barh') as kind of plot (kind=)\n",
    "ski_data.state.value_counts().plot(kind='barh', ax=ax[1])\n",
    "#Give the plot a helpful title of 'state'\n",
    "ax[1].set_title('state')\n",
    "#Label the xaxis 'Count'\n",
    "ax[1].set_xlabel('Count')\n",
    "\n",
    "\n",
    "#Give the subplots a little \"breathing room\" with a wspace of 0.5\n",
    "plt.subplots_adjust(wspace=0.5);\n",
    "#You're encouraged to explore a few different figure sizes, orientations, and spacing here\n",
    "# as the importance of easy-to-read and informative figures is frequently understated\n",
    "# and you will find the ability to tweak figures invaluable later on"
   ]
  },
  {
   "cell_type": "code",
   "execution_count": 820,
   "outputs": [
    {
     "data": {
      "text/plain": "New York               33\nMichigan               29\nSierra Nevada          22\nColorado               22\nPennsylvania           19\nWisconsin              16\nNew Hampshire          16\nVermont                15\nMinnesota              14\nIdaho                  12\nMontana                12\nMassachusetts          11\nWashington             10\nNew Mexico              9\nMaine                   9\nWyoming                 8\nUtah                    7\nSalt Lake City          6\nNorth Carolina          6\nOregon                  6\nConnecticut             5\nOhio                    5\nVirginia                4\nWest Virginia           4\nIllinois                4\nMt. Hood                4\nAlaska                  3\nIowa                    3\nSouth Dakota            2\nArizona                 2\nNevada                  2\nMissouri                2\nIndiana                 2\nNew Jersey              2\nRhode Island            1\nTennessee               1\nMaryland                1\nNorthern California     1\nName: Region, dtype: int64"
     },
     "execution_count": 820,
     "metadata": {},
     "output_type": "execute_result"
    }
   ],
   "source": [
    "# scratch\n",
    "ski_data.Region.value_counts()"
   ],
   "metadata": {
    "collapsed": false
   }
  },
  {
   "cell_type": "markdown",
   "metadata": {},
   "source": [
    "How's your geography? Looking at the distribution of States, you see New York accounting for the majority of resorts. Our target resort is in Montana, which comes in at 13th place. You should think carefully about how, or whether, you use this information. Does New York command a premium because of its proximity to population? Even if a resort's State were a useful predictor of ticket price, your main interest lies in Montana. Would you want a model that is skewed for accuracy by New York? Should you just filter for Montana and create a Montana-specific model? This would slash your available data volume. Your problem task includes the contextual insight that the data are for resorts all belonging to the same market share. This suggests one might expect prices to be similar amongst them. You can look into this. A boxplot grouped by State is an ideal way to quickly compare prices. Another side note worth bringing up here is that, in reality, the best approach here definitely would include consulting with the client or other domain expert. They might know of good reasons for treating states equivalently or differently. The data scientist is rarely the final arbiter of such a decision. But here, you'll see if we can find any supporting evidence for treating states the same or differently."
   ]
  },
  {
   "cell_type": "markdown",
   "metadata": {},
   "source": [
    "#### 2.6.3.5 Distribution Of Ticket Price By State<a id='2.6.3.5_Distribution_Of_Ticket_Price_By_State'></a>"
   ]
  },
  {
   "cell_type": "markdown",
   "metadata": {},
   "source": [
    "Our primary focus is our Big Mountain resort, in Montana. Does the state give you any clues to help decide what your primary target response feature should be (weekend or weekday ticket prices)?"
   ]
  },
  {
   "cell_type": "markdown",
   "metadata": {},
   "source": [
    "##### 2.6.3.5.1 Average weekend and weekday price by state<a id='2.6.3.5.1_Average_weekend_and_weekday_price_by_state'></a>"
   ]
  },
  {
   "cell_type": "code",
   "execution_count": 821,
   "metadata": {},
   "outputs": [
    {
     "data": {
      "text/plain": "                AdultWeekday  AdultWeekend\nstate                                     \nUtah                89.08333      93.00000\nColorado            90.71429      90.71429\nVermont             83.50000      87.90000\nArizona             81.50000      83.50000\nCalifornia          78.21429      81.41667\nNevada              78.50000      81.00000\nNew Jersey          79.99000      79.99000\nWest Virginia       62.50000      79.75000\nMaryland            59.00000      79.00000\nNew Hampshire       65.57143      76.50000\nWashington          65.10714      70.14429\nVirginia            51.00000      68.00000\nNew Mexico          65.66667      65.66667\nTennessee           36.00000      65.00000\nNorth Carolina      41.83333      64.16667\nPennsylvania        52.70588      63.68750\nMaine               51.50000      61.00000\nOregon              58.85714      59.85714\nNew York            50.03226      58.94545\nAlaska              47.33333      57.33333\nMassachusetts       40.90000      57.20000\nConnecticut         47.80000      56.80000\nWyoming             57.60000      56.16667\nIdaho               56.55556      55.90000\nWisconsin           46.42857      54.26667\nMichigan            45.45833      52.57692\nMontana             51.90909      51.90909\nSouth Dakota        51.50000      51.50000\nMinnesota           44.59571      49.66714\nIndiana             45.00000      48.50000\nMissouri            43.00000      48.00000\nOhio                42.20000      45.40000\nIllinois            35.00000      43.33333\nIowa                35.66667      41.66667\nRhode Island             NaN           NaN",
      "text/html": "<div>\n<style scoped>\n    .dataframe tbody tr th:only-of-type {\n        vertical-align: middle;\n    }\n\n    .dataframe tbody tr th {\n        vertical-align: top;\n    }\n\n    .dataframe thead th {\n        text-align: right;\n    }\n</style>\n<table border=\"1\" class=\"dataframe\">\n  <thead>\n    <tr style=\"text-align: right;\">\n      <th></th>\n      <th>AdultWeekday</th>\n      <th>AdultWeekend</th>\n    </tr>\n    <tr>\n      <th>state</th>\n      <th></th>\n      <th></th>\n    </tr>\n  </thead>\n  <tbody>\n    <tr>\n      <th>Utah</th>\n      <td>89.08333</td>\n      <td>93.00000</td>\n    </tr>\n    <tr>\n      <th>Colorado</th>\n      <td>90.71429</td>\n      <td>90.71429</td>\n    </tr>\n    <tr>\n      <th>Vermont</th>\n      <td>83.50000</td>\n      <td>87.90000</td>\n    </tr>\n    <tr>\n      <th>Arizona</th>\n      <td>81.50000</td>\n      <td>83.50000</td>\n    </tr>\n    <tr>\n      <th>California</th>\n      <td>78.21429</td>\n      <td>81.41667</td>\n    </tr>\n    <tr>\n      <th>Nevada</th>\n      <td>78.50000</td>\n      <td>81.00000</td>\n    </tr>\n    <tr>\n      <th>New Jersey</th>\n      <td>79.99000</td>\n      <td>79.99000</td>\n    </tr>\n    <tr>\n      <th>West Virginia</th>\n      <td>62.50000</td>\n      <td>79.75000</td>\n    </tr>\n    <tr>\n      <th>Maryland</th>\n      <td>59.00000</td>\n      <td>79.00000</td>\n    </tr>\n    <tr>\n      <th>New Hampshire</th>\n      <td>65.57143</td>\n      <td>76.50000</td>\n    </tr>\n    <tr>\n      <th>Washington</th>\n      <td>65.10714</td>\n      <td>70.14429</td>\n    </tr>\n    <tr>\n      <th>Virginia</th>\n      <td>51.00000</td>\n      <td>68.00000</td>\n    </tr>\n    <tr>\n      <th>New Mexico</th>\n      <td>65.66667</td>\n      <td>65.66667</td>\n    </tr>\n    <tr>\n      <th>Tennessee</th>\n      <td>36.00000</td>\n      <td>65.00000</td>\n    </tr>\n    <tr>\n      <th>North Carolina</th>\n      <td>41.83333</td>\n      <td>64.16667</td>\n    </tr>\n    <tr>\n      <th>Pennsylvania</th>\n      <td>52.70588</td>\n      <td>63.68750</td>\n    </tr>\n    <tr>\n      <th>Maine</th>\n      <td>51.50000</td>\n      <td>61.00000</td>\n    </tr>\n    <tr>\n      <th>Oregon</th>\n      <td>58.85714</td>\n      <td>59.85714</td>\n    </tr>\n    <tr>\n      <th>New York</th>\n      <td>50.03226</td>\n      <td>58.94545</td>\n    </tr>\n    <tr>\n      <th>Alaska</th>\n      <td>47.33333</td>\n      <td>57.33333</td>\n    </tr>\n    <tr>\n      <th>Massachusetts</th>\n      <td>40.90000</td>\n      <td>57.20000</td>\n    </tr>\n    <tr>\n      <th>Connecticut</th>\n      <td>47.80000</td>\n      <td>56.80000</td>\n    </tr>\n    <tr>\n      <th>Wyoming</th>\n      <td>57.60000</td>\n      <td>56.16667</td>\n    </tr>\n    <tr>\n      <th>Idaho</th>\n      <td>56.55556</td>\n      <td>55.90000</td>\n    </tr>\n    <tr>\n      <th>Wisconsin</th>\n      <td>46.42857</td>\n      <td>54.26667</td>\n    </tr>\n    <tr>\n      <th>Michigan</th>\n      <td>45.45833</td>\n      <td>52.57692</td>\n    </tr>\n    <tr>\n      <th>Montana</th>\n      <td>51.90909</td>\n      <td>51.90909</td>\n    </tr>\n    <tr>\n      <th>South Dakota</th>\n      <td>51.50000</td>\n      <td>51.50000</td>\n    </tr>\n    <tr>\n      <th>Minnesota</th>\n      <td>44.59571</td>\n      <td>49.66714</td>\n    </tr>\n    <tr>\n      <th>Indiana</th>\n      <td>45.00000</td>\n      <td>48.50000</td>\n    </tr>\n    <tr>\n      <th>Missouri</th>\n      <td>43.00000</td>\n      <td>48.00000</td>\n    </tr>\n    <tr>\n      <th>Ohio</th>\n      <td>42.20000</td>\n      <td>45.40000</td>\n    </tr>\n    <tr>\n      <th>Illinois</th>\n      <td>35.00000</td>\n      <td>43.33333</td>\n    </tr>\n    <tr>\n      <th>Iowa</th>\n      <td>35.66667</td>\n      <td>41.66667</td>\n    </tr>\n    <tr>\n      <th>Rhode Island</th>\n      <td>NaN</td>\n      <td>NaN</td>\n    </tr>\n  </tbody>\n</table>\n</div>"
     },
     "execution_count": 821,
     "metadata": {},
     "output_type": "execute_result"
    }
   ],
   "source": [
    "#Code task 14#\n",
    "# Calculate average weekday and weekend price by state and sort by the average of the two\n",
    "# Hint: use the pattern dataframe.groupby(<grouping variable>)[<list of columns>].mean()\n",
    "state_price_means = ski_data.groupby('state')[['AdultWeekday', 'AdultWeekend']].mean()\n",
    "state_price_means.sort_values(['AdultWeekend', 'AdultWeekday'], ascending=False)"
   ]
  },
  {
   "cell_type": "code",
   "execution_count": 822,
   "outputs": [
    {
     "data": {
      "text/plain": "                AdultWeekday  AdultWeekend\nstate                                     \nUtah                89.08333      93.00000\nColorado            90.71429      90.71429\nVermont             83.50000      87.90000\nArizona             81.50000      83.50000\nNew Jersey          79.99000      79.99000\nCalifornia          78.21429      81.41667\nNevada              78.50000      81.00000\nWest Virginia       62.50000      79.75000\nNew Hampshire       65.57143      76.50000\nMaryland            59.00000      79.00000\nWashington          65.10714      70.14429\nNew Mexico          65.66667      65.66667\nVirginia            51.00000      68.00000\nOregon              58.85714      59.85714\nPennsylvania        52.70588      63.68750\nWyoming             57.60000      56.16667\nMaine               51.50000      61.00000\nIdaho               56.55556      55.90000\nNew York            50.03226      58.94545\nNorth Carolina      41.83333      64.16667\nAlaska              47.33333      57.33333\nConnecticut         47.80000      56.80000\nMontana             51.90909      51.90909\nSouth Dakota        51.50000      51.50000\nTennessee           36.00000      65.00000\nWisconsin           46.42857      54.26667\nMassachusetts       40.90000      57.20000\nMichigan            45.45833      52.57692\nMinnesota           44.59571      49.66714\nIndiana             45.00000      48.50000\nMissouri            43.00000      48.00000\nOhio                42.20000      45.40000\nIllinois            35.00000      43.33333\nIowa                35.66667      41.66667\nRhode Island             NaN           NaN",
      "text/html": "<div>\n<style scoped>\n    .dataframe tbody tr th:only-of-type {\n        vertical-align: middle;\n    }\n\n    .dataframe tbody tr th {\n        vertical-align: top;\n    }\n\n    .dataframe thead th {\n        text-align: right;\n    }\n</style>\n<table border=\"1\" class=\"dataframe\">\n  <thead>\n    <tr style=\"text-align: right;\">\n      <th></th>\n      <th>AdultWeekday</th>\n      <th>AdultWeekend</th>\n    </tr>\n    <tr>\n      <th>state</th>\n      <th></th>\n      <th></th>\n    </tr>\n  </thead>\n  <tbody>\n    <tr>\n      <th>Utah</th>\n      <td>89.08333</td>\n      <td>93.00000</td>\n    </tr>\n    <tr>\n      <th>Colorado</th>\n      <td>90.71429</td>\n      <td>90.71429</td>\n    </tr>\n    <tr>\n      <th>Vermont</th>\n      <td>83.50000</td>\n      <td>87.90000</td>\n    </tr>\n    <tr>\n      <th>Arizona</th>\n      <td>81.50000</td>\n      <td>83.50000</td>\n    </tr>\n    <tr>\n      <th>New Jersey</th>\n      <td>79.99000</td>\n      <td>79.99000</td>\n    </tr>\n    <tr>\n      <th>California</th>\n      <td>78.21429</td>\n      <td>81.41667</td>\n    </tr>\n    <tr>\n      <th>Nevada</th>\n      <td>78.50000</td>\n      <td>81.00000</td>\n    </tr>\n    <tr>\n      <th>West Virginia</th>\n      <td>62.50000</td>\n      <td>79.75000</td>\n    </tr>\n    <tr>\n      <th>New Hampshire</th>\n      <td>65.57143</td>\n      <td>76.50000</td>\n    </tr>\n    <tr>\n      <th>Maryland</th>\n      <td>59.00000</td>\n      <td>79.00000</td>\n    </tr>\n    <tr>\n      <th>Washington</th>\n      <td>65.10714</td>\n      <td>70.14429</td>\n    </tr>\n    <tr>\n      <th>New Mexico</th>\n      <td>65.66667</td>\n      <td>65.66667</td>\n    </tr>\n    <tr>\n      <th>Virginia</th>\n      <td>51.00000</td>\n      <td>68.00000</td>\n    </tr>\n    <tr>\n      <th>Oregon</th>\n      <td>58.85714</td>\n      <td>59.85714</td>\n    </tr>\n    <tr>\n      <th>Pennsylvania</th>\n      <td>52.70588</td>\n      <td>63.68750</td>\n    </tr>\n    <tr>\n      <th>Wyoming</th>\n      <td>57.60000</td>\n      <td>56.16667</td>\n    </tr>\n    <tr>\n      <th>Maine</th>\n      <td>51.50000</td>\n      <td>61.00000</td>\n    </tr>\n    <tr>\n      <th>Idaho</th>\n      <td>56.55556</td>\n      <td>55.90000</td>\n    </tr>\n    <tr>\n      <th>New York</th>\n      <td>50.03226</td>\n      <td>58.94545</td>\n    </tr>\n    <tr>\n      <th>North Carolina</th>\n      <td>41.83333</td>\n      <td>64.16667</td>\n    </tr>\n    <tr>\n      <th>Alaska</th>\n      <td>47.33333</td>\n      <td>57.33333</td>\n    </tr>\n    <tr>\n      <th>Connecticut</th>\n      <td>47.80000</td>\n      <td>56.80000</td>\n    </tr>\n    <tr>\n      <th>Montana</th>\n      <td>51.90909</td>\n      <td>51.90909</td>\n    </tr>\n    <tr>\n      <th>South Dakota</th>\n      <td>51.50000</td>\n      <td>51.50000</td>\n    </tr>\n    <tr>\n      <th>Tennessee</th>\n      <td>36.00000</td>\n      <td>65.00000</td>\n    </tr>\n    <tr>\n      <th>Wisconsin</th>\n      <td>46.42857</td>\n      <td>54.26667</td>\n    </tr>\n    <tr>\n      <th>Massachusetts</th>\n      <td>40.90000</td>\n      <td>57.20000</td>\n    </tr>\n    <tr>\n      <th>Michigan</th>\n      <td>45.45833</td>\n      <td>52.57692</td>\n    </tr>\n    <tr>\n      <th>Minnesota</th>\n      <td>44.59571</td>\n      <td>49.66714</td>\n    </tr>\n    <tr>\n      <th>Indiana</th>\n      <td>45.00000</td>\n      <td>48.50000</td>\n    </tr>\n    <tr>\n      <th>Missouri</th>\n      <td>43.00000</td>\n      <td>48.00000</td>\n    </tr>\n    <tr>\n      <th>Ohio</th>\n      <td>42.20000</td>\n      <td>45.40000</td>\n    </tr>\n    <tr>\n      <th>Illinois</th>\n      <td>35.00000</td>\n      <td>43.33333</td>\n    </tr>\n    <tr>\n      <th>Iowa</th>\n      <td>35.66667</td>\n      <td>41.66667</td>\n    </tr>\n    <tr>\n      <th>Rhode Island</th>\n      <td>NaN</td>\n      <td>NaN</td>\n    </tr>\n  </tbody>\n</table>\n</div>"
     },
     "execution_count": 822,
     "metadata": {},
     "output_type": "execute_result"
    }
   ],
   "source": [
    "n = state_price_means.reindex(\n",
    "        index=state_price_means.mean(axis=1)\n",
    "        .sort_values(ascending=False)\n",
    "        .index)\n",
    "n"
   ],
   "metadata": {
    "collapsed": false
   }
  },
  {
   "cell_type": "code",
   "execution_count": 823,
   "metadata": {},
   "outputs": [
    {
     "data": {
      "text/plain": "<Figure size 720x720 with 1 Axes>",
      "image/png": "[encoded data removed]"
     },
     "metadata": {},
     "output_type": "display_data"
    }
   ],
   "source": [
    "# The next bit simply reorders the index by increasing average of weekday and weekend prices\n",
    "# Compare the index order you get from\n",
    "# state_price_means.index\n",
    "# with\n",
    "# state_price_means.mean(axis=1).sort_values(ascending=False).index\n",
    "# See how this expression simply sits within the reindex()\n",
    "(state_price_means\n",
    "    .reindex(\n",
    "        index=state_price_means.mean(axis=1)\n",
    "        .sort_values(ascending=False)\n",
    "        .index)\n",
    "    .plot(kind='barh', figsize=(10, 10), title='Average ticket price by State'))\n",
    "\n",
    "plt.xlabel('Price ($)')\n",
    "plt.show()"
   ]
  },
  {
   "cell_type": "code",
   "execution_count": 824,
   "metadata": {},
   "outputs": [
    {
     "name": "stdout",
     "output_type": "stream",
     "text": [
      "Object `states` not found.\n"
     ]
    }
   ],
   "source": [
    "The figure above represents a dataframe with two columns, one for the average prices of each kind of ticket. This tells you how the average ticket price varies from state to state. But can you get more insight into the difference in the distributions between states?"
   ]
  },
  {
   "cell_type": "markdown",
   "metadata": {},
   "source": [
    "##### 2.6.3.5.2 Distribution of weekday and weekend price by state<a id='2.6.3.5.2_Distribution_of_weekday_and_weekend_price_by_state'></a>"
   ]
  },
  {
   "cell_type": "markdown",
   "metadata": {},
   "source": [
    "Next, you can transform the data into a single column for price with a new categorical column that represents the ticket type."
   ]
  },
  {
   "cell_type": "code",
   "execution_count": 825,
   "metadata": {},
   "outputs": [],
   "source": [
    "#Code task 15#\n",
    "#Use the pd.melt function, pass in the ski_data columns 'state', 'AdultWeekday', and 'Adultweekend' only,\n",
    "#specify 'state' for `id_vars`\n",
    "#gather the ticket prices from the 'Adultweekday' and 'AdultWeekend' columns using the `value_vars` argument,\n",
    "#call the resultant price column 'Price' via the `value_name` argument,\n",
    "#name the weekday/weekend indicator column 'Ticket' via the `var_name` argument\n",
    "ticket_prices = pd.melt(ski_data[['state', 'AdultWeekday',  'AdultWeekend' ]],\n",
    "                        id_vars='state',\n",
    "                        var_name='Ticket',\n",
    "                        value_vars=['AdultWeekday', 'AdultWeekend'],\n",
    "                        value_name='Price')"
   ]
  },
  {
   "cell_type": "code",
   "execution_count": 826,
   "outputs": [
    {
     "data": {
      "text/plain": "     state  AdultWeekday  AdultWeekend\n0   Alaska      65.00000      85.00000\n1   Alaska      47.00000      53.00000\n2   Alaska      30.00000      34.00000\n3  Arizona      89.00000      89.00000\n4  Arizona      74.00000      78.00000",
      "text/html": "<div>\n<style scoped>\n    .dataframe tbody tr th:only-of-type {\n        vertical-align: middle;\n    }\n\n    .dataframe tbody tr th {\n        vertical-align: top;\n    }\n\n    .dataframe thead th {\n        text-align: right;\n    }\n</style>\n<table border=\"1\" class=\"dataframe\">\n  <thead>\n    <tr style=\"text-align: right;\">\n      <th></th>\n      <th>state</th>\n      <th>AdultWeekday</th>\n      <th>AdultWeekend</th>\n    </tr>\n  </thead>\n  <tbody>\n    <tr>\n      <th>0</th>\n      <td>Alaska</td>\n      <td>65.00000</td>\n      <td>85.00000</td>\n    </tr>\n    <tr>\n      <th>1</th>\n      <td>Alaska</td>\n      <td>47.00000</td>\n      <td>53.00000</td>\n    </tr>\n    <tr>\n      <th>2</th>\n      <td>Alaska</td>\n      <td>30.00000</td>\n      <td>34.00000</td>\n    </tr>\n    <tr>\n      <th>3</th>\n      <td>Arizona</td>\n      <td>89.00000</td>\n      <td>89.00000</td>\n    </tr>\n    <tr>\n      <th>4</th>\n      <td>Arizona</td>\n      <td>74.00000</td>\n      <td>78.00000</td>\n    </tr>\n  </tbody>\n</table>\n</div>"
     },
     "execution_count": 826,
     "metadata": {},
     "output_type": "execute_result"
    }
   ],
   "source": [
    "ski_data[['state', 'AdultWeekday',  'AdultWeekend' ]].head()"
   ],
   "metadata": {
    "collapsed": false
   }
  },
  {
   "cell_type": "code",
   "execution_count": 827,
   "metadata": {},
   "outputs": [
    {
     "data": {
      "text/plain": "       state        Ticket    Price\n0     Alaska  AdultWeekday 65.00000\n1     Alaska  AdultWeekday 47.00000\n2     Alaska  AdultWeekday 30.00000\n330   Alaska  AdultWeekend 85.00000\n331   Alaska  AdultWeekend 53.00000\n..       ...           ...      ...\n324  Wyoming  AdultWeekday      NaN\n323  Wyoming  AdultWeekday 48.00000\n322  Wyoming  AdultWeekday 90.00000\n658  Wyoming  AdultWeekend 49.00000\n659  Wyoming  AdultWeekend 49.00000\n\n[660 rows x 3 columns]",
      "text/html": "<div>\n<style scoped>\n    .dataframe tbody tr th:only-of-type {\n        vertical-align: middle;\n    }\n\n    .dataframe tbody tr th {\n        vertical-align: top;\n    }\n\n    .dataframe thead th {\n        text-align: right;\n    }\n</style>\n<table border=\"1\" class=\"dataframe\">\n  <thead>\n    <tr style=\"text-align: right;\">\n      <th></th>\n      <th>state</th>\n      <th>Ticket</th>\n      <th>Price</th>\n    </tr>\n  </thead>\n  <tbody>\n    <tr>\n      <th>0</th>\n      <td>Alaska</td>\n      <td>AdultWeekday</td>\n      <td>65.00000</td>\n    </tr>\n    <tr>\n      <th>1</th>\n      <td>Alaska</td>\n      <td>AdultWeekday</td>\n      <td>47.00000</td>\n    </tr>\n    <tr>\n      <th>2</th>\n      <td>Alaska</td>\n      <td>AdultWeekday</td>\n      <td>30.00000</td>\n    </tr>\n    <tr>\n      <th>330</th>\n      <td>Alaska</td>\n      <td>AdultWeekend</td>\n      <td>85.00000</td>\n    </tr>\n    <tr>\n      <th>331</th>\n      <td>Alaska</td>\n      <td>AdultWeekend</td>\n      <td>53.00000</td>\n    </tr>\n    <tr>\n      <th>...</th>\n      <td>...</td>\n      <td>...</td>\n      <td>...</td>\n    </tr>\n    <tr>\n      <th>324</th>\n      <td>Wyoming</td>\n      <td>AdultWeekday</td>\n      <td>NaN</td>\n    </tr>\n    <tr>\n      <th>323</th>\n      <td>Wyoming</td>\n      <td>AdultWeekday</td>\n      <td>48.00000</td>\n    </tr>\n    <tr>\n      <th>322</th>\n      <td>Wyoming</td>\n      <td>AdultWeekday</td>\n      <td>90.00000</td>\n    </tr>\n    <tr>\n      <th>658</th>\n      <td>Wyoming</td>\n      <td>AdultWeekend</td>\n      <td>49.00000</td>\n    </tr>\n    <tr>\n      <th>659</th>\n      <td>Wyoming</td>\n      <td>AdultWeekend</td>\n      <td>49.00000</td>\n    </tr>\n  </tbody>\n</table>\n<p>660 rows × 3 columns</p>\n</div>"
     },
     "execution_count": 827,
     "metadata": {},
     "output_type": "execute_result"
    }
   ],
   "source": [
    "ticket_prices.sort_values(by='state')"
   ]
  },
  {
   "cell_type": "markdown",
   "metadata": {},
   "source": [
    "This is now in a format we can pass to [seaborn](https://seaborn.pydata.org/)'s [boxplot](https://seaborn.pydata.org/generated/seaborn.boxplot.html) function to create boxplots of the ticket price distributions for each ticket type for each state."
   ]
  },
  {
   "cell_type": "code",
   "execution_count": 828,
   "metadata": {},
   "outputs": [
    {
     "data": {
      "text/plain": "<Figure size 1800x720 with 1 Axes>",
      "image/png": "[encoded data removed]"
     },
     "metadata": {},
     "output_type": "display_data"
    }
   ],
   "source": [
    "#Code task 16#\n",
    "#Create a seaborn boxplot of the ticket price dataframe we created above,\n",
    "#with 'state' on the x-axis, 'Price' as the y-value, and a hue that indicates 'Ticket'\n",
    "#This will use boxplot's x, y, hue, and data arguments.\n",
    "plt.subplots(figsize=(25, 10))\n",
    "sns.boxplot(x='state', y='Price', hue='Ticket', data=ticket_prices)\n",
    "plt.xticks(rotation='vertical')\n",
    "plt.ylabel('Price ($)')\n",
    "plt.xlabel('State');"
   ]
  },
  {
   "cell_type": "markdown",
   "metadata": {},
   "source": [
    "Aside from some relatively expensive ticket prices in California, Colorado, and Utah, most prices appear to lie in a broad band from around 25 to over 100 dollars. Some States show more variability than others. Montana and South Dakota, for example, both show fairly small variability as well as matching weekend and weekday ticket prices. Nevada and Utah, on the other hand, show the most range in prices. Some States, notably North Carolina and Virginia, have weekend prices far higher than weekday prices. You could be inspired from this exploration to consider a few potential groupings of resorts, those with low spread, those with lower averages, and those that charge a premium for weekend tickets. However, you're told that you are taking all resorts to be part of the same market share, you  could argue against further segment the resorts. Nevertheless, ways to consider using the State information in your modelling include:\n",
    "\n",
    "* disregard State completely\n",
    "* retain all State information\n",
    "* retain State in the form of Montana vs not Montana, as our target resort is in Montana\n",
    "\n",
    "You've also noted another effect above: some States show a marked difference between weekday and weekend ticket prices. It may make sense to allow a model to take into account not just State but also weekend vs weekday."
   ]
  },
  {
   "cell_type": "markdown",
   "metadata": {},
   "source": [
    "Thus we currently have two main questions you want to resolve:\n",
    "\n",
    "* What do you do about the two types of ticket price?\n",
    "* What do you do about the state information?"
   ]
  },
  {
   "cell_type": "markdown",
   "metadata": {},
   "source": [
    "### 2.6.4 Numeric Features<a id='2.6.4_Numeric_Features'></a>"
   ]
  },
  {
   "cell_type": "markdown",
   "metadata": {},
   "source": [
    "Having decided to reserve judgement on how exactly you utilize the State, turn your attention to cleaning the numeric features."
   ]
  },
  {
   "cell_type": "markdown",
   "metadata": {},
   "source": [
    "#### 2.6.4.1 Numeric data summary<a id='2.6.4.1_Numeric_data_summary'></a>"
   ]
  },
  {
   "cell_type": "code",
   "execution_count": 829,
   "metadata": {},
   "outputs": [
    {
     "data": {
      "text/plain": "                      count       mean        std       min        25%  \\\nsummit_elev       330.00000 4591.81818 3735.53593 315.00000 1403.75000   \nvertical_drop     330.00000 1215.42727  947.86456  60.00000  461.25000   \nbase_elev         330.00000 3374.00000 3117.12162  70.00000  869.00000   \ntrams             330.00000    0.17273    0.55995   0.00000    0.00000   \nfastEight         164.00000    0.00610    0.07809   0.00000    0.00000   \nfastSixes         330.00000    0.18485    0.65169   0.00000    0.00000   \nfastQuads         330.00000    1.01818    2.19829   0.00000    0.00000   \nquad              330.00000    0.93333    1.31224   0.00000    0.00000   \ntriple            330.00000    1.50000    1.61913   0.00000    0.00000   \ndouble            330.00000    1.83333    1.81503   0.00000    1.00000   \nsurface           330.00000    2.62121    2.05964   0.00000    1.00000   \ntotal_chairs      330.00000    8.26667    5.79868   0.00000    5.00000   \nRuns              326.00000   48.21472   46.36408   3.00000   19.00000   \nTerrainParks      279.00000    2.82079    2.00811   1.00000    1.00000   \nLongestRun_mi     325.00000    1.43323    1.15617   0.00000    0.50000   \nSkiableTerrain_ac 327.00000  739.80122 1816.16744   8.00000   85.00000   \nSnow Making_ac    284.00000  174.87324  261.33613   2.00000   50.00000   \ndaysOpenLastYear  279.00000  115.10394   35.06325   3.00000   97.00000   \nyearsOpen         329.00000   63.65653  109.42993   6.00000   50.00000   \naverageSnowfall   316.00000  185.31646  136.35684  18.00000   69.00000   \nAdultWeekday      276.00000   57.91696   26.14013  15.00000   40.00000   \nAdultWeekend      279.00000   64.16681   24.55458  17.00000   47.00000   \nprojectedDaysOpen 283.00000  120.05300   31.04596  30.00000  100.00000   \nNightSkiing_ac    187.00000  100.39572  105.16962   2.00000   40.00000   \n\n                         50%        75%         max  \nsummit_elev       3127.50000 7806.00000 13487.00000  \nvertical_drop      964.50000 1800.00000  4425.00000  \nbase_elev         1561.50000 6325.25000 10800.00000  \ntrams                0.00000    0.00000     4.00000  \nfastEight            0.00000    0.00000     1.00000  \nfastSixes            0.00000    0.00000     6.00000  \nfastQuads            0.00000    1.00000    15.00000  \nquad                 0.00000    1.00000     8.00000  \ntriple               1.00000    2.00000     8.00000  \ndouble               1.00000    3.00000    14.00000  \nsurface              2.00000    3.00000    15.00000  \ntotal_chairs         7.00000   10.00000    41.00000  \nRuns                33.00000   60.00000   341.00000  \nTerrainParks         2.00000    4.00000    14.00000  \nLongestRun_mi        1.00000    2.00000     6.00000  \nSkiableTerrain_ac  200.00000  690.00000 26819.00000  \nSnow Making_ac     100.00000  200.50000  3379.00000  \ndaysOpenLastYear   114.00000  135.00000   305.00000  \nyearsOpen           58.00000   69.00000  2019.00000  \naverageSnowfall    150.00000  300.00000   669.00000  \nAdultWeekday        50.00000   71.00000   179.00000  \nAdultWeekend        60.00000   77.50000   179.00000  \nprojectedDaysOpen  120.00000  139.50000   305.00000  \nNightSkiing_ac      72.00000  114.00000   650.00000  ",
      "text/html": "<div>\n<style scoped>\n    .dataframe tbody tr th:only-of-type {\n        vertical-align: middle;\n    }\n\n    .dataframe tbody tr th {\n        vertical-align: top;\n    }\n\n    .dataframe thead th {\n        text-align: right;\n    }\n</style>\n<table border=\"1\" class=\"dataframe\">\n  <thead>\n    <tr style=\"text-align: right;\">\n      <th></th>\n      <th>count</th>\n      <th>mean</th>\n      <th>std</th>\n      <th>min</th>\n      <th>25%</th>\n      <th>50%</th>\n      <th>75%</th>\n      <th>max</th>\n    </tr>\n  </thead>\n  <tbody>\n    <tr>\n      <th>summit_elev</th>\n      <td>330.00000</td>\n      <td>4591.81818</td>\n      <td>3735.53593</td>\n      <td>315.00000</td>\n      <td>1403.75000</td>\n      <td>3127.50000</td>\n      <td>7806.00000</td>\n      <td>13487.00000</td>\n    </tr>\n    <tr>\n      <th>vertical_drop</th>\n      <td>330.00000</td>\n      <td>1215.42727</td>\n      <td>947.86456</td>\n      <td>60.00000</td>\n      <td>461.25000</td>\n      <td>964.50000</td>\n      <td>1800.00000</td>\n      <td>4425.00000</td>\n    </tr>\n    <tr>\n      <th>base_elev</th>\n      <td>330.00000</td>\n      <td>3374.00000</td>\n      <td>3117.12162</td>\n      <td>70.00000</td>\n      <td>869.00000</td>\n      <td>1561.50000</td>\n      <td>6325.25000</td>\n      <td>10800.00000</td>\n    </tr>\n    <tr>\n      <th>trams</th>\n      <td>330.00000</td>\n      <td>0.17273</td>\n      <td>0.55995</td>\n      <td>0.00000</td>\n      <td>0.00000</td>\n      <td>0.00000</td>\n      <td>0.00000</td>\n      <td>4.00000</td>\n    </tr>\n    <tr>\n      <th>fastEight</th>\n      <td>164.00000</td>\n      <td>0.00610</td>\n      <td>0.07809</td>\n      <td>0.00000</td>\n      <td>0.00000</td>\n      <td>0.00000</td>\n      <td>0.00000</td>\n      <td>1.00000</td>\n    </tr>\n    <tr>\n      <th>fastSixes</th>\n      <td>330.00000</td>\n      <td>0.18485</td>\n      <td>0.65169</td>\n      <td>0.00000</td>\n      <td>0.00000</td>\n      <td>0.00000</td>\n      <td>0.00000</td>\n      <td>6.00000</td>\n    </tr>\n    <tr>\n      <th>fastQuads</th>\n      <td>330.00000</td>\n      <td>1.01818</td>\n      <td>2.19829</td>\n      <td>0.00000</td>\n      <td>0.00000</td>\n      <td>0.00000</td>\n      <td>1.00000</td>\n      <td>15.00000</td>\n    </tr>\n    <tr>\n      <th>quad</th>\n      <td>330.00000</td>\n      <td>0.93333</td>\n      <td>1.31224</td>\n      <td>0.00000</td>\n      <td>0.00000</td>\n      <td>0.00000</td>\n      <td>1.00000</td>\n      <td>8.00000</td>\n    </tr>\n    <tr>\n      <th>triple</th>\n      <td>330.00000</td>\n      <td>1.50000</td>\n      <td>1.61913</td>\n      <td>0.00000</td>\n      <td>0.00000</td>\n      <td>1.00000</td>\n      <td>2.00000</td>\n      <td>8.00000</td>\n    </tr>\n    <tr>\n      <th>double</th>\n      <td>330.00000</td>\n      <td>1.83333</td>\n      <td>1.81503</td>\n      <td>0.00000</td>\n      <td>1.00000</td>\n      <td>1.00000</td>\n      <td>3.00000</td>\n      <td>14.00000</td>\n    </tr>\n    <tr>\n      <th>surface</th>\n      <td>330.00000</td>\n      <td>2.62121</td>\n      <td>2.05964</td>\n      <td>0.00000</td>\n      <td>1.00000</td>\n      <td>2.00000</td>\n      <td>3.00000</td>\n      <td>15.00000</td>\n    </tr>\n    <tr>\n      <th>total_chairs</th>\n      <td>330.00000</td>\n      <td>8.26667</td>\n      <td>5.79868</td>\n      <td>0.00000</td>\n      <td>5.00000</td>\n      <td>7.00000</td>\n      <td>10.00000</td>\n      <td>41.00000</td>\n    </tr>\n    <tr>\n      <th>Runs</th>\n      <td>326.00000</td>\n      <td>48.21472</td>\n      <td>46.36408</td>\n      <td>3.00000</td>\n      <td>19.00000</td>\n      <td>33.00000</td>\n      <td>60.00000</td>\n      <td>341.00000</td>\n    </tr>\n    <tr>\n      <th>TerrainParks</th>\n      <td>279.00000</td>\n      <td>2.82079</td>\n      <td>2.00811</td>\n      <td>1.00000</td>\n      <td>1.00000</td>\n      <td>2.00000</td>\n      <td>4.00000</td>\n      <td>14.00000</td>\n    </tr>\n    <tr>\n      <th>LongestRun_mi</th>\n      <td>325.00000</td>\n      <td>1.43323</td>\n      <td>1.15617</td>\n      <td>0.00000</td>\n      <td>0.50000</td>\n      <td>1.00000</td>\n      <td>2.00000</td>\n      <td>6.00000</td>\n    </tr>\n    <tr>\n      <th>SkiableTerrain_ac</th>\n      <td>327.00000</td>\n      <td>739.80122</td>\n      <td>1816.16744</td>\n      <td>8.00000</td>\n      <td>85.00000</td>\n      <td>200.00000</td>\n      <td>690.00000</td>\n      <td>26819.00000</td>\n    </tr>\n    <tr>\n      <th>Snow Making_ac</th>\n      <td>284.00000</td>\n      <td>174.87324</td>\n      <td>261.33613</td>\n      <td>2.00000</td>\n      <td>50.00000</td>\n      <td>100.00000</td>\n      <td>200.50000</td>\n      <td>3379.00000</td>\n    </tr>\n    <tr>\n      <th>daysOpenLastYear</th>\n      <td>279.00000</td>\n      <td>115.10394</td>\n      <td>35.06325</td>\n      <td>3.00000</td>\n      <td>97.00000</td>\n      <td>114.00000</td>\n      <td>135.00000</td>\n      <td>305.00000</td>\n    </tr>\n    <tr>\n      <th>yearsOpen</th>\n      <td>329.00000</td>\n      <td>63.65653</td>\n      <td>109.42993</td>\n      <td>6.00000</td>\n      <td>50.00000</td>\n      <td>58.00000</td>\n      <td>69.00000</td>\n      <td>2019.00000</td>\n    </tr>\n    <tr>\n      <th>averageSnowfall</th>\n      <td>316.00000</td>\n      <td>185.31646</td>\n      <td>136.35684</td>\n      <td>18.00000</td>\n      <td>69.00000</td>\n      <td>150.00000</td>\n      <td>300.00000</td>\n      <td>669.00000</td>\n    </tr>\n    <tr>\n      <th>AdultWeekday</th>\n      <td>276.00000</td>\n      <td>57.91696</td>\n      <td>26.14013</td>\n      <td>15.00000</td>\n      <td>40.00000</td>\n      <td>50.00000</td>\n      <td>71.00000</td>\n      <td>179.00000</td>\n    </tr>\n    <tr>\n      <th>AdultWeekend</th>\n      <td>279.00000</td>\n      <td>64.16681</td>\n      <td>24.55458</td>\n      <td>17.00000</td>\n      <td>47.00000</td>\n      <td>60.00000</td>\n      <td>77.50000</td>\n      <td>179.00000</td>\n    </tr>\n    <tr>\n      <th>projectedDaysOpen</th>\n      <td>283.00000</td>\n      <td>120.05300</td>\n      <td>31.04596</td>\n      <td>30.00000</td>\n      <td>100.00000</td>\n      <td>120.00000</td>\n      <td>139.50000</td>\n      <td>305.00000</td>\n    </tr>\n    <tr>\n      <th>NightSkiing_ac</th>\n      <td>187.00000</td>\n      <td>100.39572</td>\n      <td>105.16962</td>\n      <td>2.00000</td>\n      <td>40.00000</td>\n      <td>72.00000</td>\n      <td>114.00000</td>\n      <td>650.00000</td>\n    </tr>\n  </tbody>\n</table>\n</div>"
     },
     "execution_count": 829,
     "metadata": {},
     "output_type": "execute_result"
    }
   ],
   "source": [
    "#Code task 17#\n",
    "#Call ski_data's `describe` method for a statistical summary of the numerical columns\n",
    "#Hint: there are fewer summary stat columns than features, so displaying the transpose\n",
    "#will be useful again\n",
    "ski_data.describe().T"
   ]
  },
  {
   "cell_type": "markdown",
   "metadata": {},
   "source": [
    "Recall you're missing the ticket prices for some 16% of resorts. This is a fundamental problem that means you simply lack the required data for those resorts and will have to drop those records. But you may have a weekend price and not a weekday price, or vice versa. You want to keep any price you have."
   ]
  },
  {
   "cell_type": "code",
   "execution_count": 830,
   "metadata": {},
   "outputs": [
    {
     "data": {
      "text/plain": "0   82.42424\n2   14.24242\n1    3.33333\ndtype: float64"
     },
     "execution_count": 830,
     "metadata": {},
     "output_type": "execute_result"
    }
   ],
   "source": [
    "missing_price = ski_data[['AdultWeekday', 'AdultWeekend']].isnull().sum(axis=1)\n",
    "missing_price.value_counts()/len(missing_price) * 100\n"
   ]
  },
  {
   "cell_type": "markdown",
   "metadata": {},
   "source": [
    "Just over 82% of resorts have no missing ticket price, 3% are missing one value, and 14% are missing both. You will definitely want to drop the records for which you have no price information, however you will not do so just yet. There may still be useful information about the distributions of other features in that 14% of the data."
   ]
  },
  {
   "cell_type": "markdown",
   "metadata": {},
   "source": [
    "#### 2.6.4.2 Distributions Of Feature Values<a id='2.6.4.2_Distributions_Of_Feature_Values'></a>"
   ]
  },
  {
   "cell_type": "markdown",
   "metadata": {},
   "source": [
    "Note that, although we are still in the 'data wrangling and cleaning' phase rather than exploratory data analysis, looking at distributions of features is immensely useful in getting a feel for whether the values look sensible and whether there are any obvious outliers to investigate. Some exploratory data analysis belongs here, and data wrangling will inevitably occur later on. It's more a matter of emphasis. Here, we're interesting in focusing on whether distributions look plausible or wrong. Later on, we're more interested in relationships and patterns."
   ]
  },
  {
   "cell_type": "code",
   "execution_count": 831,
   "metadata": {},
   "outputs": [
    {
     "data": {
      "text/plain": "<Figure size 1080x720 with 25 Axes>",
      "image/png": "[encoded data removed]"
     },
     "metadata": {},
     "output_type": "display_data"
    }
   ],
   "source": [
    "#Code task 18#\n",
    "#Call ski_data's `hist` method to plot histograms of each of the numeric features\n",
    "#Try passing it an argument figsize=(15,10)\n",
    "#Try calling plt.subplots_adjust() with an argument hspace=0.5 to adjust the spacing\n",
    "#It's important you create legible and easy-to-read plots\n",
    "ski_data.hist(figsize=(15,10))\n",
    "plt.subplots_adjust(hspace=0.5);\n",
    "#Hint: notice how the terminating ';' \"swallows\" some messy output and leads to a tidier notebook"
   ]
  },
  {
   "cell_type": "markdown",
   "metadata": {},
   "source": [
    "What features do we have possible cause for concern about and why?\n",
    "\n",
    "* SkiableTerrain_ac because values are clustered down the low end,\n",
    "* Snow Making_ac for the same reason,\n",
    "* fastEight because all but one value is 0 so it has very little variance, and half the values are missing,\n",
    "* fastSixes raises an amber flag; it has more variability, but still mostly 0,\n",
    "* trams also may get an amber flag for the same reason,\n",
    "* yearsOpen because most values are low but it has a maximum of 2019, which strongly suggests someone recorded calendar year rather than number of years."
   ]
  },
  {
   "cell_type": "markdown",
   "metadata": {},
   "source": [
    "##### 2.6.4.2.1 SkiableTerrain_ac<a id='2.6.4.2.1_SkiableTerrain_ac'></a>"
   ]
  },
  {
   "cell_type": "code",
   "execution_count": 832,
   "metadata": {},
   "outputs": [
    {
     "data": {
      "text/plain": "39   26819.00000\nName: SkiableTerrain_ac, dtype: float64"
     },
     "execution_count": 832,
     "metadata": {},
     "output_type": "execute_result"
    }
   ],
   "source": [
    "#Code task 19#\n",
    "#Filter the 'SkiableTerrain_ac' column to print the values greater than 10000\n",
    "# ski_data.___[ski_data.___ > ___]\n",
    "ski_data.SkiableTerrain_ac[ski_data.SkiableTerrain_ac > 10000]"
   ]
  },
  {
   "cell_type": "markdown",
   "metadata": {},
   "source": [
    "**Q: 2** One resort has an incredibly large skiable terrain area! Which is it?"
   ]
  },
  {
   "cell_type": "code",
   "execution_count": 833,
   "metadata": {},
   "outputs": [
    {
     "data": {
      "text/plain": "                                   39\nName               Silverton Mountain\nRegion                       Colorado\nstate                        Colorado\nsummit_elev                     13487\nvertical_drop                    3087\nbase_elev                       10400\ntrams                               0\nfastEight                     0.00000\nfastSixes                           0\nfastQuads                           0\nquad                                0\ntriple                              0\ndouble                              1\nsurface                             0\ntotal_chairs                        1\nRuns                              NaN\nTerrainParks                      NaN\nLongestRun_mi                 1.50000\nSkiableTerrain_ac         26819.00000\nSnow Making_ac                    NaN\ndaysOpenLastYear            175.00000\nyearsOpen                    17.00000\naverageSnowfall             400.00000\nAdultWeekday                 79.00000\nAdultWeekend                 79.00000\nprojectedDaysOpen           181.00000\nNightSkiing_ac                    NaN",
      "text/html": "<div>\n<style scoped>\n    .dataframe tbody tr th:only-of-type {\n        vertical-align: middle;\n    }\n\n    .dataframe tbody tr th {\n        vertical-align: top;\n    }\n\n    .dataframe thead th {\n        text-align: right;\n    }\n</style>\n<table border=\"1\" class=\"dataframe\">\n  <thead>\n    <tr style=\"text-align: right;\">\n      <th></th>\n      <th>39</th>\n    </tr>\n  </thead>\n  <tbody>\n    <tr>\n      <th>Name</th>\n      <td>Silverton Mountain</td>\n    </tr>\n    <tr>\n      <th>Region</th>\n      <td>Colorado</td>\n    </tr>\n    <tr>\n      <th>state</th>\n      <td>Colorado</td>\n    </tr>\n    <tr>\n      <th>summit_elev</th>\n      <td>13487</td>\n    </tr>\n    <tr>\n      <th>vertical_drop</th>\n      <td>3087</td>\n    </tr>\n    <tr>\n      <th>base_elev</th>\n      <td>10400</td>\n    </tr>\n    <tr>\n      <th>trams</th>\n      <td>0</td>\n    </tr>\n    <tr>\n      <th>fastEight</th>\n      <td>0.00000</td>\n    </tr>\n    <tr>\n      <th>fastSixes</th>\n      <td>0</td>\n    </tr>\n    <tr>\n      <th>fastQuads</th>\n      <td>0</td>\n    </tr>\n    <tr>\n      <th>quad</th>\n      <td>0</td>\n    </tr>\n    <tr>\n      <th>triple</th>\n      <td>0</td>\n    </tr>\n    <tr>\n      <th>double</th>\n      <td>1</td>\n    </tr>\n    <tr>\n      <th>surface</th>\n      <td>0</td>\n    </tr>\n    <tr>\n      <th>total_chairs</th>\n      <td>1</td>\n    </tr>\n    <tr>\n      <th>Runs</th>\n      <td>NaN</td>\n    </tr>\n    <tr>\n      <th>TerrainParks</th>\n      <td>NaN</td>\n    </tr>\n    <tr>\n      <th>LongestRun_mi</th>\n      <td>1.50000</td>\n    </tr>\n    <tr>\n      <th>SkiableTerrain_ac</th>\n      <td>26819.00000</td>\n    </tr>\n    <tr>\n      <th>Snow Making_ac</th>\n      <td>NaN</td>\n    </tr>\n    <tr>\n      <th>daysOpenLastYear</th>\n      <td>175.00000</td>\n    </tr>\n    <tr>\n      <th>yearsOpen</th>\n      <td>17.00000</td>\n    </tr>\n    <tr>\n      <th>averageSnowfall</th>\n      <td>400.00000</td>\n    </tr>\n    <tr>\n      <th>AdultWeekday</th>\n      <td>79.00000</td>\n    </tr>\n    <tr>\n      <th>AdultWeekend</th>\n      <td>79.00000</td>\n    </tr>\n    <tr>\n      <th>projectedDaysOpen</th>\n      <td>181.00000</td>\n    </tr>\n    <tr>\n      <th>NightSkiing_ac</th>\n      <td>NaN</td>\n    </tr>\n  </tbody>\n</table>\n</div>"
     },
     "execution_count": 833,
     "metadata": {},
     "output_type": "execute_result"
    }
   ],
   "source": [
    "#Code task 20#\n",
    "#Now you know there's only one, print the whole row to investigate all values, including seeing the resort name\n",
    "#Hint: don't forget the transpose will be helpful here\n",
    "ski_data[ski_data.SkiableTerrain_ac > 10000].T"
   ]
  },
  {
   "cell_type": "markdown",
   "metadata": {},
   "source": [
    "**A: 2** Your answer here: <span style=\"color:#cc0000\">Silverton Mountain</span>"
   ]
  },
  {
   "cell_type": "markdown",
   "metadata": {},
   "source": [
    "But what can you do when you have one record that seems highly suspicious?"
   ]
  },
  {
   "cell_type": "markdown",
   "metadata": {},
   "source": [
    "You can see if your data are correct. Search for \"silverton mountain skiable area\". If you do this, you get some [useful information](https://www.google.com/search?q=silverton+mountain+skiable+area)."
   ]
  },
  {
   "cell_type": "markdown",
   "metadata": {},
   "source": [
    "![Silverton Mountain information](../images/silverton_mountain_info.png)"
   ]
  },
  {
   "cell_type": "markdown",
   "metadata": {},
   "source": [
    "You can spot check data. You see your top and base elevation values agree, but the skiable area is very different. Your suspect value is 26819, but the value you've just looked up is 1819. The last three digits agree. This sort of error could have occured in transmission or some editing or transcription stage. You could plausibly replace the suspect value with the one you've just obtained. Another cautionary note to make here is that although you're doing this in order to progress with your analysis, this is most definitely an issue that should have been raised and fed back to the client or data originator as a query. You should view this \"data correction\" step as a means to continue (documenting it carefully as you do in this notebook) rather than an ultimate decision as to what is correct."
   ]
  },
  {
   "cell_type": "code",
   "execution_count": 834,
   "metadata": {},
   "outputs": [
    {
     "data": {
      "text/plain": "26819.0"
     },
     "execution_count": 834,
     "metadata": {},
     "output_type": "execute_result"
    }
   ],
   "source": [
    "#Code task 21#\n",
    "#Use the .loc accessor to print the 'SkiableTerrain_ac' value only for this resort\n",
    "ski_data.loc[39, 'SkiableTerrain_ac']"
   ]
  },
  {
   "cell_type": "code",
   "execution_count": 835,
   "metadata": {},
   "outputs": [],
   "source": [
    "#Code task 22#\n",
    "#Use the .loc accessor again to modify this value with the correct value of 1819\n",
    "ski_data.loc[39, 'SkiableTerrain_ac'] = 1819"
   ]
  },
  {
   "cell_type": "code",
   "execution_count": 836,
   "metadata": {},
   "outputs": [
    {
     "data": {
      "text/plain": "1819.0"
     },
     "execution_count": 836,
     "metadata": {},
     "output_type": "execute_result"
    }
   ],
   "source": [
    "#Code task 23#\n",
    "#Use the .loc accessor a final time to verify that the value has been modified\n",
    "ski_data.loc[39, 'SkiableTerrain_ac']"
   ]
  },
  {
   "cell_type": "markdown",
   "metadata": {},
   "source": [
    "**NB whilst you may become suspicious about your data quality, and you know you have missing values, you will not here dive down the rabbit hole of checking all values or web scraping to replace missing values.**"
   ]
  },
  {
   "cell_type": "markdown",
   "metadata": {},
   "source": [
    "What does the distribution of skiable area look like now?"
   ]
  },
  {
   "cell_type": "code",
   "execution_count": 837,
   "metadata": {},
   "outputs": [
    {
     "data": {
      "text/plain": "<Figure size 1080x432 with 1 Axes>",
      "image/png": "[encoded data removed]"
     },
     "metadata": {},
     "output_type": "display_data"
    }
   ],
   "source": [
    "ski_data.SkiableTerrain_ac.hist(figsize=(15, 6), bins=30)\n",
    "plt.xlabel('SkiableTerrain_ac')\n",
    "plt.ylabel('Count')\n",
    "plt.title('Distribution of skiable area (acres) after replacing erroneous value');"
   ]
  },
  {
   "cell_type": "markdown",
   "metadata": {},
   "source": [
    "You now see a rather long tailed distribution. You may wonder about the now most extreme value that is above 8000, but similarly you may also wonder about the value around 7000. If you wanted to spend more time manually checking values you could, but leave this for now. The above distribution is plausible."
   ]
  },
  {
   "cell_type": "markdown",
   "metadata": {},
   "source": [
    "##### 2.6.4.2.2 Snow Making_ac<a id='2.6.4.2.2_Snow_Making_ac'></a>"
   ]
  },
  {
   "cell_type": "code",
   "execution_count": 838,
   "outputs": [
    {
     "data": {
      "text/plain": "<Figure size 1080x432 with 1 Axes>",
      "image/png": "[encoded data removed]"
     },
     "metadata": {},
     "output_type": "display_data"
    }
   ],
   "source": [
    "ski_data['Snow Making_ac'].hist(figsize=(15, 6), bins=30)\n",
    "plt.xlabel('Snow Making_ac')\n",
    "plt.ylabel('Count')\n",
    "plt.title('Distribution of snow making after replacing erroneous value');"
   ],
   "metadata": {
    "collapsed": false
   }
  },
  {
   "cell_type": "code",
   "execution_count": 839,
   "outputs": [
    {
     "data": {
      "text/plain": "11   3379.00000\n18   1500.00000\nName: Snow Making_ac, dtype: float64"
     },
     "execution_count": 839,
     "metadata": {},
     "output_type": "execute_result"
    }
   ],
   "source": [
    "ski_data['Snow Making_ac'][ski_data['Snow Making_ac'] > 1000]"
   ],
   "metadata": {
    "collapsed": false
   }
  },
  {
   "cell_type": "code",
   "execution_count": 840,
   "outputs": [
    {
     "data": {
      "text/plain": "                                         11\nName               Heavenly Mountain Resort\nRegion                        Sierra Nevada\nstate                            California\nsummit_elev                           10067\nvertical_drop                          3500\nbase_elev                              7170\ntrams                                     2\nfastEight                           0.00000\nfastSixes                                 2\nfastQuads                                 7\nquad                                      1\ntriple                                    5\ndouble                                    3\nsurface                                   8\ntotal_chairs                             28\nRuns                               97.00000\nTerrainParks                        3.00000\nLongestRun_mi                       5.50000\nSkiableTerrain_ac                4800.00000\nSnow Making_ac                   3379.00000\ndaysOpenLastYear                  155.00000\nyearsOpen                          64.00000\naverageSnowfall                   360.00000\nAdultWeekday                            NaN\nAdultWeekend                            NaN\nprojectedDaysOpen                 157.00000\nNightSkiing_ac                          NaN",
      "text/html": "<div>\n<style scoped>\n    .dataframe tbody tr th:only-of-type {\n        vertical-align: middle;\n    }\n\n    .dataframe tbody tr th {\n        vertical-align: top;\n    }\n\n    .dataframe thead th {\n        text-align: right;\n    }\n</style>\n<table border=\"1\" class=\"dataframe\">\n  <thead>\n    <tr style=\"text-align: right;\">\n      <th></th>\n      <th>11</th>\n    </tr>\n  </thead>\n  <tbody>\n    <tr>\n      <th>Name</th>\n      <td>Heavenly Mountain Resort</td>\n    </tr>\n    <tr>\n      <th>Region</th>\n      <td>Sierra Nevada</td>\n    </tr>\n    <tr>\n      <th>state</th>\n      <td>California</td>\n    </tr>\n    <tr>\n      <th>summit_elev</th>\n      <td>10067</td>\n    </tr>\n    <tr>\n      <th>vertical_drop</th>\n      <td>3500</td>\n    </tr>\n    <tr>\n      <th>base_elev</th>\n      <td>7170</td>\n    </tr>\n    <tr>\n      <th>trams</th>\n      <td>2</td>\n    </tr>\n    <tr>\n      <th>fastEight</th>\n      <td>0.00000</td>\n    </tr>\n    <tr>\n      <th>fastSixes</th>\n      <td>2</td>\n    </tr>\n    <tr>\n      <th>fastQuads</th>\n      <td>7</td>\n    </tr>\n    <tr>\n      <th>quad</th>\n      <td>1</td>\n    </tr>\n    <tr>\n      <th>triple</th>\n      <td>5</td>\n    </tr>\n    <tr>\n      <th>double</th>\n      <td>3</td>\n    </tr>\n    <tr>\n      <th>surface</th>\n      <td>8</td>\n    </tr>\n    <tr>\n      <th>total_chairs</th>\n      <td>28</td>\n    </tr>\n    <tr>\n      <th>Runs</th>\n      <td>97.00000</td>\n    </tr>\n    <tr>\n      <th>TerrainParks</th>\n      <td>3.00000</td>\n    </tr>\n    <tr>\n      <th>LongestRun_mi</th>\n      <td>5.50000</td>\n    </tr>\n    <tr>\n      <th>SkiableTerrain_ac</th>\n      <td>4800.00000</td>\n    </tr>\n    <tr>\n      <th>Snow Making_ac</th>\n      <td>3379.00000</td>\n    </tr>\n    <tr>\n      <th>daysOpenLastYear</th>\n      <td>155.00000</td>\n    </tr>\n    <tr>\n      <th>yearsOpen</th>\n      <td>64.00000</td>\n    </tr>\n    <tr>\n      <th>averageSnowfall</th>\n      <td>360.00000</td>\n    </tr>\n    <tr>\n      <th>AdultWeekday</th>\n      <td>NaN</td>\n    </tr>\n    <tr>\n      <th>AdultWeekend</th>\n      <td>NaN</td>\n    </tr>\n    <tr>\n      <th>projectedDaysOpen</th>\n      <td>157.00000</td>\n    </tr>\n    <tr>\n      <th>NightSkiing_ac</th>\n      <td>NaN</td>\n    </tr>\n  </tbody>\n</table>\n</div>"
     },
     "execution_count": 840,
     "metadata": {},
     "output_type": "execute_result"
    }
   ],
   "source": [
    "ski_data[ski_data['Snow Making_ac'] > 3000].T"
   ],
   "metadata": {
    "collapsed": false
   }
  },
  {
   "cell_type": "markdown",
   "metadata": {},
   "source": [
    "You can adopt a similar approach as for the suspect skiable area value and do some spot checking. To save time, here is a link to the website for [Heavenly Mountain Resort](https://www.skiheavenly.com/the-mountain/about-the-mountain/mountain-info.aspx). From this you can glean that you have values for skiable terrain that agree. Furthermore, you can read that snowmaking covers 60% of the trails."
   ]
  },
  {
   "cell_type": "markdown",
   "metadata": {},
   "source": [
    "What, then, is your rough guess for the area covered by snowmaking?"
   ]
  },
  {
   "cell_type": "code",
   "execution_count": 841,
   "metadata": {},
   "outputs": [
    {
     "data": {
      "text/plain": "2880.0"
     },
     "execution_count": 841,
     "metadata": {},
     "output_type": "execute_result"
    }
   ],
   "source": [
    ".6 * 4800"
   ]
  },
  {
   "cell_type": "markdown",
   "metadata": {},
   "source": [
    "This is less than the value of 3379 in your data so you may have a judgement call to make. However, notice something else. You have no ticket pricing information at all for this resort. Any further effort spent worrying about values for this resort will be wasted. You'll simply be dropping the entire row!"
   ]
  },
  {
   "cell_type": "markdown",
   "metadata": {},
   "source": [
    "##### 2.6.4.2.3 fastEight<a id='2.6.4.2.3_fastEight'></a>"
   ]
  },
  {
   "cell_type": "markdown",
   "metadata": {},
   "source": [
    "Look at the different fastEight values more closely:"
   ]
  },
  {
   "cell_type": "code",
   "execution_count": 842,
   "metadata": {},
   "outputs": [
    {
     "data": {
      "text/plain": "0.00000    163\n1.00000      1\nName: fastEight, dtype: int64"
     },
     "execution_count": 842,
     "metadata": {},
     "output_type": "execute_result"
    }
   ],
   "source": [
    "ski_data.fastEight.value_counts()"
   ]
  },
  {
   "cell_type": "markdown",
   "metadata": {},
   "source": [
    "Drop the fastEight column in its entirety; half the values are missing and all but the others are the value zero. There is essentially no information in this column."
   ]
  },
  {
   "cell_type": "code",
   "execution_count": 843,
   "metadata": {},
   "outputs": [],
   "source": [
    "#Code task 24#\n",
    "#Drop the 'fastEight' column from ski_data. Use inplace=True\n",
    "ski_data.drop(columns=['fastEight'], inplace=True)"
   ]
  },
  {
   "cell_type": "markdown",
   "metadata": {},
   "source": [
    "What about yearsOpen? How many resorts have purportedly been open for more than 100 years?"
   ]
  },
  {
   "cell_type": "code",
   "execution_count": 844,
   "metadata": {},
   "outputs": [
    {
     "data": {
      "text/plain": "                     Name  yearsOpen\n34          Howelsen Hill  104.00000\n115  Pine Knob Ski Resort 2019.00000",
      "text/html": "<div>\n<style scoped>\n    .dataframe tbody tr th:only-of-type {\n        vertical-align: middle;\n    }\n\n    .dataframe tbody tr th {\n        vertical-align: top;\n    }\n\n    .dataframe thead th {\n        text-align: right;\n    }\n</style>\n<table border=\"1\" class=\"dataframe\">\n  <thead>\n    <tr style=\"text-align: right;\">\n      <th></th>\n      <th>Name</th>\n      <th>yearsOpen</th>\n    </tr>\n  </thead>\n  <tbody>\n    <tr>\n      <th>34</th>\n      <td>Howelsen Hill</td>\n      <td>104.00000</td>\n    </tr>\n    <tr>\n      <th>115</th>\n      <td>Pine Knob Ski Resort</td>\n      <td>2019.00000</td>\n    </tr>\n  </tbody>\n</table>\n</div>"
     },
     "execution_count": 844,
     "metadata": {},
     "output_type": "execute_result"
    }
   ],
   "source": [
    "#Code task 25#\n",
    "#Filter the 'yearsOpen' column for values greater than 100\n",
    "ski_data.loc[ski_data.yearsOpen > 100][['Name', 'yearsOpen']]"
   ]
  },
  {
   "cell_type": "markdown",
   "metadata": {},
   "source": [
    "Okay, one seems to have been open for 104 years. But beyond that, one is down as having been open for 2019 years. This is wrong! What shall you do about this?"
   ]
  },
  {
   "cell_type": "markdown",
   "metadata": {},
   "source": [
    "What does the distribution of yearsOpen look like if you exclude just the obviously wrong one?"
   ]
  },
  {
   "cell_type": "code",
   "execution_count": 845,
   "metadata": {},
   "outputs": [
    {
     "data": {
      "text/plain": "<Figure size 432x288 with 1 Axes>",
      "image/png": "[encoded data removed]"
     },
     "metadata": {},
     "output_type": "display_data"
    }
   ],
   "source": [
    "#Code task 26#\n",
    "#Call the hist method on 'yearsOpen' after filtering for values under 1000\n",
    "#Pass the argument bins=30 to hist(), but feel free to explore other values\n",
    "ski_data.yearsOpen[ski_data.yearsOpen < 1000].hist(bins=30)\n",
    "plt.xlabel('Years open')\n",
    "plt.ylabel('Count')\n",
    "plt.title('Distribution of years open excluding 2019');"
   ]
  },
  {
   "cell_type": "markdown",
   "metadata": {},
   "source": [
    "The above distribution of years seems entirely plausible, including the 104 year value. You can certainly state that no resort will have been open for 2019 years! It likely means the resort opened in 2019. It could also mean the resort is due to open in 2019. You don't know when these data were gathered!"
   ]
  },
  {
   "cell_type": "markdown",
   "metadata": {},
   "source": [
    "Let's review the summary statistics for the years under 1000."
   ]
  },
  {
   "cell_type": "code",
   "execution_count": 846,
   "metadata": {},
   "outputs": [
    {
     "data": {
      "text/plain": "count   328.00000\nmean     57.69512\nstd      16.84118\nmin       6.00000\n25%      50.00000\n50%      58.00000\n75%      68.25000\nmax     104.00000\nName: yearsOpen, dtype: float64"
     },
     "execution_count": 846,
     "metadata": {},
     "output_type": "execute_result"
    }
   ],
   "source": [
    "ski_data.yearsOpen[ski_data.yearsOpen < 1000].describe()"
   ]
  },
  {
   "cell_type": "markdown",
   "metadata": {},
   "source": [
    "The smallest number of years open otherwise is 6. You can't be sure whether this resort in question has been open zero years or one year and even whether the numbers are projections or actual. In any case, you would be adding a new youngest resort so it feels best to simply drop this row."
   ]
  },
  {
   "cell_type": "code",
   "execution_count": 847,
   "metadata": {},
   "outputs": [],
   "source": [
    "ski_data = ski_data[ski_data.yearsOpen < 1000]"
   ]
  },
  {
   "cell_type": "markdown",
   "metadata": {},
   "source": [
    "##### 2.6.4.2.4 fastSixes and Trams<a id='2.6.4.2.4_fastSixes_and_Trams'></a>"
   ]
  },
  {
   "cell_type": "markdown",
   "metadata": {},
   "source": [
    "The other features you had mild concern over, you will not investigate further. Perhaps take some care when using these features."
   ]
  },
  {
   "cell_type": "markdown",
   "metadata": {},
   "source": [
    "## 2.7 Derive State-wide Summary Statistics For Our Market Segment<a id='2.7_Derive_State-wide_Summary_Statistics_For_Our_Market_Segment'></a>"
   ]
  },
  {
   "cell_type": "markdown",
   "metadata": {},
   "source": [
    "You have, by this point removed one row, but it was for a resort that may not have opened yet, or perhaps in its first season. Using your business knowledge, you know that state-wide supply and demand of certain skiing resources may well factor into pricing strategies. Does a resort dominate the available night skiing in a state? Or does it account for a large proportion of the total skiable terrain or days open?\n",
    "\n",
    "If you want to add any features to your data that captures the state-wide market size, you should do this now, before dropping any more rows. In the next section, you'll drop rows with missing price information. Although you don't know what those resorts charge for their tickets, you do know the resorts exists and have been open for at least six years. Thus, you'll now calculate some state-wide summary statistics for later use."
   ]
  },
  {
   "cell_type": "markdown",
   "metadata": {},
   "source": [
    "Many features in your data pertain to chairlifts, that is for getting people around each resort. These aren't relevant, nor are the features relating to altitudes. Features that you may be interested in are:\n",
    "\n",
    "* TerrainParks\n",
    "* SkiableTerrain_ac\n",
    "* daysOpenLastYear\n",
    "* NightSkiing_ac\n",
    "\n",
    "When you think about it, these are features it makes sense to sum: the total number of terrain parks, the total skiable area, the total number of days open, and the total area available for night skiing. You might consider the total number of ski runs, but understand that the skiable area is more informative than just a number of runs."
   ]
  },
  {
   "cell_type": "markdown",
   "metadata": {},
   "source": [
    "A fairly new groupby behaviour is [named aggregation](https://pandas-docs.github.io/pandas-docs-travis/whatsnew/v0.25.0.html). This allows us to clearly perform the aggregations you want whilst also creating informative output column names."
   ]
  },
  {
   "cell_type": "code",
   "execution_count": 848,
   "metadata": {},
   "outputs": [
    {
     "data": {
      "text/plain": "Index(['Name', 'Region', 'state', 'summit_elev', 'vertical_drop', 'base_elev',\n       'trams', 'fastSixes', 'fastQuads', 'quad', 'triple', 'double',\n       'surface', 'total_chairs', 'Runs', 'TerrainParks', 'LongestRun_mi',\n       'SkiableTerrain_ac', 'Snow Making_ac', 'daysOpenLastYear', 'yearsOpen',\n       'averageSnowfall', 'AdultWeekday', 'AdultWeekend', 'projectedDaysOpen',\n       'NightSkiing_ac'],\n      dtype='object')"
     },
     "execution_count": 848,
     "metadata": {},
     "output_type": "execute_result"
    }
   ],
   "source": [
    "#scratch\n",
    "ski_data.columns"
   ]
  },
  {
   "cell_type": "code",
   "execution_count": 849,
   "metadata": {},
   "outputs": [
    {
     "data": {
      "text/plain": "         state  resorts_per_state  state_total_skiable_area_ac  \\\n0       Alaska                  3                   2280.00000   \n1      Arizona                  2                   1577.00000   \n2   California                 21                  25948.00000   \n3     Colorado                 22                  43682.00000   \n4  Connecticut                  5                    358.00000   \n\n   state_total_days_open  state_total_terrain_parks  \\\n0              345.00000                    4.00000   \n1              237.00000                    6.00000   \n2             2738.00000                   81.00000   \n3             3258.00000                   74.00000   \n4              353.00000                   10.00000   \n\n   state_total_nightskiing_ac  \n0                   580.00000  \n1                    80.00000  \n2                   587.00000  \n3                   428.00000  \n4                   256.00000  ",
      "text/html": "<div>\n<style scoped>\n    .dataframe tbody tr th:only-of-type {\n        vertical-align: middle;\n    }\n\n    .dataframe tbody tr th {\n        vertical-align: top;\n    }\n\n    .dataframe thead th {\n        text-align: right;\n    }\n</style>\n<table border=\"1\" class=\"dataframe\">\n  <thead>\n    <tr style=\"text-align: right;\">\n      <th></th>\n      <th>state</th>\n      <th>resorts_per_state</th>\n      <th>state_total_skiable_area_ac</th>\n      <th>state_total_days_open</th>\n      <th>state_total_terrain_parks</th>\n      <th>state_total_nightskiing_ac</th>\n    </tr>\n  </thead>\n  <tbody>\n    <tr>\n      <th>0</th>\n      <td>Alaska</td>\n      <td>3</td>\n      <td>2280.00000</td>\n      <td>345.00000</td>\n      <td>4.00000</td>\n      <td>580.00000</td>\n    </tr>\n    <tr>\n      <th>1</th>\n      <td>Arizona</td>\n      <td>2</td>\n      <td>1577.00000</td>\n      <td>237.00000</td>\n      <td>6.00000</td>\n      <td>80.00000</td>\n    </tr>\n    <tr>\n      <th>2</th>\n      <td>California</td>\n      <td>21</td>\n      <td>25948.00000</td>\n      <td>2738.00000</td>\n      <td>81.00000</td>\n      <td>587.00000</td>\n    </tr>\n    <tr>\n      <th>3</th>\n      <td>Colorado</td>\n      <td>22</td>\n      <td>43682.00000</td>\n      <td>3258.00000</td>\n      <td>74.00000</td>\n      <td>428.00000</td>\n    </tr>\n    <tr>\n      <th>4</th>\n      <td>Connecticut</td>\n      <td>5</td>\n      <td>358.00000</td>\n      <td>353.00000</td>\n      <td>10.00000</td>\n      <td>256.00000</td>\n    </tr>\n  </tbody>\n</table>\n</div>"
     },
     "execution_count": 849,
     "metadata": {},
     "output_type": "execute_result"
    }
   ],
   "source": [
    "#Code task 27#\n",
    "#Add named aggregations for the sum of 'daysOpenLastYear', 'TerrainParks', and 'NightSkiing_ac'\n",
    "#call them 'state_total_days_open', 'state_total_terrain_parks', and 'state_total_nightskiing_ac',\n",
    "#respectively\n",
    "#Finally, add a call to the reset_index() method (we recommend you experiment with and without this to see\n",
    "#what it does)\n",
    "state_summary = ski_data.groupby('state').agg(\n",
    "    resorts_per_state=pd.NamedAgg(column='Name', aggfunc='size'), #could pick any column here\n",
    "    state_total_skiable_area_ac=pd.NamedAgg(column='SkiableTerrain_ac', aggfunc='sum'),\n",
    "    state_total_days_open      =pd.NamedAgg(column='daysOpenLastYear', aggfunc='sum'),\n",
    "    state_total_terrain_parks  =pd.NamedAgg(column='TerrainParks',     aggfunc='sum'),\n",
    "    state_total_nightskiing_ac =pd.NamedAgg(column='NightSkiing_ac', aggfunc='sum')\n",
    ").reset_index()\n",
    "state_summary.head()"
   ]
  },
  {
   "cell_type": "markdown",
   "metadata": {},
   "source": [
    "## 2.8 Drop Rows With No Price Data<a id='2.8_Drop_Rows_With_No_Price_Data'></a>"
   ]
  },
  {
   "cell_type": "markdown",
   "metadata": {},
   "source": [
    "You know there are two columns that refer to price: 'AdultWeekend' and 'AdultWeekday'. You can calculate the number of price values missing per row. This will obviously have to be either 0, 1, or 2, where 0 denotes no price values are missing and 2 denotes that both are missing."
   ]
  },
  {
   "cell_type": "code",
   "execution_count": 850,
   "metadata": {},
   "outputs": [
    {
     "data": {
      "text/plain": "0   82.31707\n2   14.32927\n1    3.35366\ndtype: float64"
     },
     "execution_count": 850,
     "metadata": {},
     "output_type": "execute_result"
    }
   ],
   "source": [
    "missing_price = ski_data[['AdultWeekend', 'AdultWeekday']].isnull().sum(axis=1)\n",
    "missing_price.value_counts()/len(missing_price) * 100"
   ]
  },
  {
   "cell_type": "code",
   "execution_count": 851,
   "metadata": {},
   "outputs": [
    {
     "data": {
      "text/plain": "0    0\n1    0\n2    0\n3    0\n4    0\ndtype: int64"
     },
     "execution_count": 851,
     "metadata": {},
     "output_type": "execute_result"
    }
   ],
   "source": [
    "#scratch\n",
    "missing_price.head()"
   ]
  },
  {
   "cell_type": "code",
   "execution_count": 852,
   "metadata": {},
   "outputs": [
    {
     "name": "stdout",
     "output_type": "stream",
     "text": [
      "(47, 26)\n",
      "(0, 26)\n"
     ]
    }
   ],
   "source": [
    "# scratch\n",
    "test_ski = ski_data[ski_data.AdultWeekday.isna() & ski_data.AdultWeekend.isna()]\n",
    "print(test_ski.shape)\n",
    "test_missing = test_ski[['AdultWeekend', 'AdultWeekday']].isnull().sum(axis=1)\n",
    "test_ski = test_ski[test_missing != 2]\n",
    "print(test_ski.shape)"
   ]
  },
  {
   "cell_type": "markdown",
   "metadata": {},
   "source": [
    "About 14% of the rows have no price data. As the price is your target, these rows are of no use. Time to lose them."
   ]
  },
  {
   "cell_type": "code",
   "execution_count": 853,
   "metadata": {},
   "outputs": [
    {
     "name": "stdout",
     "output_type": "stream",
     "text": [
      "Should remove  47\n",
      "before removing (328, 26)\n",
      "after removing (281, 26)\n"
     ]
    },
    {
     "data": {
      "text/plain": "0.0"
     },
     "execution_count": 853,
     "metadata": {},
     "output_type": "execute_result"
    }
   ],
   "source": [
    "#Code task 28#\n",
    "#Use `missing_price` to remove rows from ski_data where both price values are missing\n",
    "print(\"Should remove \", ski_data[missing_price == 2].Name.count())\n",
    "print(\"before removing\",ski_data.shape)\n",
    "ski_data = ski_data[missing_price != 2]\n",
    "print(\"after removing\",ski_data.shape)\n",
    "ski_data[ski_data.AdultWeekday.isna() & ski_data.AdultWeekend.isna()].sum().sum()"
   ]
  },
  {
   "cell_type": "markdown",
   "metadata": {},
   "source": [
    "## 2.9 Review distributions<a id='2.9_Review_distributions'></a>"
   ]
  },
  {
   "cell_type": "code",
   "execution_count": 854,
   "metadata": {},
   "outputs": [
    {
     "data": {
      "text/plain": "<Figure size 1080x720 with 25 Axes>",
      "image/png": "[encoded data removed]"
     },
     "metadata": {},
     "output_type": "display_data"
    }
   ],
   "source": [
    "ski_data.hist(figsize=(15, 10))\n",
    "plt.subplots_adjust(hspace=0.5);"
   ]
  },
  {
   "cell_type": "markdown",
   "metadata": {},
   "source": [
    "These distributions are much better. There are clearly some skewed distributions, so keep an eye on `fastQuads`, `fastSixes`, and perhaps `trams`. These lack much variance away from 0 and may have a small number of relatively extreme values.  Models failing to rate a feature as important when domain knowledge tells you it should be is an issue to look out for, as is a model being overly influenced by some extreme values. If you build a good machine learning pipeline, hopefully it will be robust to such issues, but you may also wish to consider nonlinear transformations of features."
   ]
  },
  {
   "cell_type": "markdown",
   "metadata": {},
   "source": [
    "## 2.10 Population data<a id='2.10_Population_data'></a>"
   ]
  },
  {
   "cell_type": "markdown",
   "metadata": {},
   "source": [
    "Population and area data for the US states can be obtained from [wikipedia](https://simple.wikipedia.org/wiki/List_of_U.S._states). Listen, you should have a healthy concern about using data you \"found on the Internet\". Make sure it comes from a reputable source. This table of data is useful because it allows you to easily pull and incorporate an external data set. It also allows you to proceed with an analysis that includes state sizes and populations for your 'first cut' model. Be explicit about your source (we documented it here in this workflow) and ensure it is open to inspection. All steps are subject to review, and it may be that a client has a specific source of data they trust that you should use to rerun the analysis."
   ]
  },
  {
   "cell_type": "code",
   "execution_count": 855,
   "metadata": {},
   "outputs": [],
   "source": [
    "#Code task 29#\n",
    "#Use pandas' `read_html` method to read the table from the URL below\n",
    "states_url = 'https://simple.wikipedia.org/w/index.php?title=List_of_U.S._states&oldid=7168473'\n",
    "usa_states = pd.read_html(states_url)"
   ]
  },
  {
   "cell_type": "code",
   "execution_count": 856,
   "metadata": {},
   "outputs": [
    {
     "data": {
      "text/plain": "list"
     },
     "execution_count": 856,
     "metadata": {},
     "output_type": "execute_result"
    }
   ],
   "source": [
    "type(usa_states)"
   ]
  },
  {
   "cell_type": "code",
   "execution_count": 857,
   "metadata": {},
   "outputs": [
    {
     "data": {
      "text/plain": "1"
     },
     "execution_count": 857,
     "metadata": {},
     "output_type": "execute_result"
    }
   ],
   "source": [
    "len(usa_states)"
   ]
  },
  {
   "cell_type": "code",
   "execution_count": 858,
   "metadata": {},
   "outputs": [
    {
     "data": {
      "text/plain": "  Name &postal abbs. [1]                                Cities               \\\n  Name &postal abbs. [1] Name &postal abbs. [1].1      Capital   Largest[5]   \n0                Alabama                       AL   Montgomery   Birmingham   \n1                 Alaska                       AK       Juneau    Anchorage   \n2                Arizona                       AZ      Phoenix      Phoenix   \n3               Arkansas                       AR  Little Rock  Little Rock   \n4             California                       CA   Sacramento  Los Angeles   \n\n  Established[A] Population[B][3] Total area[4]          Land area[4]  \\\n  Established[A] Population[B][3]           mi2      km2          mi2   \n0   Dec 14, 1819          4903185         52420   135767        50645   \n1    Jan 3, 1959           731545        665384  1723337       570641   \n2   Feb 14, 1912          7278717        113990   295234       113594   \n3   Jun 15, 1836          3017804         53179   137732        52035   \n4    Sep 9, 1850         39512223        163695   423967       155779   \n\n           Water area[4]         Numberof Reps.  \n       km2           mi2     km2 Numberof Reps.  \n0   131171          1775    4597              7  \n1  1477953         94743  245384              1  \n2   294207           396    1026              9  \n3   134771          1143    2961              4  \n4   403466          7916   20501             53  ",
      "text/html": "<div>\n<style scoped>\n    .dataframe tbody tr th:only-of-type {\n        vertical-align: middle;\n    }\n\n    .dataframe tbody tr th {\n        vertical-align: top;\n    }\n\n    .dataframe thead tr th {\n        text-align: left;\n    }\n</style>\n<table border=\"1\" class=\"dataframe\">\n  <thead>\n    <tr>\n      <th></th>\n      <th colspan=\"2\" halign=\"left\">Name &amp;postal abbs. [1]</th>\n      <th colspan=\"2\" halign=\"left\">Cities</th>\n      <th>Established[A]</th>\n      <th>Population[B][3]</th>\n      <th colspan=\"2\" halign=\"left\">Total area[4]</th>\n      <th colspan=\"2\" halign=\"left\">Land area[4]</th>\n      <th colspan=\"2\" halign=\"left\">Water area[4]</th>\n      <th>Numberof Reps.</th>\n    </tr>\n    <tr>\n      <th></th>\n      <th>Name &amp;postal abbs. [1]</th>\n      <th>Name &amp;postal abbs. [1].1</th>\n      <th>Capital</th>\n      <th>Largest[5]</th>\n      <th>Established[A]</th>\n      <th>Population[B][3]</th>\n      <th>mi2</th>\n      <th>km2</th>\n      <th>mi2</th>\n      <th>km2</th>\n      <th>mi2</th>\n      <th>km2</th>\n      <th>Numberof Reps.</th>\n    </tr>\n  </thead>\n  <tbody>\n    <tr>\n      <th>0</th>\n      <td>Alabama</td>\n      <td>AL</td>\n      <td>Montgomery</td>\n      <td>Birmingham</td>\n      <td>Dec 14, 1819</td>\n      <td>4903185</td>\n      <td>52420</td>\n      <td>135767</td>\n      <td>50645</td>\n      <td>131171</td>\n      <td>1775</td>\n      <td>4597</td>\n      <td>7</td>\n    </tr>\n    <tr>\n      <th>1</th>\n      <td>Alaska</td>\n      <td>AK</td>\n      <td>Juneau</td>\n      <td>Anchorage</td>\n      <td>Jan 3, 1959</td>\n      <td>731545</td>\n      <td>665384</td>\n      <td>1723337</td>\n      <td>570641</td>\n      <td>1477953</td>\n      <td>94743</td>\n      <td>245384</td>\n      <td>1</td>\n    </tr>\n    <tr>\n      <th>2</th>\n      <td>Arizona</td>\n      <td>AZ</td>\n      <td>Phoenix</td>\n      <td>Phoenix</td>\n      <td>Feb 14, 1912</td>\n      <td>7278717</td>\n      <td>113990</td>\n      <td>295234</td>\n      <td>113594</td>\n      <td>294207</td>\n      <td>396</td>\n      <td>1026</td>\n      <td>9</td>\n    </tr>\n    <tr>\n      <th>3</th>\n      <td>Arkansas</td>\n      <td>AR</td>\n      <td>Little Rock</td>\n      <td>Little Rock</td>\n      <td>Jun 15, 1836</td>\n      <td>3017804</td>\n      <td>53179</td>\n      <td>137732</td>\n      <td>52035</td>\n      <td>134771</td>\n      <td>1143</td>\n      <td>2961</td>\n      <td>4</td>\n    </tr>\n    <tr>\n      <th>4</th>\n      <td>California</td>\n      <td>CA</td>\n      <td>Sacramento</td>\n      <td>Los Angeles</td>\n      <td>Sep 9, 1850</td>\n      <td>39512223</td>\n      <td>163695</td>\n      <td>423967</td>\n      <td>155779</td>\n      <td>403466</td>\n      <td>7916</td>\n      <td>20501</td>\n      <td>53</td>\n    </tr>\n  </tbody>\n</table>\n</div>"
     },
     "execution_count": 858,
     "metadata": {},
     "output_type": "execute_result"
    }
   ],
   "source": [
    "usa_states = usa_states[0]\n",
    "usa_states.head()"
   ]
  },
  {
   "cell_type": "markdown",
   "metadata": {},
   "source": [
    "Note, in even the last year, the capability of `pd.read_html()` has improved. The merged cells you see in the web table are now handled much more conveniently, with 'Phoenix' now being duplicated so the subsequent columns remain aligned. But check this anyway. If you extract the established date column, you should just get dates. Recall previously you used the `.loc` accessor, because you were using labels. Now you want to refer to a column by its index position and so use `.iloc`. For a discussion on the difference use cases of `.loc` and `.iloc` refer to the [pandas documentation](https://pandas.pydata.org/pandas-docs/stable/user_guide/indexing.html)."
   ]
  },
  {
   "cell_type": "code",
   "execution_count": 859,
   "metadata": {},
   "outputs": [],
   "source": [
    "#Code task 30#\n",
    "#Use the iloc accessor to get the pandas Series for column number 4 from `usa_states`\n",
    "#It should be a column of dates\n",
    "established = usa_states.iloc[:, 4]"
   ]
  },
  {
   "cell_type": "code",
   "execution_count": 860,
   "metadata": {},
   "outputs": [
    {
     "data": {
      "text/plain": "0     Dec 14, 1819\n1      Jan 3, 1959\n2     Feb 14, 1912\n3     Jun 15, 1836\n4      Sep 9, 1850\n5      Aug 1, 1876\n6      Jan 9, 1788\n7      Dec 7, 1787\n8      Mar 3, 1845\n9      Jan 2, 1788\n10    Aug 21, 1959\n11     Jul 3, 1890\n12     Dec 3, 1818\n13    Dec 11, 1816\n14    Dec 28, 1846\n15    Jan 29, 1861\n16     Jun 1, 1792\n17    Apr 30, 1812\n18    Mar 15, 1820\n19    Apr 28, 1788\n20     Feb 6, 1788\n21    Jan 26, 1837\n22    May 11, 1858\n23    Dec 10, 1817\n24    Aug 10, 1821\n25     Nov 8, 1889\n26     Mar 1, 1867\n27    Oct 31, 1864\n28    Jun 21, 1788\n29    Dec 18, 1787\n30     Jan 6, 1912\n31    Jul 26, 1788\n32    Nov 21, 1789\n33     Nov 2, 1889\n34     Mar 1, 1803\n35    Nov 16, 1907\n36    Feb 14, 1859\n37    Dec 12, 1787\n38    May 29, 1790\n39    May 23, 1788\n40     Nov 2, 1889\n41     Jun 1, 1796\n42    Dec 29, 1845\n43     Jan 4, 1896\n44     Mar 4, 1791\n45    Jun 25, 1788\n46    Nov 11, 1889\n47    Jun 20, 1863\n48    May 29, 1848\n49    Jul 10, 1890\nName: (Established[A], Established[A]), dtype: object"
     },
     "execution_count": 860,
     "metadata": {},
     "output_type": "execute_result"
    }
   ],
   "source": [
    "established"
   ]
  },
  {
   "cell_type": "markdown",
   "metadata": {},
   "source": [
    "Extract the state name, population, and total area (square miles) columns."
   ]
  },
  {
   "cell_type": "code",
   "execution_count": 861,
   "metadata": {},
   "outputs": [
    {
     "data": {
      "text/plain": "        state  state_population  state_area_sq_miles\n0     Alabama           4903185                52420\n1      Alaska            731545               665384\n2     Arizona           7278717               113990\n3    Arkansas           3017804                53179\n4  California          39512223               163695",
      "text/html": "<div>\n<style scoped>\n    .dataframe tbody tr th:only-of-type {\n        vertical-align: middle;\n    }\n\n    .dataframe tbody tr th {\n        vertical-align: top;\n    }\n\n    .dataframe thead th {\n        text-align: right;\n    }\n</style>\n<table border=\"1\" class=\"dataframe\">\n  <thead>\n    <tr style=\"text-align: right;\">\n      <th></th>\n      <th>state</th>\n      <th>state_population</th>\n      <th>state_area_sq_miles</th>\n    </tr>\n  </thead>\n  <tbody>\n    <tr>\n      <th>0</th>\n      <td>Alabama</td>\n      <td>4903185</td>\n      <td>52420</td>\n    </tr>\n    <tr>\n      <th>1</th>\n      <td>Alaska</td>\n      <td>731545</td>\n      <td>665384</td>\n    </tr>\n    <tr>\n      <th>2</th>\n      <td>Arizona</td>\n      <td>7278717</td>\n      <td>113990</td>\n    </tr>\n    <tr>\n      <th>3</th>\n      <td>Arkansas</td>\n      <td>3017804</td>\n      <td>53179</td>\n    </tr>\n    <tr>\n      <th>4</th>\n      <td>California</td>\n      <td>39512223</td>\n      <td>163695</td>\n    </tr>\n  </tbody>\n</table>\n</div>"
     },
     "execution_count": 861,
     "metadata": {},
     "output_type": "execute_result"
    }
   ],
   "source": [
    "#Code task 31#\n",
    "#Now use the iloc accessor again to extract columns 0, 5, and 6 and the dataframe's `copy()` method\n",
    "#Set the names of these extracted columns to 'state', 'state_population', and 'state_area_sq_miles',\n",
    "#respectively.\n",
    "usa_states_sub = usa_states.iloc[:, [0,5,6]].copy()\n",
    "usa_states_sub.columns = ['state', 'state_population',  'state_area_sq_miles']\n",
    "usa_states_sub.head()"
   ]
  },
  {
   "cell_type": "markdown",
   "metadata": {},
   "source": [
    "Do you have all the ski data states accounted for?"
   ]
  },
  {
   "cell_type": "code",
   "execution_count": 862,
   "metadata": {},
   "outputs": [
    {
     "data": {
      "text/plain": "{'Massachusetts', 'Pennsylvania', 'Rhode Island', 'Virginia'}"
     },
     "execution_count": 862,
     "metadata": {},
     "output_type": "execute_result"
    }
   ],
   "source": [
    "#Code task 32#\n",
    "#Find the states in `state_summary` that are not in `usa_states_sub`\n",
    "#Hint: set(list1) - set(list2) is an easy way to get items in list1 that are not in list2\n",
    "missing_states = set(state_summary.state) - set(usa_states_sub.state)\n",
    "missing_states"
   ]
  },
  {
   "cell_type": "code",
   "execution_count": 863,
   "outputs": [
    {
     "data": {
      "text/plain": "{'Massachusetts', 'Pennsylvania', 'Rhode Island', 'Virginia'}"
     },
     "execution_count": 863,
     "metadata": {},
     "output_type": "execute_result"
    }
   ],
   "source": [
    "set(state_summary.state).difference(set(usa_states_sub.state))"
   ],
   "metadata": {
    "collapsed": false
   }
  },
  {
   "cell_type": "markdown",
   "metadata": {},
   "source": [
    "If you look at the table on the web, you can perhaps start to guess what the problem is. You can confirm your suspicion by pulling out state names that _contain_ 'Massachusetts', 'Pennsylvania', or 'Virginia' from usa_states_sub:"
   ]
  },
  {
   "cell_type": "code",
   "execution_count": 864,
   "metadata": {},
   "outputs": [
    {
     "data": {
      "text/plain": "20    Massachusetts[C]\n37     Pennsylvania[C]\n38     Rhode Island[D]\n45         Virginia[C]\n47       West Virginia\nName: state, dtype: object"
     },
     "execution_count": 864,
     "metadata": {},
     "output_type": "execute_result"
    }
   ],
   "source": [
    "usa_states_sub.state[usa_states_sub.state.str.contains('Massachusetts|Pennsylvania|Rhode Island|Virginia')]"
   ]
  },
  {
   "cell_type": "markdown",
   "metadata": {},
   "source": [
    "Delete square brackets and their contents and try again:"
   ]
  },
  {
   "cell_type": "code",
   "execution_count": 865,
   "metadata": {},
   "outputs": [
    {
     "data": {
      "text/plain": "20    Massachusetts\n37     Pennsylvania\n38     Rhode Island\n45         Virginia\n47    West Virginia\nName: state, dtype: object"
     },
     "execution_count": 865,
     "metadata": {},
     "output_type": "execute_result"
    }
   ],
   "source": [
    "#Code task 33#\n",
    "#Use pandas' Series' `replace()` method to replace anything within square brackets (including the brackets)\n",
    "#with the empty string. Do this inplace, so you need to specify the arguments:\n",
    "#to_replace='\\[.*\\]' #literal square bracket followed by anything or nothing followed by literal closing bracket\n",
    "#value='' #empty string as replacement\n",
    "#regex=True #we used a regex in our `to_replace` argument\n",
    "#inplace=True #Do this \"in place\"\n",
    "usa_states_sub.state.replace(to_replace='\\[.*\\]', value='', regex=True, inplace=True)\n",
    "usa_states_sub.state[usa_states_sub.state.str.contains('Massachusetts|Pennsylvania|Rhode Island|Virginia')]"
   ]
  },
  {
   "cell_type": "code",
   "execution_count": 866,
   "metadata": {},
   "outputs": [
    {
     "data": {
      "text/plain": "set()"
     },
     "execution_count": 866,
     "metadata": {},
     "output_type": "execute_result"
    }
   ],
   "source": [
    "#Code task 34#\n",
    "#And now verify none of our states are missing by checking that there are no states in\n",
    "#state_summary that are not in usa_states_sub (as earlier using `set()`)\n",
    "missing_states = set(state_summary.state) - set(usa_states_sub.state)\n",
    "missing_states"
   ]
  },
  {
   "cell_type": "markdown",
   "metadata": {},
   "source": [
    "Better! You have an empty set for missing states now. You can confidently add the population and state area columns to the ski resort data."
   ]
  },
  {
   "cell_type": "code",
   "execution_count": 867,
   "metadata": {},
   "outputs": [
    {
     "data": {
      "text/plain": "         state  resorts_per_state  state_total_skiable_area_ac  \\\n0       Alaska                  3                   2280.00000   \n1      Arizona                  2                   1577.00000   \n2   California                 21                  25948.00000   \n3     Colorado                 22                  43682.00000   \n4  Connecticut                  5                    358.00000   \n\n   state_total_days_open  state_total_terrain_parks  \\\n0              345.00000                    4.00000   \n1              237.00000                    6.00000   \n2             2738.00000                   81.00000   \n3             3258.00000                   74.00000   \n4              353.00000                   10.00000   \n\n   state_total_nightskiing_ac  state_population  state_area_sq_miles  \n0                   580.00000            731545               665384  \n1                    80.00000           7278717               113990  \n2                   587.00000          39512223               163695  \n3                   428.00000           5758736               104094  \n4                   256.00000           3565278                 5543  ",
      "text/html": "<div>\n<style scoped>\n    .dataframe tbody tr th:only-of-type {\n        vertical-align: middle;\n    }\n\n    .dataframe tbody tr th {\n        vertical-align: top;\n    }\n\n    .dataframe thead th {\n        text-align: right;\n    }\n</style>\n<table border=\"1\" class=\"dataframe\">\n  <thead>\n    <tr style=\"text-align: right;\">\n      <th></th>\n      <th>state</th>\n      <th>resorts_per_state</th>\n      <th>state_total_skiable_area_ac</th>\n      <th>state_total_days_open</th>\n      <th>state_total_terrain_parks</th>\n      <th>state_total_nightskiing_ac</th>\n      <th>state_population</th>\n      <th>state_area_sq_miles</th>\n    </tr>\n  </thead>\n  <tbody>\n    <tr>\n      <th>0</th>\n      <td>Alaska</td>\n      <td>3</td>\n      <td>2280.00000</td>\n      <td>345.00000</td>\n      <td>4.00000</td>\n      <td>580.00000</td>\n      <td>731545</td>\n      <td>665384</td>\n    </tr>\n    <tr>\n      <th>1</th>\n      <td>Arizona</td>\n      <td>2</td>\n      <td>1577.00000</td>\n      <td>237.00000</td>\n      <td>6.00000</td>\n      <td>80.00000</td>\n      <td>7278717</td>\n      <td>113990</td>\n    </tr>\n    <tr>\n      <th>2</th>\n      <td>California</td>\n      <td>21</td>\n      <td>25948.00000</td>\n      <td>2738.00000</td>\n      <td>81.00000</td>\n      <td>587.00000</td>\n      <td>39512223</td>\n      <td>163695</td>\n    </tr>\n    <tr>\n      <th>3</th>\n      <td>Colorado</td>\n      <td>22</td>\n      <td>43682.00000</td>\n      <td>3258.00000</td>\n      <td>74.00000</td>\n      <td>428.00000</td>\n      <td>5758736</td>\n      <td>104094</td>\n    </tr>\n    <tr>\n      <th>4</th>\n      <td>Connecticut</td>\n      <td>5</td>\n      <td>358.00000</td>\n      <td>353.00000</td>\n      <td>10.00000</td>\n      <td>256.00000</td>\n      <td>3565278</td>\n      <td>5543</td>\n    </tr>\n  </tbody>\n</table>\n</div>"
     },
     "execution_count": 867,
     "metadata": {},
     "output_type": "execute_result"
    }
   ],
   "source": [
    "#Code task 35#\n",
    "#Use 'state_summary's `merge()` method to combine our new data in 'usa_states_sub'\n",
    "#specify the arguments how='left' and on='state'\n",
    "state_summary = state_summary.merge(usa_states_sub, how='left', on='state')\n",
    "state_summary.head()"
   ]
  },
  {
   "cell_type": "markdown",
   "metadata": {},
   "source": [
    "Having created this data frame of summary statistics for various states, it would seem obvious to join this with the ski resort data to augment it with this additional data. You will do this, but not now. In the next notebook you will be exploring the data, including the relationships between the states. For that you want a separate row for each state, as you have here, and joining the data this soon means you'd need to separate and eliminate redundances in the state data when you wanted it."
   ]
  },
  {
   "cell_type": "markdown",
   "metadata": {},
   "source": [
    "## 2.11 Target Feature<a id='2.11_Target_Feature'></a>"
   ]
  },
  {
   "cell_type": "markdown",
   "metadata": {},
   "source": [
    "Finally, what will your target be when modelling ticket price? What relationship is there between weekday and weekend prices?"
   ]
  },
  {
   "cell_type": "code",
   "execution_count": 868,
   "metadata": {},
   "outputs": [
    {
     "data": {
      "text/plain": "<Figure size 432x288 with 1 Axes>",
      "image/png": "[encoded data removed]"
     },
     "metadata": {},
     "output_type": "display_data"
    }
   ],
   "source": [
    "#Code task 36#\n",
    "#Use ski_data's `plot()` method to create a scatterplot (kind='scatter') with 'AdultWeekday' on the x-axis and\n",
    "#'AdultWeekend' on the y-axis\n",
    "ski_data.plot.scatter(x='AdultWeekday', y='AdultWeekend');"
   ]
  },
  {
   "cell_type": "markdown",
   "metadata": {},
   "source": [
    "A couple of observations can be made. Firstly, there is a clear line where weekend and weekday prices are equal. Weekend prices being higher than weekday prices seem restricted to sub $100 resorts. Recall from the boxplot earlier that the distribution for weekday and weekend prices in Montana seemed equal. Is this confirmed in the actual data for each resort? Big Mountain resort is in Montana, so the relationship between these quantities in this state are particularly relevant."
   ]
  },
  {
   "cell_type": "code",
   "execution_count": 869,
   "metadata": {},
   "outputs": [
    {
     "data": {
      "text/plain": "     AdultWeekend  AdultWeekday\n141      42.00000      42.00000\n142      63.00000      63.00000\n143      49.00000      49.00000\n144      48.00000      48.00000\n145      46.00000      46.00000\n146      39.00000      39.00000\n147      50.00000      50.00000\n148      67.00000      67.00000\n149      47.00000      47.00000\n150      39.00000      39.00000\n151      81.00000      81.00000",
      "text/html": "<div>\n<style scoped>\n    .dataframe tbody tr th:only-of-type {\n        vertical-align: middle;\n    }\n\n    .dataframe tbody tr th {\n        vertical-align: top;\n    }\n\n    .dataframe thead th {\n        text-align: right;\n    }\n</style>\n<table border=\"1\" class=\"dataframe\">\n  <thead>\n    <tr style=\"text-align: right;\">\n      <th></th>\n      <th>AdultWeekend</th>\n      <th>AdultWeekday</th>\n    </tr>\n  </thead>\n  <tbody>\n    <tr>\n      <th>141</th>\n      <td>42.00000</td>\n      <td>42.00000</td>\n    </tr>\n    <tr>\n      <th>142</th>\n      <td>63.00000</td>\n      <td>63.00000</td>\n    </tr>\n    <tr>\n      <th>143</th>\n      <td>49.00000</td>\n      <td>49.00000</td>\n    </tr>\n    <tr>\n      <th>144</th>\n      <td>48.00000</td>\n      <td>48.00000</td>\n    </tr>\n    <tr>\n      <th>145</th>\n      <td>46.00000</td>\n      <td>46.00000</td>\n    </tr>\n    <tr>\n      <th>146</th>\n      <td>39.00000</td>\n      <td>39.00000</td>\n    </tr>\n    <tr>\n      <th>147</th>\n      <td>50.00000</td>\n      <td>50.00000</td>\n    </tr>\n    <tr>\n      <th>148</th>\n      <td>67.00000</td>\n      <td>67.00000</td>\n    </tr>\n    <tr>\n      <th>149</th>\n      <td>47.00000</td>\n      <td>47.00000</td>\n    </tr>\n    <tr>\n      <th>150</th>\n      <td>39.00000</td>\n      <td>39.00000</td>\n    </tr>\n    <tr>\n      <th>151</th>\n      <td>81.00000</td>\n      <td>81.00000</td>\n    </tr>\n  </tbody>\n</table>\n</div>"
     },
     "execution_count": 869,
     "metadata": {},
     "output_type": "execute_result"
    }
   ],
   "source": [
    "#Code task 37#\n",
    "#Use the loc accessor on ski_data to print the 'AdultWeekend' and 'AdultWeekday' columns for Montana only\n",
    "ski_data.loc[(ski_data.state == 'Montana'), ['AdultWeekend', 'AdultWeekday']]"
   ]
  },
  {
   "cell_type": "markdown",
   "metadata": {},
   "source": [
    "Is there any reason to prefer weekend or weekday prices? Which is missing the least?"
   ]
  },
  {
   "cell_type": "code",
   "execution_count": 870,
   "metadata": {},
   "outputs": [
    {
     "data": {
      "text/plain": "AdultWeekend    4\nAdultWeekday    7\ndtype: int64"
     },
     "execution_count": 870,
     "metadata": {},
     "output_type": "execute_result"
    }
   ],
   "source": [
    "ski_data[['AdultWeekend', 'AdultWeekday']].isnull().sum()"
   ]
  },
  {
   "cell_type": "markdown",
   "metadata": {},
   "source": [
    "Weekend prices have the least missing values of the two, so drop the weekday prices and then keep just the rows that have weekend price."
   ]
  },
  {
   "cell_type": "code",
   "execution_count": 871,
   "metadata": {},
   "outputs": [],
   "source": [
    "ski_data.drop(columns='AdultWeekday', inplace=True)\n",
    "ski_data.dropna(subset=['AdultWeekend'], inplace=True)"
   ]
  },
  {
   "cell_type": "code",
   "execution_count": 872,
   "metadata": {},
   "outputs": [
    {
     "data": {
      "text/plain": "(277, 25)"
     },
     "execution_count": 872,
     "metadata": {},
     "output_type": "execute_result"
    }
   ],
   "source": [
    "ski_data.shape"
   ]
  },
  {
   "cell_type": "code",
   "execution_count": 873,
   "outputs": [],
   "source": [
    "final_columns_set = set(ski_data.columns)"
   ],
   "metadata": {
    "collapsed": false
   }
  },
  {
   "cell_type": "code",
   "execution_count": 874,
   "outputs": [
    {
     "data": {
      "text/plain": "{'AdultWeekday', 'fastEight'}"
     },
     "execution_count": 874,
     "metadata": {},
     "output_type": "execute_result"
    }
   ],
   "source": [
    "deleted_columns = original_columns_set.difference(final_columns_set)\n",
    "deleted_columns"
   ],
   "metadata": {
    "collapsed": false
   }
  },
  {
   "cell_type": "markdown",
   "metadata": {},
   "source": [
    "Perform a final quick check on the data."
   ]
  },
  {
   "cell_type": "markdown",
   "metadata": {},
   "source": [
    "### 2.11.1 Number Of Missing Values By Row - Resort<a id='2.11.1_Number_Of_Missing_Values_By_Row_-_Resort'></a>"
   ]
  },
  {
   "cell_type": "markdown",
   "metadata": {},
   "source": [
    "Having dropped rows missing the desired target ticket price, what degree of missingness do you have for the remaining rows?"
   ]
  },
  {
   "cell_type": "code",
   "execution_count": 875,
   "metadata": {},
   "outputs": [
    {
     "data": {
      "text/plain": "     count        %\n329      5 20.00000\n62       5 20.00000\n141      5 20.00000\n86       5 20.00000\n74       5 20.00000\n146      5 20.00000\n184      4 16.00000\n108      4 16.00000\n198      4 16.00000\n39       4 16.00000",
      "text/html": "<div>\n<style scoped>\n    .dataframe tbody tr th:only-of-type {\n        vertical-align: middle;\n    }\n\n    .dataframe tbody tr th {\n        vertical-align: top;\n    }\n\n    .dataframe thead th {\n        text-align: right;\n    }\n</style>\n<table border=\"1\" class=\"dataframe\">\n  <thead>\n    <tr style=\"text-align: right;\">\n      <th></th>\n      <th>count</th>\n      <th>%</th>\n    </tr>\n  </thead>\n  <tbody>\n    <tr>\n      <th>329</th>\n      <td>5</td>\n      <td>20.00000</td>\n    </tr>\n    <tr>\n      <th>62</th>\n      <td>5</td>\n      <td>20.00000</td>\n    </tr>\n    <tr>\n      <th>141</th>\n      <td>5</td>\n      <td>20.00000</td>\n    </tr>\n    <tr>\n      <th>86</th>\n      <td>5</td>\n      <td>20.00000</td>\n    </tr>\n    <tr>\n      <th>74</th>\n      <td>5</td>\n      <td>20.00000</td>\n    </tr>\n    <tr>\n      <th>146</th>\n      <td>5</td>\n      <td>20.00000</td>\n    </tr>\n    <tr>\n      <th>184</th>\n      <td>4</td>\n      <td>16.00000</td>\n    </tr>\n    <tr>\n      <th>108</th>\n      <td>4</td>\n      <td>16.00000</td>\n    </tr>\n    <tr>\n      <th>198</th>\n      <td>4</td>\n      <td>16.00000</td>\n    </tr>\n    <tr>\n      <th>39</th>\n      <td>4</td>\n      <td>16.00000</td>\n    </tr>\n  </tbody>\n</table>\n</div>"
     },
     "execution_count": 875,
     "metadata": {},
     "output_type": "execute_result"
    }
   ],
   "source": [
    "missing = pd.concat([ski_data.isnull().sum(axis=1), 100 * ski_data.isnull().mean(axis=1)], axis=1)\n",
    "missing.columns=['count', '%']\n",
    "missing.sort_values(by='count', ascending=False).head(10)"
   ]
  },
  {
   "cell_type": "markdown",
   "metadata": {},
   "source": [
    "These seem possibly curiously quantized..."
   ]
  },
  {
   "cell_type": "code",
   "execution_count": 876,
   "metadata": {},
   "outputs": [
    {
     "data": {
      "text/plain": "array([ 0.,  4.,  8., 12., 16., 20.])"
     },
     "execution_count": 876,
     "metadata": {},
     "output_type": "execute_result"
    }
   ],
   "source": [
    "missing['%'].unique()"
   ]
  },
  {
   "cell_type": "markdown",
   "metadata": {},
   "source": [
    "Yes, the percentage of missing values per row appear in multiples of 4."
   ]
  },
  {
   "cell_type": "code",
   "execution_count": 877,
   "metadata": {},
   "outputs": [
    {
     "data": {
      "text/plain": "0.00000     107\n4.00000      94\n8.00000      45\n12.00000     15\n16.00000     10\n20.00000      6\nName: %, dtype: int64"
     },
     "execution_count": 877,
     "metadata": {},
     "output_type": "execute_result"
    }
   ],
   "source": [
    "missing['%'].value_counts()"
   ]
  },
  {
   "cell_type": "markdown",
   "metadata": {},
   "source": [
    "This is almost as if values have been removed artificially... Nevertheless, what you don't know is how useful the missing features are in predicting ticket price. You shouldn't just drop rows that are missing several useless features."
   ]
  },
  {
   "cell_type": "code",
   "execution_count": 878,
   "metadata": {},
   "outputs": [
    {
     "name": "stdout",
     "output_type": "stream",
     "text": [
      "<class 'pandas.core.frame.DataFrame'>\n",
      "Int64Index: 277 entries, 0 to 329\n",
      "Data columns (total 25 columns):\n",
      " #   Column             Non-Null Count  Dtype  \n",
      "---  ------             --------------  -----  \n",
      " 0   Name               277 non-null    object \n",
      " 1   Region             277 non-null    object \n",
      " 2   state              277 non-null    object \n",
      " 3   summit_elev        277 non-null    int64  \n",
      " 4   vertical_drop      277 non-null    int64  \n",
      " 5   base_elev          277 non-null    int64  \n",
      " 6   trams              277 non-null    int64  \n",
      " 7   fastSixes          277 non-null    int64  \n",
      " 8   fastQuads          277 non-null    int64  \n",
      " 9   quad               277 non-null    int64  \n",
      " 10  triple             277 non-null    int64  \n",
      " 11  double             277 non-null    int64  \n",
      " 12  surface            277 non-null    int64  \n",
      " 13  total_chairs       277 non-null    int64  \n",
      " 14  Runs               274 non-null    float64\n",
      " 15  TerrainParks       233 non-null    float64\n",
      " 16  LongestRun_mi      272 non-null    float64\n",
      " 17  SkiableTerrain_ac  275 non-null    float64\n",
      " 18  Snow Making_ac     240 non-null    float64\n",
      " 19  daysOpenLastYear   233 non-null    float64\n",
      " 20  yearsOpen          277 non-null    float64\n",
      " 21  averageSnowfall    268 non-null    float64\n",
      " 22  AdultWeekend       277 non-null    float64\n",
      " 23  projectedDaysOpen  236 non-null    float64\n",
      " 24  NightSkiing_ac     163 non-null    float64\n",
      "dtypes: float64(11), int64(11), object(3)\n",
      "memory usage: 56.3+ KB\n"
     ]
    }
   ],
   "source": [
    "ski_data.info()"
   ]
  },
  {
   "cell_type": "markdown",
   "metadata": {},
   "source": [
    "There are still some missing values, and it's good to be aware of this, but leave them as is for now."
   ]
  },
  {
   "cell_type": "markdown",
   "metadata": {},
   "source": [
    "## 2.12 Save data<a id='2.12_Save_data'></a>"
   ]
  },
  {
   "cell_type": "code",
   "execution_count": 879,
   "metadata": {},
   "outputs": [
    {
     "data": {
      "text/plain": "(277, 25)"
     },
     "execution_count": 879,
     "metadata": {},
     "output_type": "execute_result"
    }
   ],
   "source": [
    "ski_data.shape"
   ]
  },
  {
   "cell_type": "code",
   "execution_count": 879,
   "outputs": [],
   "source": [],
   "metadata": {
    "collapsed": false
   }
  },
  {
   "cell_type": "markdown",
   "metadata": {},
   "source": [
    "Save this to your data directory, separately. Note that you were provided with the data in `raw_data` and you should saving derived data in a separate location. This guards against overwriting our original data."
   ]
  },
  {
   "cell_type": "code",
   "execution_count": 880,
   "metadata": {},
   "outputs": [
    {
     "name": "stdout",
     "output_type": "stream",
     "text": [
      "A file already exists with this name.\n",
      "\n",
      "Writing file.  \"../data/ski_data_cleaned.csv\"\n"
     ]
    }
   ],
   "source": [
    "# save the data to a new csv file\n",
    "datapath = '../data'\n",
    "save_file(ski_data, 'ski_data_cleaned.csv', datapath)"
   ]
  },
  {
   "cell_type": "code",
   "execution_count": 881,
   "metadata": {},
   "outputs": [
    {
     "name": "stdout",
     "output_type": "stream",
     "text": [
      "A file already exists with this name.\n",
      "\n",
      "Writing file.  \"../data/state_summary.csv\"\n"
     ]
    }
   ],
   "source": [
    "# save the state_summary separately.\n",
    "datapath = '../data'\n",
    "save_file(state_summary, 'state_summary.csv', datapath)"
   ]
  },
  {
   "cell_type": "markdown",
   "metadata": {},
   "source": [
    "## 2.13 Summary<a id='2.13_Summary'></a>"
   ]
  },
  {
   "cell_type": "markdown",
   "metadata": {},
   "source": [
    "**Q: 3** Write a summary statement that highlights the key processes and findings from this notebook. This should include information such as the original number of rows in the data, whether our own resort was actually present etc. What columns, if any, have been removed? Any rows? Summarise the reasons why. Were any other issues found? What remedial actions did you take? State where you are in the project. Can you confirm what the target feature is for your desire to predict ticket price? How many rows were left in the data? Hint: this is a great opportunity to reread your notebook, check all cells have been executed in order and from a \"blank slate\" (restarting the kernel will do this), and that your workflow makes sense and follows a logical pattern. As you do this you can pull out salient information for inclusion in this summary. Thus, this section will provide an important overview of \"what\" and \"why\" without having to dive into the \"how\" or any unproductive or inconclusive steps along the way."
   ]
  },
  {
   "cell_type": "markdown",
   "metadata": {},
   "source": [
    "**A: 3** Your answer here\n",
    "\n",
    "---\n",
    "\n",
    "# Problem\n",
    "\n",
    "A short restatement of the problem definition: Big Mountain ski resort in Montana wants to determine what options the company has for pricing.  That lets us know what kind of investments the company can make, and whether the company is getting the best returns on its existing investments.  There is also some talk of lowering operational costs, which could increase profits as well, but that's a different question.\n",
    "\n",
    "</p>\n",
    "\n",
    "---\n",
    "\n",
    "# Data Wrangling\n",
    "This part of the project is focused on assessing and cleaning the data that we have.\n",
    "\n",
    "\n",
    "---\n",
    "\n",
    "## We have the following data\n",
    "\n",
    "**1. raw ski data** - of unknown providence containing facilities and pricing data for ski resports theought the US.\n",
    "**2. state population** information scrapped from web\n",
    "no other data will be used in this project\n",
    "\n",
    "##### The original raw ski data contains 330 rows and 27 columns\n",
    "##### The cleaned data has 277 rows and 25 columns\n",
    "        - We dropped 53 rows - primariy due to null pricing and a resort with a bad 'years open' row\n",
    "        - We dropped 2 columns {'AdultWeekday', and 'fastEight'}\n",
    "\n",
    "**3. We derived a US state-level dataset from the raw ski data and added state population and area data**\n",
    "\n",
    "\n",
    "</p>\n",
    "</p>\n",
    "\n",
    "---\n",
    "\n",
    "\n",
    "# Approach\n",
    "\n",
    "**Quick Review of the data**\n",
    " - The raw ski data has 330 rows and 27 columns\n",
    "\n",
    "**Assess the completeness of the data**\n",
    "\t- Make sure our resort is represented in the data\n",
    "\t- Understand where the data is missing values\n",
    "\t- In terms of null values we can see that we have the following missing percentages:\n",
    "\n",
    "        fastEight           50% missing data\n",
    "        NightSkiing_ac      43% missing data\n",
    "        AdultWeekday        16% missing data\n",
    "        AdultWeekend        15% missing data\n",
    "        daysOpenLastYear    15% missing data\n",
    "        TerrainParks\t15% missing data\n",
    "        projectedDaysOpen   14% missing data\n",
    "        Snow Making_ac      14% missing data\n",
    "         averageSnowfall     4% missing data\n",
    "\n",
    "**Assess the data types in the data**\n",
    "        - There are three informational columns - Resort Name, US State, and Region - Region is a subset of US state\n",
    "        - The rest are numeric columns\n",
    "\n",
    "**Assess the information in each non-numeric column**\n",
    "\n",
    "\t\t- Are there and duplicates in the resort Names column?  (No)\n",
    "\t\t- Are all states represented? (Yes)\n",
    "\t\t- How do regions and states relate to one another?  (In some limited cases the state has a region like 'Sierra Nevadas')\n",
    "\t\t- Resorts are distributed unevenly across US states 0 New York has many resort\n",
    "\t\t    - New York has the highest number of resports - at 33\n",
    "\t\t    - Montana has 11 resorts\n",
    "\t\t    - We don't know whether the 11 Montana constitutes a good market subset for our evaluation, or whether the central states would be a good segment, or whether some other market segmentation would be 'better'\n",
    "\n",
    "\n",
    "**Assess the information in each numeric column**\n",
    "        - We looked at each important column to understand what information is distributed in each column\n",
    "        - We are focusing primarily on Weekend **pricing**, because it tracks closely to Weekday prices and it's more complete (fewer missing fields)\n",
    "\n",
    "**Cleaning**\n",
    "    - We are focusing primarily on Weekend pricing, because it tracks closely to Weekday prices and it's more complete (fewer missing fields)\n",
    "    - We dropped the entire Weekday pricing column\n",
    "    - We dropped any rows having null Weekend pricing\n",
    "    - The data for facilities, such as snow-making equipment, lifts, parks and trams will probably not be complete enough as is, but we have not dropped that data yet\n",
    "    - We dropped the fastEight column - it is 50% empty\n",
    "    - We dropped a row having a bad 'yearsOpen' column\n",
    "\n",
    "**Augmenting the data**\n",
    "   - We created a new datset summarizing our data at the US state level, and added population and total area for each state\n"
   ]
  }
 ],
 "metadata": {
  "celltoolbar": "Tags",
  "kernelspec": {
   "display_name": "Python 3 (ipykernel)",
   "language": "python",
   "name": "python3"
  },
  "language_info": {
   "codemirror_mode": {
    "name": "ipython",
    "version": 3
   },
   "file_extension": ".py",
   "mimetype": "text/x-python",
   "name": "python",
   "nbconvert_exporter": "python",
   "pygments_lexer": "ipython3",
   "version": "3.9.12"
  },
  "toc": {
   "base_numbering": 1,
   "nav_menu": {},
   "number_sections": true,
   "sideBar": true,
   "skip_h1_title": false,
   "title_cell": "Table of Contents",
   "title_sidebar": "Contents",
   "toc_cell": false,
   "toc_position": {},
   "toc_section_display": true,
   "toc_window_display": true
  },
  "varInspector": {
   "cols": {
    "lenName": 16,
    "lenType": 16,
    "lenVar": 40
   },
   "kernels_config": {
    "python": {
     "delete_cmd_postfix": "",
     "delete_cmd_prefix": "del ",
     "library": "var_list.py",
     "varRefreshCmd": "print(var_dic_list())"
    },
    "r": {
     "delete_cmd_postfix": ") ",
     "delete_cmd_prefix": "rm(",
     "library": "var_list.r",
     "varRefreshCmd": "cat(var_dic_list()) "
    }
   },
   "types_to_exclude": [
    "module",
    "function",
    "builtin_function_or_method",
    "instance",
    "_Feature"
   ],
   "window_display": false
  }
 },
 "nbformat": 4,
 "nbformat_minor": 4
}
