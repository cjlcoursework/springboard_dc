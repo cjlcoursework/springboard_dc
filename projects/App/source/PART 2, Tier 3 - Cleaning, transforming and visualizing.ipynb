{
 "cells": [
  {
   "cell_type": "markdown",
   "metadata": {},
   "source": [
    "# Springboard Apps project - Tier 3 - Cleaning, transforming and visualizing\n",
    "\n",
    "Welcome to the final project of this Springboard prep course! To give you a taste of your future career, we're going to walk through exactly the kind of notebook that you'd write as a data scientist. In the process, we'll be sure to signpost the general framework for our investigation - the Data Science Pipeline - as well as give reasons for why we're doing what we're doing.\n",
    "\n",
    "**Brief**\n",
    "\n",
    "Did Apple Store apps receive better reviews than Google Play apps?\n",
    "\n",
    "## Stages of the project\n",
    "\n",
    "1. Sourcing and loading \n",
    "    * Load the two datasets\n",
    "    * Pick the columns that we are going to work with \n",
    "    * Subsetting the data on this basis \n",
    " \n",
    " \n",
    "2. Cleaning, transforming and visualizing\n",
    "    * Check the data types and fix them\n",
    "    * Add a `platform` column to both the `Apple` and the `Google` dataframes\n",
    "    * Changing the column names to prepare for a join \n",
    "    * Join the two data sets\n",
    "    * Eliminate the `NaN` values\n",
    "    * Filter only those apps that have been reviewed at least once\n",
    "    * Summarize the data visually and analytically (by the column `platform`)  \n",
    "  \n",
    "  \n",
    "3. Modelling \n",
    "    * Hypothesis formulation\n",
    "    * Getting the distribution of the data\n",
    "    * Permutation test \n",
    "\n",
    "\n",
    "4. Evaluating and concluding \n",
    "    * What is our conclusion?\n",
    "    * What is our decision?\n",
    "    * Other models we could have used. \n",
    "  "
   ]
  },
  {
   "cell_type": "markdown",
   "metadata": {},
   "source": [
    "## Importing the libraries\n",
    "\n",
    "In this case we are going to import pandas, numpy, scipy, random and matplotlib.pyplot"
   ]
  },
  {
   "cell_type": "code",
   "execution_count": 2,
   "metadata": {},
   "outputs": [],
   "source": [
    "import pandas as pd\n",
    "import numpy as np\n",
    "import matplotlib as plt\n",
    "# scipi is a library for statistical tests and visualizations \n",
    "from scipy import stats\n",
    "# random enables us to generate random numbers\n",
    "import random"
   ]
  },
  {
   "cell_type": "markdown",
   "metadata": {},
   "source": [
    "## Stage 1 -  Sourcing and loading data"
   ]
  },
  {
   "cell_type": "markdown",
   "metadata": {},
   "source": [
    "### 1a. Source and load the data\n",
    "Let's download the data from Kaggle. Kaggle is a fantastic resource: a kind of social medium for data scientists, it boasts projects, datasets and news on the freshest libraries and technologies all in one place. The data from the Apple Store can be found [here](https://www.kaggle.com/ramamet4/app-store-apple-data-set-10k-apps) and the data from Google Store can be found [here](https://www.kaggle.com/lava18/google-play-store-apps).\n",
    "Download the datasets and save them in your working directory."
   ]
  },
  {
   "cell_type": "code",
   "execution_count": 3,
   "metadata": {},
   "outputs": [
    {
     "name": "stdout",
     "output_type": "stream",
     "text": [
      "Current working directory: /Users/christopherlomeli/Source/courses/datascience/springboard/springboard_dc/projects/App/source\n"
     ]
    },
    {
     "data": {
      "text/plain": "                                                 App        Category  Rating  \\\n0     Photo Editor & Candy Camera & Grid & ScrapBook  ART_AND_DESIGN     4.1   \n1                                Coloring book moana  ART_AND_DESIGN     3.9   \n2  U Launcher Lite – FREE Live Cool Themes, Hide ...  ART_AND_DESIGN     4.7   \n\n  Reviews  Size    Installs  Type Price Content Rating  \\\n0     159   19M     10,000+  Free     0       Everyone   \n1     967   14M    500,000+  Free     0       Everyone   \n2   87510  8.7M  5,000,000+  Free     0       Everyone   \n\n                      Genres      Last Updated Current Ver   Android Ver  \n0               Art & Design   January 7, 2018       1.0.0  4.0.3 and up  \n1  Art & Design;Pretend Play  January 15, 2018       2.0.0  4.0.3 and up  \n2               Art & Design    August 1, 2018       1.2.4  4.0.3 and up  ",
      "text/html": "<div>\n<style scoped>\n    .dataframe tbody tr th:only-of-type {\n        vertical-align: middle;\n    }\n\n    .dataframe tbody tr th {\n        vertical-align: top;\n    }\n\n    .dataframe thead th {\n        text-align: right;\n    }\n</style>\n<table border=\"1\" class=\"dataframe\">\n  <thead>\n    <tr style=\"text-align: right;\">\n      <th></th>\n      <th>App</th>\n      <th>Category</th>\n      <th>Rating</th>\n      <th>Reviews</th>\n      <th>Size</th>\n      <th>Installs</th>\n      <th>Type</th>\n      <th>Price</th>\n      <th>Content Rating</th>\n      <th>Genres</th>\n      <th>Last Updated</th>\n      <th>Current Ver</th>\n      <th>Android Ver</th>\n    </tr>\n  </thead>\n  <tbody>\n    <tr>\n      <th>0</th>\n      <td>Photo Editor &amp; Candy Camera &amp; Grid &amp; ScrapBook</td>\n      <td>ART_AND_DESIGN</td>\n      <td>4.1</td>\n      <td>159</td>\n      <td>19M</td>\n      <td>10,000+</td>\n      <td>Free</td>\n      <td>0</td>\n      <td>Everyone</td>\n      <td>Art &amp; Design</td>\n      <td>January 7, 2018</td>\n      <td>1.0.0</td>\n      <td>4.0.3 and up</td>\n    </tr>\n    <tr>\n      <th>1</th>\n      <td>Coloring book moana</td>\n      <td>ART_AND_DESIGN</td>\n      <td>3.9</td>\n      <td>967</td>\n      <td>14M</td>\n      <td>500,000+</td>\n      <td>Free</td>\n      <td>0</td>\n      <td>Everyone</td>\n      <td>Art &amp; Design;Pretend Play</td>\n      <td>January 15, 2018</td>\n      <td>2.0.0</td>\n      <td>4.0.3 and up</td>\n    </tr>\n    <tr>\n      <th>2</th>\n      <td>U Launcher Lite – FREE Live Cool Themes, Hide ...</td>\n      <td>ART_AND_DESIGN</td>\n      <td>4.7</td>\n      <td>87510</td>\n      <td>8.7M</td>\n      <td>5,000,000+</td>\n      <td>Free</td>\n      <td>0</td>\n      <td>Everyone</td>\n      <td>Art &amp; Design</td>\n      <td>August 1, 2018</td>\n      <td>1.2.4</td>\n      <td>4.0.3 and up</td>\n    </tr>\n  </tbody>\n</table>\n</div>"
     },
     "execution_count": 3,
     "metadata": {},
     "output_type": "execute_result"
    }
   ],
   "source": [
    "# Now that the files are saved, we want to load them into Python using read_csv and pandas.\n",
    "import os\n",
    "cwd = os.getcwd()\n",
    "print(\"Current working directory: {0}\".format(cwd))\n",
    "\n",
    "# Create a variable called google, and store in it the path of the csv file that contains your google dataset.\n",
    "# If your dataset is in the same folder as this notebook, the path will simply be the name of the file.\n",
    "google_store_file =  \"../data/google_data/googleplaystore.csv\"\n",
    "google_reviews_file  = \"../data/google_data/googleplaystore_user_reviews.csv\"\n",
    "\n",
    "# Read the csv file into a data frame called Google using the read_csv() pandas method.\n",
    "google =  pd.read_csv(google_store_file)\n",
    "\n",
    "# Using the head() pandas method, observe the first three entries.\n",
    "google.head(3)"
   ]
  },
  {
   "cell_type": "code",
   "execution_count": 4,
   "metadata": {},
   "outputs": [
    {
     "data": {
      "text/plain": "   Unnamed: 0         id                                       track_name  \\\n0           1  281656475                                  PAC-MAN Premium   \n1           2  281796108                        Evernote - stay organized   \n2           3  281940292  WeatherBug - Local Weather, Radar, Maps, Alerts   \n\n   size_bytes currency  price  rating_count_tot  rating_count_ver  \\\n0   100788224      USD   3.99             21292                26   \n1   158578688      USD   0.00            161065                26   \n2   100524032      USD   0.00            188583              2822   \n\n   user_rating  user_rating_ver    ver cont_rating   prime_genre  \\\n0          4.0              4.5  6.3.5          4+         Games   \n1          4.0              3.5  8.2.2          4+  Productivity   \n2          3.5              4.5  5.0.0          4+       Weather   \n\n   sup_devices.num  ipadSc_urls.num  lang.num  vpp_lic  \n0               38                5        10        1  \n1               37                5        23        1  \n2               37                5         3        1  ",
      "text/html": "<div>\n<style scoped>\n    .dataframe tbody tr th:only-of-type {\n        vertical-align: middle;\n    }\n\n    .dataframe tbody tr th {\n        vertical-align: top;\n    }\n\n    .dataframe thead th {\n        text-align: right;\n    }\n</style>\n<table border=\"1\" class=\"dataframe\">\n  <thead>\n    <tr style=\"text-align: right;\">\n      <th></th>\n      <th>Unnamed: 0</th>\n      <th>id</th>\n      <th>track_name</th>\n      <th>size_bytes</th>\n      <th>currency</th>\n      <th>price</th>\n      <th>rating_count_tot</th>\n      <th>rating_count_ver</th>\n      <th>user_rating</th>\n      <th>user_rating_ver</th>\n      <th>ver</th>\n      <th>cont_rating</th>\n      <th>prime_genre</th>\n      <th>sup_devices.num</th>\n      <th>ipadSc_urls.num</th>\n      <th>lang.num</th>\n      <th>vpp_lic</th>\n    </tr>\n  </thead>\n  <tbody>\n    <tr>\n      <th>0</th>\n      <td>1</td>\n      <td>281656475</td>\n      <td>PAC-MAN Premium</td>\n      <td>100788224</td>\n      <td>USD</td>\n      <td>3.99</td>\n      <td>21292</td>\n      <td>26</td>\n      <td>4.0</td>\n      <td>4.5</td>\n      <td>6.3.5</td>\n      <td>4+</td>\n      <td>Games</td>\n      <td>38</td>\n      <td>5</td>\n      <td>10</td>\n      <td>1</td>\n    </tr>\n    <tr>\n      <th>1</th>\n      <td>2</td>\n      <td>281796108</td>\n      <td>Evernote - stay organized</td>\n      <td>158578688</td>\n      <td>USD</td>\n      <td>0.00</td>\n      <td>161065</td>\n      <td>26</td>\n      <td>4.0</td>\n      <td>3.5</td>\n      <td>8.2.2</td>\n      <td>4+</td>\n      <td>Productivity</td>\n      <td>37</td>\n      <td>5</td>\n      <td>23</td>\n      <td>1</td>\n    </tr>\n    <tr>\n      <th>2</th>\n      <td>3</td>\n      <td>281940292</td>\n      <td>WeatherBug - Local Weather, Radar, Maps, Alerts</td>\n      <td>100524032</td>\n      <td>USD</td>\n      <td>0.00</td>\n      <td>188583</td>\n      <td>2822</td>\n      <td>3.5</td>\n      <td>4.5</td>\n      <td>5.0.0</td>\n      <td>4+</td>\n      <td>Weather</td>\n      <td>37</td>\n      <td>5</td>\n      <td>3</td>\n      <td>1</td>\n    </tr>\n  </tbody>\n</table>\n</div>"
     },
     "execution_count": 4,
     "metadata": {},
     "output_type": "execute_result"
    }
   ],
   "source": [
    "# Create a variable called apple, and store in it the path of the csv file that contains your apple dataset. \n",
    "apple_store_file  = \"../data/apple_data/AppleStore.csv\"\n",
    "\n",
    "# Read the csv file into a pandas DataFrame object called Apple.\n",
    "apple =  pd.read_csv(apple_store_file)\n",
    "\n",
    "# Observe the first three entries like you did with your other data.\n",
    "apple.head(3)"
   ]
  },
  {
   "cell_type": "markdown",
   "metadata": {},
   "source": [
    "### 1b. Pick the columns we'll work with\n",
    "\n",
    "From the documentation of these datasets, we can infer that the most appropriate columns to answer the brief are:\n",
    "\n",
    "1. Google:\n",
    "    * `Category` # Do we need this?\n",
    "    * `Rating`\n",
    "    * `Reviews`\n",
    "    * `Price` (maybe)\n",
    "2. Apple:    \n",
    "    * `prime_genre` # Do we need this?\n",
    "    * `user_rating` \n",
    "    * `rating_count_tot`\n",
    "    * `price` (maybe)"
   ]
  },
  {
   "cell_type": "markdown",
   "metadata": {},
   "source": [
    "### 1c. Subsetting accordingly\n",
    "\n",
    "Let's select only those columns that we want to work with from both datasets. We'll overwrite the subsets in the original variables."
   ]
  },
  {
   "cell_type": "code",
   "execution_count": 5,
   "metadata": {},
   "outputs": [
    {
     "data": {
      "text/plain": "         Category  Rating Reviews Price\n0  ART_AND_DESIGN     4.1     159     0\n1  ART_AND_DESIGN     3.9     967     0\n2  ART_AND_DESIGN     4.7   87510     0",
      "text/html": "<div>\n<style scoped>\n    .dataframe tbody tr th:only-of-type {\n        vertical-align: middle;\n    }\n\n    .dataframe tbody tr th {\n        vertical-align: top;\n    }\n\n    .dataframe thead th {\n        text-align: right;\n    }\n</style>\n<table border=\"1\" class=\"dataframe\">\n  <thead>\n    <tr style=\"text-align: right;\">\n      <th></th>\n      <th>Category</th>\n      <th>Rating</th>\n      <th>Reviews</th>\n      <th>Price</th>\n    </tr>\n  </thead>\n  <tbody>\n    <tr>\n      <th>0</th>\n      <td>ART_AND_DESIGN</td>\n      <td>4.1</td>\n      <td>159</td>\n      <td>0</td>\n    </tr>\n    <tr>\n      <th>1</th>\n      <td>ART_AND_DESIGN</td>\n      <td>3.9</td>\n      <td>967</td>\n      <td>0</td>\n    </tr>\n    <tr>\n      <th>2</th>\n      <td>ART_AND_DESIGN</td>\n      <td>4.7</td>\n      <td>87510</td>\n      <td>0</td>\n    </tr>\n  </tbody>\n</table>\n</div>"
     },
     "execution_count": 5,
     "metadata": {},
     "output_type": "execute_result"
    }
   ],
   "source": [
    "# Subset our DataFrame object Google by selecting just the variables ['Category', 'Rating', 'Reviews', 'Price']\n",
    "google_df  =  google[['Category', 'Rating', 'Reviews', 'Price']]\n",
    "\n",
    "# Check the first three entries\n",
    "google_df.head(3)"
   ]
  },
  {
   "cell_type": "code",
   "execution_count": 6,
   "metadata": {},
   "outputs": [
    {
     "data": {
      "text/plain": "    prime_genre  user_rating  rating_count_tot  price\n0         Games          4.0             21292   3.99\n1  Productivity          4.0            161065   0.00\n2       Weather          3.5            188583   0.00",
      "text/html": "<div>\n<style scoped>\n    .dataframe tbody tr th:only-of-type {\n        vertical-align: middle;\n    }\n\n    .dataframe tbody tr th {\n        vertical-align: top;\n    }\n\n    .dataframe thead th {\n        text-align: right;\n    }\n</style>\n<table border=\"1\" class=\"dataframe\">\n  <thead>\n    <tr style=\"text-align: right;\">\n      <th></th>\n      <th>prime_genre</th>\n      <th>user_rating</th>\n      <th>rating_count_tot</th>\n      <th>price</th>\n    </tr>\n  </thead>\n  <tbody>\n    <tr>\n      <th>0</th>\n      <td>Games</td>\n      <td>4.0</td>\n      <td>21292</td>\n      <td>3.99</td>\n    </tr>\n    <tr>\n      <th>1</th>\n      <td>Productivity</td>\n      <td>4.0</td>\n      <td>161065</td>\n      <td>0.00</td>\n    </tr>\n    <tr>\n      <th>2</th>\n      <td>Weather</td>\n      <td>3.5</td>\n      <td>188583</td>\n      <td>0.00</td>\n    </tr>\n  </tbody>\n</table>\n</div>"
     },
     "execution_count": 6,
     "metadata": {},
     "output_type": "execute_result"
    }
   ],
   "source": [
    "# Do the same with our Apple object, selecting just the variables ['prime_genre', 'user_rating', 'rating_count_tot', 'price']\n",
    "### 1b. Pick the columns we'll work with\n",
    "apple_df  =  apple[['prime_genre', 'user_rating', 'rating_count_tot', 'price']]\n",
    "\n",
    "# Let's check the first three entries\n",
    "apple_df.head(3)"
   ]
  },
  {
   "cell_type": "markdown",
   "metadata": {},
   "source": [
    "## Stage 2 -  Cleaning, transforming and visualizing"
   ]
  },
  {
   "cell_type": "markdown",
   "metadata": {},
   "source": [
    "### 2a. Check the data types for both Apple and Google, and fix them\n",
    "\n",
    "Types are crucial for data science in Python. Let's determine whether the variables we selected in the previous section belong to the types they should do, or whether there are any errors here. "
   ]
  },
  {
   "cell_type": "code",
   "execution_count": 7,
   "metadata": {},
   "outputs": [
    {
     "data": {
      "text/plain": "prime_genre          object\nuser_rating         float64\nrating_count_tot      int64\nprice               float64\ndtype: object"
     },
     "execution_count": 7,
     "metadata": {},
     "output_type": "execute_result"
    }
   ],
   "source": [
    "# Using the dtypes feature of pandas DataFrame objects, check out the data types within our Apple dataframe.\n",
    "# Are they what you expect?\n",
    "apple_df.dtypes"
   ]
  },
  {
   "cell_type": "markdown",
   "metadata": {},
   "source": [
    "This is looking healthy. But what about our Google data frame?"
   ]
  },
  {
   "cell_type": "code",
   "execution_count": 8,
   "metadata": {},
   "outputs": [
    {
     "data": {
      "text/plain": "Category     object\nRating      float64\nReviews      object\nPrice        object\ndtype: object"
     },
     "execution_count": 8,
     "metadata": {},
     "output_type": "execute_result"
    }
   ],
   "source": [
    "# Using the same dtypes feature, check out the data types of our Google dataframe. \n",
    "google_df.dtypes"
   ]
  },
  {
   "cell_type": "markdown",
   "metadata": {},
   "source": [
    "Weird. The data type for the column 'Price' is 'object', not a numeric data type like a float or an integer. Let's investigate the unique values of this column. "
   ]
  },
  {
   "cell_type": "code",
   "execution_count": 9,
   "metadata": {},
   "outputs": [
    {
     "data": {
      "text/plain": "      Category  Rating Reviews     Price\n10472      1.9    19.0    3.0M  Everyone",
      "text/html": "<div>\n<style scoped>\n    .dataframe tbody tr th:only-of-type {\n        vertical-align: middle;\n    }\n\n    .dataframe tbody tr th {\n        vertical-align: top;\n    }\n\n    .dataframe thead th {\n        text-align: right;\n    }\n</style>\n<table border=\"1\" class=\"dataframe\">\n  <thead>\n    <tr style=\"text-align: right;\">\n      <th></th>\n      <th>Category</th>\n      <th>Rating</th>\n      <th>Reviews</th>\n      <th>Price</th>\n    </tr>\n  </thead>\n  <tbody>\n    <tr>\n      <th>10472</th>\n      <td>1.9</td>\n      <td>19.0</td>\n      <td>3.0M</td>\n      <td>Everyone</td>\n    </tr>\n  </tbody>\n</table>\n</div>"
     },
     "execution_count": 9,
     "metadata": {},
     "output_type": "execute_result"
    }
   ],
   "source": [
    "# Use the unique() pandas method on the Price column to check its unique values. \n",
    "google_df['Price'].unique()\n",
    "google_df.loc[(google_df['Price'] == 'Everyone')]\n",
    "\n"
   ]
  },
  {
   "cell_type": "markdown",
   "metadata": {},
   "source": [
    "Aha! Fascinating. There are actually two issues here. \n",
    "\n",
    "- Firstly, there's a price called `Everyone`. That is a massive mistake! \n",
    "- Secondly, there are dollar symbols everywhere! \n",
    "\n",
    "\n",
    "Let's address the first issue first. Let's check the datapoints that have the price value `Everyone`"
   ]
  },
  {
   "cell_type": "code",
   "execution_count": 10,
   "metadata": {},
   "outputs": [
    {
     "data": {
      "text/plain": "      Category  Rating Reviews     Price\n10472      1.9    19.0    3.0M  Everyone",
      "text/html": "<div>\n<style scoped>\n    .dataframe tbody tr th:only-of-type {\n        vertical-align: middle;\n    }\n\n    .dataframe tbody tr th {\n        vertical-align: top;\n    }\n\n    .dataframe thead th {\n        text-align: right;\n    }\n</style>\n<table border=\"1\" class=\"dataframe\">\n  <thead>\n    <tr style=\"text-align: right;\">\n      <th></th>\n      <th>Category</th>\n      <th>Rating</th>\n      <th>Reviews</th>\n      <th>Price</th>\n    </tr>\n  </thead>\n  <tbody>\n    <tr>\n      <th>10472</th>\n      <td>1.9</td>\n      <td>19.0</td>\n      <td>3.0M</td>\n      <td>Everyone</td>\n    </tr>\n  </tbody>\n</table>\n</div>"
     },
     "execution_count": 10,
     "metadata": {},
     "output_type": "execute_result"
    }
   ],
   "source": [
    "# Let's check which data points have the value 'Everyone' for the 'Price' column by subsetting our Google dataframe.\n",
    "\n",
    "# Subset the Google dataframe on the price column. \n",
    "# To be sure: you want to pick out just those rows whose value for the 'Price' column is just 'Everyone'. \n",
    "# Google[Google[_ _ _]==_ _ _]\n",
    "google_df.loc[(google_df['Price'] == 'Everyone')]"
   ]
  },
  {
   "cell_type": "markdown",
   "metadata": {},
   "source": [
    "Thankfully, it's just one row. We've gotta get rid of it. "
   ]
  },
  {
   "cell_type": "code",
   "execution_count": 11,
   "metadata": {},
   "outputs": [
    {
     "data": {
      "text/plain": "Empty DataFrame\nColumns: [Category, Rating, Reviews, Price]\nIndex: []",
      "text/html": "<div>\n<style scoped>\n    .dataframe tbody tr th:only-of-type {\n        vertical-align: middle;\n    }\n\n    .dataframe tbody tr th {\n        vertical-align: top;\n    }\n\n    .dataframe thead th {\n        text-align: right;\n    }\n</style>\n<table border=\"1\" class=\"dataframe\">\n  <thead>\n    <tr style=\"text-align: right;\">\n      <th></th>\n      <th>Category</th>\n      <th>Rating</th>\n      <th>Reviews</th>\n      <th>Price</th>\n    </tr>\n  </thead>\n  <tbody>\n  </tbody>\n</table>\n</div>"
     },
     "execution_count": 11,
     "metadata": {},
     "output_type": "execute_result"
    }
   ],
   "source": [
    "# Let's eliminate that row. \n",
    "\n",
    "# Subset our Google dataframe to pick out just those rows whose value for the 'Price' column is NOT 'Everyone'. \n",
    "# Reassign that subset to the Google variable. \n",
    "# You can do this in two lines or one. Your choice! \n",
    "google_df = google_df.loc[(google_df['Price'] != 'Everyone')]\n",
    "\n",
    "# Check again the unique values of Google\n",
    "google_df.loc[(google_df['Price'] == 'Everyone')]"
   ]
  },
  {
   "cell_type": "markdown",
   "metadata": {},
   "source": [
    "Our second problem remains: I'm seeing dollar symbols when I close my eyes! (And not in a good way). \n",
    "\n",
    "This is a problem because Python actually considers these values strings. So we can't do mathematical and statistical operations on them until we've made them into numbers."
   ]
  },
  {
   "cell_type": "code",
   "execution_count": 12,
   "outputs": [
    {
     "name": "stderr",
     "output_type": "stream",
     "text": [
      "/var/folders/c2/xznlms511f5_7k456wbrkk000000gn/T/ipykernel_27596/4184367467.py:4: FutureWarning: The default value of regex will change from True to False in a future version. In addition, single character regular expressions will *not* be treated as literal strings when regex=True.\n",
      "  google_df['nosymb'] = google_df['Price'].str.replace('$', '')\n"
     ]
    },
    {
     "data": {
      "text/plain": "array([  0.  ,   4.99,   3.99,   6.99,   1.49,   2.99,   7.99,   5.99,\n         3.49,   1.99,   9.99,   7.49,   0.99,   9.  ,   5.49,  10.  ,\n        24.99,  11.99,  79.99,  16.99,  14.99,   1.  ,  29.99,  12.99,\n         2.49,  10.99,   1.5 ,  19.99,  15.99,  33.99,  74.99,  39.99,\n         3.95,   4.49,   1.7 ,   8.99,   2.  ,   3.88,  25.99, 399.99,\n        17.99, 400.  ,   3.02,   1.76,   4.84,   4.77,   1.61,   2.5 ,\n         1.59,   6.49,   1.29,   5.  ,  13.99, 299.99, 379.99,  37.99,\n        18.99, 389.99,  19.9 ,   8.49,   1.75,  14.  ,   4.85,  46.99,\n       109.99, 154.99,   3.08,   2.59,   4.8 ,   1.96,  19.4 ,   3.9 ,\n         4.59,  15.46,   3.04,   4.29,   2.6 ,   3.28,   4.6 ,  28.99,\n         2.95,   2.9 ,   1.97, 200.  ,  89.99,   2.56,  30.99,   3.61,\n       394.99,   1.26,   1.2 ,   1.04])"
     },
     "execution_count": 12,
     "metadata": {},
     "output_type": "execute_result"
    }
   ],
   "source": [
    "# Let's create a variable called nosymb.\n",
    "# This variable will take the Price column of Google and apply the str.replace() method.\n",
    "# Remember: we want to find '$' and replace it with nothing, so we'll have to write approrpiate arguments to the method to achieve this.\n",
    "google_df['nosymb'] = google_df['Price'].str.replace('$', '')\n",
    "\n",
    "# Now we need to do two things:\n",
    "# i. Make the values in the nosymb variable numeric using the to_numeric() pandas method.\n",
    "# ii. Assign this new set of numeric, dollar-sign-less values to Google['Price'].\n",
    "# You can do this in one line if you wish.\n",
    "google_df['Price'] = pd.to_numeric(google_df['nosymb'])\n",
    "google_df['Price'].unique()"
   ],
   "metadata": {
    "collapsed": false
   }
  },
  {
   "cell_type": "markdown",
   "metadata": {},
   "source": [
    "Now let's check the data types for our Google dataframe again, to verify that the 'Price' column really is numeric now."
   ]
  },
  {
   "cell_type": "code",
   "execution_count": 13,
   "metadata": {},
   "outputs": [
    {
     "data": {
      "text/plain": "Category     object\nRating      float64\nReviews      object\nPrice       float64\nnosymb       object\ndtype: object"
     },
     "execution_count": 13,
     "metadata": {},
     "output_type": "execute_result"
    }
   ],
   "source": [
    "# Use the function dtypes. \n",
    "google_df.dtypes"
   ]
  },
  {
   "cell_type": "markdown",
   "metadata": {},
   "source": [
    "Notice that the column `Reviews` is still an object column. We actually need this column to be a numeric column, too. "
   ]
  },
  {
   "cell_type": "code",
   "execution_count": 14,
   "metadata": {},
   "outputs": [],
   "source": [
    "# Convert the 'Reviews' column to a numeric data type. \n",
    "# Use the method pd.to_numeric(), and save the result in the same column.\n",
    "google_df['Reviews'] = pd.to_numeric(google_df['Reviews'])"
   ]
  },
  {
   "cell_type": "code",
   "execution_count": 15,
   "metadata": {},
   "outputs": [
    {
     "data": {
      "text/plain": "Category     object\nRating      float64\nReviews       int64\nPrice       float64\nnosymb       object\ndtype: object"
     },
     "execution_count": 15,
     "metadata": {},
     "output_type": "execute_result"
    }
   ],
   "source": [
    "# Let's check the data types of Google again\n",
    "google_df.dtypes"
   ]
  },
  {
   "cell_type": "markdown",
   "metadata": {},
   "source": [
    "### 2b. Add a `platform` column to both the `Apple` and the `Google` dataframes\n",
    "Let's add a new column to both dataframe objects called `platform`: all of its values in the Google dataframe will be just 'google', and all of its values for the Apple dataframe will be just 'apple'. \n",
    "\n",
    "The reason we're making this column is so that we can ultimately join our Apple and Google data together, and actually test out some hypotheses to solve the problem in our brief. "
   ]
  },
  {
   "cell_type": "code",
   "execution_count": 16,
   "metadata": {},
   "outputs": [
    {
     "name": "stderr",
     "output_type": "stream",
     "text": [
      "/var/folders/c2/xznlms511f5_7k456wbrkk000000gn/T/ipykernel_27596/476960177.py:3: SettingWithCopyWarning: \n",
      "A value is trying to be set on a copy of a slice from a DataFrame.\n",
      "Try using .loc[row_indexer,col_indexer] = value instead\n",
      "\n",
      "See the caveats in the documentation: https://pandas.pydata.org/pandas-docs/stable/user_guide/indexing.html#returning-a-view-versus-a-copy\n",
      "  apple_df['platform'] = 'apple'\n"
     ]
    },
    {
     "data": {
      "text/plain": "    prime_genre  user_rating  rating_count_tot  price platform\n0         Games          4.0             21292   3.99    apple\n1  Productivity          4.0            161065   0.00    apple\n2       Weather          3.5            188583   0.00    apple\n3      Shopping          4.0            262241   0.00    apple\n4     Reference          4.5            985920   0.00    apple",
      "text/html": "<div>\n<style scoped>\n    .dataframe tbody tr th:only-of-type {\n        vertical-align: middle;\n    }\n\n    .dataframe tbody tr th {\n        vertical-align: top;\n    }\n\n    .dataframe thead th {\n        text-align: right;\n    }\n</style>\n<table border=\"1\" class=\"dataframe\">\n  <thead>\n    <tr style=\"text-align: right;\">\n      <th></th>\n      <th>prime_genre</th>\n      <th>user_rating</th>\n      <th>rating_count_tot</th>\n      <th>price</th>\n      <th>platform</th>\n    </tr>\n  </thead>\n  <tbody>\n    <tr>\n      <th>0</th>\n      <td>Games</td>\n      <td>4.0</td>\n      <td>21292</td>\n      <td>3.99</td>\n      <td>apple</td>\n    </tr>\n    <tr>\n      <th>1</th>\n      <td>Productivity</td>\n      <td>4.0</td>\n      <td>161065</td>\n      <td>0.00</td>\n      <td>apple</td>\n    </tr>\n    <tr>\n      <th>2</th>\n      <td>Weather</td>\n      <td>3.5</td>\n      <td>188583</td>\n      <td>0.00</td>\n      <td>apple</td>\n    </tr>\n    <tr>\n      <th>3</th>\n      <td>Shopping</td>\n      <td>4.0</td>\n      <td>262241</td>\n      <td>0.00</td>\n      <td>apple</td>\n    </tr>\n    <tr>\n      <th>4</th>\n      <td>Reference</td>\n      <td>4.5</td>\n      <td>985920</td>\n      <td>0.00</td>\n      <td>apple</td>\n    </tr>\n  </tbody>\n</table>\n</div>"
     },
     "execution_count": 16,
     "metadata": {},
     "output_type": "execute_result"
    }
   ],
   "source": [
    "# Create a column called 'platform' in both the Apple and Google dataframes. \n",
    "# Add the value 'apple' and the value 'google' as appropriate. \n",
    "apple_df['platform'] = 'apple'\n",
    "google_df['platform'] = 'google'\n",
    "\n",
    "apple_df.head()"
   ]
  },
  {
   "cell_type": "markdown",
   "metadata": {},
   "source": [
    "### 2c. Changing the column names to prepare for our join of the two datasets \n",
    "Since the easiest way to join two datasets is if they have both:\n",
    "- the same number of columns\n",
    "- the same column names\n",
    "we need to rename the columns of `Apple` so that they're the same as the ones of `Google`, or vice versa.\n",
    "\n",
    "In this case, we're going to change the `Apple` columns names to the names of the `Google` columns. \n",
    "\n",
    "This is an important step to unify the two datasets!"
   ]
  },
  {
   "cell_type": "code",
   "execution_count": 17,
   "outputs": [
    {
     "name": "stdout",
     "output_type": "stream",
     "text": [
      "Zipped columns = [('Category', 'prime_genre'), ('Rating', 'user_rating'), ('Reviews', 'rating_count_tot'), ('Price', 'price'), ('platform', 'platform')]\n"
     ]
    },
    {
     "data": {
      "text/plain": "       Category  Rating  Reviews  Price platform\n0         Games     4.0    21292   3.99    apple\n1  Productivity     4.0   161065   0.00    apple\n2       Weather     3.5   188583   0.00    apple\n3      Shopping     4.0   262241   0.00    apple\n4     Reference     4.5   985920   0.00    apple",
      "text/html": "<div>\n<style scoped>\n    .dataframe tbody tr th:only-of-type {\n        vertical-align: middle;\n    }\n\n    .dataframe tbody tr th {\n        vertical-align: top;\n    }\n\n    .dataframe thead th {\n        text-align: right;\n    }\n</style>\n<table border=\"1\" class=\"dataframe\">\n  <thead>\n    <tr style=\"text-align: right;\">\n      <th></th>\n      <th>Category</th>\n      <th>Rating</th>\n      <th>Reviews</th>\n      <th>Price</th>\n      <th>platform</th>\n    </tr>\n  </thead>\n  <tbody>\n    <tr>\n      <th>0</th>\n      <td>Games</td>\n      <td>4.0</td>\n      <td>21292</td>\n      <td>3.99</td>\n      <td>apple</td>\n    </tr>\n    <tr>\n      <th>1</th>\n      <td>Productivity</td>\n      <td>4.0</td>\n      <td>161065</td>\n      <td>0.00</td>\n      <td>apple</td>\n    </tr>\n    <tr>\n      <th>2</th>\n      <td>Weather</td>\n      <td>3.5</td>\n      <td>188583</td>\n      <td>0.00</td>\n      <td>apple</td>\n    </tr>\n    <tr>\n      <th>3</th>\n      <td>Shopping</td>\n      <td>4.0</td>\n      <td>262241</td>\n      <td>0.00</td>\n      <td>apple</td>\n    </tr>\n    <tr>\n      <th>4</th>\n      <td>Reference</td>\n      <td>4.5</td>\n      <td>985920</td>\n      <td>0.00</td>\n      <td>apple</td>\n    </tr>\n  </tbody>\n</table>\n</div>"
     },
     "execution_count": 17,
     "metadata": {},
     "output_type": "execute_result"
    }
   ],
   "source": [
    "# Create a variable called old_names where you'll store the column names of the Apple dataframe.\n",
    "# Use the feature .columns.\n",
    "old_names = apple_df.columns   # don't really need the to_list() but I wated to see the results\n",
    "\n",
    "# Create a variable called new_names where you'll store the column names of the Google dataframe.\n",
    "\"\"\"\n",
    "Because we did the changes above using a nosymb field instead of just doing iit in one line - we still have a nosymb colum\n",
    "todo - Did I miss dropping this column above?\n",
    "\"\"\"\n",
    "google_df = google_df.drop(['nosymb'], axis=1)\n",
    "new_names = google_df.columns\n",
    "\n",
    "# Use the rename() DataFrame method to change the columns names.\n",
    "# In the columns parameter of the rename() method, use this construction: dict(zip(old_names,new_names)).\n",
    "#Apple = _ _ _.rename(columns = _ _ _)\n",
    "zipped_cols = zip(new_names, old_names)\n",
    "print(f\"Zipped columns = {list(zipped_cols)}\")\n",
    "columns_argument = dict(zipped_cols)\n",
    "conformed_apple_df = apple_df.rename(columns=dict(zip(old_names,new_names)))\n",
    "conformed_apple_df.head()"
   ],
   "metadata": {
    "collapsed": false
   }
  },
  {
   "cell_type": "markdown",
   "metadata": {},
   "source": [
    "### 2d. Join the two datasets \n",
    "Let's combine the two datasets into a single data frame called `df`."
   ]
  },
  {
   "cell_type": "code",
   "execution_count": 18,
   "metadata": {},
   "outputs": [
    {
     "name": "stderr",
     "output_type": "stream",
     "text": [
      "/var/folders/c2/xznlms511f5_7k456wbrkk000000gn/T/ipykernel_27596/2895931416.py:3: FutureWarning: The frame.append method is deprecated and will be removed from pandas in a future version. Use pandas.concat instead.\n",
      "  df = conformed_apple_df.append(google_df, ignore_index=True)\n"
     ]
    },
    {
     "data": {
      "text/plain": "                  Category  Rating  Reviews  Price platform\n12521  BOOKS_AND_REFERENCE     4.6   361780   0.00   google\n17663         PRODUCTIVITY     4.2      115   0.00   google\n2147              Shopping     4.0       18   0.00    apple\n14922  BOOKS_AND_REFERENCE     4.5        8   0.00   google\n1815                 Games     4.5     2555   0.00    apple\n15887          PHOTOGRAPHY     NaN        2   0.00   google\n1989                 Games     4.5     6055   0.00    apple\n10428     TRAVEL_AND_LOCAL     4.2    18294   0.00   google\n12010               FAMILY     4.6     4421   2.99   google\n15091              MEDICAL     3.4       35  15.46   google\n3565                 Games     5.0      515   4.99    apple\n9798                SOCIAL     3.9     8936   0.00   google",
      "text/html": "<div>\n<style scoped>\n    .dataframe tbody tr th:only-of-type {\n        vertical-align: middle;\n    }\n\n    .dataframe tbody tr th {\n        vertical-align: top;\n    }\n\n    .dataframe thead th {\n        text-align: right;\n    }\n</style>\n<table border=\"1\" class=\"dataframe\">\n  <thead>\n    <tr style=\"text-align: right;\">\n      <th></th>\n      <th>Category</th>\n      <th>Rating</th>\n      <th>Reviews</th>\n      <th>Price</th>\n      <th>platform</th>\n    </tr>\n  </thead>\n  <tbody>\n    <tr>\n      <th>12521</th>\n      <td>BOOKS_AND_REFERENCE</td>\n      <td>4.6</td>\n      <td>361780</td>\n      <td>0.00</td>\n      <td>google</td>\n    </tr>\n    <tr>\n      <th>17663</th>\n      <td>PRODUCTIVITY</td>\n      <td>4.2</td>\n      <td>115</td>\n      <td>0.00</td>\n      <td>google</td>\n    </tr>\n    <tr>\n      <th>2147</th>\n      <td>Shopping</td>\n      <td>4.0</td>\n      <td>18</td>\n      <td>0.00</td>\n      <td>apple</td>\n    </tr>\n    <tr>\n      <th>14922</th>\n      <td>BOOKS_AND_REFERENCE</td>\n      <td>4.5</td>\n      <td>8</td>\n      <td>0.00</td>\n      <td>google</td>\n    </tr>\n    <tr>\n      <th>1815</th>\n      <td>Games</td>\n      <td>4.5</td>\n      <td>2555</td>\n      <td>0.00</td>\n      <td>apple</td>\n    </tr>\n    <tr>\n      <th>15887</th>\n      <td>PHOTOGRAPHY</td>\n      <td>NaN</td>\n      <td>2</td>\n      <td>0.00</td>\n      <td>google</td>\n    </tr>\n    <tr>\n      <th>1989</th>\n      <td>Games</td>\n      <td>4.5</td>\n      <td>6055</td>\n      <td>0.00</td>\n      <td>apple</td>\n    </tr>\n    <tr>\n      <th>10428</th>\n      <td>TRAVEL_AND_LOCAL</td>\n      <td>4.2</td>\n      <td>18294</td>\n      <td>0.00</td>\n      <td>google</td>\n    </tr>\n    <tr>\n      <th>12010</th>\n      <td>FAMILY</td>\n      <td>4.6</td>\n      <td>4421</td>\n      <td>2.99</td>\n      <td>google</td>\n    </tr>\n    <tr>\n      <th>15091</th>\n      <td>MEDICAL</td>\n      <td>3.4</td>\n      <td>35</td>\n      <td>15.46</td>\n      <td>google</td>\n    </tr>\n    <tr>\n      <th>3565</th>\n      <td>Games</td>\n      <td>5.0</td>\n      <td>515</td>\n      <td>4.99</td>\n      <td>apple</td>\n    </tr>\n    <tr>\n      <th>9798</th>\n      <td>SOCIAL</td>\n      <td>3.9</td>\n      <td>8936</td>\n      <td>0.00</td>\n      <td>google</td>\n    </tr>\n  </tbody>\n</table>\n</div>"
     },
     "execution_count": 18,
     "metadata": {},
     "output_type": "execute_result"
    }
   ],
   "source": [
    "# Let's use the append() method to append Apple to Google. \n",
    "# Make Apple the first parameter of append(), and make the second parameter just: ignore_index = True.\n",
    "df = conformed_apple_df.append(google_df, ignore_index=True)\n",
    "\n",
    "# Using the sample() method with the number 12 passed to it, check 12 random points of your dataset.\n",
    "df.sample(n=12)"
   ]
  },
  {
   "cell_type": "markdown",
   "metadata": {},
   "source": [
    "### 2e. Eliminate the NaN values\n",
    "\n",
    "As you can see there are some `NaN` values. We want to eliminate all these `NaN` values from the table."
   ]
  },
  {
   "cell_type": "code",
   "execution_count": 19,
   "metadata": {},
   "outputs": [
    {
     "name": "stdout",
     "output_type": "stream",
     "text": [
      "(18037, 5)\n",
      "(16563, 5)\n"
     ]
    },
    {
     "data": {
      "text/plain": "               Category  Rating  Reviews  Price platform\n16610            FAMILY     4.1      211   0.00   google\n15378            FAMILY     3.5    38824   0.00   google\n499            Shopping     4.0     3801   0.00    apple\n12599            FAMILY     3.5    14145   0.00   google\n6281              Games     3.0       50   6.99    apple\n11075            FAMILY     4.6    94989   0.00   google\n2796              Games     0.0        0   0.00    apple\n11421     COMMUNICATION     4.2   594720   0.00   google\n11910            FAMILY     4.6      856   0.00   google\n13146  TRAVEL_AND_LOCAL     2.5      862   0.00   google\n13851       PHOTOGRAPHY     4.3   244302   0.00   google\n4313              Games     0.0        0   0.00    apple",
      "text/html": "<div>\n<style scoped>\n    .dataframe tbody tr th:only-of-type {\n        vertical-align: middle;\n    }\n\n    .dataframe tbody tr th {\n        vertical-align: top;\n    }\n\n    .dataframe thead th {\n        text-align: right;\n    }\n</style>\n<table border=\"1\" class=\"dataframe\">\n  <thead>\n    <tr style=\"text-align: right;\">\n      <th></th>\n      <th>Category</th>\n      <th>Rating</th>\n      <th>Reviews</th>\n      <th>Price</th>\n      <th>platform</th>\n    </tr>\n  </thead>\n  <tbody>\n    <tr>\n      <th>16610</th>\n      <td>FAMILY</td>\n      <td>4.1</td>\n      <td>211</td>\n      <td>0.00</td>\n      <td>google</td>\n    </tr>\n    <tr>\n      <th>15378</th>\n      <td>FAMILY</td>\n      <td>3.5</td>\n      <td>38824</td>\n      <td>0.00</td>\n      <td>google</td>\n    </tr>\n    <tr>\n      <th>499</th>\n      <td>Shopping</td>\n      <td>4.0</td>\n      <td>3801</td>\n      <td>0.00</td>\n      <td>apple</td>\n    </tr>\n    <tr>\n      <th>12599</th>\n      <td>FAMILY</td>\n      <td>3.5</td>\n      <td>14145</td>\n      <td>0.00</td>\n      <td>google</td>\n    </tr>\n    <tr>\n      <th>6281</th>\n      <td>Games</td>\n      <td>3.0</td>\n      <td>50</td>\n      <td>6.99</td>\n      <td>apple</td>\n    </tr>\n    <tr>\n      <th>11075</th>\n      <td>FAMILY</td>\n      <td>4.6</td>\n      <td>94989</td>\n      <td>0.00</td>\n      <td>google</td>\n    </tr>\n    <tr>\n      <th>2796</th>\n      <td>Games</td>\n      <td>0.0</td>\n      <td>0</td>\n      <td>0.00</td>\n      <td>apple</td>\n    </tr>\n    <tr>\n      <th>11421</th>\n      <td>COMMUNICATION</td>\n      <td>4.2</td>\n      <td>594720</td>\n      <td>0.00</td>\n      <td>google</td>\n    </tr>\n    <tr>\n      <th>11910</th>\n      <td>FAMILY</td>\n      <td>4.6</td>\n      <td>856</td>\n      <td>0.00</td>\n      <td>google</td>\n    </tr>\n    <tr>\n      <th>13146</th>\n      <td>TRAVEL_AND_LOCAL</td>\n      <td>2.5</td>\n      <td>862</td>\n      <td>0.00</td>\n      <td>google</td>\n    </tr>\n    <tr>\n      <th>13851</th>\n      <td>PHOTOGRAPHY</td>\n      <td>4.3</td>\n      <td>244302</td>\n      <td>0.00</td>\n      <td>google</td>\n    </tr>\n    <tr>\n      <th>4313</th>\n      <td>Games</td>\n      <td>0.0</td>\n      <td>0</td>\n      <td>0.00</td>\n      <td>apple</td>\n    </tr>\n  </tbody>\n</table>\n</div>"
     },
     "execution_count": 19,
     "metadata": {},
     "output_type": "execute_result"
    }
   ],
   "source": [
    "# Lets check first the dimesions of df before droping `NaN` values. Use the .shape feature. \n",
    "print(df.shape)\n",
    "\n",
    "# Use the dropna() method to eliminate all the NaN values, and overwrite the same dataframe with the result. \n",
    "# Note: dropna() by default removes all rows containing at least one NaN. \n",
    "#_ _ _\n",
    "df  = df.dropna(axis=0)\n",
    "\n",
    "# Check the new dimesions of our dataframe. \n",
    "print(df.shape)\n",
    "df.sample(n=12)"
   ]
  },
  {
   "cell_type": "markdown",
   "metadata": {},
   "source": [
    "### 2f. Filter the data so that we only see whose apps that have been reviewed at least once\n",
    "\n",
    "Apps that haven't been reviewed yet can't help us solve our brief. \n",
    "\n",
    "So let's check to see if any apps have no reviews at all. "
   ]
  },
  {
   "cell_type": "code",
   "execution_count": 20,
   "metadata": {},
   "outputs": [
    {
     "data": {
      "text/plain": "Category    929\nRating      929\nReviews     929\nPrice       929\nplatform    929\ndtype: int64"
     },
     "execution_count": 20,
     "metadata": {},
     "output_type": "execute_result"
    }
   ],
   "source": [
    "# Subset your df to pick out just those rows whose value for 'Reviews' is equal to 0. \n",
    "# Do a count() on the result. \n",
    "df[df['Reviews'] == 0].count()"
   ]
  },
  {
   "cell_type": "markdown",
   "metadata": {},
   "source": [
    "929 apps do not have reviews, we need to eliminate these points!"
   ]
  },
  {
   "cell_type": "code",
   "execution_count": 21,
   "metadata": {},
   "outputs": [
    {
     "data": {
      "text/plain": "Category    0\nRating      0\nReviews     0\nPrice       0\nplatform    0\ndtype: int64"
     },
     "execution_count": 21,
     "metadata": {},
     "output_type": "execute_result"
    }
   ],
   "source": [
    "# Eliminate the points that have 0 reviews.\n",
    "# An elegant way to do this is to assign df the result of picking out just those rows in df whose value for 'Reviews' is NOT 0.\n",
    "df = df[df['Reviews'] != 0]\n",
    "df[df['Reviews'] == 0].count()"
   ]
  },
  {
   "cell_type": "markdown",
   "metadata": {},
   "source": [
    "### 2g. Summarize the data visually and analytically (by the column `platform`)"
   ]
  },
  {
   "cell_type": "markdown",
   "metadata": {},
   "source": [
    "What we need to solve our brief is a summary of the `Rating` column, but separated by the different platforms."
   ]
  },
  {
   "cell_type": "code",
   "execution_count": 22,
   "metadata": {},
   "outputs": [
    {
     "data": {
      "text/plain": "          Rating                                             \n           count      mean       std  min  25%  50%  75%  max\nplatform                                                     \napple     6268.0  4.049697  0.726943  1.0  4.0  4.5  4.5  5.0\ngoogle    9366.0  4.191757  0.515219  1.0  4.0  4.3  4.5  5.0",
      "text/html": "<div>\n<style scoped>\n    .dataframe tbody tr th:only-of-type {\n        vertical-align: middle;\n    }\n\n    .dataframe tbody tr th {\n        vertical-align: top;\n    }\n\n    .dataframe thead tr th {\n        text-align: left;\n    }\n\n    .dataframe thead tr:last-of-type th {\n        text-align: right;\n    }\n</style>\n<table border=\"1\" class=\"dataframe\">\n  <thead>\n    <tr>\n      <th></th>\n      <th colspan=\"8\" halign=\"left\">Rating</th>\n    </tr>\n    <tr>\n      <th></th>\n      <th>count</th>\n      <th>mean</th>\n      <th>std</th>\n      <th>min</th>\n      <th>25%</th>\n      <th>50%</th>\n      <th>75%</th>\n      <th>max</th>\n    </tr>\n    <tr>\n      <th>platform</th>\n      <th></th>\n      <th></th>\n      <th></th>\n      <th></th>\n      <th></th>\n      <th></th>\n      <th></th>\n      <th></th>\n    </tr>\n  </thead>\n  <tbody>\n    <tr>\n      <th>apple</th>\n      <td>6268.0</td>\n      <td>4.049697</td>\n      <td>0.726943</td>\n      <td>1.0</td>\n      <td>4.0</td>\n      <td>4.5</td>\n      <td>4.5</td>\n      <td>5.0</td>\n    </tr>\n    <tr>\n      <th>google</th>\n      <td>9366.0</td>\n      <td>4.191757</td>\n      <td>0.515219</td>\n      <td>1.0</td>\n      <td>4.0</td>\n      <td>4.3</td>\n      <td>4.5</td>\n      <td>5.0</td>\n    </tr>\n  </tbody>\n</table>\n</div>"
     },
     "execution_count": 22,
     "metadata": {},
     "output_type": "execute_result"
    }
   ],
   "source": [
    "# To summarize analytically, let's use the groupby() method on our df.\n",
    "# For its parameters, let's assign its 'by' parameter 'platform', and then make sure we're seeing 'Rating' too. \n",
    "# Finally, call describe() on the result. We can do this in one line, but this isn't necessary. \n",
    "df[['Rating', 'platform']].groupby(df['platform']).describe()"
   ]
  },
  {
   "cell_type": "markdown",
   "metadata": {},
   "source": [
    "Interesting! Our means of 4.049697 and 4.191757 don't **seem** all that different! Perhaps we've solved our brief already: there's no significant difference between Google Play app reviews and Apple Store app reviews. We have an ***observed difference*** here: which is simply (4.191757 - 4.049697) = 0.14206. This is just the actual difference that we observed between the mean rating for apps from Google Play, and the mean rating for apps from the Apple Store. Let's look at how we're going to use this observed difference to solve our problem using a statistical test. \n",
    "\n",
    "**Outline of our method:**\n",
    "1. We'll assume that platform (i.e, whether the app was Google or Apple) really doesn’t impact on ratings. \n",
    "\n",
    "\n",
    "2. Given this assumption, we should actually be able to get a difference in mean rating for Apple apps and mean rating for Google apps that's pretty similar to the one we actually got (0.14206) just by: \n",
    "a. shuffling the ratings column, \n",
    "b. keeping the platform column the same,\n",
    "c. calculating the difference between the mean rating for Apple and the mean rating for Google. \n",
    "\n",
    "\n",
    "3. We can make the shuffle more useful by doing it many times, each time calculating the mean rating for Apple apps and the mean rating for Google apps, and the difference between these means. \n",
    "\n",
    "\n",
    "4. We can then take the mean of all these differences, and this will be called our permutation difference. This permutation difference will be great indicator of what the difference would be if our initial assumption were true and platform really doesn’t impact on ratings. \n",
    "\n",
    "\n",
    "5. Now we do a comparison. If the observed difference looks just like the permutation difference, then we stick with the claim that actually, platform doesn’t impact on ratings. If instead, however, the permutation difference differs significantly from the observed difference, we'll conclude: something's going on; the platform does in fact impact on ratings. \n",
    "\n",
    "\n",
    "6. As for what the definition of *significantly* is, we'll get to that. But there’s a brief summary of what we're going to do. Exciting!\n",
    "\n",
    "If you want to look more deeply at the statistics behind this project, check out [this resource](https://www.springboard.com/archeio/download/4ea4d453b0b84014bcef287c50f47f00/)."
   ]
  },
  {
   "cell_type": "markdown",
   "metadata": {},
   "source": [
    "Let's also get a **visual summary** of the `Rating` column, separated by the different platforms. \n",
    "\n",
    "A good tool to use here is the boxplot!"
   ]
  },
  {
   "cell_type": "code",
   "execution_count": 23,
   "metadata": {},
   "outputs": [
    {
     "data": {
      "text/plain": "array([<AxesSubplot:>, <AxesSubplot:>], dtype=object)"
     },
     "execution_count": 23,
     "metadata": {},
     "output_type": "execute_result"
    },
    {
     "data": {
      "text/plain": "<Figure size 432x288 with 2 Axes>",
      "image/png": "[encoded data removed]"
     },
     "metadata": {
      "needs_background": "light"
     },
     "output_type": "display_data"
    }
   ],
   "source": [
    "# Call the boxplot() method on our df.\n",
    "# Set the parameters: by = 'platform' and column = ['Rating'].\n",
    "df.plot(by='platform', column =['Rating'], grid=False, rot=45, fontsize=10)\n"
   ]
  },
  {
   "cell_type": "markdown",
   "metadata": {},
   "source": [
    "Here we see the same information as in the analytical summary, but with a boxplot. Can you see how the boxplot is working here? If you need to revise your boxplots, check out this this [link](https://www.kaggle.com/ramamet4/app-store-apple-data-set-10k-apps). "
   ]
  }
 ],
 "metadata": {
  "kernelspec": {
   "display_name": "Python 3",
   "language": "python",
   "name": "python3"
  },
  "language_info": {
   "codemirror_mode": {
    "name": "ipython",
    "version": 3
   },
   "file_extension": ".py",
   "mimetype": "text/x-python",
   "name": "python",
   "nbconvert_exporter": "python",
   "pygments_lexer": "ipython3",
   "version": "3.7.3"
  }
 },
 "nbformat": 4,
 "nbformat_minor": 2
}
