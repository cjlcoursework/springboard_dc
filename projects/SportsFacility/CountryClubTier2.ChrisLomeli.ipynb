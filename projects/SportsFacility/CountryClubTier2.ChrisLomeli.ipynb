{
 "cells": [
  {
   "cell_type": "markdown",
   "source": [
    "\n",
    "### Case Study - Country Club\n",
    "\n",
    "\n",
    "**Course**:     Section 16 Data Science\n",
    "**Assignment**: Case Study - Country Club\n",
    "**Instructions**:  Export the country club data from PHPMyAdmin, and connect to a local SQLite instance from Jupyter notebook for the following questions."
   ],
   "metadata": {
    "collapsed": false
   }
  },
  {
   "cell_type": "code",
   "execution_count": 77,
   "outputs": [],
   "source": [
    "import pandas as pd\n",
    "from sqlalchemy import create_engine\n",
    "\n",
    "engine = create_engine('sqlite:///sqlite_db_pythonsqlite.db')"
   ],
   "metadata": {
    "collapsed": false
   }
  },
  {
   "cell_type": "markdown",
   "source": [
    "### Sql statements"
   ],
   "metadata": {
    "collapsed": false
   }
  },
  {
   "cell_type": "code",
   "execution_count": 78,
   "outputs": [],
   "source": [
    "# Q10: Produce a list of facilities with a total revenue less than 1000\n",
    "sql_facilities_with_low_revenue = \"\"\"\n",
    "with booking_revenue as (\n",
    "    select\n",
    "        F.name as facility,\n",
    "        case when memid = 0 then (F.guestcost * slots) else (F.membercost * slots) end as booking_cost\n",
    "    from Facilities as F\n",
    "    inner join Bookings as B using (facid)\n",
    ")\n",
    "select facility, round(sum(booking_cost),2) as total_revenue\n",
    "from booking_revenue\n",
    "group by facility\n",
    "having total_revenue < 1000\n",
    "order by total_revenue desc\n",
    "\"\"\"\n",
    "\n",
    "# Q11: Produce a report of members and who recommended them in alphabetic surname,firstname order\n",
    "sql_member_recommendations =\"\"\"\n",
    "select m1.firstname||\" \"||m1.surname as member, m2.firstname||\" \"||m2.surname recomended_by\n",
    "from Members m1\n",
    "inner join Members as m2 on m2.memid = m1.recommendedby\n",
    "order by m1.surname, m1.firstname\n",
    "\"\"\"\n",
    "\n",
    "# Q12: Find the facilities with their usage by member, but not guests\n",
    "sql_facility_usage_by_member = \"\"\"\n",
    "select F.name, M.firstname||\" \"||M.surname as member, count(*) as bookings\n",
    "from Facilities F\n",
    "    inner join Bookings B using(facid)\n",
    "inner join Members M using(memid)\n",
    "where memid != 0\n",
    "group by F.name, B.memid\n",
    "order by F.name, bookings DESC\n",
    "\"\"\"\n",
    "\n",
    "# Q13: Find the facilities usage by month, but not guests\n",
    "sql_facility_usage_by_month = \"\"\"\n",
    "select F.name, substr(starttime,1,7) as month, count(bookid)\n",
    "from Bookings\n",
    "inner join Facilities F using(facid)\n",
    "where memid != 0\n",
    "group by F.name, month\n",
    "order by F.name, month;\n",
    "\"\"\"\n",
    "\n"
   ],
   "metadata": {
    "collapsed": false
   }
  },
  {
   "cell_type": "markdown",
   "source": [
    "### Questions and Answers"
   ],
   "metadata": {
    "collapsed": false
   }
  },
  {
   "cell_type": "markdown",
   "source": [
    "---\n",
    "Q10: Produce a list of facilities with a total revenue less than 1000.\n",
    " The output of facility name and total revenue, sorted by revenue. Remember\n",
    " that there's a different cost for guests and members!"
   ],
   "metadata": {
    "collapsed": false
   }
  },
  {
   "cell_type": "code",
   "execution_count": 79,
   "outputs": [
    {
     "data": {
      "text/plain": "        facility  total_revenue\n0     Pool Table          270.0\n1  Snooker Table          240.0\n2   Table Tennis          180.0",
      "text/html": "<div>\n<style scoped>\n    .dataframe tbody tr th:only-of-type {\n        vertical-align: middle;\n    }\n\n    .dataframe tbody tr th {\n        vertical-align: top;\n    }\n\n    .dataframe thead th {\n        text-align: right;\n    }\n</style>\n<table border=\"1\" class=\"dataframe\">\n  <thead>\n    <tr style=\"text-align: right;\">\n      <th></th>\n      <th>facility</th>\n      <th>total_revenue</th>\n    </tr>\n  </thead>\n  <tbody>\n    <tr>\n      <th>0</th>\n      <td>Pool Table</td>\n      <td>270.0</td>\n    </tr>\n    <tr>\n      <th>1</th>\n      <td>Snooker Table</td>\n      <td>240.0</td>\n    </tr>\n    <tr>\n      <th>2</th>\n      <td>Table Tennis</td>\n      <td>180.0</td>\n    </tr>\n  </tbody>\n</table>\n</div>"
     },
     "execution_count": 79,
     "metadata": {},
     "output_type": "execute_result"
    }
   ],
   "source": [
    "df = pd.read_sql_query(sql_facilities_with_low_revenue, engine)\n",
    "df"
   ],
   "metadata": {
    "collapsed": false
   }
  },
  {
   "cell_type": "markdown",
   "source": [
    "---\n",
    "Q11: Produce a report of members and who recommended them in alphabetic surname,firstname order"
   ],
   "metadata": {
    "collapsed": false
   }
  },
  {
   "cell_type": "code",
   "execution_count": 80,
   "outputs": [
    {
     "data": {
      "text/plain": "                     member      recomended_by\n0            Florence Bader    Ponder Stibbons\n1                Anne Baker    Ponder Stibbons\n2             Timothy Baker     Jemima Farrell\n3                Tim Boothe         Tim Rownam\n4            Gerald Butters       Darren Smith\n5               Joan Coplin      Timothy Baker\n6             Erica Crumpet        Tracy Smith\n7                Nancy Dare    Janice Joplette\n8           Matthew Genting     Gerald Butters\n9                 John Hunt  Millicent Purview\n10              David Jones    Janice Joplette\n11            Douglas Jones        David Jones\n12          Janice Joplette       Darren Smith\n13           Anna Mackenzie       Darren Smith\n14             Charles Owen       Darren Smith\n15             David Pinker     Jemima Farrell\n16        Millicent Purview        Tracy Smith\n17         Henrietta Rumney    Matthew Genting\n18         Ramnaresh Sarwin     Florence Bader\n19               Jack Smith       Darren Smith\n20          Ponder Stibbons       Burton Tracy\n21  Henry Worthington-Smyth        Tracy Smith",
      "text/html": "<div>\n<style scoped>\n    .dataframe tbody tr th:only-of-type {\n        vertical-align: middle;\n    }\n\n    .dataframe tbody tr th {\n        vertical-align: top;\n    }\n\n    .dataframe thead th {\n        text-align: right;\n    }\n</style>\n<table border=\"1\" class=\"dataframe\">\n  <thead>\n    <tr style=\"text-align: right;\">\n      <th></th>\n      <th>member</th>\n      <th>recomended_by</th>\n    </tr>\n  </thead>\n  <tbody>\n    <tr>\n      <th>0</th>\n      <td>Florence Bader</td>\n      <td>Ponder Stibbons</td>\n    </tr>\n    <tr>\n      <th>1</th>\n      <td>Anne Baker</td>\n      <td>Ponder Stibbons</td>\n    </tr>\n    <tr>\n      <th>2</th>\n      <td>Timothy Baker</td>\n      <td>Jemima Farrell</td>\n    </tr>\n    <tr>\n      <th>3</th>\n      <td>Tim Boothe</td>\n      <td>Tim Rownam</td>\n    </tr>\n    <tr>\n      <th>4</th>\n      <td>Gerald Butters</td>\n      <td>Darren Smith</td>\n    </tr>\n    <tr>\n      <th>5</th>\n      <td>Joan Coplin</td>\n      <td>Timothy Baker</td>\n    </tr>\n    <tr>\n      <th>6</th>\n      <td>Erica Crumpet</td>\n      <td>Tracy Smith</td>\n    </tr>\n    <tr>\n      <th>7</th>\n      <td>Nancy Dare</td>\n      <td>Janice Joplette</td>\n    </tr>\n    <tr>\n      <th>8</th>\n      <td>Matthew Genting</td>\n      <td>Gerald Butters</td>\n    </tr>\n    <tr>\n      <th>9</th>\n      <td>John Hunt</td>\n      <td>Millicent Purview</td>\n    </tr>\n    <tr>\n      <th>10</th>\n      <td>David Jones</td>\n      <td>Janice Joplette</td>\n    </tr>\n    <tr>\n      <th>11</th>\n      <td>Douglas Jones</td>\n      <td>David Jones</td>\n    </tr>\n    <tr>\n      <th>12</th>\n      <td>Janice Joplette</td>\n      <td>Darren Smith</td>\n    </tr>\n    <tr>\n      <th>13</th>\n      <td>Anna Mackenzie</td>\n      <td>Darren Smith</td>\n    </tr>\n    <tr>\n      <th>14</th>\n      <td>Charles Owen</td>\n      <td>Darren Smith</td>\n    </tr>\n    <tr>\n      <th>15</th>\n      <td>David Pinker</td>\n      <td>Jemima Farrell</td>\n    </tr>\n    <tr>\n      <th>16</th>\n      <td>Millicent Purview</td>\n      <td>Tracy Smith</td>\n    </tr>\n    <tr>\n      <th>17</th>\n      <td>Henrietta Rumney</td>\n      <td>Matthew Genting</td>\n    </tr>\n    <tr>\n      <th>18</th>\n      <td>Ramnaresh Sarwin</td>\n      <td>Florence Bader</td>\n    </tr>\n    <tr>\n      <th>19</th>\n      <td>Jack Smith</td>\n      <td>Darren Smith</td>\n    </tr>\n    <tr>\n      <th>20</th>\n      <td>Ponder Stibbons</td>\n      <td>Burton Tracy</td>\n    </tr>\n    <tr>\n      <th>21</th>\n      <td>Henry Worthington-Smyth</td>\n      <td>Tracy Smith</td>\n    </tr>\n  </tbody>\n</table>\n</div>"
     },
     "execution_count": 80,
     "metadata": {},
     "output_type": "execute_result"
    }
   ],
   "source": [
    "df = pd.read_sql_query(sql_member_recommendations, engine)\n",
    "df"
   ],
   "metadata": {
    "collapsed": false
   }
  },
  {
   "cell_type": "markdown",
   "source": [
    "---\n",
    "Q12: Find the facilities with their usage by member, but not guests"
   ],
   "metadata": {
    "collapsed": false
   }
  },
  {
   "cell_type": "code",
   "execution_count": 81,
   "outputs": [
    {
     "data": {
      "text/plain": "                name                   member  bookings\n140     Table Tennis             Burton Tracy        24\n13   Badminton Court            Timothy Baker         7\n66        Pool Table             Darren Smith        28\n86        Pool Table             Charles Owen         1\n128     Squash Court      Hyacinth Tupperware         1\n57    Massage Room 2          Matthew Genting         1\n184   Tennis Court 2          Ponder Stibbons        31\n41    Massage Room 1             David Pinker         3\n88     Snooker Table              Tracy Smith        45\n29    Massage Room 1             Darren Smith        28\n171   Tennis Court 1               Anne Baker         6\n50    Massage Room 2         Ramnaresh Sarwin         3\n68        Pool Table            David Farrell        25\n164   Tennis Court 1          Janice Joplette        19\n16   Badminton Court  Henry Worthington-Smyth         4\n126     Squash Court          Ponder Stibbons         2\n63        Pool Table              Tracy Smith        61\n148     Table Tennis               Jack Smith         5\n12   Badminton Court             David Pinker         7\n123     Squash Court         Ramnaresh Sarwin         2\n167   Tennis Court 1            Timothy Baker        14\n180   Tennis Court 1          Ponder Stibbons         1\n136     Table Tennis             Darren Smith        28\n192   Tennis Court 2               Tim Rownam         6\n32    Massage Room 1            Timothy Baker        24",
      "text/html": "<div>\n<style scoped>\n    .dataframe tbody tr th:only-of-type {\n        vertical-align: middle;\n    }\n\n    .dataframe tbody tr th {\n        vertical-align: top;\n    }\n\n    .dataframe thead th {\n        text-align: right;\n    }\n</style>\n<table border=\"1\" class=\"dataframe\">\n  <thead>\n    <tr style=\"text-align: right;\">\n      <th></th>\n      <th>name</th>\n      <th>member</th>\n      <th>bookings</th>\n    </tr>\n  </thead>\n  <tbody>\n    <tr>\n      <th>140</th>\n      <td>Table Tennis</td>\n      <td>Burton Tracy</td>\n      <td>24</td>\n    </tr>\n    <tr>\n      <th>13</th>\n      <td>Badminton Court</td>\n      <td>Timothy Baker</td>\n      <td>7</td>\n    </tr>\n    <tr>\n      <th>66</th>\n      <td>Pool Table</td>\n      <td>Darren Smith</td>\n      <td>28</td>\n    </tr>\n    <tr>\n      <th>86</th>\n      <td>Pool Table</td>\n      <td>Charles Owen</td>\n      <td>1</td>\n    </tr>\n    <tr>\n      <th>128</th>\n      <td>Squash Court</td>\n      <td>Hyacinth Tupperware</td>\n      <td>1</td>\n    </tr>\n    <tr>\n      <th>57</th>\n      <td>Massage Room 2</td>\n      <td>Matthew Genting</td>\n      <td>1</td>\n    </tr>\n    <tr>\n      <th>184</th>\n      <td>Tennis Court 2</td>\n      <td>Ponder Stibbons</td>\n      <td>31</td>\n    </tr>\n    <tr>\n      <th>41</th>\n      <td>Massage Room 1</td>\n      <td>David Pinker</td>\n      <td>3</td>\n    </tr>\n    <tr>\n      <th>88</th>\n      <td>Snooker Table</td>\n      <td>Tracy Smith</td>\n      <td>45</td>\n    </tr>\n    <tr>\n      <th>29</th>\n      <td>Massage Room 1</td>\n      <td>Darren Smith</td>\n      <td>28</td>\n    </tr>\n    <tr>\n      <th>171</th>\n      <td>Tennis Court 1</td>\n      <td>Anne Baker</td>\n      <td>6</td>\n    </tr>\n    <tr>\n      <th>50</th>\n      <td>Massage Room 2</td>\n      <td>Ramnaresh Sarwin</td>\n      <td>3</td>\n    </tr>\n    <tr>\n      <th>68</th>\n      <td>Pool Table</td>\n      <td>David Farrell</td>\n      <td>25</td>\n    </tr>\n    <tr>\n      <th>164</th>\n      <td>Tennis Court 1</td>\n      <td>Janice Joplette</td>\n      <td>19</td>\n    </tr>\n    <tr>\n      <th>16</th>\n      <td>Badminton Court</td>\n      <td>Henry Worthington-Smyth</td>\n      <td>4</td>\n    </tr>\n    <tr>\n      <th>126</th>\n      <td>Squash Court</td>\n      <td>Ponder Stibbons</td>\n      <td>2</td>\n    </tr>\n    <tr>\n      <th>63</th>\n      <td>Pool Table</td>\n      <td>Tracy Smith</td>\n      <td>61</td>\n    </tr>\n    <tr>\n      <th>148</th>\n      <td>Table Tennis</td>\n      <td>Jack Smith</td>\n      <td>5</td>\n    </tr>\n    <tr>\n      <th>12</th>\n      <td>Badminton Court</td>\n      <td>David Pinker</td>\n      <td>7</td>\n    </tr>\n    <tr>\n      <th>123</th>\n      <td>Squash Court</td>\n      <td>Ramnaresh Sarwin</td>\n      <td>2</td>\n    </tr>\n    <tr>\n      <th>167</th>\n      <td>Tennis Court 1</td>\n      <td>Timothy Baker</td>\n      <td>14</td>\n    </tr>\n    <tr>\n      <th>180</th>\n      <td>Tennis Court 1</td>\n      <td>Ponder Stibbons</td>\n      <td>1</td>\n    </tr>\n    <tr>\n      <th>136</th>\n      <td>Table Tennis</td>\n      <td>Darren Smith</td>\n      <td>28</td>\n    </tr>\n    <tr>\n      <th>192</th>\n      <td>Tennis Court 2</td>\n      <td>Tim Rownam</td>\n      <td>6</td>\n    </tr>\n    <tr>\n      <th>32</th>\n      <td>Massage Room 1</td>\n      <td>Timothy Baker</td>\n      <td>24</td>\n    </tr>\n  </tbody>\n</table>\n</div>"
     },
     "execution_count": 81,
     "metadata": {},
     "output_type": "execute_result"
    }
   ],
   "source": [
    "df = pd.read_sql_query(sql_facility_usage_by_member, engine)\n",
    "df.sample(25)"
   ],
   "metadata": {
    "collapsed": false
   }
  },
  {
   "cell_type": "markdown",
   "source": [
    "---\n",
    "Q13: Find the facilities usage by month, but not guests"
   ],
   "metadata": {
    "collapsed": false
   }
  },
  {
   "cell_type": "code",
   "execution_count": 82,
   "outputs": [
    {
     "data": {
      "text/plain": "               name    month  count(bookid)\n0   Badminton Court  2012-07             51\n1   Badminton Court  2012-08            132\n2   Badminton Court  2012-09            161\n3    Massage Room 1  2012-07             77\n4    Massage Room 1  2012-08            153\n5    Massage Room 1  2012-09            191\n6    Massage Room 2  2012-07              4\n7    Massage Room 2  2012-08              9\n8    Massage Room 2  2012-09             14\n9        Pool Table  2012-07            103\n10       Pool Table  2012-08            272\n11       Pool Table  2012-09            408\n12    Snooker Table  2012-07             68\n13    Snooker Table  2012-08            154\n14    Snooker Table  2012-09            199\n15     Squash Court  2012-07             23\n16     Squash Court  2012-08             85\n17     Squash Court  2012-09             87\n18     Table Tennis  2012-07             48\n19     Table Tennis  2012-08            143\n20     Table Tennis  2012-09            194\n21   Tennis Court 1  2012-07             65\n22   Tennis Court 1  2012-08            111\n23   Tennis Court 1  2012-09            132\n24   Tennis Court 2  2012-07             41\n25   Tennis Court 2  2012-08            109\n26   Tennis Court 2  2012-09            126",
      "text/html": "<div>\n<style scoped>\n    .dataframe tbody tr th:only-of-type {\n        vertical-align: middle;\n    }\n\n    .dataframe tbody tr th {\n        vertical-align: top;\n    }\n\n    .dataframe thead th {\n        text-align: right;\n    }\n</style>\n<table border=\"1\" class=\"dataframe\">\n  <thead>\n    <tr style=\"text-align: right;\">\n      <th></th>\n      <th>name</th>\n      <th>month</th>\n      <th>count(bookid)</th>\n    </tr>\n  </thead>\n  <tbody>\n    <tr>\n      <th>0</th>\n      <td>Badminton Court</td>\n      <td>2012-07</td>\n      <td>51</td>\n    </tr>\n    <tr>\n      <th>1</th>\n      <td>Badminton Court</td>\n      <td>2012-08</td>\n      <td>132</td>\n    </tr>\n    <tr>\n      <th>2</th>\n      <td>Badminton Court</td>\n      <td>2012-09</td>\n      <td>161</td>\n    </tr>\n    <tr>\n      <th>3</th>\n      <td>Massage Room 1</td>\n      <td>2012-07</td>\n      <td>77</td>\n    </tr>\n    <tr>\n      <th>4</th>\n      <td>Massage Room 1</td>\n      <td>2012-08</td>\n      <td>153</td>\n    </tr>\n    <tr>\n      <th>5</th>\n      <td>Massage Room 1</td>\n      <td>2012-09</td>\n      <td>191</td>\n    </tr>\n    <tr>\n      <th>6</th>\n      <td>Massage Room 2</td>\n      <td>2012-07</td>\n      <td>4</td>\n    </tr>\n    <tr>\n      <th>7</th>\n      <td>Massage Room 2</td>\n      <td>2012-08</td>\n      <td>9</td>\n    </tr>\n    <tr>\n      <th>8</th>\n      <td>Massage Room 2</td>\n      <td>2012-09</td>\n      <td>14</td>\n    </tr>\n    <tr>\n      <th>9</th>\n      <td>Pool Table</td>\n      <td>2012-07</td>\n      <td>103</td>\n    </tr>\n    <tr>\n      <th>10</th>\n      <td>Pool Table</td>\n      <td>2012-08</td>\n      <td>272</td>\n    </tr>\n    <tr>\n      <th>11</th>\n      <td>Pool Table</td>\n      <td>2012-09</td>\n      <td>408</td>\n    </tr>\n    <tr>\n      <th>12</th>\n      <td>Snooker Table</td>\n      <td>2012-07</td>\n      <td>68</td>\n    </tr>\n    <tr>\n      <th>13</th>\n      <td>Snooker Table</td>\n      <td>2012-08</td>\n      <td>154</td>\n    </tr>\n    <tr>\n      <th>14</th>\n      <td>Snooker Table</td>\n      <td>2012-09</td>\n      <td>199</td>\n    </tr>\n    <tr>\n      <th>15</th>\n      <td>Squash Court</td>\n      <td>2012-07</td>\n      <td>23</td>\n    </tr>\n    <tr>\n      <th>16</th>\n      <td>Squash Court</td>\n      <td>2012-08</td>\n      <td>85</td>\n    </tr>\n    <tr>\n      <th>17</th>\n      <td>Squash Court</td>\n      <td>2012-09</td>\n      <td>87</td>\n    </tr>\n    <tr>\n      <th>18</th>\n      <td>Table Tennis</td>\n      <td>2012-07</td>\n      <td>48</td>\n    </tr>\n    <tr>\n      <th>19</th>\n      <td>Table Tennis</td>\n      <td>2012-08</td>\n      <td>143</td>\n    </tr>\n    <tr>\n      <th>20</th>\n      <td>Table Tennis</td>\n      <td>2012-09</td>\n      <td>194</td>\n    </tr>\n    <tr>\n      <th>21</th>\n      <td>Tennis Court 1</td>\n      <td>2012-07</td>\n      <td>65</td>\n    </tr>\n    <tr>\n      <th>22</th>\n      <td>Tennis Court 1</td>\n      <td>2012-08</td>\n      <td>111</td>\n    </tr>\n    <tr>\n      <th>23</th>\n      <td>Tennis Court 1</td>\n      <td>2012-09</td>\n      <td>132</td>\n    </tr>\n    <tr>\n      <th>24</th>\n      <td>Tennis Court 2</td>\n      <td>2012-07</td>\n      <td>41</td>\n    </tr>\n    <tr>\n      <th>25</th>\n      <td>Tennis Court 2</td>\n      <td>2012-08</td>\n      <td>109</td>\n    </tr>\n    <tr>\n      <th>26</th>\n      <td>Tennis Court 2</td>\n      <td>2012-09</td>\n      <td>126</td>\n    </tr>\n  </tbody>\n</table>\n</div>"
     },
     "execution_count": 82,
     "metadata": {},
     "output_type": "execute_result"
    }
   ],
   "source": [
    "df = pd.read_sql_query(sql_facility_usage_by_month, engine)\n",
    "df"
   ],
   "metadata": {
    "collapsed": false
   }
  }
 ],
 "metadata": {
  "kernelspec": {
   "display_name": "Python 3",
   "language": "python",
   "name": "python3"
  },
  "language_info": {
   "codemirror_mode": {
    "name": "ipython",
    "version": 2
   },
   "file_extension": ".py",
   "mimetype": "text/x-python",
   "name": "python",
   "nbconvert_exporter": "python",
   "pygments_lexer": "ipython2",
   "version": "2.7.6"
  }
 },
 "nbformat": 4,
 "nbformat_minor": 0
}
