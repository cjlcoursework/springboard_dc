{
 "cells": [
  {
   "cell_type": "markdown",
   "source": [
    "/* Welcome to the SQL mini project. You will carry out this project partly in\n",
    "the PHPMyAdmin interface, and partly in Jupyter via a Python connection.\n",
    "\n",
    "This is Tier 2 of the case study, which means that there'll be less guidance for you about how to setup\n",
    "your local SQLite connection in PART 2 of the case study. This will make the case study more challenging for you:\n",
    "you might need to do some digging, aand revise the Working with Relational Databases in Python chapter in the previous resource.\n",
    "\n",
    "Otherwise, the questions in the case study are exactly the same as with Tier 1.\n",
    "\n",
    "PART 1: PHPMyAdmin\n",
    "You will complete questions 1-9 below in the PHPMyAdmin interface.\n",
    "Log in by pasting the following URL into your browser, and\n",
    "using the following Username and Password:\n",
    "\n",
    "URL: https://sql.springboard.com/\n",
    "Username: student\n",
    "Password: learn_sql@springboard\n",
    "\n",
    "The data you need is in the \"country_club\" database. This database\n",
    "contains 3 tables:\n",
    "    i) the \"Bookings\" table,\n",
    "    ii) the \"Facilities\" table, and\n",
    "    iii) the \"Members\" table.\n",
    "\n",
    "In this case study, you'll be asked a series of questions. You can\n",
    "solve them using the platform, but for the final deliverable,\n",
    "paste the code for each solution into this script, and upload it\n",
    "to your GitHub.\n",
    "\n",
    "Before starting with the questions, feel free to take your time,\n",
    "exploring the data, and getting acquainted with the 3 tables. */\n",
    "\n"
   ],
   "metadata": {
    "collapsed": false
   }
  },
  {
   "cell_type": "code",
   "execution_count": 12,
   "outputs": [],
   "source": [
    "import pandas as pd\n",
    "from sqlalchemy import create_engine\n",
    "\n",
    "engine = create_engine('sqlite:///sqlite_db_pythonsqlite.db')"
   ],
   "metadata": {
    "collapsed": false
   }
  },
  {
   "cell_type": "markdown",
   "source": [
    "## Questions"
   ],
   "metadata": {
    "collapsed": false
   }
  },
  {
   "cell_type": "markdown",
   "source": [
    "\n",
    "#### Q1: Some of the facilities charge a fee to members, but some do not.\n",
    "Write a SQL query to produce a list of the names of the facilities that do. */\n"
   ],
   "metadata": {
    "collapsed": false
   }
  },
  {
   "cell_type": "code",
   "execution_count": 13,
   "outputs": [
    {
     "data": {
      "text/plain": "   facid            name  membercost  guestcost  initialoutlay  \\\n0      0  Tennis Court 1         5.0       25.0          10000   \n1      1  Tennis Court 2         5.0       25.0           8000   \n2      4  Massage Room 1         9.9       80.0           4000   \n3      5  Massage Room 2         9.9       80.0           4000   \n4      6    Squash Court         3.5       17.5           5000   \n\n   monthlymaintenance  \n0                 200  \n1                 200  \n2                3000  \n3                3000  \n4                  80  ",
      "text/html": "<div>\n<style scoped>\n    .dataframe tbody tr th:only-of-type {\n        vertical-align: middle;\n    }\n\n    .dataframe tbody tr th {\n        vertical-align: top;\n    }\n\n    .dataframe thead th {\n        text-align: right;\n    }\n</style>\n<table border=\"1\" class=\"dataframe\">\n  <thead>\n    <tr style=\"text-align: right;\">\n      <th></th>\n      <th>facid</th>\n      <th>name</th>\n      <th>membercost</th>\n      <th>guestcost</th>\n      <th>initialoutlay</th>\n      <th>monthlymaintenance</th>\n    </tr>\n  </thead>\n  <tbody>\n    <tr>\n      <th>0</th>\n      <td>0</td>\n      <td>Tennis Court 1</td>\n      <td>5.0</td>\n      <td>25.0</td>\n      <td>10000</td>\n      <td>200</td>\n    </tr>\n    <tr>\n      <th>1</th>\n      <td>1</td>\n      <td>Tennis Court 2</td>\n      <td>5.0</td>\n      <td>25.0</td>\n      <td>8000</td>\n      <td>200</td>\n    </tr>\n    <tr>\n      <th>2</th>\n      <td>4</td>\n      <td>Massage Room 1</td>\n      <td>9.9</td>\n      <td>80.0</td>\n      <td>4000</td>\n      <td>3000</td>\n    </tr>\n    <tr>\n      <th>3</th>\n      <td>5</td>\n      <td>Massage Room 2</td>\n      <td>9.9</td>\n      <td>80.0</td>\n      <td>4000</td>\n      <td>3000</td>\n    </tr>\n    <tr>\n      <th>4</th>\n      <td>6</td>\n      <td>Squash Court</td>\n      <td>3.5</td>\n      <td>17.5</td>\n      <td>5000</td>\n      <td>80</td>\n    </tr>\n  </tbody>\n</table>\n</div>"
     },
     "execution_count": 13,
     "metadata": {},
     "output_type": "execute_result"
    }
   ],
   "source": [
    "sql=\"\"\"select * from Facilities where membercost > 0\"\"\"\n",
    "df = pd.read_sql_query(sql, engine)\n",
    "df"
   ],
   "metadata": {
    "collapsed": false
   }
  },
  {
   "cell_type": "markdown",
   "source": [
    "#### Q2: How many facilities do not charge a fee to members?"
   ],
   "metadata": {
    "collapsed": false
   }
  },
  {
   "cell_type": "code",
   "execution_count": 14,
   "outputs": [
    {
     "data": {
      "text/plain": "   count(distinct facid)\n0                      4",
      "text/html": "<div>\n<style scoped>\n    .dataframe tbody tr th:only-of-type {\n        vertical-align: middle;\n    }\n\n    .dataframe tbody tr th {\n        vertical-align: top;\n    }\n\n    .dataframe thead th {\n        text-align: right;\n    }\n</style>\n<table border=\"1\" class=\"dataframe\">\n  <thead>\n    <tr style=\"text-align: right;\">\n      <th></th>\n      <th>count(distinct facid)</th>\n    </tr>\n  </thead>\n  <tbody>\n    <tr>\n      <th>0</th>\n      <td>4</td>\n    </tr>\n  </tbody>\n</table>\n</div>"
     },
     "execution_count": 14,
     "metadata": {},
     "output_type": "execute_result"
    }
   ],
   "source": [
    "sql=\"\"\"select count(distinct facid) from Facilities where membercost == 0\"\"\"\n",
    "df = pd.read_sql_query(sql, engine)\n",
    "df"
   ],
   "metadata": {
    "collapsed": false
   }
  },
  {
   "cell_type": "markdown",
   "source": [
    "#### Q3: Write an SQL query to show a list of facilities that charge a fee to members,\n",
    "where the fee is less than 20% of the facility's monthly maintenance cost.\n",
    "Return the facid, facility name, member cost, and monthly maintenance of the\n",
    "facilities in question.\n"
   ],
   "metadata": {
    "collapsed": false
   }
  },
  {
   "cell_type": "code",
   "execution_count": 15,
   "outputs": [
    {
     "data": {
      "text/plain": "   facid             name  membercost  monthlymaintenance\n0      0   Tennis Court 1         5.0                 200\n1      1   Tennis Court 2         5.0                 200\n2      2  Badminton Court         0.0                  50\n3      3     Table Tennis         0.0                  10\n4      4   Massage Room 1         9.9                3000\n5      5   Massage Room 2         9.9                3000\n6      6     Squash Court         3.5                  80\n7      7    Snooker Table         0.0                  15\n8      8       Pool Table         0.0                  15",
      "text/html": "<div>\n<style scoped>\n    .dataframe tbody tr th:only-of-type {\n        vertical-align: middle;\n    }\n\n    .dataframe tbody tr th {\n        vertical-align: top;\n    }\n\n    .dataframe thead th {\n        text-align: right;\n    }\n</style>\n<table border=\"1\" class=\"dataframe\">\n  <thead>\n    <tr style=\"text-align: right;\">\n      <th></th>\n      <th>facid</th>\n      <th>name</th>\n      <th>membercost</th>\n      <th>monthlymaintenance</th>\n    </tr>\n  </thead>\n  <tbody>\n    <tr>\n      <th>0</th>\n      <td>0</td>\n      <td>Tennis Court 1</td>\n      <td>5.0</td>\n      <td>200</td>\n    </tr>\n    <tr>\n      <th>1</th>\n      <td>1</td>\n      <td>Tennis Court 2</td>\n      <td>5.0</td>\n      <td>200</td>\n    </tr>\n    <tr>\n      <th>2</th>\n      <td>2</td>\n      <td>Badminton Court</td>\n      <td>0.0</td>\n      <td>50</td>\n    </tr>\n    <tr>\n      <th>3</th>\n      <td>3</td>\n      <td>Table Tennis</td>\n      <td>0.0</td>\n      <td>10</td>\n    </tr>\n    <tr>\n      <th>4</th>\n      <td>4</td>\n      <td>Massage Room 1</td>\n      <td>9.9</td>\n      <td>3000</td>\n    </tr>\n    <tr>\n      <th>5</th>\n      <td>5</td>\n      <td>Massage Room 2</td>\n      <td>9.9</td>\n      <td>3000</td>\n    </tr>\n    <tr>\n      <th>6</th>\n      <td>6</td>\n      <td>Squash Court</td>\n      <td>3.5</td>\n      <td>80</td>\n    </tr>\n    <tr>\n      <th>7</th>\n      <td>7</td>\n      <td>Snooker Table</td>\n      <td>0.0</td>\n      <td>15</td>\n    </tr>\n    <tr>\n      <th>8</th>\n      <td>8</td>\n      <td>Pool Table</td>\n      <td>0.0</td>\n      <td>15</td>\n    </tr>\n  </tbody>\n</table>\n</div>"
     },
     "execution_count": 15,
     "metadata": {},
     "output_type": "execute_result"
    }
   ],
   "source": [
    "sql=\"\"\"\n",
    "select facid, name, membercost, monthlymaintenance\n",
    "from Facilities\n",
    "where membercost < (monthlymaintenance * 0.2)\n",
    "\"\"\"\n",
    "\n",
    "df = pd.read_sql_query(sql, engine)\n",
    "df"
   ],
   "metadata": {
    "collapsed": false
   }
  },
  {
   "cell_type": "markdown",
   "source": [
    "#### Q4: Write an SQL query to retrieve the details of facilities with ID 1 and 5.\n",
    "Try writing the query without using the OR operator."
   ],
   "metadata": {
    "collapsed": false
   }
  },
  {
   "cell_type": "code",
   "execution_count": 16,
   "outputs": [
    {
     "data": {
      "text/plain": "   facid            name  membercost  guestcost  initialoutlay  \\\n0      1  Tennis Court 2         5.0         25           8000   \n1      5  Massage Room 2         9.9         80           4000   \n\n   monthlymaintenance  \n0                 200  \n1                3000  ",
      "text/html": "<div>\n<style scoped>\n    .dataframe tbody tr th:only-of-type {\n        vertical-align: middle;\n    }\n\n    .dataframe tbody tr th {\n        vertical-align: top;\n    }\n\n    .dataframe thead th {\n        text-align: right;\n    }\n</style>\n<table border=\"1\" class=\"dataframe\">\n  <thead>\n    <tr style=\"text-align: right;\">\n      <th></th>\n      <th>facid</th>\n      <th>name</th>\n      <th>membercost</th>\n      <th>guestcost</th>\n      <th>initialoutlay</th>\n      <th>monthlymaintenance</th>\n    </tr>\n  </thead>\n  <tbody>\n    <tr>\n      <th>0</th>\n      <td>1</td>\n      <td>Tennis Court 2</td>\n      <td>5.0</td>\n      <td>25</td>\n      <td>8000</td>\n      <td>200</td>\n    </tr>\n    <tr>\n      <th>1</th>\n      <td>5</td>\n      <td>Massage Room 2</td>\n      <td>9.9</td>\n      <td>80</td>\n      <td>4000</td>\n      <td>3000</td>\n    </tr>\n  </tbody>\n</table>\n</div>"
     },
     "execution_count": 16,
     "metadata": {},
     "output_type": "execute_result"
    }
   ],
   "source": [
    "sql=\"\"\"\n",
    "select *\n",
    "from Facilities\n",
    "where facid in (1,5)\n",
    "\"\"\"\n",
    "\n",
    "df = pd.read_sql_query(sql, engine)\n",
    "df"
   ],
   "metadata": {
    "collapsed": false
   }
  },
  {
   "cell_type": "markdown",
   "source": [
    "#### Q5: Produce a list of facilities, with each labelled as 'cheap' or 'expensive'\n",
    "depending on if their monthly maintenance cost is\n",
    "more than $100. Return the name and monthly maintenance of the facilities\n",
    "in question.\n"
   ],
   "metadata": {
    "collapsed": false
   }
  },
  {
   "cell_type": "code",
   "execution_count": 17,
   "outputs": [
    {
     "data": {
      "text/plain": "              name  monthlymaintenance       cost\n0   Tennis Court 1                 200  expensive\n1   Tennis Court 2                 200  expensive\n2  Badminton Court                  50      cheap\n3     Table Tennis                  10      cheap\n4   Massage Room 1                3000  expensive\n5   Massage Room 2                3000  expensive\n6     Squash Court                  80      cheap\n7    Snooker Table                  15      cheap\n8       Pool Table                  15      cheap",
      "text/html": "<div>\n<style scoped>\n    .dataframe tbody tr th:only-of-type {\n        vertical-align: middle;\n    }\n\n    .dataframe tbody tr th {\n        vertical-align: top;\n    }\n\n    .dataframe thead th {\n        text-align: right;\n    }\n</style>\n<table border=\"1\" class=\"dataframe\">\n  <thead>\n    <tr style=\"text-align: right;\">\n      <th></th>\n      <th>name</th>\n      <th>monthlymaintenance</th>\n      <th>cost</th>\n    </tr>\n  </thead>\n  <tbody>\n    <tr>\n      <th>0</th>\n      <td>Tennis Court 1</td>\n      <td>200</td>\n      <td>expensive</td>\n    </tr>\n    <tr>\n      <th>1</th>\n      <td>Tennis Court 2</td>\n      <td>200</td>\n      <td>expensive</td>\n    </tr>\n    <tr>\n      <th>2</th>\n      <td>Badminton Court</td>\n      <td>50</td>\n      <td>cheap</td>\n    </tr>\n    <tr>\n      <th>3</th>\n      <td>Table Tennis</td>\n      <td>10</td>\n      <td>cheap</td>\n    </tr>\n    <tr>\n      <th>4</th>\n      <td>Massage Room 1</td>\n      <td>3000</td>\n      <td>expensive</td>\n    </tr>\n    <tr>\n      <th>5</th>\n      <td>Massage Room 2</td>\n      <td>3000</td>\n      <td>expensive</td>\n    </tr>\n    <tr>\n      <th>6</th>\n      <td>Squash Court</td>\n      <td>80</td>\n      <td>cheap</td>\n    </tr>\n    <tr>\n      <th>7</th>\n      <td>Snooker Table</td>\n      <td>15</td>\n      <td>cheap</td>\n    </tr>\n    <tr>\n      <th>8</th>\n      <td>Pool Table</td>\n      <td>15</td>\n      <td>cheap</td>\n    </tr>\n  </tbody>\n</table>\n</div>"
     },
     "execution_count": 17,
     "metadata": {},
     "output_type": "execute_result"
    }
   ],
   "source": [
    "sql=\"\"\"\n",
    "select\n",
    "    name,\n",
    "    monthlymaintenance,\n",
    "    case when monthlymaintenance <= 100\n",
    "        then 'cheap' else 'expensive'\n",
    "        end as cost\n",
    "from Facilities\n",
    "\"\"\"\n",
    "df = pd.read_sql_query(sql, engine)\n",
    "df"
   ],
   "metadata": {
    "collapsed": false
   }
  },
  {
   "cell_type": "markdown",
   "source": [
    "#### Q6: You'd like to get the first and last name of the last member(s) who signed up\n",
    "Try not to use the LIMIT clause for your solution. */\n"
   ],
   "metadata": {
    "collapsed": false
   }
  },
  {
   "cell_type": "code",
   "execution_count": 18,
   "outputs": [
    {
     "data": {
      "text/plain": "  firstname lastname\n0    Darren    Smith",
      "text/html": "<div>\n<style scoped>\n    .dataframe tbody tr th:only-of-type {\n        vertical-align: middle;\n    }\n\n    .dataframe tbody tr th {\n        vertical-align: top;\n    }\n\n    .dataframe thead th {\n        text-align: right;\n    }\n</style>\n<table border=\"1\" class=\"dataframe\">\n  <thead>\n    <tr style=\"text-align: right;\">\n      <th></th>\n      <th>firstname</th>\n      <th>lastname</th>\n    </tr>\n  </thead>\n  <tbody>\n    <tr>\n      <th>0</th>\n      <td>Darren</td>\n      <td>Smith</td>\n    </tr>\n  </tbody>\n</table>\n</div>"
     },
     "execution_count": 18,
     "metadata": {},
     "output_type": "execute_result"
    }
   ],
   "source": [
    "sql = \"\"\"\n",
    "select firstname, surname as lastname\n",
    "from Members\n",
    "where joindate = (\n",
    "    select max(joindate) from Members\n",
    ")\n",
    "\"\"\"\n",
    "\n",
    "df = pd.read_sql_query(sql, engine)\n",
    "df"
   ],
   "metadata": {
    "collapsed": false
   }
  },
  {
   "cell_type": "markdown",
   "source": [
    "#### Q7: Produce a list of all members who have used a tennis court.\n",
    "Include in your output the name of the court, and the name of the member\n",
    "formatted as a single column. Ensure no duplicate data, and order by\n",
    "the member name. */\n"
   ],
   "metadata": {
    "collapsed": false
   }
  },
  {
   "cell_type": "code",
   "execution_count": 19,
   "outputs": [
    {
     "data": {
      "text/plain": "              name             member\n0   Tennis Court 1              GUEST\n1   Tennis Court 1        Tracy Smith\n2   Tennis Court 1         Tim Rownam\n3   Tennis Court 1    Janice Joplette\n4   Tennis Court 1     Gerald Butters\n5   Tennis Court 1       Burton Tracy\n6   Tennis Court 1         Nancy Dare\n7   Tennis Court 1         Tim Boothe\n8   Tennis Court 1    Ponder Stibbons\n9   Tennis Court 1       Charles Owen\n10  Tennis Court 1        David Jones\n11  Tennis Court 1         Anne Baker\n12  Tennis Court 1     Jemima Farrell\n13  Tennis Court 1         Jack Smith\n14  Tennis Court 1     Florence Bader\n15  Tennis Court 1      Timothy Baker\n16  Tennis Court 1       David Pinker\n17  Tennis Court 1    Matthew Genting\n18  Tennis Court 1        Joan Coplin\n19  Tennis Court 1   Ramnaresh Sarwin\n20  Tennis Court 1      Douglas Jones\n21  Tennis Court 1      David Farrell\n22  Tennis Court 1          John Hunt\n23  Tennis Court 1      Erica Crumpet\n24  Tennis Court 2              GUEST\n25  Tennis Court 2       Darren Smith\n26  Tennis Court 2        Tracy Smith\n27  Tennis Court 2         Tim Rownam\n28  Tennis Court 2    Janice Joplette\n29  Tennis Court 2     Gerald Butters\n30  Tennis Court 2       Burton Tracy\n31  Tennis Court 2         Nancy Dare\n32  Tennis Court 2         Tim Boothe\n33  Tennis Court 2    Ponder Stibbons\n34  Tennis Court 2       Charles Owen\n35  Tennis Court 2        David Jones\n36  Tennis Court 2         Anne Baker\n37  Tennis Court 2     Jemima Farrell\n38  Tennis Court 2         Jack Smith\n39  Tennis Court 2     Florence Bader\n40  Tennis Court 2      Timothy Baker\n41  Tennis Court 2   Ramnaresh Sarwin\n42  Tennis Court 2   Henrietta Rumney\n43  Tennis Court 2      David Farrell\n44  Tennis Court 2  Millicent Purview\n45  Tennis Court 2          John Hunt",
      "text/html": "<div>\n<style scoped>\n    .dataframe tbody tr th:only-of-type {\n        vertical-align: middle;\n    }\n\n    .dataframe tbody tr th {\n        vertical-align: top;\n    }\n\n    .dataframe thead th {\n        text-align: right;\n    }\n</style>\n<table border=\"1\" class=\"dataframe\">\n  <thead>\n    <tr style=\"text-align: right;\">\n      <th></th>\n      <th>name</th>\n      <th>member</th>\n    </tr>\n  </thead>\n  <tbody>\n    <tr>\n      <th>0</th>\n      <td>Tennis Court 1</td>\n      <td>GUEST</td>\n    </tr>\n    <tr>\n      <th>1</th>\n      <td>Tennis Court 1</td>\n      <td>Tracy Smith</td>\n    </tr>\n    <tr>\n      <th>2</th>\n      <td>Tennis Court 1</td>\n      <td>Tim Rownam</td>\n    </tr>\n    <tr>\n      <th>3</th>\n      <td>Tennis Court 1</td>\n      <td>Janice Joplette</td>\n    </tr>\n    <tr>\n      <th>4</th>\n      <td>Tennis Court 1</td>\n      <td>Gerald Butters</td>\n    </tr>\n    <tr>\n      <th>5</th>\n      <td>Tennis Court 1</td>\n      <td>Burton Tracy</td>\n    </tr>\n    <tr>\n      <th>6</th>\n      <td>Tennis Court 1</td>\n      <td>Nancy Dare</td>\n    </tr>\n    <tr>\n      <th>7</th>\n      <td>Tennis Court 1</td>\n      <td>Tim Boothe</td>\n    </tr>\n    <tr>\n      <th>8</th>\n      <td>Tennis Court 1</td>\n      <td>Ponder Stibbons</td>\n    </tr>\n    <tr>\n      <th>9</th>\n      <td>Tennis Court 1</td>\n      <td>Charles Owen</td>\n    </tr>\n    <tr>\n      <th>10</th>\n      <td>Tennis Court 1</td>\n      <td>David Jones</td>\n    </tr>\n    <tr>\n      <th>11</th>\n      <td>Tennis Court 1</td>\n      <td>Anne Baker</td>\n    </tr>\n    <tr>\n      <th>12</th>\n      <td>Tennis Court 1</td>\n      <td>Jemima Farrell</td>\n    </tr>\n    <tr>\n      <th>13</th>\n      <td>Tennis Court 1</td>\n      <td>Jack Smith</td>\n    </tr>\n    <tr>\n      <th>14</th>\n      <td>Tennis Court 1</td>\n      <td>Florence Bader</td>\n    </tr>\n    <tr>\n      <th>15</th>\n      <td>Tennis Court 1</td>\n      <td>Timothy Baker</td>\n    </tr>\n    <tr>\n      <th>16</th>\n      <td>Tennis Court 1</td>\n      <td>David Pinker</td>\n    </tr>\n    <tr>\n      <th>17</th>\n      <td>Tennis Court 1</td>\n      <td>Matthew Genting</td>\n    </tr>\n    <tr>\n      <th>18</th>\n      <td>Tennis Court 1</td>\n      <td>Joan Coplin</td>\n    </tr>\n    <tr>\n      <th>19</th>\n      <td>Tennis Court 1</td>\n      <td>Ramnaresh Sarwin</td>\n    </tr>\n    <tr>\n      <th>20</th>\n      <td>Tennis Court 1</td>\n      <td>Douglas Jones</td>\n    </tr>\n    <tr>\n      <th>21</th>\n      <td>Tennis Court 1</td>\n      <td>David Farrell</td>\n    </tr>\n    <tr>\n      <th>22</th>\n      <td>Tennis Court 1</td>\n      <td>John Hunt</td>\n    </tr>\n    <tr>\n      <th>23</th>\n      <td>Tennis Court 1</td>\n      <td>Erica Crumpet</td>\n    </tr>\n    <tr>\n      <th>24</th>\n      <td>Tennis Court 2</td>\n      <td>GUEST</td>\n    </tr>\n    <tr>\n      <th>25</th>\n      <td>Tennis Court 2</td>\n      <td>Darren Smith</td>\n    </tr>\n    <tr>\n      <th>26</th>\n      <td>Tennis Court 2</td>\n      <td>Tracy Smith</td>\n    </tr>\n    <tr>\n      <th>27</th>\n      <td>Tennis Court 2</td>\n      <td>Tim Rownam</td>\n    </tr>\n    <tr>\n      <th>28</th>\n      <td>Tennis Court 2</td>\n      <td>Janice Joplette</td>\n    </tr>\n    <tr>\n      <th>29</th>\n      <td>Tennis Court 2</td>\n      <td>Gerald Butters</td>\n    </tr>\n    <tr>\n      <th>30</th>\n      <td>Tennis Court 2</td>\n      <td>Burton Tracy</td>\n    </tr>\n    <tr>\n      <th>31</th>\n      <td>Tennis Court 2</td>\n      <td>Nancy Dare</td>\n    </tr>\n    <tr>\n      <th>32</th>\n      <td>Tennis Court 2</td>\n      <td>Tim Boothe</td>\n    </tr>\n    <tr>\n      <th>33</th>\n      <td>Tennis Court 2</td>\n      <td>Ponder Stibbons</td>\n    </tr>\n    <tr>\n      <th>34</th>\n      <td>Tennis Court 2</td>\n      <td>Charles Owen</td>\n    </tr>\n    <tr>\n      <th>35</th>\n      <td>Tennis Court 2</td>\n      <td>David Jones</td>\n    </tr>\n    <tr>\n      <th>36</th>\n      <td>Tennis Court 2</td>\n      <td>Anne Baker</td>\n    </tr>\n    <tr>\n      <th>37</th>\n      <td>Tennis Court 2</td>\n      <td>Jemima Farrell</td>\n    </tr>\n    <tr>\n      <th>38</th>\n      <td>Tennis Court 2</td>\n      <td>Jack Smith</td>\n    </tr>\n    <tr>\n      <th>39</th>\n      <td>Tennis Court 2</td>\n      <td>Florence Bader</td>\n    </tr>\n    <tr>\n      <th>40</th>\n      <td>Tennis Court 2</td>\n      <td>Timothy Baker</td>\n    </tr>\n    <tr>\n      <th>41</th>\n      <td>Tennis Court 2</td>\n      <td>Ramnaresh Sarwin</td>\n    </tr>\n    <tr>\n      <th>42</th>\n      <td>Tennis Court 2</td>\n      <td>Henrietta Rumney</td>\n    </tr>\n    <tr>\n      <th>43</th>\n      <td>Tennis Court 2</td>\n      <td>David Farrell</td>\n    </tr>\n    <tr>\n      <th>44</th>\n      <td>Tennis Court 2</td>\n      <td>Millicent Purview</td>\n    </tr>\n    <tr>\n      <th>45</th>\n      <td>Tennis Court 2</td>\n      <td>John Hunt</td>\n    </tr>\n  </tbody>\n</table>\n</div>"
     },
     "execution_count": 19,
     "metadata": {},
     "output_type": "execute_result"
    }
   ],
   "source": [
    "sql = \"\"\"\n",
    "select distinct F.name,\n",
    "    case when M.firstname = 'GUEST' then\n",
    "       \"GUEST\"\n",
    "    else\n",
    "       M.firstname ||\" \"|| M.surname\n",
    "    end as member\n",
    "from Bookings B\n",
    "inner join Facilities F using(facid)\n",
    "inner join Members M using(memid)\n",
    "where F.name like 'Tennis Court%'\n",
    "order by F.facid, M.memid;\n",
    "\"\"\"\n",
    "\n",
    "df = pd.read_sql_query(sql, engine)\n",
    "df"
   ],
   "metadata": {
    "collapsed": false
   }
  },
  {
   "cell_type": "markdown",
   "source": [
    "#### Q8: Produce a list of bookings on the day of 2012-09-14 which will cost the member (or guest) more than $30\n",
    "Remember that guests have\n",
    "different costs to members (the listed costs are per half-hour 'slot'), and\n",
    "the guest user's ID is always 0. Include in your output the name of the\n",
    "facility, the name of the member formatted as a single column, and the cost.\n",
    "Order by descending cost, and do not use any subqueries. */\n"
   ],
   "metadata": {
    "collapsed": false
   }
  },
  {
   "cell_type": "code",
   "execution_count": 20,
   "outputs": [
    {
     "data": {
      "text/plain": "          facility          member   cost\n0   Massage Room 2           GUEST  320.0\n1   Massage Room 1           GUEST  160.0\n2   Massage Room 1           GUEST  160.0\n3   Massage Room 1           GUEST  160.0\n4   Tennis Court 2           GUEST  150.0\n5   Tennis Court 1           GUEST   75.0\n6   Tennis Court 1           GUEST   75.0\n7   Tennis Court 2           GUEST   75.0\n8     Squash Court           GUEST   70.0\n9   Massage Room 1  Jemima Farrell   39.6\n10    Squash Court           GUEST   35.0\n11    Squash Court           GUEST   35.0",
      "text/html": "<div>\n<style scoped>\n    .dataframe tbody tr th:only-of-type {\n        vertical-align: middle;\n    }\n\n    .dataframe tbody tr th {\n        vertical-align: top;\n    }\n\n    .dataframe thead th {\n        text-align: right;\n    }\n</style>\n<table border=\"1\" class=\"dataframe\">\n  <thead>\n    <tr style=\"text-align: right;\">\n      <th></th>\n      <th>facility</th>\n      <th>member</th>\n      <th>cost</th>\n    </tr>\n  </thead>\n  <tbody>\n    <tr>\n      <th>0</th>\n      <td>Massage Room 2</td>\n      <td>GUEST</td>\n      <td>320.0</td>\n    </tr>\n    <tr>\n      <th>1</th>\n      <td>Massage Room 1</td>\n      <td>GUEST</td>\n      <td>160.0</td>\n    </tr>\n    <tr>\n      <th>2</th>\n      <td>Massage Room 1</td>\n      <td>GUEST</td>\n      <td>160.0</td>\n    </tr>\n    <tr>\n      <th>3</th>\n      <td>Massage Room 1</td>\n      <td>GUEST</td>\n      <td>160.0</td>\n    </tr>\n    <tr>\n      <th>4</th>\n      <td>Tennis Court 2</td>\n      <td>GUEST</td>\n      <td>150.0</td>\n    </tr>\n    <tr>\n      <th>5</th>\n      <td>Tennis Court 1</td>\n      <td>GUEST</td>\n      <td>75.0</td>\n    </tr>\n    <tr>\n      <th>6</th>\n      <td>Tennis Court 1</td>\n      <td>GUEST</td>\n      <td>75.0</td>\n    </tr>\n    <tr>\n      <th>7</th>\n      <td>Tennis Court 2</td>\n      <td>GUEST</td>\n      <td>75.0</td>\n    </tr>\n    <tr>\n      <th>8</th>\n      <td>Squash Court</td>\n      <td>GUEST</td>\n      <td>70.0</td>\n    </tr>\n    <tr>\n      <th>9</th>\n      <td>Massage Room 1</td>\n      <td>Jemima Farrell</td>\n      <td>39.6</td>\n    </tr>\n    <tr>\n      <th>10</th>\n      <td>Squash Court</td>\n      <td>GUEST</td>\n      <td>35.0</td>\n    </tr>\n    <tr>\n      <th>11</th>\n      <td>Squash Court</td>\n      <td>GUEST</td>\n      <td>35.0</td>\n    </tr>\n  </tbody>\n</table>\n</div>"
     },
     "execution_count": 20,
     "metadata": {},
     "output_type": "execute_result"
    }
   ],
   "source": [
    "sql = \"\"\"\n",
    "select\n",
    "    F.name as facility,\n",
    "    M.firstname ||\" \"|| M.surname as member,\n",
    "    (B.slots * F.membercost) cost\n",
    "from Bookings as B\n",
    "inner join Facilities as F using(facid)\n",
    "inner join Members as M using(memid)\n",
    "where starttime like '2012-09-14%' and memid != 0\n",
    "    and (B.slots * F.membercost) > 30\n",
    "UNION ALL\n",
    "select F.name,  \"GUEST\" as member, (B.slots * F.guestcost) cost\n",
    "from Bookings as B\n",
    "inner join Facilities as F using(facid)\n",
    "where starttime like '2012-09-14%' and memid = 0\n",
    "    and (B.slots * F.guestcost) > 30\n",
    "ORDER by cost desc\n",
    "\"\"\"\n",
    "\n",
    "\n",
    "df = pd.read_sql_query(sql, engine)\n",
    "df"
   ],
   "metadata": {
    "collapsed": false
   }
  },
  {
   "cell_type": "markdown",
   "source": [
    "#### Q9: This time, produce the same result as in Q8, but using a subquery."
   ],
   "metadata": {
    "collapsed": false
   }
  },
  {
   "cell_type": "code",
   "execution_count": 21,
   "outputs": [
    {
     "data": {
      "text/plain": "          facility          member   cost\n0   Massage Room 2           GUEST  320.0\n1   Massage Room 1           GUEST  160.0\n2   Massage Room 1           GUEST  160.0\n3   Massage Room 1           GUEST  160.0\n4   Tennis Court 2           GUEST  150.0\n5   Tennis Court 1           GUEST   75.0\n6   Tennis Court 1           GUEST   75.0\n7   Tennis Court 2           GUEST   75.0\n8     Squash Court           GUEST   70.0\n9   Massage Room 1  Jemima Farrell   39.6\n10    Squash Court           GUEST   35.0\n11    Squash Court           GUEST   35.0",
      "text/html": "<div>\n<style scoped>\n    .dataframe tbody tr th:only-of-type {\n        vertical-align: middle;\n    }\n\n    .dataframe tbody tr th {\n        vertical-align: top;\n    }\n\n    .dataframe thead th {\n        text-align: right;\n    }\n</style>\n<table border=\"1\" class=\"dataframe\">\n  <thead>\n    <tr style=\"text-align: right;\">\n      <th></th>\n      <th>facility</th>\n      <th>member</th>\n      <th>cost</th>\n    </tr>\n  </thead>\n  <tbody>\n    <tr>\n      <th>0</th>\n      <td>Massage Room 2</td>\n      <td>GUEST</td>\n      <td>320.0</td>\n    </tr>\n    <tr>\n      <th>1</th>\n      <td>Massage Room 1</td>\n      <td>GUEST</td>\n      <td>160.0</td>\n    </tr>\n    <tr>\n      <th>2</th>\n      <td>Massage Room 1</td>\n      <td>GUEST</td>\n      <td>160.0</td>\n    </tr>\n    <tr>\n      <th>3</th>\n      <td>Massage Room 1</td>\n      <td>GUEST</td>\n      <td>160.0</td>\n    </tr>\n    <tr>\n      <th>4</th>\n      <td>Tennis Court 2</td>\n      <td>GUEST</td>\n      <td>150.0</td>\n    </tr>\n    <tr>\n      <th>5</th>\n      <td>Tennis Court 1</td>\n      <td>GUEST</td>\n      <td>75.0</td>\n    </tr>\n    <tr>\n      <th>6</th>\n      <td>Tennis Court 1</td>\n      <td>GUEST</td>\n      <td>75.0</td>\n    </tr>\n    <tr>\n      <th>7</th>\n      <td>Tennis Court 2</td>\n      <td>GUEST</td>\n      <td>75.0</td>\n    </tr>\n    <tr>\n      <th>8</th>\n      <td>Squash Court</td>\n      <td>GUEST</td>\n      <td>70.0</td>\n    </tr>\n    <tr>\n      <th>9</th>\n      <td>Massage Room 1</td>\n      <td>Jemima Farrell</td>\n      <td>39.6</td>\n    </tr>\n    <tr>\n      <th>10</th>\n      <td>Squash Court</td>\n      <td>GUEST</td>\n      <td>35.0</td>\n    </tr>\n    <tr>\n      <th>11</th>\n      <td>Squash Court</td>\n      <td>GUEST</td>\n      <td>35.0</td>\n    </tr>\n  </tbody>\n</table>\n</div>"
     },
     "execution_count": 21,
     "metadata": {},
     "output_type": "execute_result"
    }
   ],
   "source": [
    "sql = \"\"\"\n",
    "    select\n",
    "         F.name as facility,\n",
    "            (   select\n",
    "                case when memid = 0 then 'GUEST' else firstname||\" \"|| surname end\n",
    "                from Members M where B.memid = M.memid\n",
    "            ) as member,\n",
    "           case when memid = 0 then (F.guestcost * slots) else (F.membercost * slots) end as cost\n",
    "    from Facilities as F\n",
    "    inner join Bookings as B using (facid)\n",
    "    where starttime like '2012-09-14%'\n",
    "        and cost > 30\n",
    "    order by cost desc\n",
    "\"\"\"\n",
    "df = pd.read_sql_query(sql, engine)\n",
    "df"
   ],
   "metadata": {
    "collapsed": false
   }
  }
 ],
 "metadata": {
  "kernelspec": {
   "display_name": "Python 3",
   "language": "python",
   "name": "python3"
  },
  "language_info": {
   "codemirror_mode": {
    "name": "ipython",
    "version": 2
   },
   "file_extension": ".py",
   "mimetype": "text/x-python",
   "name": "python",
   "nbconvert_exporter": "python",
   "pygments_lexer": "ipython2",
   "version": "2.7.6"
  }
 },
 "nbformat": 4,
 "nbformat_minor": 0
}
