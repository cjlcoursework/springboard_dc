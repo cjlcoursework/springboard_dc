{
 "nbformat": 4,
 "nbformat_minor": 0,
 "metadata": {
  "kernelspec": {
   "display_name": "Python 3",
   "language": "python",
   "name": "python3"
  },
  "language_info": {
   "codemirror_mode": {
    "name": "ipython",
    "version": 3
   },
   "file_extension": ".py",
   "mimetype": "text/x-python",
   "name": "python",
   "nbconvert_exporter": "python",
   "pygments_lexer": "ipython3",
   "version": "3.7.3"
  },
  "colab": {
   "name": "Springboard Data Science Career Track Unit 4 Challenge - Tier 3 Complete .ipynb",
   "provenance": [],
   "collapsed_sections": []
  }
 },
 "cells": [
  {
   "cell_type": "markdown",
   "metadata": {
    "id": "Tia3MP1SJpgj",
    "colab_type": "text"
   },
   "source": [
    "# Springboard Data Science Career Track Unit 4 Challenge - Tier 3 Complete\n",
    "\n",
    "## Objectives\n",
    "Hey! Great job getting through those challenging DataCamp courses. You're learning a lot in a short span of time. \n",
    "\n",
    "In this notebook, you're going to apply the skills you've been learning, bridging the gap between the controlled environment of DataCamp and the *slightly* messier work that data scientists do with actual datasets!\n",
    "\n",
    "Here’s the mystery we’re going to solve: ***which boroughs of London have seen the greatest increase in housing prices, on average, over the last two decades?***\n",
    "\n",
    "\n",
    "A borough is just a fancy word for district. You may be familiar with the five boroughs of New York… well, there are 32 boroughs within Greater London [(here's some info for the curious)](https://en.wikipedia.org/wiki/London_boroughs). Some of them are more desirable areas to live in, and the data will reflect that with a greater rise in housing prices.\n",
    "\n",
    "***This is the Tier 3 notebook, which means it's not filled in at all: we'll just give you the skeleton of a project, the brief and the data. It's up to you to play around with it and see what you can find out! Good luck! If you struggle, feel free to look at easier tiers for help; but try to dip in and out of them, as the more independent work you do, the better it is for your learning!***\n",
    "\n",
    "This challenge will make use of only what you learned in the following DataCamp courses: \n",
    "- Prework courses (Introduction to Python for Data Science, Intermediate Python for Data Science)\n",
    "- Data Types for Data Science\n",
    "- Python Data Science Toolbox (Part One) \n",
    "- pandas Foundations\n",
    "- Manipulating DataFrames with pandas\n",
    "- Merging DataFrames with pandas\n",
    "\n",
    "Of the tools, techniques and concepts in the above DataCamp courses, this challenge should require the application of the following: \n",
    "- **pandas**\n",
    "    - **data ingestion and inspection** (pandas Foundations, Module One) \n",
    "    - **exploratory data analysis** (pandas Foundations, Module Two)\n",
    "    - **tidying and cleaning** (Manipulating DataFrames with pandas, Module Three) \n",
    "    - **transforming DataFrames** (Manipulating DataFrames with pandas, Module One)\n",
    "    - **subsetting DataFrames with lists** (Manipulating DataFrames with pandas, Module One) \n",
    "    - **filtering DataFrames** (Manipulating DataFrames with pandas, Module One) \n",
    "    - **grouping data** (Manipulating DataFrames with pandas, Module Four) \n",
    "    - **melting data** (Manipulating DataFrames with pandas, Module Three) \n",
    "    - **advanced indexing** (Manipulating DataFrames with pandas, Module Four) \n",
    "- **matplotlib** (Intermediate Python for Data Science, Module One)\n",
    "- **fundamental data types** (Data Types for Data Science, Module One) \n",
    "- **dictionaries** (Intermediate Python for Data Science, Module Two)\n",
    "- **handling dates and times** (Data Types for Data Science, Module Four)\n",
    "- **function definition** (Python Data Science Toolbox - Part One, Module One)\n",
    "- **default arguments, variable length, and scope** (Python Data Science Toolbox - Part One, Module Two) \n",
    "- **lambda functions and error handling** (Python Data Science Toolbox - Part One, Module Four) "
   ]
  },
  {
   "cell_type": "markdown",
   "metadata": {
    "id": "Ipgd2nV8Jpgl",
    "colab_type": "text"
   },
   "source": [
    "## The Data Science Pipeline\n",
    "\n",
    "This is Tier Three, so we'll get you started. But after that, it's all in your hands! When you feel done with your investigations, look back over what you've accomplished, and prepare a quick presentation of your findings for the next mentor meeting. \n",
    "\n",
    "Data Science is magical. In this case study, you'll get to apply some complex machine learning algorithms. But as  [David Spiegelhalter](https://www.youtube.com/watch?v=oUs1uvsz0Ok) reminds us, there is no substitute for simply **taking a really, really good look at the data.** Sometimes, this is all we need to answer our question.\n",
    "\n",
    "Data Science projects generally adhere to the four stages of Data Science Pipeline:\n",
    "1. Sourcing and loading \n",
    "2. Cleaning, transforming, and visualizing \n",
    "3. Modeling \n",
    "4. Evaluating and concluding \n"
   ]
  },
  {
   "cell_type": "markdown",
   "metadata": {
    "id": "zswDqbefJpgm",
    "colab_type": "text"
   },
   "source": [
    "---\n",
    "\n",
    "# 1. Sourcing and Loading\n",
    "\n",
    "Any Data Science project kicks off by importing  ***pandas***. The documentation of this wonderful library can be found [here](https://pandas.pydata.org/). As you've seen, pandas is conveniently connected to the [Numpy](http://www.numpy.org/) and [Matplotlib](https://matplotlib.org/) libraries. \n",
    "\n",
    "***Hint:*** This part of the data science pipeline will test those skills you acquired in the pandas Foundations course, Module One. "
   ]
  },
  {
   "cell_type": "markdown",
   "metadata": {
    "id": "aEau5nEvJpgm",
    "colab_type": "text"
   },
   "source": [
    "#### 1.1. Importing Libraries"
   ]
  },
  {
   "cell_type": "code",
   "metadata": {
    "id": "7Bt_Q_oPJpgn",
    "colab_type": "code",
    "colab": {}
   },
   "source": [
    "# Let's import the pandas, numpy libraries as pd, and np respectively.\n",
    "import pandas as pd\n",
    "import numpy as np\n",
    "\n",
    "# Load the pyplot collection of functions from matplotlib, as plt \n",
    "from matplotlib import pyplot as plt\n",
    "\n",
    "\n",
    "import warnings\n",
    "\n",
    "warnings.filterwarnings('ignore')\n",
    "pd.set_option('display.float_format', lambda x: '%.5f' % x)\n",
    "# comments: <span style=\"color:#20B2AA\">"
   ],
   "execution_count": 161,
   "outputs": []
  },
  {
   "cell_type": "markdown",
   "metadata": {
    "id": "koUrawxsJpgq",
    "colab_type": "text"
   },
   "source": [
    "<p/>\n",
    "<p/>\n",
    "\n",
    "\n",
    "#### 1.2.  Loading the data\n",
    "Your data comes from the [London Datastore](https://data.london.gov.uk/): a free, open-source data-sharing portal for London-oriented datasets. "
   ]
  },
  {
   "cell_type": "code",
   "metadata": {
    "id": "AiLiD4v3Jpgr",
    "colab_type": "code",
    "colab": {}
   },
   "source": [
    "# First, make a variable called url_LondonHousePrices, and assign it the following link, enclosed in quotation-marks as a string:\n",
    "# https://data.london.gov.uk/download/uk-house-price-index/70ac0766-8902-4eb5-aab5-01951aaed773/UK%20House%20price%20index.xls\n",
    "\n",
    "url_LondonHousePrices = \"https://data.london.gov.uk/download/uk-house-price-index/70ac0766-8902-4eb5-aab5-01951aaed773/UK%20House%20price%20index.xls\"\n",
    "\n",
    "# The dataset we're interested in contains the Average prices of the houses, and is actually on a particular sheet of the Excel file. \n",
    "# As a result, we need to specify the sheet name in the read_excel() method.\n",
    "# Put this data into a variable called properties.  \n",
    "raw_properties = pd.read_excel(url_LondonHousePrices, sheet_name='Average price', index_col= None)\n",
    "# raw_properties.head(1)"
   ],
   "execution_count": 162,
   "outputs": []
  },
  {
   "cell_type": "markdown",
   "source": [
    "<span style=\"color:#cc0000\">Load a control list of London boroughs </span>\n"
   ],
   "metadata": {
    "collapsed": false
   }
  },
  {
   "cell_type": "code",
   "execution_count": 163,
   "outputs": [
    {
     "name": "stdout",
     "output_type": "stream",
     "text": [
      "Cut and paste a list of the 32 boroughs rather than using the API\n"
     ]
    }
   ],
   "source": [
    "print(\"Cut and paste a list of the 32 boroughs rather than using the API\")\n",
    "\n",
    "\n",
    "boroughs_df = pd.DataFrame({'borough': np.array([\n",
    "'Westminster',\n",
    "'Kensington & Chelsea',\n",
    "'Hammersmith & Fulham',\n",
    "'Wandsworth',\n",
    "'Lambeth',\n",
    "'Southwark',\n",
    "'Tower Hamlets',\n",
    "'Hackney',\n",
    "'Islington',\n",
    "'Camden',\n",
    "'Brent',\n",
    "'Ealing',\n",
    "'Hounslow',\n",
    "'Richmond upon Thames',\n",
    "'Kingston upon Thames',\n",
    "'Merton',\n",
    "'Sutton',\n",
    "'Croydon',\n",
    "'Bromley',\n",
    "'Lewisham',\n",
    "'Greenwich',\n",
    "'Bexley',\n",
    "'Havering',\n",
    "'Barking & Dagenham',\n",
    "'Redbridge',\n",
    "'Newham',\n",
    "'Waltham Forest',\n",
    "'Haringey',\n",
    "'Enfield',\n",
    "'Barnet',\n",
    "'Harrow',\n",
    "'Hillingdon'\n",
    "]) })\n",
    "\n",
    "boroughs_df['canon'] =  boroughs_df['borough'].str.upper()\n",
    "# boroughs_df.head()"
   ],
   "metadata": {
    "collapsed": false
   }
  },
  {
   "cell_type": "markdown",
   "metadata": {
    "id": "POukEJXgJpgu",
    "colab_type": "text"
   },
   "source": [
    "\n",
    "---\n",
    "\n",
    "</p>\n",
    "</p>\n",
    "\n",
    "\n",
    "# 2. Cleaning, transforming, and visualizing\n",
    "This second stage is arguably the most important part of any Data Science project. The first thing to do is take a proper look at the data. Cleaning forms the majority of this stage, and can be done both before or after Transformation.\n",
    "\n",
    "The end goal of data cleaning is to have tidy data. When data is tidy: \n",
    "\n",
    "1. Each variable has a column.\n",
    "2. Each observation forms a row.\n",
    "\n",
    "Keep the end goal in mind as you move through this process, every step will take you closer. \n",
    "\n",
    "\n",
    "\n",
    "***Hint:*** This part of the data science pipeline should test those skills you acquired in: \n",
    "- Intermediate Python for data science, all modules.\n",
    "- pandas Foundations, all modules. \n",
    "- Manipulating DataFrames with pandas, all modules.\n",
    "- Data Types for Data Science, Module Four.\n",
    "- Python Data Science Toolbox - Part One, all modules"
   ]
  },
  {
   "cell_type": "markdown",
   "metadata": {
    "id": "Te0Q548tnzZa",
    "colab_type": "text"
   },
   "source": [
    "**2.1. Exploring your data** \n",
    "\n",
    "Think about your pandas functions for checking out a dataframe."
   ]
  },
  {
   "cell_type": "code",
   "execution_count": 165,
   "outputs": [
    {
     "data": {
      "text/plain": "       Unnamed: 34  Unnamed: 37  Unnamed: 47\ncount      0.00000      0.00000      0.00000\nmean           NaN          NaN          NaN\nstd            NaN          NaN          NaN\nmin            NaN          NaN          NaN\n25%            NaN          NaN          NaN\n50%            NaN          NaN          NaN\n75%            NaN          NaN          NaN\nmax            NaN          NaN          NaN",
      "text/html": "<div>\n<style scoped>\n    .dataframe tbody tr th:only-of-type {\n        vertical-align: middle;\n    }\n\n    .dataframe tbody tr th {\n        vertical-align: top;\n    }\n\n    .dataframe thead th {\n        text-align: right;\n    }\n</style>\n<table border=\"1\" class=\"dataframe\">\n  <thead>\n    <tr style=\"text-align: right;\">\n      <th></th>\n      <th>Unnamed: 34</th>\n      <th>Unnamed: 37</th>\n      <th>Unnamed: 47</th>\n    </tr>\n  </thead>\n  <tbody>\n    <tr>\n      <th>count</th>\n      <td>0.00000</td>\n      <td>0.00000</td>\n      <td>0.00000</td>\n    </tr>\n    <tr>\n      <th>mean</th>\n      <td>NaN</td>\n      <td>NaN</td>\n      <td>NaN</td>\n    </tr>\n    <tr>\n      <th>std</th>\n      <td>NaN</td>\n      <td>NaN</td>\n      <td>NaN</td>\n    </tr>\n    <tr>\n      <th>min</th>\n      <td>NaN</td>\n      <td>NaN</td>\n      <td>NaN</td>\n    </tr>\n    <tr>\n      <th>25%</th>\n      <td>NaN</td>\n      <td>NaN</td>\n      <td>NaN</td>\n    </tr>\n    <tr>\n      <th>50%</th>\n      <td>NaN</td>\n      <td>NaN</td>\n      <td>NaN</td>\n    </tr>\n    <tr>\n      <th>75%</th>\n      <td>NaN</td>\n      <td>NaN</td>\n      <td>NaN</td>\n    </tr>\n    <tr>\n      <th>max</th>\n      <td>NaN</td>\n      <td>NaN</td>\n      <td>NaN</td>\n    </tr>\n  </tbody>\n</table>\n</div>"
     },
     "execution_count": 165,
     "metadata": {},
     "output_type": "execute_result"
    }
   ],
   "source": [
    "raw_properties.describe()"
   ],
   "metadata": {
    "collapsed": false
   }
  },
  {
   "cell_type": "markdown",
   "source": [
    "**2.2. Cleaning the data**\n",
    "\n",
    "- conform columns\n",
    "- Don't transpose until we've cleaned up the row-specific stuff"
   ],
   "metadata": {
    "collapsed": false
   }
  },
  {
   "cell_type": "markdown",
   "source": [
    "**2.3. Cleaning the data (part 2)**\n",
    "\n",
    "You might we have to **rename** a couple columns. How do you do this? The clue's pretty bold..."
   ],
   "metadata": {
    "collapsed": false
   }
  },
  {
   "cell_type": "markdown",
   "source": [
    "<span style=\"color:#cc0000\">Rename the Unnamed: 0 column to 'date'</span>"
   ],
   "metadata": {
    "collapsed": false
   }
  },
  {
   "cell_type": "code",
   "execution_count": 166,
   "outputs": [],
   "source": [
    "properties = raw_properties.rename(columns={'Unnamed: 0': 'date'})"
   ],
   "metadata": {
    "collapsed": false
   }
  },
  {
   "cell_type": "markdown",
   "source": [
    "<span style=\"color:#cc0000\">Verify that dates are unique from 1995 to 2022, and there is one set for each borough, and there are no nulls</span>"
   ],
   "metadata": {
    "collapsed": false
   }
  },
  {
   "cell_type": "code",
   "execution_count": 192,
   "outputs": [
    {
     "name": "stdout",
     "output_type": "stream",
     "text": [
      "count                              335\n",
      "mean     2008-11-30 11:44:57.313432832\n",
      "min                1995-01-01 00:00:00\n",
      "25%                2001-12-16 12:00:00\n",
      "50%                2008-12-01 00:00:00\n",
      "75%                2015-11-16 00:00:00\n",
      "max                2022-11-01 00:00:00\n",
      "Name: date, dtype: object\n"
     ]
    }
   ],
   "source": [
    "print(properties.date.describe(datetime_is_numeric=True))\n"
   ],
   "metadata": {
    "collapsed": false
   }
  },
  {
   "cell_type": "markdown",
   "source": [
    "<span style=\"color:#cc0000\">Drop the Nat date column row in index 0</span>"
   ],
   "metadata": {
    "collapsed": false
   }
  },
  {
   "cell_type": "code",
   "execution_count": 168,
   "outputs": [
    {
     "name": "stdout",
     "output_type": "stream",
     "text": [
      "Identify the firt few columns of row 0\n"
     ]
    },
    {
     "data": {
      "text/plain": "  City of London Barking & Dagenham     Barnet\n0      E09000001          E09000002  E09000003",
      "text/html": "<div>\n<style scoped>\n    .dataframe tbody tr th:only-of-type {\n        vertical-align: middle;\n    }\n\n    .dataframe tbody tr th {\n        vertical-align: top;\n    }\n\n    .dataframe thead th {\n        text-align: right;\n    }\n</style>\n<table border=\"1\" class=\"dataframe\">\n  <thead>\n    <tr style=\"text-align: right;\">\n      <th></th>\n      <th>City of London</th>\n      <th>Barking &amp; Dagenham</th>\n      <th>Barnet</th>\n    </tr>\n  </thead>\n  <tbody>\n    <tr>\n      <th>0</th>\n      <td>E09000001</td>\n      <td>E09000002</td>\n      <td>E09000003</td>\n    </tr>\n  </tbody>\n</table>\n</div>"
     },
     "execution_count": 168,
     "metadata": {},
     "output_type": "execute_result"
    }
   ],
   "source": [
    "print(\"Identify the first few columns of row 0\")\n",
    "properties.iloc[:1,1:4]"
   ],
   "metadata": {
    "collapsed": false
   }
  },
  {
   "cell_type": "code",
   "execution_count": 169,
   "outputs": [
    {
     "name": "stdout",
     "output_type": "stream",
     "text": [
      "first row is a garbage row   City of London\n",
      "0      E09000001\n",
      "shape before drop: (336, 49)\n",
      "shape after drop: (335, 49)\n",
      "first row is now good   City of London\n",
      "0    91448.98487\n"
     ]
    }
   ],
   "source": [
    "print(\"first row is a garbage row\",properties.iloc[:1,1:2])\n",
    "print(\"shape before drop:\", properties.shape)\n",
    "\n",
    "properties = properties.drop(labels=0, axis=0)\n",
    "properties.reset_index(inplace=True,drop=True)\n",
    "print(\"shape after drop:\", properties.shape)\n",
    "print(\"first row is now good\",properties.iloc[:1,1:2])"
   ],
   "metadata": {
    "collapsed": false
   }
  },
  {
   "cell_type": "markdown",
   "source": [
    "<span style=\"color:#cc0000\">Review the other 'Unnamed n' columns</span>\n",
    " - they seem to contain nulls in all cases"
   ],
   "metadata": {
    "collapsed": false
   }
  },
  {
   "cell_type": "code",
   "execution_count": 170,
   "outputs": [
    {
     "name": "stdout",
     "output_type": "stream",
     "text": [
      "[nan]\n",
      "[nan]\n",
      "[nan]\n"
     ]
    }
   ],
   "source": [
    "a = properties['Unnamed: 34'].unique()\n",
    "b = properties['Unnamed: 47'].unique()\n",
    "c = properties['Unnamed: 37'].unique()\n",
    "print(a)\n",
    "print(b)\n",
    "print(c)"
   ],
   "metadata": {
    "collapsed": false
   }
  },
  {
   "cell_type": "markdown",
   "source": [
    "<span style=\"color:#cc0000\">Drop the 'Unnamed n' columns</span>"
   ],
   "metadata": {
    "collapsed": false
   }
  },
  {
   "cell_type": "code",
   "execution_count": 171,
   "outputs": [
    {
     "name": "stdout",
     "output_type": "stream",
     "text": [
      "columns remaining:  Index(['date', 'City of London', 'Barking & Dagenham', 'Barnet', 'Bexley', 'Brent', 'Bromley', 'Camden', 'Croydon', 'Ealing', 'Enfield', 'Greenwich', 'Hackney', 'Hammersmith & Fulham', 'Haringey', 'Harrow', 'Havering', 'Hillingdon', 'Hounslow', 'Islington', 'Kensington & Chelsea',\n",
      "       'Kingston upon Thames', 'Lambeth', 'Lewisham', 'Merton', 'Newham', 'Redbridge', 'Richmond upon Thames', 'Southwark', 'Sutton', 'Tower Hamlets', 'Waltham Forest', 'Wandsworth', 'Westminster', 'Inner London', 'Outer London', 'NORTH EAST', 'NORTH WEST', 'YORKS & THE HUMBER', 'EAST MIDLANDS',\n",
      "       'WEST MIDLANDS', 'EAST OF ENGLAND', 'LONDON', 'SOUTH EAST', 'SOUTH WEST', 'England'],\n",
      "      dtype='object')\n"
     ]
    }
   ],
   "source": [
    "properties = properties.drop(columns=['Unnamed: 34','Unnamed: 47', 'Unnamed: 37'])\n",
    "print(\"columns remaining: \", properties.columns)"
   ],
   "metadata": {
    "collapsed": false
   }
  },
  {
   "cell_type": "markdown",
   "source": [
    "\n",
    "\n",
    "**2.4.Transforming the data**\n",
    "\n",
    "Remember what Wes McKinney said about tidy data?\n",
    "\n",
    "You might need to **melt** your DataFrame here."
   ],
   "metadata": {
    "collapsed": false
   }
  },
  {
   "cell_type": "markdown",
   "source": [
    "<span style=\"color:#cc0000\">Transpose the data </span>\n",
    "- this creates the `properties_t` table\n",
    "\n"
   ],
   "metadata": {
    "collapsed": false
   }
  },
  {
   "cell_type": "code",
   "execution_count": 172,
   "outputs": [
    {
     "name": "stdout",
     "output_type": "stream",
     "text": [
      "(335, 46)\n"
     ]
    },
    {
     "data": {
      "text/plain": "        date         borough   avg_price\n0 1995-01-01  City of London 91448.98487\n1 1995-02-01  City of London 82202.77314\n2 1995-03-01  City of London 79120.70256\n3 1995-04-01  City of London 77101.20804\n4 1995-05-01  City of London 84409.14932",
      "text/html": "<div>\n<style scoped>\n    .dataframe tbody tr th:only-of-type {\n        vertical-align: middle;\n    }\n\n    .dataframe tbody tr th {\n        vertical-align: top;\n    }\n\n    .dataframe thead th {\n        text-align: right;\n    }\n</style>\n<table border=\"1\" class=\"dataframe\">\n  <thead>\n    <tr style=\"text-align: right;\">\n      <th></th>\n      <th>date</th>\n      <th>borough</th>\n      <th>avg_price</th>\n    </tr>\n  </thead>\n  <tbody>\n    <tr>\n      <th>0</th>\n      <td>1995-01-01</td>\n      <td>City of London</td>\n      <td>91448.98487</td>\n    </tr>\n    <tr>\n      <th>1</th>\n      <td>1995-02-01</td>\n      <td>City of London</td>\n      <td>82202.77314</td>\n    </tr>\n    <tr>\n      <th>2</th>\n      <td>1995-03-01</td>\n      <td>City of London</td>\n      <td>79120.70256</td>\n    </tr>\n    <tr>\n      <th>3</th>\n      <td>1995-04-01</td>\n      <td>City of London</td>\n      <td>77101.20804</td>\n    </tr>\n    <tr>\n      <th>4</th>\n      <td>1995-05-01</td>\n      <td>City of London</td>\n      <td>84409.14932</td>\n    </tr>\n  </tbody>\n</table>\n</div>"
     },
     "execution_count": 172,
     "metadata": {},
     "output_type": "execute_result"
    }
   ],
   "source": [
    "print(properties.shape)  ## staring shape\n",
    "properties_t = properties.melt(id_vars='date', var_name='borough', value_name='avg_price', ignore_index=True)\n",
    "properties_t.head()"
   ],
   "metadata": {
    "collapsed": false
   }
  },
  {
   "cell_type": "markdown",
   "source": [
    "**2.5. Cleaning the data (part 3)**\n",
    "\n",
    "Do we have an equal number of observations in the ID, Average Price, Month, and London Borough columns? Remember that there are only 32 London Boroughs. How many entries do you have in that column?\n",
    "\n",
    "Check out the contents of the London Borough column, and if you find null values, get rid of them however you see fit."
   ],
   "metadata": {
    "collapsed": false
   }
  },
  {
   "cell_type": "code",
   "execution_count": 173,
   "outputs": [
    {
     "name": "stdout",
     "output_type": "stream",
     "text": [
      "Validate that all cities have the same row counts\n"
     ]
    },
    {
     "data": {
      "text/plain": "array([335])"
     },
     "execution_count": 173,
     "metadata": {},
     "output_type": "execute_result"
    }
   ],
   "source": [
    "print(\"Validate that all cities have the same row counts\")\n",
    "properties_t.groupby(['borough']).size().unique()"
   ],
   "metadata": {
    "collapsed": false
   }
  },
  {
   "cell_type": "code",
   "execution_count": 174,
   "outputs": [
    {
     "name": "stdout",
     "output_type": "stream",
     "text": [
      "Unique counts across all districts - should only be one row if all cities had the same number of data rows\n"
     ]
    },
    {
     "data": {
      "text/plain": "array([335])"
     },
     "execution_count": 174,
     "metadata": {},
     "output_type": "execute_result"
    }
   ],
   "source": [
    "print(\"Unique counts across all districts - should only be one row if all cities had the same number of data rows\")\n",
    "properties_t.groupby(['borough']).size().unique()"
   ],
   "metadata": {
    "collapsed": false
   }
  },
  {
   "cell_type": "markdown",
   "source": [
    "<span style=\"color:#cc0000\"> Add some helpful columns that may or may not be needed </span>\n",
    "\n",
    "- **year**   = from the date column\n",
    "- **month**   = from the date column\n",
    "- **canon**   = uppercase version of the borough column\n",
    "- **epoch**   = unix time of the date column - maybe floating calculations will be faster ..\n",
    "</p>\n"
   ],
   "metadata": {
    "collapsed": false
   }
  },
  {
   "cell_type": "code",
   "execution_count": 175,
   "outputs": [
    {
     "data": {
      "text/plain": "        date         borough   avg_price  year  month           canon      epoch\n0 1995-01-01  City of London 91448.98487  1995      1  CITY OF LONDON  788918400\n1 1995-02-01  City of London 82202.77314  1995      2  CITY OF LONDON  791596800\n2 1995-03-01  City of London 79120.70256  1995      3  CITY OF LONDON  794016000\n3 1995-04-01  City of London 77101.20804  1995      4  CITY OF LONDON  796694400\n4 1995-05-01  City of London 84409.14932  1995      5  CITY OF LONDON  799286400",
      "text/html": "<div>\n<style scoped>\n    .dataframe tbody tr th:only-of-type {\n        vertical-align: middle;\n    }\n\n    .dataframe tbody tr th {\n        vertical-align: top;\n    }\n\n    .dataframe thead th {\n        text-align: right;\n    }\n</style>\n<table border=\"1\" class=\"dataframe\">\n  <thead>\n    <tr style=\"text-align: right;\">\n      <th></th>\n      <th>date</th>\n      <th>borough</th>\n      <th>avg_price</th>\n      <th>year</th>\n      <th>month</th>\n      <th>canon</th>\n      <th>epoch</th>\n    </tr>\n  </thead>\n  <tbody>\n    <tr>\n      <th>0</th>\n      <td>1995-01-01</td>\n      <td>City of London</td>\n      <td>91448.98487</td>\n      <td>1995</td>\n      <td>1</td>\n      <td>CITY OF LONDON</td>\n      <td>788918400</td>\n    </tr>\n    <tr>\n      <th>1</th>\n      <td>1995-02-01</td>\n      <td>City of London</td>\n      <td>82202.77314</td>\n      <td>1995</td>\n      <td>2</td>\n      <td>CITY OF LONDON</td>\n      <td>791596800</td>\n    </tr>\n    <tr>\n      <th>2</th>\n      <td>1995-03-01</td>\n      <td>City of London</td>\n      <td>79120.70256</td>\n      <td>1995</td>\n      <td>3</td>\n      <td>CITY OF LONDON</td>\n      <td>794016000</td>\n    </tr>\n    <tr>\n      <th>3</th>\n      <td>1995-04-01</td>\n      <td>City of London</td>\n      <td>77101.20804</td>\n      <td>1995</td>\n      <td>4</td>\n      <td>CITY OF LONDON</td>\n      <td>796694400</td>\n    </tr>\n    <tr>\n      <th>4</th>\n      <td>1995-05-01</td>\n      <td>City of London</td>\n      <td>84409.14932</td>\n      <td>1995</td>\n      <td>5</td>\n      <td>CITY OF LONDON</td>\n      <td>799286400</td>\n    </tr>\n  </tbody>\n</table>\n</div>"
     },
     "execution_count": 175,
     "metadata": {},
     "output_type": "execute_result"
    }
   ],
   "source": [
    "\n",
    "properties_t['year'] = pd.DatetimeIndex(properties_t['date']).year\n",
    "properties_t['month'] = pd.DatetimeIndex(properties_t['date']).month\n",
    "properties_t['canon'] =  properties_t['borough'].str.upper()\n",
    "properties_t['epoch'] = (properties_t['date'].astype('int64')/1e9).astype('int64')\n",
    "properties_t.head()"
   ],
   "metadata": {
    "collapsed": false
   }
  },
  {
   "cell_type": "markdown",
   "source": [
    "<span style=\"color:#cc0000\">Validate the boroughs column against the control list of London boroughs</span>\n",
    "- outer join against the 32 boroughs list\n",
    "- set the indicator on so we can see which matched and which did not\n",
    "- look at the hits and misses and verify that we have the right boroughs"
   ],
   "metadata": {
    "collapsed": false
   }
  },
  {
   "cell_type": "code",
   "execution_count": 176,
   "outputs": [
    {
     "name": "stdout",
     "output_type": "stream",
     "text": [
      "MISSES - these are not boroughs\n",
      "------------------------\n",
      "                  canon borough     _merge\n",
      "0       CITY OF LONDON     NaN  left_only\n",
      "33        INNER LONDON     NaN  left_only\n",
      "34        OUTER LONDON     NaN  left_only\n",
      "35          NORTH EAST     NaN  left_only\n",
      "36          NORTH WEST     NaN  left_only\n",
      "37  YORKS & THE HUMBER     NaN  left_only\n",
      "38       EAST MIDLANDS     NaN  left_only\n",
      "39       WEST MIDLANDS     NaN  left_only\n",
      "40     EAST OF ENGLAND     NaN  left_only\n",
      "41              LONDON     NaN  left_only\n",
      "42          SOUTH EAST     NaN  left_only\n",
      "43          SOUTH WEST     NaN  left_only\n",
      "44             ENGLAND     NaN  left_only\n"
     ]
    }
   ],
   "source": [
    "#perform outer join\n",
    "raw_boroughs = pd.DataFrame(\n",
    "    {'canon': properties_t['canon'].unique()})\n",
    "\n",
    "outer = raw_boroughs.merge(boroughs_df, on='canon', how='outer', indicator=True)\n",
    "\n",
    "# print('HITS', outer[(outer['_merge'] == 'both')])\n",
    "print('MISSES - these are not boroughs\\n------------------------\\n', outer[(outer['_merge'] != 'both')])\n"
   ],
   "metadata": {
    "collapsed": false
   }
  },
  {
   "cell_type": "markdown",
   "source": [
    "<span style=\"color:#cc0000\">Merge out rows that are not true boroughs </span>\n",
    "- Use the boroughs_df data as a control to inner join with the properties data\n",
    "- the data has rows for England, City of London, etc. etc.\n",
    "- We don't want these to be evaluated for this assignment\n",
    "- inner join our boroughs_df data to the properties data\n",
    "- then use suffixes _remove to denote all duplicates columns so we don't get borough_x, borough_y\n"
   ],
   "metadata": {
    "collapsed": false
   }
  },
  {
   "cell_type": "code",
   "execution_count": 177,
   "outputs": [
    {
     "data": {
      "text/plain": "        date             borough   avg_price  year  month               canon      epoch\n0 1995-01-01  Barking & Dagenham 50460.22660  1995      1  BARKING & DAGENHAM  788918400\n1 1995-02-01  Barking & Dagenham 51085.77983  1995      2  BARKING & DAGENHAM  791596800\n2 1995-03-01  Barking & Dagenham 51268.96956  1995      3  BARKING & DAGENHAM  794016000\n3 1995-04-01  Barking & Dagenham 53133.50526  1995      4  BARKING & DAGENHAM  796694400\n4 1995-05-01  Barking & Dagenham 53042.24852  1995      5  BARKING & DAGENHAM  799286400",
      "text/html": "<div>\n<style scoped>\n    .dataframe tbody tr th:only-of-type {\n        vertical-align: middle;\n    }\n\n    .dataframe tbody tr th {\n        vertical-align: top;\n    }\n\n    .dataframe thead th {\n        text-align: right;\n    }\n</style>\n<table border=\"1\" class=\"dataframe\">\n  <thead>\n    <tr style=\"text-align: right;\">\n      <th></th>\n      <th>date</th>\n      <th>borough</th>\n      <th>avg_price</th>\n      <th>year</th>\n      <th>month</th>\n      <th>canon</th>\n      <th>epoch</th>\n    </tr>\n  </thead>\n  <tbody>\n    <tr>\n      <th>0</th>\n      <td>1995-01-01</td>\n      <td>Barking &amp; Dagenham</td>\n      <td>50460.22660</td>\n      <td>1995</td>\n      <td>1</td>\n      <td>BARKING &amp; DAGENHAM</td>\n      <td>788918400</td>\n    </tr>\n    <tr>\n      <th>1</th>\n      <td>1995-02-01</td>\n      <td>Barking &amp; Dagenham</td>\n      <td>51085.77983</td>\n      <td>1995</td>\n      <td>2</td>\n      <td>BARKING &amp; DAGENHAM</td>\n      <td>791596800</td>\n    </tr>\n    <tr>\n      <th>2</th>\n      <td>1995-03-01</td>\n      <td>Barking &amp; Dagenham</td>\n      <td>51268.96956</td>\n      <td>1995</td>\n      <td>3</td>\n      <td>BARKING &amp; DAGENHAM</td>\n      <td>794016000</td>\n    </tr>\n    <tr>\n      <th>3</th>\n      <td>1995-04-01</td>\n      <td>Barking &amp; Dagenham</td>\n      <td>53133.50526</td>\n      <td>1995</td>\n      <td>4</td>\n      <td>BARKING &amp; DAGENHAM</td>\n      <td>796694400</td>\n    </tr>\n    <tr>\n      <th>4</th>\n      <td>1995-05-01</td>\n      <td>Barking &amp; Dagenham</td>\n      <td>53042.24852</td>\n      <td>1995</td>\n      <td>5</td>\n      <td>BARKING &amp; DAGENHAM</td>\n      <td>799286400</td>\n    </tr>\n  </tbody>\n</table>\n</div>"
     },
     "execution_count": 177,
     "metadata": {},
     "output_type": "execute_result"
    }
   ],
   "source": [
    "properties_t = properties_t.merge(boroughs_df,\n",
    "                                  on='canon',\n",
    "                                  how='inner',\n",
    "                                  validate=\"many_to_one\",\n",
    "                                  suffixes=('', '_remove')\n",
    "                                  )\n",
    "\n",
    "# keep only unique columns\n",
    "properties_t.drop([i for i in properties_t.columns if 'remove' in i],\n",
    "               axis=1, inplace=True)\n",
    "\n",
    "properties_t.head(5)"
   ],
   "metadata": {
    "collapsed": false
   }
  },
  {
   "cell_type": "code",
   "execution_count": 178,
   "outputs": [
    {
     "name": "stdout",
     "output_type": "stream",
     "text": [
      "Double-check that we are only using the 32 London boroughs\n"
     ]
    },
    {
     "data": {
      "text/plain": "array(['BARKING & DAGENHAM', 'BARNET', 'BEXLEY', 'BRENT', 'BROMLEY',\n       'CAMDEN', 'CROYDON', 'EALING', 'ENFIELD', 'GREENWICH', 'HACKNEY',\n       'HAMMERSMITH & FULHAM', 'HARINGEY', 'HARROW', 'HAVERING',\n       'HILLINGDON', 'HOUNSLOW', 'ISLINGTON', 'KENSINGTON & CHELSEA',\n       'KINGSTON UPON THAMES', 'LAMBETH', 'LEWISHAM', 'MERTON', 'NEWHAM',\n       'REDBRIDGE', 'RICHMOND UPON THAMES', 'SOUTHWARK', 'SUTTON',\n       'TOWER HAMLETS', 'WALTHAM FOREST', 'WANDSWORTH', 'WESTMINSTER'],\n      dtype=object)"
     },
     "execution_count": 178,
     "metadata": {},
     "output_type": "execute_result"
    }
   ],
   "source": [
    "print(\"Double-check that we are only using the 32 London boroughs\")\n",
    "properties_t['canon'].unique()"
   ],
   "metadata": {
    "collapsed": false
   }
  },
  {
   "cell_type": "markdown",
   "source": [
    "<span style=\"color:#cc0000\">Keep only the last twenty years - ignore the fact that 2022 is missing December</span>\n",
    "- We can see that 2022 only goes to November - there are only 11 months in 2022\n",
    "- Don't worry about that - just get the last 20 years\n",
    "- select only years greater than or equal to the max year minus 20\n"
   ],
   "metadata": {
    "collapsed": false
   }
  },
  {
   "cell_type": "code",
   "execution_count": 179,
   "outputs": [
    {
     "name": "stdout",
     "output_type": "stream",
     "text": [
      "2022 is missing December year  month\n",
      "2022  1        32\n",
      "      2        32\n",
      "      3        32\n",
      "      4        32\n",
      "      5        32\n",
      "      6        32\n",
      "      7        32\n",
      "      8        32\n",
      "      9        32\n",
      "      10       32\n",
      "      11       32\n",
      "dtype: int64\n",
      "\n",
      "------------------\n",
      "Print The first and last years of the last 2 decades:\n"
     ]
    },
    {
     "data": {
      "text/plain": "min    2002\nmax    2022\nName: year, dtype: int64"
     },
     "execution_count": 179,
     "metadata": {},
     "output_type": "execute_result"
    }
   ],
   "source": [
    "print(\"2022 is missing December\", properties_t[(properties_t['year'] == 2022)].groupby(['year', 'month']).size())\n",
    "\n",
    "properties_t = properties_t[(properties_t['year'] >= (properties_t.year.max() - 20))]\n",
    "\n",
    "print(\"\\n------------------\\nPrint The first and last years of the last 2 decades:\")\n",
    "properties_t['year'].agg(['min', 'max'])"
   ],
   "metadata": {
    "collapsed": false
   }
  },
  {
   "cell_type": "markdown",
   "source": [
    "Remember to make sure your column data types are all correct. Average prices, for example, should be floating point numbers..."
   ],
   "metadata": {
    "collapsed": false
   }
  },
  {
   "cell_type": "code",
   "execution_count": 180,
   "outputs": [
    {
     "name": "stdout",
     "output_type": "stream",
     "text": [
      "DTYPES BEFORE\n",
      " date         datetime64[ns]\n",
      "borough              object\n",
      "avg_price            object\n",
      "year                  int64\n",
      "month                 int64\n",
      "canon                object\n",
      "epoch                 int64\n",
      "dtype: object\n",
      "\n",
      "--------------------------\n",
      "DTYPES AFTER\n",
      " date         datetime64[ns]\n",
      "borough              object\n",
      "avg_price           float64\n",
      "year                  int64\n",
      "month                 int64\n",
      "canon                object\n",
      "epoch                 int64\n",
      "dtype: object\n"
     ]
    }
   ],
   "source": [
    "print(\"DTYPES BEFORE\\n\", properties_t.dtypes )\n",
    "properties_t = properties_t.astype({'avg_price': 'float'})\n",
    "print(\"\\n--------------------------\\nDTYPES AFTER\\n\", properties_t.dtypes )\n"
   ],
   "metadata": {
    "collapsed": false
   }
  },
  {
   "cell_type": "markdown",
   "source": [
    "**2.5. Cleaning the data (part 3)**\n",
    "\n",
    "Do we have an equal number of observations in the ID, Average Price, Month, and London Borough columns? Remember that there are only 32 London Boroughs. How many entries do you have in that column?\n",
    "\n",
    "Check out the contents of the London Borough column, and if you find null values, get rid of them however you see fit."
   ],
   "metadata": {
    "collapsed": false
   }
  },
  {
   "cell_type": "code",
   "execution_count": 181,
   "outputs": [
    {
     "name": "stdout",
     "output_type": "stream",
     "text": [
      "Check for null dates?  [False]\n",
      "Check for null boroughs?  [False]\n",
      "Check for null prices?  [False]\n"
     ]
    }
   ],
   "source": [
    "properties_t.head()\n",
    "print(\"Check for null dates? \",properties_t.date.isnull().unique())\n",
    "print(\"Check for null boroughs? \",properties_t.borough.isnull().unique())\n",
    "print(\"Check for null prices? \",properties_t.avg_price.isnull().unique())"
   ],
   "metadata": {
    "collapsed": false
   }
  },
  {
   "cell_type": "code",
   "execution_count": 181,
   "outputs": [],
   "source": [],
   "metadata": {
    "collapsed": false
   }
  },
  {
   "cell_type": "markdown",
   "source": [
    "**2.6. Visualizing the data**\n",
    "\n",
    "To visualize the data, why not subset on a particular London Borough? Maybe do a line plot of Month against Average Price?"
   ],
   "metadata": {
    "collapsed": false
   }
  },
  {
   "cell_type": "code",
   "execution_count": 182,
   "outputs": [
    {
     "data": {
      "text/plain": "<Figure size 432x288 with 1 Axes>",
      "image/png": "[encoded data removed]"
     },
     "metadata": {
      "needs_background": "light"
     },
     "output_type": "display_data"
    }
   ],
   "source": [
    "borough = 'Hackney'\n",
    "p = properties_t[properties_t.borough == borough][['date', 'avg_price']]\n",
    "p.plot(kind='line', x='date', y='avg_price', title=f\"Prices for {borough}\")\n",
    "plt.show()"
   ],
   "metadata": {
    "collapsed": false
   }
  },
  {
   "cell_type": "markdown",
   "metadata": {
    "id": "2knuTxAEqoJ4",
    "colab_type": "text"
   },
   "source": [
    "---\n",
    "\n",
    "# 3. Modeling\n",
    "\n"
   ]
  },
  {
   "cell_type": "markdown",
   "source": [
    "<span style=\"color:#cc0000\">Get the earliest and latest date for each borough</span>\n",
    "- Use the `groupby` and `agg('first', 'last')` functions to get the earliest and latest day for each borough on each row\n",
    "- This should leave us with every row containing the date column plus two additional dates : the first `(1/1/2002)` and the last `(1/1/2022)`\n",
    "- I am using epoch instead of date here -- the epoc is just a numeric representation of the date - it might be faster ....?\n",
    "\n",
    "</p>\n",
    "\n",
    "\n",
    "- do this in a new dataframe **properties_df** which we'll use for further calculations\n"
   ],
   "metadata": {
    "collapsed": false
   }
  },
  {
   "cell_type": "code",
   "execution_count": 183,
   "outputs": [
    {
     "data": {
      "text/plain": "        date             borough    avg_price  year  month               canon       epoch       first        last\n0 2002-01-01  Barking & Dagenham  98713.31808  2002      1  BARKING & DAGENHAM  1009843200  1009843200  1667260800\n1 2002-02-01  Barking & Dagenham 100228.69470  2002      2  BARKING & DAGENHAM  1012521600  1009843200  1667260800\n2 2002-03-01  Barking & Dagenham 101633.03380  2002      3  BARKING & DAGENHAM  1014940800  1009843200  1667260800\n3 2002-04-01  Barking & Dagenham 103884.70930  2002      4  BARKING & DAGENHAM  1017619200  1009843200  1667260800\n4 2002-05-01  Barking & Dagenham 105760.55740  2002      5  BARKING & DAGENHAM  1020211200  1009843200  1667260800",
      "text/html": "<div>\n<style scoped>\n    .dataframe tbody tr th:only-of-type {\n        vertical-align: middle;\n    }\n\n    .dataframe tbody tr th {\n        vertical-align: top;\n    }\n\n    .dataframe thead th {\n        text-align: right;\n    }\n</style>\n<table border=\"1\" class=\"dataframe\">\n  <thead>\n    <tr style=\"text-align: right;\">\n      <th></th>\n      <th>date</th>\n      <th>borough</th>\n      <th>avg_price</th>\n      <th>year</th>\n      <th>month</th>\n      <th>canon</th>\n      <th>epoch</th>\n      <th>first</th>\n      <th>last</th>\n    </tr>\n  </thead>\n  <tbody>\n    <tr>\n      <th>0</th>\n      <td>2002-01-01</td>\n      <td>Barking &amp; Dagenham</td>\n      <td>98713.31808</td>\n      <td>2002</td>\n      <td>1</td>\n      <td>BARKING &amp; DAGENHAM</td>\n      <td>1009843200</td>\n      <td>1009843200</td>\n      <td>1667260800</td>\n    </tr>\n    <tr>\n      <th>1</th>\n      <td>2002-02-01</td>\n      <td>Barking &amp; Dagenham</td>\n      <td>100228.69470</td>\n      <td>2002</td>\n      <td>2</td>\n      <td>BARKING &amp; DAGENHAM</td>\n      <td>1012521600</td>\n      <td>1009843200</td>\n      <td>1667260800</td>\n    </tr>\n    <tr>\n      <th>2</th>\n      <td>2002-03-01</td>\n      <td>Barking &amp; Dagenham</td>\n      <td>101633.03380</td>\n      <td>2002</td>\n      <td>3</td>\n      <td>BARKING &amp; DAGENHAM</td>\n      <td>1014940800</td>\n      <td>1009843200</td>\n      <td>1667260800</td>\n    </tr>\n    <tr>\n      <th>3</th>\n      <td>2002-04-01</td>\n      <td>Barking &amp; Dagenham</td>\n      <td>103884.70930</td>\n      <td>2002</td>\n      <td>4</td>\n      <td>BARKING &amp; DAGENHAM</td>\n      <td>1017619200</td>\n      <td>1009843200</td>\n      <td>1667260800</td>\n    </tr>\n    <tr>\n      <th>4</th>\n      <td>2002-05-01</td>\n      <td>Barking &amp; Dagenham</td>\n      <td>105760.55740</td>\n      <td>2002</td>\n      <td>5</td>\n      <td>BARKING &amp; DAGENHAM</td>\n      <td>1020211200</td>\n      <td>1009843200</td>\n      <td>1667260800</td>\n    </tr>\n  </tbody>\n</table>\n</div>"
     },
     "execution_count": 183,
     "metadata": {},
     "output_type": "execute_result"
    }
   ],
   "source": [
    "# Get the first and last data for every borough (from the last 20 years)\n",
    "first_and_last_dates = properties_t.groupby(['borough'])['epoch'].agg(['first', 'last'])\n",
    "\n",
    "# inner join properties_t dates_of_interest_df - leaving only rows with the dates from the last 20 years\n",
    "properties_df = properties_t.merge(first_and_last_dates, on=\"borough\")\n",
    "properties_df.head()"
   ],
   "metadata": {
    "collapsed": false
   }
  },
  {
   "cell_type": "markdown",
   "source": [
    "<span style=\"color:#cc0000\">Keep only the two rows per borough that contain the first and last dates</span>\n",
    "\n",
    "- We just want the overall rate of increase between the first `(1/1/2002)` and the last `(1/1/2022)` dates\n",
    "- So we'll only need to compare the avg_price increase between those two first and last dates\n",
    "- We can safely drop the intermediate months for this analysis\n",
    "\n",
    "- ***This leaves us with two rows for each borough***\n"
   ],
   "metadata": {
    "collapsed": false
   }
  },
  {
   "cell_type": "code",
   "execution_count": 194,
   "outputs": [
    {
     "name": "stdout",
     "output_type": "stream",
     "text": [
      "Verify that each borough now has two rows\n"
     ]
    },
    {
     "data": {
      "text/plain": "borough\nBarking & Dagenham      2\nBarnet                  2\nBexley                  2\nBrent                   2\nBromley                 2\nCamden                  2\nCroydon                 2\nEaling                  2\nEnfield                 2\nGreenwich               2\nHackney                 2\nHammersmith & Fulham    2\nHaringey                2\nHarrow                  2\nHavering                2\nHillingdon              2\nHounslow                2\nIslington               2\nKensington & Chelsea    2\nKingston upon Thames    2\nLambeth                 2\nLewisham                2\nMerton                  2\nNewham                  2\nRedbridge               2\nRichmond upon Thames    2\nSouthwark               2\nSutton                  2\nTower Hamlets           2\nWaltham Forest          2\nWandsworth              2\nWestminster             2\ndtype: int64"
     },
     "execution_count": 194,
     "metadata": {},
     "output_type": "execute_result"
    }
   ],
   "source": [
    "first_or_last = (properties_df['epoch'] == properties_df['first']) | (properties_df['epoch'] == properties_df['last'])\n",
    "properties_df = properties_df[first_or_last]\n",
    "\n",
    "print(\"Verify that each borough now has two rows\")\n",
    "properties_df.groupby('borough').size()"
   ],
   "metadata": {
    "collapsed": false
   }
  },
  {
   "cell_type": "markdown",
   "source": [
    "<span style=\"color:#cc0000\">Pivot the properties_df table to get the first and last dates on a single row</span>\n",
    "\n",
    "- create the **df** pivot table - which contains the `open` (e.g. 1/1/2002) and the `close` (e.g. 1/1/2022) avg_prices for each borough"
   ],
   "metadata": {
    "collapsed": false
   }
  },
  {
   "cell_type": "code",
   "execution_count": 188,
   "outputs": [
    {
     "data": {
      "text/plain": "              borough  begin_avg_price  end_avg_price\n0  Barking & Dagenham      98713.31808   359766.13814\n1              Barnet     203249.25380   585172.92015\n2              Bexley     124283.02200   408113.57717\n3               Brent     168670.91700   576102.60656\n4             Bromley     173150.12980   525145.15680",
      "text/html": "<div>\n<style scoped>\n    .dataframe tbody tr th:only-of-type {\n        vertical-align: middle;\n    }\n\n    .dataframe tbody tr th {\n        vertical-align: top;\n    }\n\n    .dataframe thead th {\n        text-align: right;\n    }\n</style>\n<table border=\"1\" class=\"dataframe\">\n  <thead>\n    <tr style=\"text-align: right;\">\n      <th></th>\n      <th>borough</th>\n      <th>begin_avg_price</th>\n      <th>end_avg_price</th>\n    </tr>\n  </thead>\n  <tbody>\n    <tr>\n      <th>0</th>\n      <td>Barking &amp; Dagenham</td>\n      <td>98713.31808</td>\n      <td>359766.13814</td>\n    </tr>\n    <tr>\n      <th>1</th>\n      <td>Barnet</td>\n      <td>203249.25380</td>\n      <td>585172.92015</td>\n    </tr>\n    <tr>\n      <th>2</th>\n      <td>Bexley</td>\n      <td>124283.02200</td>\n      <td>408113.57717</td>\n    </tr>\n    <tr>\n      <th>3</th>\n      <td>Brent</td>\n      <td>168670.91700</td>\n      <td>576102.60656</td>\n    </tr>\n    <tr>\n      <th>4</th>\n      <td>Bromley</td>\n      <td>173150.12980</td>\n      <td>525145.15680</td>\n    </tr>\n  </tbody>\n</table>\n</div>"
     },
     "execution_count": 188,
     "metadata": {},
     "output_type": "execute_result"
    }
   ],
   "source": [
    "pivot_df = properties_df.pivot_table(\n",
    "    values='avg_price',         # replace any missing values with this\n",
    "    index=\"borough\",     # vertical (rows)\n",
    "    fill_value=-1,\n",
    "    columns='date'\n",
    "    )\n",
    "\n",
    "#format column names - get rid of the specific columns=[2002, 2022] and replace\n",
    "pivot_df.columns = ['begin_avg_price', 'end_avg_price']\n",
    "\n",
    "#reset index\n",
    "pivot_df.reset_index(inplace=True)\n",
    "\n",
    "pivot_df.head()"
   ],
   "metadata": {
    "collapsed": false
   }
  },
  {
   "cell_type": "markdown",
   "source": [
    "<span style=\"color:#cc0000\">Calulate the straight line change between the open and closing prices </span>\n",
    "\n",
    "The straight line calculations is $ (end\\_avg\\_price - begin\\_avg\\_price) \\over begin\\_avg\\_price $"
   ],
   "metadata": {
    "collapsed": false
   }
  },
  {
   "cell_type": "code",
   "execution_count": 189,
   "outputs": [],
   "source": [
    "pivot_df['straight_line_ratio'] = (pivot_df['end_avg_price'] - pivot_df['begin_avg_price']) / pivot_df['begin_avg_price']"
   ],
   "metadata": {
    "collapsed": false
   }
  },
  {
   "cell_type": "markdown",
   "source": [
    "---\n",
    "\n",
    "# 4. Conclusion\n",
    "\n",
    "***which boroughs of London have seen the greatest increase in housing prices, on average, over the last two decades?***\n"
   ],
   "metadata": {
    "collapsed": false
   }
  },
  {
   "cell_type": "code",
   "execution_count": 190,
   "outputs": [
    {
     "name": "stdout",
     "output_type": "stream",
     "text": [
      "The 5 boroughs of London with the greatest increase in housing prices, on average, over the last two decades are::\n"
     ]
    },
    {
     "data": {
      "text/plain": "               borough  begin_avg_price  end_avg_price  straight_line_ratio\n10             Hackney     165006.79790   653045.85891              2.95769\n29      Waltham Forest     132998.58820   524111.23272              2.94073\n0   Barking & Dagenham      98713.31808   359766.13814              2.64456\n12            Haringey     173395.54210   627514.96968              2.61898\n21            Lewisham     131762.72350   472336.32843              2.58475",
      "text/html": "<div>\n<style scoped>\n    .dataframe tbody tr th:only-of-type {\n        vertical-align: middle;\n    }\n\n    .dataframe tbody tr th {\n        vertical-align: top;\n    }\n\n    .dataframe thead th {\n        text-align: right;\n    }\n</style>\n<table border=\"1\" class=\"dataframe\">\n  <thead>\n    <tr style=\"text-align: right;\">\n      <th></th>\n      <th>borough</th>\n      <th>begin_avg_price</th>\n      <th>end_avg_price</th>\n      <th>straight_line_ratio</th>\n    </tr>\n  </thead>\n  <tbody>\n    <tr>\n      <th>10</th>\n      <td>Hackney</td>\n      <td>165006.79790</td>\n      <td>653045.85891</td>\n      <td>2.95769</td>\n    </tr>\n    <tr>\n      <th>29</th>\n      <td>Waltham Forest</td>\n      <td>132998.58820</td>\n      <td>524111.23272</td>\n      <td>2.94073</td>\n    </tr>\n    <tr>\n      <th>0</th>\n      <td>Barking &amp; Dagenham</td>\n      <td>98713.31808</td>\n      <td>359766.13814</td>\n      <td>2.64456</td>\n    </tr>\n    <tr>\n      <th>12</th>\n      <td>Haringey</td>\n      <td>173395.54210</td>\n      <td>627514.96968</td>\n      <td>2.61898</td>\n    </tr>\n    <tr>\n      <th>21</th>\n      <td>Lewisham</td>\n      <td>131762.72350</td>\n      <td>472336.32843</td>\n      <td>2.58475</td>\n    </tr>\n  </tbody>\n</table>\n</div>"
     },
     "execution_count": 190,
     "metadata": {},
     "output_type": "execute_result"
    }
   ],
   "source": [
    "top_n = 5\n",
    "\n",
    "print(f\"The {top_n} boroughs of London with the greatest increase in housing prices, on average, over the last two decades are::\")\n",
    "pivot_df.sort_values('straight_line_ratio', ascending=False).head(top_n)"
   ],
   "metadata": {
    "collapsed": false
   }
  }
 ]
}
