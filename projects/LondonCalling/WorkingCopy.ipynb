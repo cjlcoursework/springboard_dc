{
 "nbformat": 4,
 "nbformat_minor": 0,
 "metadata": {
  "kernelspec": {
   "display_name": "Python 3",
   "language": "python",
   "name": "python3"
  },
  "language_info": {
   "codemirror_mode": {
    "name": "ipython",
    "version": 3
   },
   "file_extension": ".py",
   "mimetype": "text/x-python",
   "name": "python",
   "nbconvert_exporter": "python",
   "pygments_lexer": "ipython3",
   "version": "3.7.3"
  },
  "colab": {
   "name": "Springboard Data Science Career Track Unit 4 Challenge - Tier 3 Complete .ipynb",
   "provenance": [],
   "collapsed_sections": []
  }
 },
 "cells": [
  {
   "cell_type": "markdown",
   "metadata": {
    "id": "Tia3MP1SJpgj",
    "colab_type": "text"
   },
   "source": [
    "# Springboard Data Science Career Track Unit 4 Challenge - Tier 3 Complete\n",
    "\n",
    "## Objectives\n",
    "Hey! Great job getting through those challenging DataCamp courses. You're learning a lot in a short span of time. \n",
    "\n",
    "In this notebook, you're going to apply the skills you've been learning, bridging the gap between the controlled environment of DataCamp and the *slightly* messier work that data scientists do with actual datasets!\n",
    "\n",
    "Here’s the mystery we’re going to solve: ***which boroughs of London have seen the greatest increase in housing prices, on average, over the last two decades?***\n",
    "\n",
    "\n",
    "A borough is just a fancy word for district. You may be familiar with the five boroughs of New York… well, there are 32 boroughs within Greater London [(here's some info for the curious)](https://en.wikipedia.org/wiki/London_boroughs). Some of them are more desirable areas to live in, and the data will reflect that with a greater rise in housing prices.\n",
    "\n",
    "***This is the Tier 3 notebook, which means it's not filled in at all: we'll just give you the skeleton of a project, the brief and the data. It's up to you to play around with it and see what you can find out! Good luck! If you struggle, feel free to look at easier tiers for help; but try to dip in and out of them, as the more independent work you do, the better it is for your learning!***\n",
    "\n",
    "This challenge will make use of only what you learned in the following DataCamp courses: \n",
    "- Prework courses (Introduction to Python for Data Science, Intermediate Python for Data Science)\n",
    "- Data Types for Data Science\n",
    "- Python Data Science Toolbox (Part One) \n",
    "- pandas Foundations\n",
    "- Manipulating DataFrames with pandas\n",
    "- Merging DataFrames with pandas\n",
    "\n",
    "Of the tools, techniques and concepts in the above DataCamp courses, this challenge should require the application of the following: \n",
    "- **pandas**\n",
    "    - **data ingestion and inspection** (pandas Foundations, Module One) \n",
    "    - **exploratory data analysis** (pandas Foundations, Module Two)\n",
    "    - **tidying and cleaning** (Manipulating DataFrames with pandas, Module Three) \n",
    "    - **transforming DataFrames** (Manipulating DataFrames with pandas, Module One)\n",
    "    - **subsetting DataFrames with lists** (Manipulating DataFrames with pandas, Module One) \n",
    "    - **filtering DataFrames** (Manipulating DataFrames with pandas, Module One) \n",
    "    - **grouping data** (Manipulating DataFrames with pandas, Module Four) \n",
    "    - **melting data** (Manipulating DataFrames with pandas, Module Three) \n",
    "    - **advanced indexing** (Manipulating DataFrames with pandas, Module Four) \n",
    "- **matplotlib** (Intermediate Python for Data Science, Module One)\n",
    "- **fundamental data types** (Data Types for Data Science, Module One) \n",
    "- **dictionaries** (Intermediate Python for Data Science, Module Two)\n",
    "- **handling dates and times** (Data Types for Data Science, Module Four)\n",
    "- **function definition** (Python Data Science Toolbox - Part One, Module One)\n",
    "- **default arguments, variable length, and scope** (Python Data Science Toolbox - Part One, Module Two) \n",
    "- **lambda functions and error handling** (Python Data Science Toolbox - Part One, Module Four) "
   ]
  },
  {
   "cell_type": "markdown",
   "metadata": {
    "id": "Ipgd2nV8Jpgl",
    "colab_type": "text"
   },
   "source": [
    "## The Data Science Pipeline\n",
    "\n",
    "This is Tier Three, so we'll get you started. But after that, it's all in your hands! When you feel done with your investigations, look back over what you've accomplished, and prepare a quick presentation of your findings for the next mentor meeting. \n",
    "\n",
    "Data Science is magical. In this case study, you'll get to apply some complex machine learning algorithms. But as  [David Spiegelhalter](https://www.youtube.com/watch?v=oUs1uvsz0Ok) reminds us, there is no substitute for simply **taking a really, really good look at the data.** Sometimes, this is all we need to answer our question.\n",
    "\n",
    "Data Science projects generally adhere to the four stages of Data Science Pipeline:\n",
    "1. Sourcing and loading \n",
    "2. Cleaning, transforming, and visualizing \n",
    "3. Modeling \n",
    "4. Evaluating and concluding \n"
   ]
  },
  {
   "cell_type": "markdown",
   "metadata": {
    "id": "zswDqbefJpgm",
    "colab_type": "text"
   },
   "source": [
    "### 1. Sourcing and Loading \n",
    "\n",
    "Any Data Science project kicks off by importing  ***pandas***. The documentation of this wonderful library can be found [here](https://pandas.pydata.org/). As you've seen, pandas is conveniently connected to the [Numpy](http://www.numpy.org/) and [Matplotlib](https://matplotlib.org/) libraries. \n",
    "\n",
    "***Hint:*** This part of the data science pipeline will test those skills you acquired in the pandas Foundations course, Module One. "
   ]
  },
  {
   "cell_type": "markdown",
   "metadata": {
    "id": "aEau5nEvJpgm",
    "colab_type": "text"
   },
   "source": [
    "#### 1.1. Importing Libraries"
   ]
  },
  {
   "cell_type": "code",
   "metadata": {
    "id": "7Bt_Q_oPJpgn",
    "colab_type": "code",
    "colab": {}
   },
   "source": [
    "# Let's import the pandas, numpy libraries as pd, and np respectively.\n",
    "import pandas as pd\n",
    "import numpy as np\n",
    "\n",
    "# Load the pyplot collection of functions from matplotlib, as plt \n",
    "from matplotlib import pyplot as plt\n",
    "\n",
    "pd.set_option('display.float_format', lambda x: '%.5f' % x)\n",
    "# comments: <span style=\"color:#20B2AA\">"
   ],
   "execution_count": 273,
   "outputs": []
  },
  {
   "cell_type": "markdown",
   "metadata": {
    "id": "koUrawxsJpgq",
    "colab_type": "text"
   },
   "source": [
    "#### 1.2.  Loading the data\n",
    "Your data comes from the [London Datastore](https://data.london.gov.uk/): a free, open-source data-sharing portal for London-oriented datasets. "
   ]
  },
  {
   "cell_type": "code",
   "metadata": {
    "id": "AiLiD4v3Jpgr",
    "colab_type": "code",
    "colab": {}
   },
   "source": [
    "# First, make a variable called url_LondonHousePrices, and assign it the following link, enclosed in quotation-marks as a string:\n",
    "# https://data.london.gov.uk/download/uk-house-price-index/70ac0766-8902-4eb5-aab5-01951aaed773/UK%20House%20price%20index.xls\n",
    "\n",
    "url_LondonHousePrices = \"https://data.london.gov.uk/download/uk-house-price-index/70ac0766-8902-4eb5-aab5-01951aaed773/UK%20House%20price%20index.xls\"\n",
    "\n",
    "# The dataset we're interested in contains the Average prices of the houses, and is actually on a particular sheet of the Excel file. \n",
    "# As a result, we need to specify the sheet name in the read_excel() method.\n",
    "# Put this data into a variable called properties.  \n",
    "raw_properties = pd.read_excel(url_LondonHousePrices, sheet_name='Average price', index_col= None)\n",
    "raw_properties.head()"
   ],
   "execution_count": 274,
   "outputs": [
    {
     "data": {
      "text/plain": "  Unnamed: 0 City of London Barking & Dagenham      Barnet      Bexley  \\\n0        NaT      E09000001          E09000002   E09000003   E09000004   \n1 1995-01-01    91448.98487        50460.22660 93284.51832 64958.09036   \n2 1995-02-01    82202.77314        51085.77983 93190.16963 64787.92069   \n3 1995-03-01    79120.70256        51268.96956 92247.52435 64367.49344   \n4 1995-04-01    77101.20804        53133.50526 90762.87492 64277.66881   \n\n        Brent     Bromley       Camden     Croydon      Ealing  ...  \\\n0   E09000005   E09000006    E09000007   E09000008   E09000009  ...   \n1 71306.56698 81671.47692 120932.88810 69158.16225 79885.89069  ...   \n2 72022.26197 81657.55944 119508.86220 68951.09542 80897.06551  ...   \n3 72015.76274 81449.31143 120282.21310 68712.44341 81379.86288  ...   \n4 72965.63094 81124.41227 120097.89900 68610.04641 82188.90498  ...   \n\n   NORTH WEST YORKS & THE HUMBER EAST MIDLANDS WEST MIDLANDS EAST OF ENGLAND  \\\n0   E12000002          E12000003     E12000004     E12000005       E12000006   \n1 43958.48001        44803.42878   45544.52227   48527.52339     56701.59610   \n2 43925.42289        44528.80721   46051.57066   49341.29029     56593.59475   \n3 44434.86810        45200.46775   45383.82395   49442.17973     56171.18278   \n4 44267.77960        45614.34341   46124.23045   49455.93299     56567.89582   \n\n       LONDON  SOUTH EAST  SOUTH WEST Unnamed: 47     England  \n0   E12000007   E12000008   E12000009         NaN   E92000001  \n1 74435.76052 64018.87894 54705.15790         NaN 53202.77128  \n2 72777.93709 63715.02399 54356.14843         NaN 53096.15490  \n3 73896.84204 64113.60858 53583.07667         NaN 53201.28430  \n4 74455.28754 64623.22395 54786.01938         NaN 53590.85480  \n\n[5 rows x 49 columns]",
      "text/html": "<div>\n<style scoped>\n    .dataframe tbody tr th:only-of-type {\n        vertical-align: middle;\n    }\n\n    .dataframe tbody tr th {\n        vertical-align: top;\n    }\n\n    .dataframe thead th {\n        text-align: right;\n    }\n</style>\n<table border=\"1\" class=\"dataframe\">\n  <thead>\n    <tr style=\"text-align: right;\">\n      <th></th>\n      <th>Unnamed: 0</th>\n      <th>City of London</th>\n      <th>Barking &amp; Dagenham</th>\n      <th>Barnet</th>\n      <th>Bexley</th>\n      <th>Brent</th>\n      <th>Bromley</th>\n      <th>Camden</th>\n      <th>Croydon</th>\n      <th>Ealing</th>\n      <th>...</th>\n      <th>NORTH WEST</th>\n      <th>YORKS &amp; THE HUMBER</th>\n      <th>EAST MIDLANDS</th>\n      <th>WEST MIDLANDS</th>\n      <th>EAST OF ENGLAND</th>\n      <th>LONDON</th>\n      <th>SOUTH EAST</th>\n      <th>SOUTH WEST</th>\n      <th>Unnamed: 47</th>\n      <th>England</th>\n    </tr>\n  </thead>\n  <tbody>\n    <tr>\n      <th>0</th>\n      <td>NaT</td>\n      <td>E09000001</td>\n      <td>E09000002</td>\n      <td>E09000003</td>\n      <td>E09000004</td>\n      <td>E09000005</td>\n      <td>E09000006</td>\n      <td>E09000007</td>\n      <td>E09000008</td>\n      <td>E09000009</td>\n      <td>...</td>\n      <td>E12000002</td>\n      <td>E12000003</td>\n      <td>E12000004</td>\n      <td>E12000005</td>\n      <td>E12000006</td>\n      <td>E12000007</td>\n      <td>E12000008</td>\n      <td>E12000009</td>\n      <td>NaN</td>\n      <td>E92000001</td>\n    </tr>\n    <tr>\n      <th>1</th>\n      <td>1995-01-01</td>\n      <td>91448.98487</td>\n      <td>50460.22660</td>\n      <td>93284.51832</td>\n      <td>64958.09036</td>\n      <td>71306.56698</td>\n      <td>81671.47692</td>\n      <td>120932.88810</td>\n      <td>69158.16225</td>\n      <td>79885.89069</td>\n      <td>...</td>\n      <td>43958.48001</td>\n      <td>44803.42878</td>\n      <td>45544.52227</td>\n      <td>48527.52339</td>\n      <td>56701.59610</td>\n      <td>74435.76052</td>\n      <td>64018.87894</td>\n      <td>54705.15790</td>\n      <td>NaN</td>\n      <td>53202.77128</td>\n    </tr>\n    <tr>\n      <th>2</th>\n      <td>1995-02-01</td>\n      <td>82202.77314</td>\n      <td>51085.77983</td>\n      <td>93190.16963</td>\n      <td>64787.92069</td>\n      <td>72022.26197</td>\n      <td>81657.55944</td>\n      <td>119508.86220</td>\n      <td>68951.09542</td>\n      <td>80897.06551</td>\n      <td>...</td>\n      <td>43925.42289</td>\n      <td>44528.80721</td>\n      <td>46051.57066</td>\n      <td>49341.29029</td>\n      <td>56593.59475</td>\n      <td>72777.93709</td>\n      <td>63715.02399</td>\n      <td>54356.14843</td>\n      <td>NaN</td>\n      <td>53096.15490</td>\n    </tr>\n    <tr>\n      <th>3</th>\n      <td>1995-03-01</td>\n      <td>79120.70256</td>\n      <td>51268.96956</td>\n      <td>92247.52435</td>\n      <td>64367.49344</td>\n      <td>72015.76274</td>\n      <td>81449.31143</td>\n      <td>120282.21310</td>\n      <td>68712.44341</td>\n      <td>81379.86288</td>\n      <td>...</td>\n      <td>44434.86810</td>\n      <td>45200.46775</td>\n      <td>45383.82395</td>\n      <td>49442.17973</td>\n      <td>56171.18278</td>\n      <td>73896.84204</td>\n      <td>64113.60858</td>\n      <td>53583.07667</td>\n      <td>NaN</td>\n      <td>53201.28430</td>\n    </tr>\n    <tr>\n      <th>4</th>\n      <td>1995-04-01</td>\n      <td>77101.20804</td>\n      <td>53133.50526</td>\n      <td>90762.87492</td>\n      <td>64277.66881</td>\n      <td>72965.63094</td>\n      <td>81124.41227</td>\n      <td>120097.89900</td>\n      <td>68610.04641</td>\n      <td>82188.90498</td>\n      <td>...</td>\n      <td>44267.77960</td>\n      <td>45614.34341</td>\n      <td>46124.23045</td>\n      <td>49455.93299</td>\n      <td>56567.89582</td>\n      <td>74455.28754</td>\n      <td>64623.22395</td>\n      <td>54786.01938</td>\n      <td>NaN</td>\n      <td>53590.85480</td>\n    </tr>\n  </tbody>\n</table>\n<p>5 rows × 49 columns</p>\n</div>"
     },
     "execution_count": 274,
     "metadata": {},
     "output_type": "execute_result"
    }
   ]
  },
  {
   "cell_type": "markdown",
   "metadata": {
    "id": "POukEJXgJpgu",
    "colab_type": "text"
   },
   "source": [
    "### 2. Cleaning, transforming, and visualizing\n",
    "This second stage is arguably the most important part of any Data Science project. The first thing to do is take a proper look at the data. Cleaning forms the majority of this stage, and can be done both before or after Transformation.\n",
    "\n",
    "The end goal of data cleaning is to have tidy data. When data is tidy: \n",
    "\n",
    "1. Each variable has a column.\n",
    "2. Each observation forms a row.\n",
    "\n",
    "Keep the end goal in mind as you move through this process, every step will take you closer. \n",
    "\n",
    "\n",
    "\n",
    "***Hint:*** This part of the data science pipeline should test those skills you acquired in: \n",
    "- Intermediate Python for data science, all modules.\n",
    "- pandas Foundations, all modules. \n",
    "- Manipulating DataFrames with pandas, all modules.\n",
    "- Data Types for Data Science, Module Four.\n",
    "- Python Data Science Toolbox - Part One, all modules"
   ]
  },
  {
   "cell_type": "markdown",
   "metadata": {
    "id": "Te0Q548tnzZa",
    "colab_type": "text"
   },
   "source": [
    "**2.1. Exploring your data** \n",
    "\n",
    "Think about your pandas functions for checking out a dataframe."
   ]
  },
  {
   "cell_type": "code",
   "execution_count": 275,
   "outputs": [
    {
     "name": "stdout",
     "output_type": "stream",
     "text": [
      "<class 'pandas.core.frame.DataFrame'>\n",
      "RangeIndex: 336 entries, 0 to 335\n",
      "Data columns (total 49 columns):\n",
      " #   Column                Non-Null Count  Dtype         \n",
      "---  ------                --------------  -----         \n",
      " 0   Unnamed: 0            335 non-null    datetime64[ns]\n",
      " 1   City of London        336 non-null    object        \n",
      " 2   Barking & Dagenham    336 non-null    object        \n",
      " 3   Barnet                336 non-null    object        \n",
      " 4   Bexley                336 non-null    object        \n",
      " 5   Brent                 336 non-null    object        \n",
      " 6   Bromley               336 non-null    object        \n",
      " 7   Camden                336 non-null    object        \n",
      " 8   Croydon               336 non-null    object        \n",
      " 9   Ealing                336 non-null    object        \n",
      " 10  Enfield               336 non-null    object        \n",
      " 11  Greenwich             336 non-null    object        \n",
      " 12  Hackney               336 non-null    object        \n",
      " 13  Hammersmith & Fulham  336 non-null    object        \n",
      " 14  Haringey              336 non-null    object        \n",
      " 15  Harrow                336 non-null    object        \n",
      " 16  Havering              336 non-null    object        \n",
      " 17  Hillingdon            336 non-null    object        \n",
      " 18  Hounslow              336 non-null    object        \n",
      " 19  Islington             336 non-null    object        \n",
      " 20  Kensington & Chelsea  336 non-null    object        \n",
      " 21  Kingston upon Thames  336 non-null    object        \n",
      " 22  Lambeth               336 non-null    object        \n",
      " 23  Lewisham              336 non-null    object        \n",
      " 24  Merton                336 non-null    object        \n",
      " 25  Newham                336 non-null    object        \n",
      " 26  Redbridge             336 non-null    object        \n",
      " 27  Richmond upon Thames  336 non-null    object        \n",
      " 28  Southwark             336 non-null    object        \n",
      " 29  Sutton                336 non-null    object        \n",
      " 30  Tower Hamlets         336 non-null    object        \n",
      " 31  Waltham Forest        336 non-null    object        \n",
      " 32  Wandsworth            336 non-null    object        \n",
      " 33  Westminster           336 non-null    object        \n",
      " 34  Unnamed: 34           0 non-null      float64       \n",
      " 35  Inner London          336 non-null    object        \n",
      " 36  Outer London          336 non-null    object        \n",
      " 37  Unnamed: 37           0 non-null      float64       \n",
      " 38  NORTH EAST            336 non-null    object        \n",
      " 39  NORTH WEST            336 non-null    object        \n",
      " 40  YORKS & THE HUMBER    336 non-null    object        \n",
      " 41  EAST MIDLANDS         336 non-null    object        \n",
      " 42  WEST MIDLANDS         336 non-null    object        \n",
      " 43  EAST OF ENGLAND       336 non-null    object        \n",
      " 44  LONDON                336 non-null    object        \n",
      " 45  SOUTH EAST            336 non-null    object        \n",
      " 46  SOUTH WEST            336 non-null    object        \n",
      " 47  Unnamed: 47           0 non-null      float64       \n",
      " 48  England               336 non-null    object        \n",
      "dtypes: datetime64[ns](1), float64(3), object(45)\n",
      "memory usage: 128.8+ KB\n"
     ]
    }
   ],
   "source": [
    "raw_properties.info()"
   ],
   "metadata": {
    "collapsed": false
   }
  },
  {
   "cell_type": "markdown",
   "source": [
    "<span style=\"color:#20B2AA\">rename the Unnamed: 0 column</span>"
   ],
   "metadata": {
    "collapsed": false
   }
  },
  {
   "cell_type": "code",
   "execution_count": 276,
   "outputs": [],
   "source": [
    "properties = raw_properties.rename(columns={'Unnamed: 0': 'date'})"
   ],
   "metadata": {
    "collapsed": false
   }
  },
  {
   "cell_type": "markdown",
   "source": [
    "<span style=\"color:#20B2AA\">dates are unique from 1995 to 2022, and there are no nulls</span>"
   ],
   "metadata": {
    "collapsed": false
   }
  },
  {
   "cell_type": "code",
   "execution_count": 277,
   "outputs": [
    {
     "name": "stdout",
     "output_type": "stream",
     "text": [
      "count                              335\n",
      "mean     2008-11-30 11:44:57.313432832\n",
      "min                1995-01-01 00:00:00\n",
      "25%                2001-12-16 12:00:00\n",
      "50%                2008-12-01 00:00:00\n",
      "75%                2015-11-16 00:00:00\n",
      "max                2022-11-01 00:00:00\n",
      "Name: date, dtype: object\n"
     ]
    },
    {
     "data": {
      "text/plain": "1     1995-01-01\n2     1995-02-01\n3     1995-03-01\n4     1995-04-01\n5     1995-05-01\n         ...    \n332   2022-08-01\n333   2022-09-01\n334   2022-10-01\n335   2022-11-01\n0            NaT\nName: date, Length: 336, dtype: datetime64[ns]"
     },
     "execution_count": 277,
     "metadata": {},
     "output_type": "execute_result"
    }
   ],
   "source": [
    "print(properties.date.describe(datetime_is_numeric=True))\n",
    "nx = properties.date.sort_values()\n",
    "nx\n"
   ],
   "metadata": {
    "collapsed": false
   }
  },
  {
   "cell_type": "markdown",
   "source": [
    "<span style=\"color:#20B2AA\">rename the date column</span>"
   ],
   "metadata": {
    "collapsed": false
   }
  },
  {
   "cell_type": "code",
   "execution_count": 278,
   "outputs": [],
   "source": [
    "properties = properties.rename(columns={'Unnamed: 0': 'date'})"
   ],
   "metadata": {
    "collapsed": false
   }
  },
  {
   "cell_type": "markdown",
   "source": [
    "<span style=\"color:#20B2AA\">drop the Nat date column row</span>"
   ],
   "metadata": {
    "collapsed": false
   }
  },
  {
   "cell_type": "code",
   "execution_count": 279,
   "outputs": [
    {
     "name": "stdout",
     "output_type": "stream",
     "text": [
      "(336, 49)\n",
      "  date\n",
      "0  NaT\n",
      "(335, 49)\n",
      "        date\n",
      "1 1995-01-01\n"
     ]
    }
   ],
   "source": [
    "print(properties.shape)\n",
    "print(properties.iloc[:1,:1])\n",
    "properties = properties.drop(labels=0, axis=0)\n",
    "print(properties.shape)\n",
    "print(properties.iloc[:1,:1])"
   ],
   "metadata": {
    "collapsed": false
   }
  },
  {
   "cell_type": "markdown",
   "source": [
    "<span style=\"color:#20B2AA\">Review Unnamed columns</span>"
   ],
   "metadata": {
    "collapsed": false
   }
  },
  {
   "cell_type": "code",
   "execution_count": 280,
   "outputs": [
    {
     "name": "stdout",
     "output_type": "stream",
     "text": [
      "[nan]\n",
      "[nan]\n",
      "[nan]\n"
     ]
    }
   ],
   "source": [
    "a = properties['Unnamed: 34'].unique()\n",
    "b = properties['Unnamed: 47'].unique()\n",
    "c = properties['Unnamed: 37'].unique()\n",
    "print(a)\n",
    "print(b)\n",
    "print(c)"
   ],
   "metadata": {
    "collapsed": false
   }
  },
  {
   "cell_type": "markdown",
   "source": [
    "<span style=\"color:#20B2AA\">Drop Unnamed columns</span>"
   ],
   "metadata": {
    "collapsed": false
   }
  },
  {
   "cell_type": "code",
   "execution_count": 281,
   "outputs": [
    {
     "data": {
      "text/plain": "Index(['date', 'City of London', 'Barking & Dagenham', 'Barnet', 'Bexley',\n       'Brent', 'Bromley', 'Camden', 'Croydon', 'Ealing', 'Enfield',\n       'Greenwich', 'Hackney', 'Hammersmith & Fulham', 'Haringey', 'Harrow',\n       'Havering', 'Hillingdon', 'Hounslow', 'Islington',\n       'Kensington & Chelsea', 'Kingston upon Thames', 'Lambeth', 'Lewisham',\n       'Merton', 'Newham', 'Redbridge', 'Richmond upon Thames', 'Southwark',\n       'Sutton', 'Tower Hamlets', 'Waltham Forest', 'Wandsworth',\n       'Westminster', 'Inner London', 'Outer London', 'NORTH EAST',\n       'NORTH WEST', 'YORKS & THE HUMBER', 'EAST MIDLANDS', 'WEST MIDLANDS',\n       'EAST OF ENGLAND', 'LONDON', 'SOUTH EAST', 'SOUTH WEST', 'England'],\n      dtype='object')"
     },
     "execution_count": 281,
     "metadata": {},
     "output_type": "execute_result"
    }
   ],
   "source": [
    "properties = properties.drop(columns=['Unnamed: 34','Unnamed: 47', 'Unnamed: 37'])\n",
    "properties.columns"
   ],
   "metadata": {
    "collapsed": false
   }
  },
  {
   "cell_type": "markdown",
   "source": [
    "<span style=\"color:#20B2AA\">Save England off as a totals dataframe</span>"
   ],
   "metadata": {
    "collapsed": false
   }
  },
  {
   "cell_type": "code",
   "execution_count": 282,
   "outputs": [
    {
     "data": {
      "text/plain": "          date      England\n1   1995-01-01  53202.77128\n2   1995-02-01  53096.15490\n3   1995-03-01  53201.28430\n4   1995-04-01  53590.85480\n5   1995-05-01  53678.24041\n..         ...          ...\n331 2022-07-01 308375.19641\n332 2022-08-01 312608.15924\n333 2022-09-01 315049.33872\n334 2022-10-01 315578.46557\n335 2022-11-01 315072.63643\n\n[335 rows x 2 columns]",
      "text/html": "<div>\n<style scoped>\n    .dataframe tbody tr th:only-of-type {\n        vertical-align: middle;\n    }\n\n    .dataframe tbody tr th {\n        vertical-align: top;\n    }\n\n    .dataframe thead th {\n        text-align: right;\n    }\n</style>\n<table border=\"1\" class=\"dataframe\">\n  <thead>\n    <tr style=\"text-align: right;\">\n      <th></th>\n      <th>date</th>\n      <th>England</th>\n    </tr>\n  </thead>\n  <tbody>\n    <tr>\n      <th>1</th>\n      <td>1995-01-01</td>\n      <td>53202.77128</td>\n    </tr>\n    <tr>\n      <th>2</th>\n      <td>1995-02-01</td>\n      <td>53096.15490</td>\n    </tr>\n    <tr>\n      <th>3</th>\n      <td>1995-03-01</td>\n      <td>53201.28430</td>\n    </tr>\n    <tr>\n      <th>4</th>\n      <td>1995-04-01</td>\n      <td>53590.85480</td>\n    </tr>\n    <tr>\n      <th>5</th>\n      <td>1995-05-01</td>\n      <td>53678.24041</td>\n    </tr>\n    <tr>\n      <th>...</th>\n      <td>...</td>\n      <td>...</td>\n    </tr>\n    <tr>\n      <th>331</th>\n      <td>2022-07-01</td>\n      <td>308375.19641</td>\n    </tr>\n    <tr>\n      <th>332</th>\n      <td>2022-08-01</td>\n      <td>312608.15924</td>\n    </tr>\n    <tr>\n      <th>333</th>\n      <td>2022-09-01</td>\n      <td>315049.33872</td>\n    </tr>\n    <tr>\n      <th>334</th>\n      <td>2022-10-01</td>\n      <td>315578.46557</td>\n    </tr>\n    <tr>\n      <th>335</th>\n      <td>2022-11-01</td>\n      <td>315072.63643</td>\n    </tr>\n  </tbody>\n</table>\n<p>335 rows × 2 columns</p>\n</div>"
     },
     "execution_count": 282,
     "metadata": {},
     "output_type": "execute_result"
    }
   ],
   "source": [
    "england_totals = properties[['date','England']]\n",
    "england_totals"
   ],
   "metadata": {
    "collapsed": false
   }
  },
  {
   "cell_type": "markdown",
   "source": [
    "<span style=\"color:#20B2AA\">drop the england column from the properties table</span>"
   ],
   "metadata": {
    "collapsed": false
   }
  },
  {
   "cell_type": "code",
   "execution_count": 283,
   "outputs": [
    {
     "data": {
      "text/plain": "Index(['date', 'City of London', 'Barking & Dagenham', 'Barnet', 'Bexley',\n       'Brent', 'Bromley', 'Camden', 'Croydon', 'Ealing', 'Enfield',\n       'Greenwich', 'Hackney', 'Hammersmith & Fulham', 'Haringey', 'Harrow',\n       'Havering', 'Hillingdon', 'Hounslow', 'Islington',\n       'Kensington & Chelsea', 'Kingston upon Thames', 'Lambeth', 'Lewisham',\n       'Merton', 'Newham', 'Redbridge', 'Richmond upon Thames', 'Southwark',\n       'Sutton', 'Tower Hamlets', 'Waltham Forest', 'Wandsworth',\n       'Westminster', 'Inner London', 'Outer London', 'NORTH EAST',\n       'NORTH WEST', 'YORKS & THE HUMBER', 'EAST MIDLANDS', 'WEST MIDLANDS',\n       'EAST OF ENGLAND', 'LONDON', 'SOUTH EAST', 'SOUTH WEST'],\n      dtype='object')"
     },
     "execution_count": 283,
     "metadata": {},
     "output_type": "execute_result"
    }
   ],
   "source": [
    "properties = properties.drop(columns='England')\n",
    "properties.columns"
   ],
   "metadata": {
    "collapsed": false
   }
  },
  {
   "cell_type": "markdown",
   "metadata": {
    "id": "tE9Sqt9-oAta",
    "colab_type": "text"
   },
   "source": [
    "**2.2. Cleaning the data**\n",
    "\n",
    "You might find you need to transpose your dataframe, check out what its row indexes are, and reset the index. You  also might find you need to assign the values of the first row to your column headings  . (Hint: recall the .columns feature of DataFrames, as well as the iloc[] method).\n",
    "\n",
    "Don't be afraid to use StackOverflow for help  with this."
   ]
  },
  {
   "cell_type": "code",
   "metadata": {
    "id": "cdAu1A3YoH_r",
    "colab_type": "code",
    "colab": {}
   },
   "source": [
    "print(properties.shape)  ## staring shape\n",
    "properties_t = properties.melt(id_vars='date', var_name='borough', value_name='avg_price', ignore_index=True)\n",
    "properties_t.head()"
   ],
   "execution_count": 284,
   "outputs": [
    {
     "name": "stdout",
     "output_type": "stream",
     "text": [
      "(335, 45)\n"
     ]
    },
    {
     "data": {
      "text/plain": "        date         borough   avg_price\n0 1995-01-01  City of London 91448.98487\n1 1995-02-01  City of London 82202.77314\n2 1995-03-01  City of London 79120.70256\n3 1995-04-01  City of London 77101.20804\n4 1995-05-01  City of London 84409.14932",
      "text/html": "<div>\n<style scoped>\n    .dataframe tbody tr th:only-of-type {\n        vertical-align: middle;\n    }\n\n    .dataframe tbody tr th {\n        vertical-align: top;\n    }\n\n    .dataframe thead th {\n        text-align: right;\n    }\n</style>\n<table border=\"1\" class=\"dataframe\">\n  <thead>\n    <tr style=\"text-align: right;\">\n      <th></th>\n      <th>date</th>\n      <th>borough</th>\n      <th>avg_price</th>\n    </tr>\n  </thead>\n  <tbody>\n    <tr>\n      <th>0</th>\n      <td>1995-01-01</td>\n      <td>City of London</td>\n      <td>91448.98487</td>\n    </tr>\n    <tr>\n      <th>1</th>\n      <td>1995-02-01</td>\n      <td>City of London</td>\n      <td>82202.77314</td>\n    </tr>\n    <tr>\n      <th>2</th>\n      <td>1995-03-01</td>\n      <td>City of London</td>\n      <td>79120.70256</td>\n    </tr>\n    <tr>\n      <th>3</th>\n      <td>1995-04-01</td>\n      <td>City of London</td>\n      <td>77101.20804</td>\n    </tr>\n    <tr>\n      <th>4</th>\n      <td>1995-05-01</td>\n      <td>City of London</td>\n      <td>84409.14932</td>\n    </tr>\n  </tbody>\n</table>\n</div>"
     },
     "execution_count": 284,
     "metadata": {},
     "output_type": "execute_result"
    }
   ]
  },
  {
   "cell_type": "code",
   "execution_count": 285,
   "outputs": [
    {
     "name": "stdout",
     "output_type": "stream",
     "text": [
      "Validate that all cities have the same row counts\n"
     ]
    },
    {
     "data": {
      "text/plain": "array([335])"
     },
     "execution_count": 285,
     "metadata": {},
     "output_type": "execute_result"
    }
   ],
   "source": [
    "print(\"Validate that all cities have the same row counts\")\n",
    "properties_t.groupby(['borough']).size().unique()"
   ],
   "metadata": {
    "collapsed": false
   }
  },
  {
   "cell_type": "code",
   "execution_count": 286,
   "outputs": [
    {
     "name": "stdout",
     "output_type": "stream",
     "text": [
      "Unique counts across all districts - should only be one row if all cities had the same number of data rows\n"
     ]
    },
    {
     "data": {
      "text/plain": "array([335])"
     },
     "execution_count": 286,
     "metadata": {},
     "output_type": "execute_result"
    }
   ],
   "source": [
    "print(\"Unique counts across all districts - should only be one row if all cities had the same number of data rows\")\n",
    "properties_t.groupby(['borough']).size().unique()"
   ],
   "metadata": {
    "collapsed": false
   }
  },
  {
   "cell_type": "code",
   "execution_count": 287,
   "outputs": [
    {
     "data": {
      "text/plain": "        date         borough   avg_price  year  month      epoch\n0 1995-01-01  City of London 91448.98487  1995      1  788918400\n1 1995-02-01  City of London 82202.77314  1995      2  791596800\n2 1995-03-01  City of London 79120.70256  1995      3  794016000\n3 1995-04-01  City of London 77101.20804  1995      4  796694400\n4 1995-05-01  City of London 84409.14932  1995      5  799286400",
      "text/html": "<div>\n<style scoped>\n    .dataframe tbody tr th:only-of-type {\n        vertical-align: middle;\n    }\n\n    .dataframe tbody tr th {\n        vertical-align: top;\n    }\n\n    .dataframe thead th {\n        text-align: right;\n    }\n</style>\n<table border=\"1\" class=\"dataframe\">\n  <thead>\n    <tr style=\"text-align: right;\">\n      <th></th>\n      <th>date</th>\n      <th>borough</th>\n      <th>avg_price</th>\n      <th>year</th>\n      <th>month</th>\n      <th>epoch</th>\n    </tr>\n  </thead>\n  <tbody>\n    <tr>\n      <th>0</th>\n      <td>1995-01-01</td>\n      <td>City of London</td>\n      <td>91448.98487</td>\n      <td>1995</td>\n      <td>1</td>\n      <td>788918400</td>\n    </tr>\n    <tr>\n      <th>1</th>\n      <td>1995-02-01</td>\n      <td>City of London</td>\n      <td>82202.77314</td>\n      <td>1995</td>\n      <td>2</td>\n      <td>791596800</td>\n    </tr>\n    <tr>\n      <th>2</th>\n      <td>1995-03-01</td>\n      <td>City of London</td>\n      <td>79120.70256</td>\n      <td>1995</td>\n      <td>3</td>\n      <td>794016000</td>\n    </tr>\n    <tr>\n      <th>3</th>\n      <td>1995-04-01</td>\n      <td>City of London</td>\n      <td>77101.20804</td>\n      <td>1995</td>\n      <td>4</td>\n      <td>796694400</td>\n    </tr>\n    <tr>\n      <th>4</th>\n      <td>1995-05-01</td>\n      <td>City of London</td>\n      <td>84409.14932</td>\n      <td>1995</td>\n      <td>5</td>\n      <td>799286400</td>\n    </tr>\n  </tbody>\n</table>\n</div>"
     },
     "execution_count": 287,
     "metadata": {},
     "output_type": "execute_result"
    }
   ],
   "source": [
    "\n",
    "properties_t['year'] = pd.DatetimeIndex(properties_t['date']).year\n",
    "properties_t['month'] = pd.DatetimeIndex(properties_t['date']).month\n",
    "\n",
    "properties_t['epoch'] = (properties_t['date'].astype('int64')/1e9).astype('int64')\n",
    "properties_t.head()"
   ],
   "metadata": {
    "collapsed": false
   }
  },
  {
   "cell_type": "markdown",
   "source": [
    "<span style=\"color:#20B2AA\">We only want the last twenty years - ignore the fact that 2022 is missing December</span>\n"
   ],
   "metadata": {
    "collapsed": false
   }
  },
  {
   "cell_type": "code",
   "execution_count": 288,
   "outputs": [
    {
     "name": "stdout",
     "output_type": "stream",
     "text": [
      "2022 is missing December year  month\n",
      "2022  1        44\n",
      "      2        44\n",
      "      3        44\n",
      "      4        44\n",
      "      5        44\n",
      "      6        44\n",
      "      7        44\n",
      "      8        44\n",
      "      9        44\n",
      "      10       44\n",
      "      11       44\n",
      "dtype: int64\n"
     ]
    },
    {
     "data": {
      "text/plain": "min    2002\nmax    2022\nName: year, dtype: int64"
     },
     "execution_count": 288,
     "metadata": {},
     "output_type": "execute_result"
    }
   ],
   "source": [
    "print(\"2022 is missing December\", properties_t[(properties_t['year'] == 2022)].groupby(['year', 'month']).size())\n",
    "\n",
    "properties_t = properties_t[(properties_t['year'] >= (properties_t.year.max() - 20))]\n",
    "properties_t['year'].agg(['min', 'max'])"
   ],
   "metadata": {
    "collapsed": false
   }
  },
  {
   "cell_type": "code",
   "execution_count": 289,
   "outputs": [],
   "source": [
    "dates_of_interest_df = properties_t.groupby(['borough'])['epoch'].agg(['first', 'last'])"
   ],
   "metadata": {
    "collapsed": false
   }
  },
  {
   "cell_type": "markdown",
   "metadata": {
    "id": "o1uLbJAsoIjK",
    "colab_type": "text"
   },
   "source": [
    "**2.3. Cleaning the data (part 2)**\n",
    "\n",
    "You might we have to **rename** a couple columns. How do you do this? The clue's pretty bold..."
   ]
  },
  {
   "cell_type": "code",
   "metadata": {
    "id": "GKkmn1AnoVZS",
    "colab_type": "code",
    "colab": {}
   },
   "source": [
    "properties_df = properties_t.merge(dates_of_interest_df, on=\"borough\")\n",
    "properties_df.head()"
   ],
   "execution_count": 290,
   "outputs": [
    {
     "data": {
      "text/plain": "        date         borough    avg_price  year  month       epoch  \\\n0 2002-01-01  City of London 344238.88080  2002      1  1009843200   \n1 2002-02-01  City of London 284014.60850  2002      2  1012521600   \n2 2002-03-01  City of London 253696.90190  2002      3  1014940800   \n3 2002-04-01  City of London 245313.20210  2002      4  1017619200   \n4 2002-05-01  City of London 227281.29220  2002      5  1020211200   \n\n        first        last  \n0  1009843200  1667260800  \n1  1009843200  1667260800  \n2  1009843200  1667260800  \n3  1009843200  1667260800  \n4  1009843200  1667260800  ",
      "text/html": "<div>\n<style scoped>\n    .dataframe tbody tr th:only-of-type {\n        vertical-align: middle;\n    }\n\n    .dataframe tbody tr th {\n        vertical-align: top;\n    }\n\n    .dataframe thead th {\n        text-align: right;\n    }\n</style>\n<table border=\"1\" class=\"dataframe\">\n  <thead>\n    <tr style=\"text-align: right;\">\n      <th></th>\n      <th>date</th>\n      <th>borough</th>\n      <th>avg_price</th>\n      <th>year</th>\n      <th>month</th>\n      <th>epoch</th>\n      <th>first</th>\n      <th>last</th>\n    </tr>\n  </thead>\n  <tbody>\n    <tr>\n      <th>0</th>\n      <td>2002-01-01</td>\n      <td>City of London</td>\n      <td>344238.88080</td>\n      <td>2002</td>\n      <td>1</td>\n      <td>1009843200</td>\n      <td>1009843200</td>\n      <td>1667260800</td>\n    </tr>\n    <tr>\n      <th>1</th>\n      <td>2002-02-01</td>\n      <td>City of London</td>\n      <td>284014.60850</td>\n      <td>2002</td>\n      <td>2</td>\n      <td>1012521600</td>\n      <td>1009843200</td>\n      <td>1667260800</td>\n    </tr>\n    <tr>\n      <th>2</th>\n      <td>2002-03-01</td>\n      <td>City of London</td>\n      <td>253696.90190</td>\n      <td>2002</td>\n      <td>3</td>\n      <td>1014940800</td>\n      <td>1009843200</td>\n      <td>1667260800</td>\n    </tr>\n    <tr>\n      <th>3</th>\n      <td>2002-04-01</td>\n      <td>City of London</td>\n      <td>245313.20210</td>\n      <td>2002</td>\n      <td>4</td>\n      <td>1017619200</td>\n      <td>1009843200</td>\n      <td>1667260800</td>\n    </tr>\n    <tr>\n      <th>4</th>\n      <td>2002-05-01</td>\n      <td>City of London</td>\n      <td>227281.29220</td>\n      <td>2002</td>\n      <td>5</td>\n      <td>1020211200</td>\n      <td>1009843200</td>\n      <td>1667260800</td>\n    </tr>\n  </tbody>\n</table>\n</div>"
     },
     "execution_count": 290,
     "metadata": {},
     "output_type": "execute_result"
    }
   ]
  },
  {
   "cell_type": "code",
   "execution_count": 291,
   "outputs": [
    {
     "data": {
      "text/plain": "date         datetime64[ns]\nborough              object\navg_price            object\nyear                  int64\nmonth                 int64\nepoch                 int64\nfirst                 int64\nlast                  int64\ndtype: object"
     },
     "execution_count": 291,
     "metadata": {},
     "output_type": "execute_result"
    }
   ],
   "source": [
    "properties_df.dtypes"
   ],
   "metadata": {
    "collapsed": false
   }
  },
  {
   "cell_type": "code",
   "execution_count": 292,
   "outputs": [
    {
     "data": {
      "text/plain": "            date             borough    avg_price  year  month       epoch  \\\n0     2002-01-01      City of London 344238.88080  2002      1  1009843200   \n250   2022-11-01      City of London 935731.90624  2022     11  1667260800   \n251   2002-01-01  Barking & Dagenham  98713.31808  2002      1  1009843200   \n501   2022-11-01  Barking & Dagenham 359766.13814  2022     11  1667260800   \n502   2002-01-01              Barnet 203249.25380  2002      1  1009843200   \n...          ...                 ...          ...   ...    ...         ...   \n10541 2022-11-01              LONDON 542310.89724  2022     11  1667260800   \n10542 2002-01-01          SOUTH EAST 137153.81960  2002      1  1009843200   \n10792 2022-11-01          SOUTH EAST 402466.09073  2022     11  1667260800   \n10793 2002-01-01          SOUTH WEST 108959.79690  2002      1  1009843200   \n11043 2022-11-01          SOUTH WEST 337144.12190  2022     11  1667260800   \n\n            first        last  \n0      1009843200  1667260800  \n250    1009843200  1667260800  \n251    1009843200  1667260800  \n501    1009843200  1667260800  \n502    1009843200  1667260800  \n...           ...         ...  \n10541  1009843200  1667260800  \n10542  1009843200  1667260800  \n10792  1009843200  1667260800  \n10793  1009843200  1667260800  \n11043  1009843200  1667260800  \n\n[88 rows x 8 columns]",
      "text/html": "<div>\n<style scoped>\n    .dataframe tbody tr th:only-of-type {\n        vertical-align: middle;\n    }\n\n    .dataframe tbody tr th {\n        vertical-align: top;\n    }\n\n    .dataframe thead th {\n        text-align: right;\n    }\n</style>\n<table border=\"1\" class=\"dataframe\">\n  <thead>\n    <tr style=\"text-align: right;\">\n      <th></th>\n      <th>date</th>\n      <th>borough</th>\n      <th>avg_price</th>\n      <th>year</th>\n      <th>month</th>\n      <th>epoch</th>\n      <th>first</th>\n      <th>last</th>\n    </tr>\n  </thead>\n  <tbody>\n    <tr>\n      <th>0</th>\n      <td>2002-01-01</td>\n      <td>City of London</td>\n      <td>344238.88080</td>\n      <td>2002</td>\n      <td>1</td>\n      <td>1009843200</td>\n      <td>1009843200</td>\n      <td>1667260800</td>\n    </tr>\n    <tr>\n      <th>250</th>\n      <td>2022-11-01</td>\n      <td>City of London</td>\n      <td>935731.90624</td>\n      <td>2022</td>\n      <td>11</td>\n      <td>1667260800</td>\n      <td>1009843200</td>\n      <td>1667260800</td>\n    </tr>\n    <tr>\n      <th>251</th>\n      <td>2002-01-01</td>\n      <td>Barking &amp; Dagenham</td>\n      <td>98713.31808</td>\n      <td>2002</td>\n      <td>1</td>\n      <td>1009843200</td>\n      <td>1009843200</td>\n      <td>1667260800</td>\n    </tr>\n    <tr>\n      <th>501</th>\n      <td>2022-11-01</td>\n      <td>Barking &amp; Dagenham</td>\n      <td>359766.13814</td>\n      <td>2022</td>\n      <td>11</td>\n      <td>1667260800</td>\n      <td>1009843200</td>\n      <td>1667260800</td>\n    </tr>\n    <tr>\n      <th>502</th>\n      <td>2002-01-01</td>\n      <td>Barnet</td>\n      <td>203249.25380</td>\n      <td>2002</td>\n      <td>1</td>\n      <td>1009843200</td>\n      <td>1009843200</td>\n      <td>1667260800</td>\n    </tr>\n    <tr>\n      <th>...</th>\n      <td>...</td>\n      <td>...</td>\n      <td>...</td>\n      <td>...</td>\n      <td>...</td>\n      <td>...</td>\n      <td>...</td>\n      <td>...</td>\n    </tr>\n    <tr>\n      <th>10541</th>\n      <td>2022-11-01</td>\n      <td>LONDON</td>\n      <td>542310.89724</td>\n      <td>2022</td>\n      <td>11</td>\n      <td>1667260800</td>\n      <td>1009843200</td>\n      <td>1667260800</td>\n    </tr>\n    <tr>\n      <th>10542</th>\n      <td>2002-01-01</td>\n      <td>SOUTH EAST</td>\n      <td>137153.81960</td>\n      <td>2002</td>\n      <td>1</td>\n      <td>1009843200</td>\n      <td>1009843200</td>\n      <td>1667260800</td>\n    </tr>\n    <tr>\n      <th>10792</th>\n      <td>2022-11-01</td>\n      <td>SOUTH EAST</td>\n      <td>402466.09073</td>\n      <td>2022</td>\n      <td>11</td>\n      <td>1667260800</td>\n      <td>1009843200</td>\n      <td>1667260800</td>\n    </tr>\n    <tr>\n      <th>10793</th>\n      <td>2002-01-01</td>\n      <td>SOUTH WEST</td>\n      <td>108959.79690</td>\n      <td>2002</td>\n      <td>1</td>\n      <td>1009843200</td>\n      <td>1009843200</td>\n      <td>1667260800</td>\n    </tr>\n    <tr>\n      <th>11043</th>\n      <td>2022-11-01</td>\n      <td>SOUTH WEST</td>\n      <td>337144.12190</td>\n      <td>2022</td>\n      <td>11</td>\n      <td>1667260800</td>\n      <td>1009843200</td>\n      <td>1667260800</td>\n    </tr>\n  </tbody>\n</table>\n<p>88 rows × 8 columns</p>\n</div>"
     },
     "execution_count": 292,
     "metadata": {},
     "output_type": "execute_result"
    }
   ],
   "source": [
    "first_or_last = (properties_df['epoch'] == properties_df['first']) | (properties_df['epoch'] == properties_df['last'])\n",
    "properties_df = properties_df[first_or_last]\n",
    "\n",
    "properties_df.head(100)"
   ],
   "metadata": {
    "collapsed": false
   }
  },
  {
   "cell_type": "code",
   "execution_count": 318,
   "outputs": [
    {
     "data": {
      "text/plain": "              borough         open        close\n0  Barking & Dagenham  98713.31808 359766.13814\n1              Barnet 203249.25380 585172.92015\n2              Bexley 124283.02200 408113.57717\n3               Brent 168670.91700 576102.60656\n4             Bromley 173150.12980 525145.15680",
      "text/html": "<div>\n<style scoped>\n    .dataframe tbody tr th:only-of-type {\n        vertical-align: middle;\n    }\n\n    .dataframe tbody tr th {\n        vertical-align: top;\n    }\n\n    .dataframe thead th {\n        text-align: right;\n    }\n</style>\n<table border=\"1\" class=\"dataframe\">\n  <thead>\n    <tr style=\"text-align: right;\">\n      <th></th>\n      <th>borough</th>\n      <th>open</th>\n      <th>close</th>\n    </tr>\n  </thead>\n  <tbody>\n    <tr>\n      <th>0</th>\n      <td>Barking &amp; Dagenham</td>\n      <td>98713.31808</td>\n      <td>359766.13814</td>\n    </tr>\n    <tr>\n      <th>1</th>\n      <td>Barnet</td>\n      <td>203249.25380</td>\n      <td>585172.92015</td>\n    </tr>\n    <tr>\n      <th>2</th>\n      <td>Bexley</td>\n      <td>124283.02200</td>\n      <td>408113.57717</td>\n    </tr>\n    <tr>\n      <th>3</th>\n      <td>Brent</td>\n      <td>168670.91700</td>\n      <td>576102.60656</td>\n    </tr>\n    <tr>\n      <th>4</th>\n      <td>Bromley</td>\n      <td>173150.12980</td>\n      <td>525145.15680</td>\n    </tr>\n  </tbody>\n</table>\n</div>"
     },
     "execution_count": 318,
     "metadata": {},
     "output_type": "execute_result"
    }
   ],
   "source": [
    "df = properties_df.pivot_table(\n",
    "    values='avg_price',         # replace any missing values with this\n",
    "    index=\"borough\",     # vertical (rows)\n",
    "    fill_value=-1,\n",
    "    columns='date'\n",
    "    )\n",
    "\n",
    "#format column names\n",
    "df.columns = ['open', 'close']\n",
    "\n",
    "#reset index\n",
    "df.reset_index(inplace=True)\n",
    "\n",
    "df.head()"
   ],
   "metadata": {
    "collapsed": false
   }
  },
  {
   "cell_type": "code",
   "execution_count": 320,
   "outputs": [
    {
     "data": {
      "text/plain": "               borough         open        close  straightline_ratio\n13             Hackney 165006.79790 653045.85891             2.95769\n40      Waltham Forest 132998.58820 524111.23272             2.94073\n0   Barking & Dagenham  98713.31808 359766.13814             2.64456\n15            Haringey 173395.54210 627514.96968             2.61898\n26            Lewisham 131762.72350 472336.32843             2.58475",
      "text/html": "<div>\n<style scoped>\n    .dataframe tbody tr th:only-of-type {\n        vertical-align: middle;\n    }\n\n    .dataframe tbody tr th {\n        vertical-align: top;\n    }\n\n    .dataframe thead th {\n        text-align: right;\n    }\n</style>\n<table border=\"1\" class=\"dataframe\">\n  <thead>\n    <tr style=\"text-align: right;\">\n      <th></th>\n      <th>borough</th>\n      <th>open</th>\n      <th>close</th>\n      <th>straightline_ratio</th>\n    </tr>\n  </thead>\n  <tbody>\n    <tr>\n      <th>13</th>\n      <td>Hackney</td>\n      <td>165006.79790</td>\n      <td>653045.85891</td>\n      <td>2.95769</td>\n    </tr>\n    <tr>\n      <th>40</th>\n      <td>Waltham Forest</td>\n      <td>132998.58820</td>\n      <td>524111.23272</td>\n      <td>2.94073</td>\n    </tr>\n    <tr>\n      <th>0</th>\n      <td>Barking &amp; Dagenham</td>\n      <td>98713.31808</td>\n      <td>359766.13814</td>\n      <td>2.64456</td>\n    </tr>\n    <tr>\n      <th>15</th>\n      <td>Haringey</td>\n      <td>173395.54210</td>\n      <td>627514.96968</td>\n      <td>2.61898</td>\n    </tr>\n    <tr>\n      <th>26</th>\n      <td>Lewisham</td>\n      <td>131762.72350</td>\n      <td>472336.32843</td>\n      <td>2.58475</td>\n    </tr>\n  </tbody>\n</table>\n</div>"
     },
     "execution_count": 320,
     "metadata": {},
     "output_type": "execute_result"
    }
   ],
   "source": [
    "df['straightline_ratio'] = (df['close'] - df['open']) / df['open']\n",
    "df.sort_values('straightline_ratio', ascending=False).head()"
   ],
   "metadata": {
    "collapsed": false
   }
  },
  {
   "cell_type": "markdown",
   "metadata": {
    "id": "jy8BzXHmoWEw",
    "colab_type": "text"
   },
   "source": [
    "**2.4.Transforming the data**\n",
    "\n",
    "Remember what Wes McKinney said about tidy data? \n",
    "\n",
    "You might need to **melt** your DataFrame here. "
   ]
  },
  {
   "cell_type": "code",
   "metadata": {
    "id": "S2wM0qLuo2Zt",
    "colab_type": "code",
    "colab": {}
   },
   "source": [
    "print(\"Reorder cells\")"
   ],
   "execution_count": 294,
   "outputs": [
    {
     "name": "stdout",
     "output_type": "stream",
     "text": [
      "Reorder cells\n"
     ]
    }
   ]
  },
  {
   "cell_type": "markdown",
   "metadata": {
    "id": "7kIsgAo7o3mf",
    "colab_type": "text"
   },
   "source": [
    "Remember to make sure your column data types are all correct. Average prices, for example, should be floating point numbers... "
   ]
  },
  {
   "cell_type": "code",
   "metadata": {
    "id": "ZcR4IHbcpOaq",
    "colab_type": "code",
    "colab": {}
   },
   "source": [
    "print(\"DTYPES BEFORE\\n\", properties_t.dtypes )\n",
    "properties_t = properties_t.astype({'avg_price': 'float'})\n",
    "print(\"\\n--------------------------\\nDTYPES AFTER\\n\", properties_t.dtypes )\n"
   ],
   "execution_count": 295,
   "outputs": [
    {
     "name": "stdout",
     "output_type": "stream",
     "text": [
      "DTYPES BEFORE\n",
      " date         datetime64[ns]\n",
      "borough              object\n",
      "avg_price            object\n",
      "year                  int64\n",
      "month                 int64\n",
      "epoch                 int64\n",
      "dtype: object\n",
      "\n",
      "--------------------------\n",
      "DTYPES AFTER\n",
      " date         datetime64[ns]\n",
      "borough              object\n",
      "avg_price           float64\n",
      "year                  int64\n",
      "month                 int64\n",
      "epoch                 int64\n",
      "dtype: object\n"
     ]
    }
   ]
  },
  {
   "cell_type": "markdown",
   "metadata": {
    "id": "knLUXHLypOtw",
    "colab_type": "text"
   },
   "source": [
    "**2.5. Cleaning the data (part 3)**\n",
    "\n",
    "Do we have an equal number of observations in the ID, Average Price, Month, and London Borough columns? Remember that there are only 32 London Boroughs. How many entries do you have in that column? \n",
    "\n",
    "Check out the contents of the London Borough column, and if you find null values, get rid of them however you see fit. "
   ]
  },
  {
   "cell_type": "code",
   "metadata": {
    "id": "BnvTW5a3p0fC",
    "colab_type": "code",
    "colab": {}
   },
   "source": [
    "properties_t.head()\n",
    "print(\"Check for null dates? \",properties_t.date.isnull().unique())\n",
    "print(\"Check for null boroughs? \",properties_t.borough.isnull().unique())\n",
    "print(\"Check for null prices? \",properties_t.avg_price.isnull().unique())"
   ],
   "execution_count": 296,
   "outputs": [
    {
     "name": "stdout",
     "output_type": "stream",
     "text": [
      "Check for null dates?  [False]\n",
      "Check for null boroughs?  [False]\n",
      "Check for null prices?  [False]\n"
     ]
    }
   ]
  },
  {
   "cell_type": "code",
   "execution_count": 296,
   "outputs": [],
   "source": [],
   "metadata": {
    "collapsed": false
   }
  },
  {
   "cell_type": "markdown",
   "metadata": {
    "id": "PGEx6mJsp6dG",
    "colab_type": "text"
   },
   "source": [
    "**2.6. Visualizing the data**\n",
    "\n",
    "To visualize the data, why not subset on a particular London Borough? Maybe do a line plot of Month against Average Price?"
   ]
  },
  {
   "cell_type": "code",
   "metadata": {
    "id": "nAg5pT9cqHAR",
    "colab_type": "code",
    "colab": {}
   },
   "source": [
    "borough = 'City of London'\n",
    "p = properties_t[properties_t.borough == borough][['date', 'avg_price']]\n",
    "p.plot(kind='line', x='date', y='avg_price', title=f\"Prices for {borough}\")\n",
    "plt.show()"
   ],
   "execution_count": 297,
   "outputs": [
    {
     "data": {
      "text/plain": "<Figure size 432x288 with 1 Axes>",
      "image/png": "[encoded data removed]"
     },
     "metadata": {
      "needs_background": "light"
     },
     "output_type": "display_data"
    }
   ]
  },
  {
   "cell_type": "markdown",
   "metadata": {
    "id": "aWTPqSJeqHnC",
    "colab_type": "text"
   },
   "source": [
    "To limit the number of data points you have, you might want to extract the year from every month value your *Month* column. \n",
    "\n",
    "To this end, you *could* apply a ***lambda function***. Your logic could work as follows:\n",
    "1. look through the `Month` column\n",
    "2. extract the year from each individual value in that column \n",
    "3. store that corresponding year as separate column. \n",
    "\n",
    "Whether you go ahead with this is up to you. Just so long as you answer our initial brief: which boroughs of London have seen the greatest house price increase, on average, over the past two decades?"
   ]
  },
  {
   "cell_type": "markdown",
   "metadata": {
    "id": "2knuTxAEqoJ4",
    "colab_type": "text"
   },
   "source": [
    "**3. Modeling**\n",
    "\n",
    "Consider creating a function that will calculate a ratio of house prices, comparing the price of a house in 2018 to the price in 1998.\n",
    "\n",
    "Consider calling this function create_price_ratio.\n",
    "\n",
    "You'd want this function to:\n",
    "1. Take a filter of dfg, specifically where this filter constrains the London_Borough, as an argument. For example, one admissible argument should be: dfg[dfg['London_Borough']=='Camden'].\n",
    "2. Get the Average Price for that Borough, for the years 1998 and 2018.\n",
    "4. Calculate the ratio of the Average Price for 1998 divided by the Average Price for 2018.\n",
    "5. Return that ratio.\n",
    "\n",
    "Once you've written this function, you ultimately want to use it to iterate through all the unique London_Boroughs and work out the ratio capturing the difference of house prices between 1998 and 2018.\n",
    "\n",
    "Bear in mind: you don't have to write a function like this if you don't want to. If you can solve the brief otherwise, then great! \n",
    "\n",
    "***Hint***: This section should test the skills you acquired in:\n",
    "- Python Data Science Toolbox - Part One, all modules"
   ]
  },
  {
   "cell_type": "code",
   "execution_count": 298,
   "outputs": [
    {
     "data": {
      "text/plain": "              avg_price\ndate                   \n2002-01-01 290461.34550\n2002-02-01 289269.88190\n2002-03-01 289614.87180\n2002-04-01 296978.94350\n2002-05-01 308913.28160\n...                 ...\n2022-07-01 846966.90298\n2022-08-01 866072.69068\n2022-09-01 855268.80541\n2022-10-01 843445.80037\n2022-11-01 848175.15466\n\n[251 rows x 1 columns]",
      "text/html": "<div>\n<style scoped>\n    .dataframe tbody tr th:only-of-type {\n        vertical-align: middle;\n    }\n\n    .dataframe tbody tr th {\n        vertical-align: top;\n    }\n\n    .dataframe thead th {\n        text-align: right;\n    }\n</style>\n<table border=\"1\" class=\"dataframe\">\n  <thead>\n    <tr style=\"text-align: right;\">\n      <th></th>\n      <th>avg_price</th>\n    </tr>\n    <tr>\n      <th>date</th>\n      <th></th>\n    </tr>\n  </thead>\n  <tbody>\n    <tr>\n      <th>2002-01-01</th>\n      <td>290461.34550</td>\n    </tr>\n    <tr>\n      <th>2002-02-01</th>\n      <td>289269.88190</td>\n    </tr>\n    <tr>\n      <th>2002-03-01</th>\n      <td>289614.87180</td>\n    </tr>\n    <tr>\n      <th>2002-04-01</th>\n      <td>296978.94350</td>\n    </tr>\n    <tr>\n      <th>2002-05-01</th>\n      <td>308913.28160</td>\n    </tr>\n    <tr>\n      <th>...</th>\n      <td>...</td>\n    </tr>\n    <tr>\n      <th>2022-07-01</th>\n      <td>846966.90298</td>\n    </tr>\n    <tr>\n      <th>2022-08-01</th>\n      <td>866072.69068</td>\n    </tr>\n    <tr>\n      <th>2022-09-01</th>\n      <td>855268.80541</td>\n    </tr>\n    <tr>\n      <th>2022-10-01</th>\n      <td>843445.80037</td>\n    </tr>\n    <tr>\n      <th>2022-11-01</th>\n      <td>848175.15466</td>\n    </tr>\n  </tbody>\n</table>\n<p>251 rows × 1 columns</p>\n</div>"
     },
     "execution_count": 298,
     "metadata": {},
     "output_type": "execute_result"
    }
   ],
   "source": [
    "properties_t[properties_t.borough == 'Camden'][['date', 'avg_price']].groupby('date').mean()"
   ],
   "metadata": {
    "collapsed": false
   }
  },
  {
   "cell_type": "code",
   "execution_count": 299,
   "outputs": [
    {
     "data": {
      "text/plain": "         date         borough    avg_price  year  month       epoch\n84 2002-01-01  City of London 344238.88080  2002      1  1009843200\n85 2002-02-01  City of London 284014.60850  2002      2  1012521600\n86 2002-03-01  City of London 253696.90190  2002      3  1014940800\n87 2002-04-01  City of London 245313.20210  2002      4  1017619200\n88 2002-05-01  City of London 227281.29220  2002      5  1020211200",
      "text/html": "<div>\n<style scoped>\n    .dataframe tbody tr th:only-of-type {\n        vertical-align: middle;\n    }\n\n    .dataframe tbody tr th {\n        vertical-align: top;\n    }\n\n    .dataframe thead th {\n        text-align: right;\n    }\n</style>\n<table border=\"1\" class=\"dataframe\">\n  <thead>\n    <tr style=\"text-align: right;\">\n      <th></th>\n      <th>date</th>\n      <th>borough</th>\n      <th>avg_price</th>\n      <th>year</th>\n      <th>month</th>\n      <th>epoch</th>\n    </tr>\n  </thead>\n  <tbody>\n    <tr>\n      <th>84</th>\n      <td>2002-01-01</td>\n      <td>City of London</td>\n      <td>344238.88080</td>\n      <td>2002</td>\n      <td>1</td>\n      <td>1009843200</td>\n    </tr>\n    <tr>\n      <th>85</th>\n      <td>2002-02-01</td>\n      <td>City of London</td>\n      <td>284014.60850</td>\n      <td>2002</td>\n      <td>2</td>\n      <td>1012521600</td>\n    </tr>\n    <tr>\n      <th>86</th>\n      <td>2002-03-01</td>\n      <td>City of London</td>\n      <td>253696.90190</td>\n      <td>2002</td>\n      <td>3</td>\n      <td>1014940800</td>\n    </tr>\n    <tr>\n      <th>87</th>\n      <td>2002-04-01</td>\n      <td>City of London</td>\n      <td>245313.20210</td>\n      <td>2002</td>\n      <td>4</td>\n      <td>1017619200</td>\n    </tr>\n    <tr>\n      <th>88</th>\n      <td>2002-05-01</td>\n      <td>City of London</td>\n      <td>227281.29220</td>\n      <td>2002</td>\n      <td>5</td>\n      <td>1020211200</td>\n    </tr>\n  </tbody>\n</table>\n</div>"
     },
     "execution_count": 299,
     "metadata": {},
     "output_type": "execute_result"
    }
   ],
   "source": [
    "#properties_t['unix_time'] = pd.Timestamp(properties_t[\"date\"])\n",
    "pd.set_option('display.float_format', lambda x: '%.5f' % x)\n",
    "properties_t['epoch'] = (properties_t['date'].astype('int64')/1e9).astype('int64')\n",
    "properties_t.head()"
   ],
   "metadata": {
    "collapsed": false
   }
  },
  {
   "cell_type": "code",
   "metadata": {
    "id": "cKTyr437UgDa",
    "colab_type": "code",
    "colab": {}
   },
   "source": [
    "properties_t.groupby(['borough'])['epoch'].agg([np.min, np.max])"
   ],
   "execution_count": 300,
   "outputs": [
    {
     "data": {
      "text/plain": "                            amin        amax\nborough                                     \nBarking & Dagenham    1009843200  1667260800\nBarnet                1009843200  1667260800\nBexley                1009843200  1667260800\nBrent                 1009843200  1667260800\nBromley               1009843200  1667260800\nCamden                1009843200  1667260800\nCity of London        1009843200  1667260800\nCroydon               1009843200  1667260800\nEAST MIDLANDS         1009843200  1667260800\nEAST OF ENGLAND       1009843200  1667260800\nEaling                1009843200  1667260800\nEnfield               1009843200  1667260800\nGreenwich             1009843200  1667260800\nHackney               1009843200  1667260800\nHammersmith & Fulham  1009843200  1667260800\nHaringey              1009843200  1667260800\nHarrow                1009843200  1667260800\nHavering              1009843200  1667260800\nHillingdon            1009843200  1667260800\nHounslow              1009843200  1667260800\nInner London          1009843200  1667260800\nIslington             1009843200  1667260800\nKensington & Chelsea  1009843200  1667260800\nKingston upon Thames  1009843200  1667260800\nLONDON                1009843200  1667260800\nLambeth               1009843200  1667260800\nLewisham              1009843200  1667260800\nMerton                1009843200  1667260800\nNORTH EAST            1009843200  1667260800\nNORTH WEST            1009843200  1667260800\nNewham                1009843200  1667260800\nOuter London          1009843200  1667260800\nRedbridge             1009843200  1667260800\nRichmond upon Thames  1009843200  1667260800\nSOUTH EAST            1009843200  1667260800\nSOUTH WEST            1009843200  1667260800\nSouthwark             1009843200  1667260800\nSutton                1009843200  1667260800\nTower Hamlets         1009843200  1667260800\nWEST MIDLANDS         1009843200  1667260800\nWaltham Forest        1009843200  1667260800\nWandsworth            1009843200  1667260800\nWestminster           1009843200  1667260800\nYORKS & THE HUMBER    1009843200  1667260800",
      "text/html": "<div>\n<style scoped>\n    .dataframe tbody tr th:only-of-type {\n        vertical-align: middle;\n    }\n\n    .dataframe tbody tr th {\n        vertical-align: top;\n    }\n\n    .dataframe thead th {\n        text-align: right;\n    }\n</style>\n<table border=\"1\" class=\"dataframe\">\n  <thead>\n    <tr style=\"text-align: right;\">\n      <th></th>\n      <th>amin</th>\n      <th>amax</th>\n    </tr>\n    <tr>\n      <th>borough</th>\n      <th></th>\n      <th></th>\n    </tr>\n  </thead>\n  <tbody>\n    <tr>\n      <th>Barking &amp; Dagenham</th>\n      <td>1009843200</td>\n      <td>1667260800</td>\n    </tr>\n    <tr>\n      <th>Barnet</th>\n      <td>1009843200</td>\n      <td>1667260800</td>\n    </tr>\n    <tr>\n      <th>Bexley</th>\n      <td>1009843200</td>\n      <td>1667260800</td>\n    </tr>\n    <tr>\n      <th>Brent</th>\n      <td>1009843200</td>\n      <td>1667260800</td>\n    </tr>\n    <tr>\n      <th>Bromley</th>\n      <td>1009843200</td>\n      <td>1667260800</td>\n    </tr>\n    <tr>\n      <th>Camden</th>\n      <td>1009843200</td>\n      <td>1667260800</td>\n    </tr>\n    <tr>\n      <th>City of London</th>\n      <td>1009843200</td>\n      <td>1667260800</td>\n    </tr>\n    <tr>\n      <th>Croydon</th>\n      <td>1009843200</td>\n      <td>1667260800</td>\n    </tr>\n    <tr>\n      <th>EAST MIDLANDS</th>\n      <td>1009843200</td>\n      <td>1667260800</td>\n    </tr>\n    <tr>\n      <th>EAST OF ENGLAND</th>\n      <td>1009843200</td>\n      <td>1667260800</td>\n    </tr>\n    <tr>\n      <th>Ealing</th>\n      <td>1009843200</td>\n      <td>1667260800</td>\n    </tr>\n    <tr>\n      <th>Enfield</th>\n      <td>1009843200</td>\n      <td>1667260800</td>\n    </tr>\n    <tr>\n      <th>Greenwich</th>\n      <td>1009843200</td>\n      <td>1667260800</td>\n    </tr>\n    <tr>\n      <th>Hackney</th>\n      <td>1009843200</td>\n      <td>1667260800</td>\n    </tr>\n    <tr>\n      <th>Hammersmith &amp; Fulham</th>\n      <td>1009843200</td>\n      <td>1667260800</td>\n    </tr>\n    <tr>\n      <th>Haringey</th>\n      <td>1009843200</td>\n      <td>1667260800</td>\n    </tr>\n    <tr>\n      <th>Harrow</th>\n      <td>1009843200</td>\n      <td>1667260800</td>\n    </tr>\n    <tr>\n      <th>Havering</th>\n      <td>1009843200</td>\n      <td>1667260800</td>\n    </tr>\n    <tr>\n      <th>Hillingdon</th>\n      <td>1009843200</td>\n      <td>1667260800</td>\n    </tr>\n    <tr>\n      <th>Hounslow</th>\n      <td>1009843200</td>\n      <td>1667260800</td>\n    </tr>\n    <tr>\n      <th>Inner London</th>\n      <td>1009843200</td>\n      <td>1667260800</td>\n    </tr>\n    <tr>\n      <th>Islington</th>\n      <td>1009843200</td>\n      <td>1667260800</td>\n    </tr>\n    <tr>\n      <th>Kensington &amp; Chelsea</th>\n      <td>1009843200</td>\n      <td>1667260800</td>\n    </tr>\n    <tr>\n      <th>Kingston upon Thames</th>\n      <td>1009843200</td>\n      <td>1667260800</td>\n    </tr>\n    <tr>\n      <th>LONDON</th>\n      <td>1009843200</td>\n      <td>1667260800</td>\n    </tr>\n    <tr>\n      <th>Lambeth</th>\n      <td>1009843200</td>\n      <td>1667260800</td>\n    </tr>\n    <tr>\n      <th>Lewisham</th>\n      <td>1009843200</td>\n      <td>1667260800</td>\n    </tr>\n    <tr>\n      <th>Merton</th>\n      <td>1009843200</td>\n      <td>1667260800</td>\n    </tr>\n    <tr>\n      <th>NORTH EAST</th>\n      <td>1009843200</td>\n      <td>1667260800</td>\n    </tr>\n    <tr>\n      <th>NORTH WEST</th>\n      <td>1009843200</td>\n      <td>1667260800</td>\n    </tr>\n    <tr>\n      <th>Newham</th>\n      <td>1009843200</td>\n      <td>1667260800</td>\n    </tr>\n    <tr>\n      <th>Outer London</th>\n      <td>1009843200</td>\n      <td>1667260800</td>\n    </tr>\n    <tr>\n      <th>Redbridge</th>\n      <td>1009843200</td>\n      <td>1667260800</td>\n    </tr>\n    <tr>\n      <th>Richmond upon Thames</th>\n      <td>1009843200</td>\n      <td>1667260800</td>\n    </tr>\n    <tr>\n      <th>SOUTH EAST</th>\n      <td>1009843200</td>\n      <td>1667260800</td>\n    </tr>\n    <tr>\n      <th>SOUTH WEST</th>\n      <td>1009843200</td>\n      <td>1667260800</td>\n    </tr>\n    <tr>\n      <th>Southwark</th>\n      <td>1009843200</td>\n      <td>1667260800</td>\n    </tr>\n    <tr>\n      <th>Sutton</th>\n      <td>1009843200</td>\n      <td>1667260800</td>\n    </tr>\n    <tr>\n      <th>Tower Hamlets</th>\n      <td>1009843200</td>\n      <td>1667260800</td>\n    </tr>\n    <tr>\n      <th>WEST MIDLANDS</th>\n      <td>1009843200</td>\n      <td>1667260800</td>\n    </tr>\n    <tr>\n      <th>Waltham Forest</th>\n      <td>1009843200</td>\n      <td>1667260800</td>\n    </tr>\n    <tr>\n      <th>Wandsworth</th>\n      <td>1009843200</td>\n      <td>1667260800</td>\n    </tr>\n    <tr>\n      <th>Westminster</th>\n      <td>1009843200</td>\n      <td>1667260800</td>\n    </tr>\n    <tr>\n      <th>YORKS &amp; THE HUMBER</th>\n      <td>1009843200</td>\n      <td>1667260800</td>\n    </tr>\n  </tbody>\n</table>\n</div>"
     },
     "execution_count": 300,
     "metadata": {},
     "output_type": "execute_result"
    }
   ]
  },
  {
   "cell_type": "code",
   "execution_count": 301,
   "outputs": [],
   "source": [
    "dates_of_interest_df = properties_t.groupby(['borough'])['date'].agg(['first', 'last'])"
   ],
   "metadata": {
    "collapsed": false
   }
  },
  {
   "cell_type": "markdown",
   "metadata": {
    "id": "NzYUI7FxJpgv",
    "colab_type": "text"
   },
   "source": [
    "### 4. Conclusion\n",
    "What can you conclude? Type out your conclusion below. \n",
    "\n",
    "Look back at your notebook. Think about how you might summarize what you have done, and prepare a quick presentation on it to your mentor at your next meeting. \n",
    "\n",
    "We hope you enjoyed this practical project. It should have consolidated your data hygiene and pandas skills by looking at a real-world problem involving just the kind of dataset you might encounter as a budding data scientist. Congratulations, and looking forward to seeing you at the next step in the course! "
   ]
  }
 ]
}
