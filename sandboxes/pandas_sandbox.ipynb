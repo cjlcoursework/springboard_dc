{
 "cells": [
  {
   "cell_type": "code",
   "execution_count": 2,
   "metadata": {
    "collapsed": true
   },
   "outputs": [],
   "source": [
    "import numpy as np\n",
    "import pandas as pd\n",
    "%matplotlib inline\n",
    "import matplotlib.pyplot as plt\n",
    "import pandas_datareader as pdr\n"
   ]
  },
  {
   "cell_type": "markdown",
   "source": [
    "### Creating a Series by passing a list of values, letting pandas create a default integer index:"
   ],
   "metadata": {
    "collapsed": false
   }
  },
  {
   "cell_type": "code",
   "execution_count": 16,
   "outputs": [
    {
     "name": "stdout",
     "output_type": "stream",
     "text": [
      "Pandas Series\n"
     ]
    },
    {
     "data": {
      "text/plain": "0    1.0\n1    3.0\n2    5.0\n3    NaN\n4    6.0\n5    8.0\ndtype: float64"
     },
     "execution_count": 16,
     "metadata": {},
     "output_type": "execute_result"
    }
   ],
   "source": [
    "print(\"Pandas Series\")\n",
    "s = pd.Series([1,3,5,np.nan,6,8])\n",
    "s"
   ],
   "metadata": {
    "collapsed": false
   }
  },
  {
   "cell_type": "markdown",
   "source": [
    "### Creating a DataFrame by passing a NumPy array, with a datetime index using date_range() and labeled columns:"
   ],
   "metadata": {
    "collapsed": false
   }
  },
  {
   "cell_type": "code",
   "execution_count": 15,
   "outputs": [
    {
     "name": "stdout",
     "output_type": "stream",
     "text": [
      "Pandas Dates\n"
     ]
    },
    {
     "data": {
      "text/plain": "DatetimeIndex(['2013-01-01', '2013-01-02', '2013-01-03', '2013-01-04',\n               '2013-01-05', '2013-01-06'],\n              dtype='datetime64[ns]', freq='D')"
     },
     "execution_count": 15,
     "metadata": {},
     "output_type": "execute_result"
    }
   ],
   "source": [
    "print(\"Pandas Dates\")\n",
    "dates = pd.date_range(\"20130101\", periods=6)\n",
    "dates"
   ],
   "metadata": {
    "collapsed": false
   }
  },
  {
   "cell_type": "code",
   "execution_count": 18,
   "outputs": [
    {
     "name": "stdout",
     "output_type": "stream",
     "text": [
      "Pandas Dataframes\n"
     ]
    },
    {
     "data": {
      "text/plain": "                 Big    Medium     Small      Tiny\n2013-01-01  1.234532  0.244524 -0.668575 -0.721615\n2013-01-02  1.152464  0.963525  0.368424  1.331332\n2013-01-03 -0.030914  1.460905 -0.363886 -0.205925\n2013-01-04  0.372608  1.468275 -0.639068  1.120021\n2013-01-05 -1.545329  0.398360 -0.686302  0.790974",
      "text/html": "<div>\n<style scoped>\n    .dataframe tbody tr th:only-of-type {\n        vertical-align: middle;\n    }\n\n    .dataframe tbody tr th {\n        vertical-align: top;\n    }\n\n    .dataframe thead th {\n        text-align: right;\n    }\n</style>\n<table border=\"1\" class=\"dataframe\">\n  <thead>\n    <tr style=\"text-align: right;\">\n      <th></th>\n      <th>Big</th>\n      <th>Medium</th>\n      <th>Small</th>\n      <th>Tiny</th>\n    </tr>\n  </thead>\n  <tbody>\n    <tr>\n      <th>2013-01-01</th>\n      <td>1.234532</td>\n      <td>0.244524</td>\n      <td>-0.668575</td>\n      <td>-0.721615</td>\n    </tr>\n    <tr>\n      <th>2013-01-02</th>\n      <td>1.152464</td>\n      <td>0.963525</td>\n      <td>0.368424</td>\n      <td>1.331332</td>\n    </tr>\n    <tr>\n      <th>2013-01-03</th>\n      <td>-0.030914</td>\n      <td>1.460905</td>\n      <td>-0.363886</td>\n      <td>-0.205925</td>\n    </tr>\n    <tr>\n      <th>2013-01-04</th>\n      <td>0.372608</td>\n      <td>1.468275</td>\n      <td>-0.639068</td>\n      <td>1.120021</td>\n    </tr>\n    <tr>\n      <th>2013-01-05</th>\n      <td>-1.545329</td>\n      <td>0.398360</td>\n      <td>-0.686302</td>\n      <td>0.790974</td>\n    </tr>\n  </tbody>\n</table>\n</div>"
     },
     "execution_count": 18,
     "metadata": {},
     "output_type": "execute_result"
    }
   ],
   "source": [
    "print(\"Pandas Dataframes\")\n",
    "df = pd.DataFrame(np.random.randn(6, 4), index=dates, columns=['Big', 'Medium', 'Small', 'Tiny'])\n",
    "df.head()"
   ],
   "metadata": {
    "collapsed": false
   }
  },
  {
   "cell_type": "markdown",
   "source": [
    "### Creating a DataFrame by passing a dictionary of objects that can be converted into a series-like structure:"
   ],
   "metadata": {
    "collapsed": false
   }
  },
  {
   "cell_type": "code",
   "execution_count": 26,
   "outputs": [
    {
     "data": {
      "text/plain": "   Age  Birthdate  Wage  Siblings   Type  Foo\n0  1.0 2013-01-02   1.0         3   test  foo\n1  1.0 2013-01-02   1.0         3  train  foo\n2  1.0 2013-01-02   1.0         3   test  foo\n3  1.0 2013-01-02   1.0         3  train  foo\n4  1.0 2013-01-02   1.0         3   test  foo\n5  1.0 2013-01-02   1.0         3   test  foo",
      "text/html": "<div>\n<style scoped>\n    .dataframe tbody tr th:only-of-type {\n        vertical-align: middle;\n    }\n\n    .dataframe tbody tr th {\n        vertical-align: top;\n    }\n\n    .dataframe thead th {\n        text-align: right;\n    }\n</style>\n<table border=\"1\" class=\"dataframe\">\n  <thead>\n    <tr style=\"text-align: right;\">\n      <th></th>\n      <th>Age</th>\n      <th>Birthdate</th>\n      <th>Wage</th>\n      <th>Siblings</th>\n      <th>Type</th>\n      <th>Foo</th>\n    </tr>\n  </thead>\n  <tbody>\n    <tr>\n      <th>0</th>\n      <td>1.0</td>\n      <td>2013-01-02</td>\n      <td>1.0</td>\n      <td>3</td>\n      <td>test</td>\n      <td>foo</td>\n    </tr>\n    <tr>\n      <th>1</th>\n      <td>1.0</td>\n      <td>2013-01-02</td>\n      <td>1.0</td>\n      <td>3</td>\n      <td>train</td>\n      <td>foo</td>\n    </tr>\n    <tr>\n      <th>2</th>\n      <td>1.0</td>\n      <td>2013-01-02</td>\n      <td>1.0</td>\n      <td>3</td>\n      <td>test</td>\n      <td>foo</td>\n    </tr>\n    <tr>\n      <th>3</th>\n      <td>1.0</td>\n      <td>2013-01-02</td>\n      <td>1.0</td>\n      <td>3</td>\n      <td>train</td>\n      <td>foo</td>\n    </tr>\n    <tr>\n      <th>4</th>\n      <td>1.0</td>\n      <td>2013-01-02</td>\n      <td>1.0</td>\n      <td>3</td>\n      <td>test</td>\n      <td>foo</td>\n    </tr>\n    <tr>\n      <th>5</th>\n      <td>1.0</td>\n      <td>2013-01-02</td>\n      <td>1.0</td>\n      <td>3</td>\n      <td>test</td>\n      <td>foo</td>\n    </tr>\n  </tbody>\n</table>\n</div>"
     },
     "execution_count": 26,
     "metadata": {},
     "output_type": "execute_result"
    }
   ],
   "source": [
    "rows = 6\n",
    "df2 = pd.DataFrame(\n",
    "    {\n",
    "        \"Age\": 1.0,\n",
    "        \"Birthdate\": pd.Timestamp(\"20130102\"),\n",
    "        \"Wage\": pd.Series(1, index=list(range(rows)), dtype=\"float32\"),\n",
    "        \"Siblings\": np.array([3] * rows, dtype=\"int32\"),\n",
    "        \"Type\": pd.Categorical([\"test\", \"train\", \"test\", \"train\", \"test\", \"test\"]),\n",
    "        \"Foo\": \"foo\",\n",
    "    }\n",
    ")\n",
    "df2"
   ],
   "metadata": {
    "collapsed": false
   }
  },
  {
   "cell_type": "markdown",
   "source": [
    "### The columns of the resulting DataFrame have different dtypes:"
   ],
   "metadata": {
    "collapsed": false
   }
  },
  {
   "cell_type": "code",
   "execution_count": 27,
   "outputs": [
    {
     "data": {
      "text/plain": "Age                 float64\nBirthdate    datetime64[ns]\nWage                float32\nSiblings              int32\nType               category\nFoo                  object\ndtype: object"
     },
     "execution_count": 27,
     "metadata": {},
     "output_type": "execute_result"
    }
   ],
   "source": [
    "df2.dtypes"
   ],
   "metadata": {
    "collapsed": false
   }
  },
  {
   "cell_type": "markdown",
   "source": [
    "### head"
   ],
   "metadata": {
    "collapsed": false
   }
  },
  {
   "cell_type": "code",
   "execution_count": 28,
   "outputs": [
    {
     "data": {
      "text/plain": "                 Big    Medium     Small      Tiny\n2013-01-01  1.234532  0.244524 -0.668575 -0.721615\n2013-01-02  1.152464  0.963525  0.368424  1.331332\n2013-01-03 -0.030914  1.460905 -0.363886 -0.205925\n2013-01-04  0.372608  1.468275 -0.639068  1.120021\n2013-01-05 -1.545329  0.398360 -0.686302  0.790974",
      "text/html": "<div>\n<style scoped>\n    .dataframe tbody tr th:only-of-type {\n        vertical-align: middle;\n    }\n\n    .dataframe tbody tr th {\n        vertical-align: top;\n    }\n\n    .dataframe thead th {\n        text-align: right;\n    }\n</style>\n<table border=\"1\" class=\"dataframe\">\n  <thead>\n    <tr style=\"text-align: right;\">\n      <th></th>\n      <th>Big</th>\n      <th>Medium</th>\n      <th>Small</th>\n      <th>Tiny</th>\n    </tr>\n  </thead>\n  <tbody>\n    <tr>\n      <th>2013-01-01</th>\n      <td>1.234532</td>\n      <td>0.244524</td>\n      <td>-0.668575</td>\n      <td>-0.721615</td>\n    </tr>\n    <tr>\n      <th>2013-01-02</th>\n      <td>1.152464</td>\n      <td>0.963525</td>\n      <td>0.368424</td>\n      <td>1.331332</td>\n    </tr>\n    <tr>\n      <th>2013-01-03</th>\n      <td>-0.030914</td>\n      <td>1.460905</td>\n      <td>-0.363886</td>\n      <td>-0.205925</td>\n    </tr>\n    <tr>\n      <th>2013-01-04</th>\n      <td>0.372608</td>\n      <td>1.468275</td>\n      <td>-0.639068</td>\n      <td>1.120021</td>\n    </tr>\n    <tr>\n      <th>2013-01-05</th>\n      <td>-1.545329</td>\n      <td>0.398360</td>\n      <td>-0.686302</td>\n      <td>0.790974</td>\n    </tr>\n  </tbody>\n</table>\n</div>"
     },
     "execution_count": 28,
     "metadata": {},
     "output_type": "execute_result"
    }
   ],
   "source": [
    "df.head()"
   ],
   "metadata": {
    "collapsed": false
   }
  },
  {
   "cell_type": "markdown",
   "source": [
    "### tail"
   ],
   "metadata": {
    "collapsed": false
   }
  },
  {
   "cell_type": "code",
   "execution_count": 29,
   "outputs": [
    {
     "data": {
      "text/plain": "                 Big    Medium     Small      Tiny\n2013-01-02  1.152464  0.963525  0.368424  1.331332\n2013-01-03 -0.030914  1.460905 -0.363886 -0.205925\n2013-01-04  0.372608  1.468275 -0.639068  1.120021\n2013-01-05 -1.545329  0.398360 -0.686302  0.790974\n2013-01-06 -1.603504 -0.601746  0.013817 -0.532378",
      "text/html": "<div>\n<style scoped>\n    .dataframe tbody tr th:only-of-type {\n        vertical-align: middle;\n    }\n\n    .dataframe tbody tr th {\n        vertical-align: top;\n    }\n\n    .dataframe thead th {\n        text-align: right;\n    }\n</style>\n<table border=\"1\" class=\"dataframe\">\n  <thead>\n    <tr style=\"text-align: right;\">\n      <th></th>\n      <th>Big</th>\n      <th>Medium</th>\n      <th>Small</th>\n      <th>Tiny</th>\n    </tr>\n  </thead>\n  <tbody>\n    <tr>\n      <th>2013-01-02</th>\n      <td>1.152464</td>\n      <td>0.963525</td>\n      <td>0.368424</td>\n      <td>1.331332</td>\n    </tr>\n    <tr>\n      <th>2013-01-03</th>\n      <td>-0.030914</td>\n      <td>1.460905</td>\n      <td>-0.363886</td>\n      <td>-0.205925</td>\n    </tr>\n    <tr>\n      <th>2013-01-04</th>\n      <td>0.372608</td>\n      <td>1.468275</td>\n      <td>-0.639068</td>\n      <td>1.120021</td>\n    </tr>\n    <tr>\n      <th>2013-01-05</th>\n      <td>-1.545329</td>\n      <td>0.398360</td>\n      <td>-0.686302</td>\n      <td>0.790974</td>\n    </tr>\n    <tr>\n      <th>2013-01-06</th>\n      <td>-1.603504</td>\n      <td>-0.601746</td>\n      <td>0.013817</td>\n      <td>-0.532378</td>\n    </tr>\n  </tbody>\n</table>\n</div>"
     },
     "execution_count": 29,
     "metadata": {},
     "output_type": "execute_result"
    }
   ],
   "source": [
    "df.tail()"
   ],
   "metadata": {
    "collapsed": false
   }
  },
  {
   "cell_type": "markdown",
   "source": [
    "### display index"
   ],
   "metadata": {
    "collapsed": false
   }
  },
  {
   "cell_type": "code",
   "execution_count": 33,
   "outputs": [
    {
     "data": {
      "text/plain": "DatetimeIndex(['2013-01-01', '2013-01-02', '2013-01-03', '2013-01-04',\n               '2013-01-05', '2013-01-06'],\n              dtype='datetime64[ns]', freq='D')"
     },
     "execution_count": 33,
     "metadata": {},
     "output_type": "execute_result"
    }
   ],
   "source": [
    "df.index"
   ],
   "metadata": {
    "collapsed": false
   }
  },
  {
   "cell_type": "markdown",
   "source": [
    "### display columns"
   ],
   "metadata": {
    "collapsed": false
   }
  },
  {
   "cell_type": "code",
   "execution_count": 32,
   "outputs": [
    {
     "data": {
      "text/plain": "Index(['Big', 'Medium', 'Small', 'Tiny'], dtype='object')"
     },
     "execution_count": 32,
     "metadata": {},
     "output_type": "execute_result"
    }
   ],
   "source": [
    "df.columns"
   ],
   "metadata": {
    "collapsed": false
   }
  },
  {
   "cell_type": "markdown",
   "source": [
    "### DataFrame.to_numpy() gives a NumPy representation of the underlying data.\n",
    "Note that this can be an expensive operation when your DataFrame has columns with different data types, which comes down to a fundamental difference between pandas and NumPy: NumPy arrays have one dtype for the entire array, while pandas DataFrames have one dtype per column. When you call DataFrame.to_numpy(), pandas will find the NumPy dtype that can hold all of the dtypes in the DataFrame. This may end up being object, which requires casting every value to a Python object."
   ],
   "metadata": {
    "collapsed": false
   }
  },
  {
   "cell_type": "code",
   "execution_count": 34,
   "outputs": [
    {
     "data": {
      "text/plain": "array([[ 1.23453195,  0.2445243 , -0.66857486, -0.72161524],\n       [ 1.15246367,  0.96352468,  0.36842408,  1.33133163],\n       [-0.03091384,  1.46090517, -0.36388603, -0.20592509],\n       [ 0.37260782,  1.46827511, -0.63906775,  1.12002112],\n       [-1.54532874,  0.3983599 , -0.68630241,  0.79097386],\n       [-1.60350369, -0.60174606,  0.01381734, -0.53237766]])"
     },
     "execution_count": 34,
     "metadata": {},
     "output_type": "execute_result"
    }
   ],
   "source": [
    "df.to_numpy()"
   ],
   "metadata": {
    "collapsed": false
   }
  },
  {
   "cell_type": "code",
   "execution_count": 35,
   "outputs": [
    {
     "data": {
      "text/plain": "array([[1.0, Timestamp('2013-01-02 00:00:00'), 1.0, 3, 'test', 'foo'],\n       [1.0, Timestamp('2013-01-02 00:00:00'), 1.0, 3, 'train', 'foo'],\n       [1.0, Timestamp('2013-01-02 00:00:00'), 1.0, 3, 'test', 'foo'],\n       [1.0, Timestamp('2013-01-02 00:00:00'), 1.0, 3, 'train', 'foo'],\n       [1.0, Timestamp('2013-01-02 00:00:00'), 1.0, 3, 'test', 'foo'],\n       [1.0, Timestamp('2013-01-02 00:00:00'), 1.0, 3, 'test', 'foo']],\n      dtype=object)"
     },
     "execution_count": 35,
     "metadata": {},
     "output_type": "execute_result"
    }
   ],
   "source": [
    "df2.to_numpy()"
   ],
   "metadata": {
    "collapsed": false
   }
  },
  {
   "cell_type": "markdown",
   "source": [
    "### Describe"
   ],
   "metadata": {
    "collapsed": false
   }
  },
  {
   "cell_type": "code",
   "execution_count": 38,
   "outputs": [
    {
     "data": {
      "text/plain": "            Big    Medium     Small      Tiny\ncount  6.000000  6.000000  6.000000  6.000000\nmean  -0.070024  0.655641 -0.329265  0.297068\nstd    1.258720  0.802477  0.434571  0.891021\nmin   -1.603504 -0.601746 -0.686302 -0.721615\n25%   -1.166725  0.282983 -0.661198 -0.450765\n50%    0.170847  0.680942 -0.501477  0.292524\n75%    0.957500  1.336560 -0.080609  1.037759\nmax    1.234532  1.468275  0.368424  1.331332",
      "text/html": "<div>\n<style scoped>\n    .dataframe tbody tr th:only-of-type {\n        vertical-align: middle;\n    }\n\n    .dataframe tbody tr th {\n        vertical-align: top;\n    }\n\n    .dataframe thead th {\n        text-align: right;\n    }\n</style>\n<table border=\"1\" class=\"dataframe\">\n  <thead>\n    <tr style=\"text-align: right;\">\n      <th></th>\n      <th>Big</th>\n      <th>Medium</th>\n      <th>Small</th>\n      <th>Tiny</th>\n    </tr>\n  </thead>\n  <tbody>\n    <tr>\n      <th>count</th>\n      <td>6.000000</td>\n      <td>6.000000</td>\n      <td>6.000000</td>\n      <td>6.000000</td>\n    </tr>\n    <tr>\n      <th>mean</th>\n      <td>-0.070024</td>\n      <td>0.655641</td>\n      <td>-0.329265</td>\n      <td>0.297068</td>\n    </tr>\n    <tr>\n      <th>std</th>\n      <td>1.258720</td>\n      <td>0.802477</td>\n      <td>0.434571</td>\n      <td>0.891021</td>\n    </tr>\n    <tr>\n      <th>min</th>\n      <td>-1.603504</td>\n      <td>-0.601746</td>\n      <td>-0.686302</td>\n      <td>-0.721615</td>\n    </tr>\n    <tr>\n      <th>25%</th>\n      <td>-1.166725</td>\n      <td>0.282983</td>\n      <td>-0.661198</td>\n      <td>-0.450765</td>\n    </tr>\n    <tr>\n      <th>50%</th>\n      <td>0.170847</td>\n      <td>0.680942</td>\n      <td>-0.501477</td>\n      <td>0.292524</td>\n    </tr>\n    <tr>\n      <th>75%</th>\n      <td>0.957500</td>\n      <td>1.336560</td>\n      <td>-0.080609</td>\n      <td>1.037759</td>\n    </tr>\n    <tr>\n      <th>max</th>\n      <td>1.234532</td>\n      <td>1.468275</td>\n      <td>0.368424</td>\n      <td>1.331332</td>\n    </tr>\n  </tbody>\n</table>\n</div>"
     },
     "execution_count": 38,
     "metadata": {},
     "output_type": "execute_result"
    }
   ],
   "source": [
    "df.describe()"
   ],
   "metadata": {
    "collapsed": false
   }
  },
  {
   "cell_type": "markdown",
   "source": [
    "### Transpose"
   ],
   "metadata": {
    "collapsed": false
   }
  },
  {
   "cell_type": "code",
   "execution_count": 40,
   "outputs": [
    {
     "data": {
      "text/plain": "        2013-01-01  2013-01-02  2013-01-03  2013-01-04  2013-01-05  2013-01-06\nBig       1.234532    1.152464   -0.030914    0.372608   -1.545329   -1.603504\nMedium    0.244524    0.963525    1.460905    1.468275    0.398360   -0.601746\nSmall    -0.668575    0.368424   -0.363886   -0.639068   -0.686302    0.013817\nTiny     -0.721615    1.331332   -0.205925    1.120021    0.790974   -0.532378",
      "text/html": "<div>\n<style scoped>\n    .dataframe tbody tr th:only-of-type {\n        vertical-align: middle;\n    }\n\n    .dataframe tbody tr th {\n        vertical-align: top;\n    }\n\n    .dataframe thead th {\n        text-align: right;\n    }\n</style>\n<table border=\"1\" class=\"dataframe\">\n  <thead>\n    <tr style=\"text-align: right;\">\n      <th></th>\n      <th>2013-01-01</th>\n      <th>2013-01-02</th>\n      <th>2013-01-03</th>\n      <th>2013-01-04</th>\n      <th>2013-01-05</th>\n      <th>2013-01-06</th>\n    </tr>\n  </thead>\n  <tbody>\n    <tr>\n      <th>Big</th>\n      <td>1.234532</td>\n      <td>1.152464</td>\n      <td>-0.030914</td>\n      <td>0.372608</td>\n      <td>-1.545329</td>\n      <td>-1.603504</td>\n    </tr>\n    <tr>\n      <th>Medium</th>\n      <td>0.244524</td>\n      <td>0.963525</td>\n      <td>1.460905</td>\n      <td>1.468275</td>\n      <td>0.398360</td>\n      <td>-0.601746</td>\n    </tr>\n    <tr>\n      <th>Small</th>\n      <td>-0.668575</td>\n      <td>0.368424</td>\n      <td>-0.363886</td>\n      <td>-0.639068</td>\n      <td>-0.686302</td>\n      <td>0.013817</td>\n    </tr>\n    <tr>\n      <th>Tiny</th>\n      <td>-0.721615</td>\n      <td>1.331332</td>\n      <td>-0.205925</td>\n      <td>1.120021</td>\n      <td>0.790974</td>\n      <td>-0.532378</td>\n    </tr>\n  </tbody>\n</table>\n</div>"
     },
     "execution_count": 40,
     "metadata": {},
     "output_type": "execute_result"
    }
   ],
   "source": [
    "df.T"
   ],
   "metadata": {
    "collapsed": false
   }
  },
  {
   "cell_type": "markdown",
   "source": [
    "### DataFrame.sort_index() sorts by an axis:"
   ],
   "metadata": {
    "collapsed": false
   }
  },
  {
   "cell_type": "code",
   "execution_count": 41,
   "outputs": [
    {
     "data": {
      "text/plain": "                Tiny     Small    Medium       Big\n2013-01-01 -0.721615 -0.668575  0.244524  1.234532\n2013-01-02  1.331332  0.368424  0.963525  1.152464\n2013-01-03 -0.205925 -0.363886  1.460905 -0.030914\n2013-01-04  1.120021 -0.639068  1.468275  0.372608\n2013-01-05  0.790974 -0.686302  0.398360 -1.545329\n2013-01-06 -0.532378  0.013817 -0.601746 -1.603504",
      "text/html": "<div>\n<style scoped>\n    .dataframe tbody tr th:only-of-type {\n        vertical-align: middle;\n    }\n\n    .dataframe tbody tr th {\n        vertical-align: top;\n    }\n\n    .dataframe thead th {\n        text-align: right;\n    }\n</style>\n<table border=\"1\" class=\"dataframe\">\n  <thead>\n    <tr style=\"text-align: right;\">\n      <th></th>\n      <th>Tiny</th>\n      <th>Small</th>\n      <th>Medium</th>\n      <th>Big</th>\n    </tr>\n  </thead>\n  <tbody>\n    <tr>\n      <th>2013-01-01</th>\n      <td>-0.721615</td>\n      <td>-0.668575</td>\n      <td>0.244524</td>\n      <td>1.234532</td>\n    </tr>\n    <tr>\n      <th>2013-01-02</th>\n      <td>1.331332</td>\n      <td>0.368424</td>\n      <td>0.963525</td>\n      <td>1.152464</td>\n    </tr>\n    <tr>\n      <th>2013-01-03</th>\n      <td>-0.205925</td>\n      <td>-0.363886</td>\n      <td>1.460905</td>\n      <td>-0.030914</td>\n    </tr>\n    <tr>\n      <th>2013-01-04</th>\n      <td>1.120021</td>\n      <td>-0.639068</td>\n      <td>1.468275</td>\n      <td>0.372608</td>\n    </tr>\n    <tr>\n      <th>2013-01-05</th>\n      <td>0.790974</td>\n      <td>-0.686302</td>\n      <td>0.398360</td>\n      <td>-1.545329</td>\n    </tr>\n    <tr>\n      <th>2013-01-06</th>\n      <td>-0.532378</td>\n      <td>0.013817</td>\n      <td>-0.601746</td>\n      <td>-1.603504</td>\n    </tr>\n  </tbody>\n</table>\n</div>"
     },
     "execution_count": 41,
     "metadata": {},
     "output_type": "execute_result"
    }
   ],
   "source": [
    "df.sort_index(axis=1, ascending=False)"
   ],
   "metadata": {
    "collapsed": false
   }
  },
  {
   "cell_type": "markdown",
   "source": [
    "### DataFrame.sort_values() sorts by values:"
   ],
   "metadata": {
    "collapsed": false
   }
  },
  {
   "cell_type": "code",
   "execution_count": 44,
   "outputs": [
    {
     "data": {
      "text/plain": "                 Big    Medium     Small      Tiny\n2013-01-01  1.234532  0.244524 -0.668575 -0.721615\n2013-01-02  1.152464  0.963525  0.368424  1.331332\n2013-01-04  0.372608  1.468275 -0.639068  1.120021\n2013-01-03 -0.030914  1.460905 -0.363886 -0.205925\n2013-01-05 -1.545329  0.398360 -0.686302  0.790974\n2013-01-06 -1.603504 -0.601746  0.013817 -0.532378",
      "text/html": "<div>\n<style scoped>\n    .dataframe tbody tr th:only-of-type {\n        vertical-align: middle;\n    }\n\n    .dataframe tbody tr th {\n        vertical-align: top;\n    }\n\n    .dataframe thead th {\n        text-align: right;\n    }\n</style>\n<table border=\"1\" class=\"dataframe\">\n  <thead>\n    <tr style=\"text-align: right;\">\n      <th></th>\n      <th>Big</th>\n      <th>Medium</th>\n      <th>Small</th>\n      <th>Tiny</th>\n    </tr>\n  </thead>\n  <tbody>\n    <tr>\n      <th>2013-01-01</th>\n      <td>1.234532</td>\n      <td>0.244524</td>\n      <td>-0.668575</td>\n      <td>-0.721615</td>\n    </tr>\n    <tr>\n      <th>2013-01-02</th>\n      <td>1.152464</td>\n      <td>0.963525</td>\n      <td>0.368424</td>\n      <td>1.331332</td>\n    </tr>\n    <tr>\n      <th>2013-01-04</th>\n      <td>0.372608</td>\n      <td>1.468275</td>\n      <td>-0.639068</td>\n      <td>1.120021</td>\n    </tr>\n    <tr>\n      <th>2013-01-03</th>\n      <td>-0.030914</td>\n      <td>1.460905</td>\n      <td>-0.363886</td>\n      <td>-0.205925</td>\n    </tr>\n    <tr>\n      <th>2013-01-05</th>\n      <td>-1.545329</td>\n      <td>0.398360</td>\n      <td>-0.686302</td>\n      <td>0.790974</td>\n    </tr>\n    <tr>\n      <th>2013-01-06</th>\n      <td>-1.603504</td>\n      <td>-0.601746</td>\n      <td>0.013817</td>\n      <td>-0.532378</td>\n    </tr>\n  </tbody>\n</table>\n</div>"
     },
     "execution_count": 44,
     "metadata": {},
     "output_type": "execute_result"
    }
   ],
   "source": [
    "df.sort_values(by=\"Big\", ascending=False)"
   ],
   "metadata": {
    "collapsed": false
   }
  },
  {
   "cell_type": "markdown",
   "source": [
    "# Selection\n",
    "While standard Python / NumPy expressions for selecting and setting are intuitive and come in handy for interactive work, for production code, we recommend the optimized `pandas` data access methods,\n",
    "  - DataFrame.at(),\n",
    "  - DataFrame.iat(),\n",
    "  - DataFrame.loc() and\n",
    "  - DataFrame.iloc()."
   ],
   "metadata": {
    "collapsed": false
   }
  },
  {
   "cell_type": "markdown",
   "source": [
    "---\n",
    "## Getting\n",
    "Selecting a single column, which yields a Series, equivalent to df.A:"
   ],
   "metadata": {
    "collapsed": false
   }
  },
  {
   "cell_type": "code",
   "execution_count": 45,
   "outputs": [
    {
     "data": {
      "text/plain": "2013-01-01    1.234532\n2013-01-02    1.152464\n2013-01-03   -0.030914\n2013-01-04    0.372608\n2013-01-05   -1.545329\n2013-01-06   -1.603504\nFreq: D, Name: Big, dtype: float64"
     },
     "execution_count": 45,
     "metadata": {},
     "output_type": "execute_result"
    }
   ],
   "source": [
    "df[\"Big\"]"
   ],
   "metadata": {
    "collapsed": false
   }
  },
  {
   "cell_type": "markdown",
   "source": [],
   "metadata": {
    "collapsed": false
   }
  },
  {
   "cell_type": "code",
   "execution_count": 46,
   "outputs": [
    {
     "data": {
      "text/plain": "2013-01-01    1.234532\n2013-01-02    1.152464\n2013-01-03   -0.030914\n2013-01-04    0.372608\n2013-01-05   -1.545329\n2013-01-06   -1.603504\nFreq: D, Name: Big, dtype: float64"
     },
     "execution_count": 46,
     "metadata": {},
     "output_type": "execute_result"
    }
   ],
   "source": [
    "df.Big"
   ],
   "metadata": {
    "collapsed": false
   }
  },
  {
   "cell_type": "markdown",
   "source": [],
   "metadata": {
    "collapsed": false
   }
  },
  {
   "cell_type": "code",
   "execution_count": 49,
   "outputs": [
    {
     "data": {
      "text/plain": "                 Big    Medium     Small      Tiny\n2013-01-02  1.152464  0.963525  0.368424  1.331332\n2013-01-03 -0.030914  1.460905 -0.363886 -0.205925",
      "text/html": "<div>\n<style scoped>\n    .dataframe tbody tr th:only-of-type {\n        vertical-align: middle;\n    }\n\n    .dataframe tbody tr th {\n        vertical-align: top;\n    }\n\n    .dataframe thead th {\n        text-align: right;\n    }\n</style>\n<table border=\"1\" class=\"dataframe\">\n  <thead>\n    <tr style=\"text-align: right;\">\n      <th></th>\n      <th>Big</th>\n      <th>Medium</th>\n      <th>Small</th>\n      <th>Tiny</th>\n    </tr>\n  </thead>\n  <tbody>\n    <tr>\n      <th>2013-01-02</th>\n      <td>1.152464</td>\n      <td>0.963525</td>\n      <td>0.368424</td>\n      <td>1.331332</td>\n    </tr>\n    <tr>\n      <th>2013-01-03</th>\n      <td>-0.030914</td>\n      <td>1.460905</td>\n      <td>-0.363886</td>\n      <td>-0.205925</td>\n    </tr>\n  </tbody>\n</table>\n</div>"
     },
     "execution_count": 49,
     "metadata": {},
     "output_type": "execute_result"
    }
   ],
   "source": [
    "df[1:3]"
   ],
   "metadata": {
    "collapsed": false
   }
  },
  {
   "cell_type": "code",
   "execution_count": 56,
   "outputs": [
    {
     "name": "stdout",
     "output_type": "stream",
     "text": [
      "get all index dates from 20130102 to 20130104\n"
     ]
    },
    {
     "data": {
      "text/plain": "                 Big    Medium     Small      Tiny\n2013-01-02  1.152464  0.963525  0.368424  1.331332\n2013-01-03 -0.030914  1.460905 -0.363886 -0.205925\n2013-01-04  0.372608  1.468275 -0.639068  1.120021",
      "text/html": "<div>\n<style scoped>\n    .dataframe tbody tr th:only-of-type {\n        vertical-align: middle;\n    }\n\n    .dataframe tbody tr th {\n        vertical-align: top;\n    }\n\n    .dataframe thead th {\n        text-align: right;\n    }\n</style>\n<table border=\"1\" class=\"dataframe\">\n  <thead>\n    <tr style=\"text-align: right;\">\n      <th></th>\n      <th>Big</th>\n      <th>Medium</th>\n      <th>Small</th>\n      <th>Tiny</th>\n    </tr>\n  </thead>\n  <tbody>\n    <tr>\n      <th>2013-01-02</th>\n      <td>1.152464</td>\n      <td>0.963525</td>\n      <td>0.368424</td>\n      <td>1.331332</td>\n    </tr>\n    <tr>\n      <th>2013-01-03</th>\n      <td>-0.030914</td>\n      <td>1.460905</td>\n      <td>-0.363886</td>\n      <td>-0.205925</td>\n    </tr>\n    <tr>\n      <th>2013-01-04</th>\n      <td>0.372608</td>\n      <td>1.468275</td>\n      <td>-0.639068</td>\n      <td>1.120021</td>\n    </tr>\n  </tbody>\n</table>\n</div>"
     },
     "execution_count": 56,
     "metadata": {},
     "output_type": "execute_result"
    }
   ],
   "source": [
    "print(\"get all index dates from 20130102 to 20130104\")\n",
    "df[\"20130102\":\"20130104\"]"
   ],
   "metadata": {
    "collapsed": false
   }
  },
  {
   "cell_type": "markdown",
   "source": [
    "---\n",
    "\n",
    "## Selection by label\n",
    "\n",
    "- DataFrame.loc()\n",
    "- DataFrame.at().\n",
    "\n"
   ],
   "metadata": {
    "collapsed": false
   }
  },
  {
   "cell_type": "code",
   "execution_count": 55,
   "outputs": [
    {
     "name": "stdout",
     "output_type": "stream",
     "text": [
      "dates[0] is the first row, and df.loc[dates[0]] gets all columns for that row\n"
     ]
    },
    {
     "data": {
      "text/plain": "Big       1.234532\nMedium    0.244524\nSmall    -0.668575\nTiny     -0.721615\nName: 2013-01-01 00:00:00, dtype: float64"
     },
     "execution_count": 55,
     "metadata": {},
     "output_type": "execute_result"
    }
   ],
   "source": [
    "print(\"dates[0] is the first row, and df.loc[dates[0]] gets all columns for that row\")\n",
    "df.loc[dates[0]]"
   ],
   "metadata": {
    "collapsed": false
   }
  },
  {
   "cell_type": "code",
   "execution_count": 61,
   "outputs": [
    {
     "data": {
      "text/plain": "              Medium      Tiny\n2013-01-01  0.244524 -0.721615\n2013-01-02  0.963525  1.331332\n2013-01-03  1.460905 -0.205925\n2013-01-04  1.468275  1.120021\n2013-01-05  0.398360  0.790974\n2013-01-06 -0.601746 -0.532378",
      "text/html": "<div>\n<style scoped>\n    .dataframe tbody tr th:only-of-type {\n        vertical-align: middle;\n    }\n\n    .dataframe tbody tr th {\n        vertical-align: top;\n    }\n\n    .dataframe thead th {\n        text-align: right;\n    }\n</style>\n<table border=\"1\" class=\"dataframe\">\n  <thead>\n    <tr style=\"text-align: right;\">\n      <th></th>\n      <th>Medium</th>\n      <th>Tiny</th>\n    </tr>\n  </thead>\n  <tbody>\n    <tr>\n      <th>2013-01-01</th>\n      <td>0.244524</td>\n      <td>-0.721615</td>\n    </tr>\n    <tr>\n      <th>2013-01-02</th>\n      <td>0.963525</td>\n      <td>1.331332</td>\n    </tr>\n    <tr>\n      <th>2013-01-03</th>\n      <td>1.460905</td>\n      <td>-0.205925</td>\n    </tr>\n    <tr>\n      <th>2013-01-04</th>\n      <td>1.468275</td>\n      <td>1.120021</td>\n    </tr>\n    <tr>\n      <th>2013-01-05</th>\n      <td>0.398360</td>\n      <td>0.790974</td>\n    </tr>\n    <tr>\n      <th>2013-01-06</th>\n      <td>-0.601746</td>\n      <td>-0.532378</td>\n    </tr>\n  </tbody>\n</table>\n</div>"
     },
     "execution_count": 61,
     "metadata": {},
     "output_type": "execute_result"
    }
   ],
   "source": [
    "df.loc[:, [\"Medium\", \"Tiny\"]]"
   ],
   "metadata": {
    "collapsed": false
   }
  },
  {
   "cell_type": "code",
   "execution_count": 60,
   "outputs": [
    {
     "data": {
      "text/plain": "                 Big    Medium     Small      Tiny\n2013-01-01  1.234532  0.244524 -0.668575 -0.721615\n2013-01-02  1.152464  0.963525  0.368424  1.331332\n2013-01-03 -0.030914  1.460905 -0.363886 -0.205925\n2013-01-04  0.372608  1.468275 -0.639068  1.120021\n2013-01-05 -1.545329  0.398360 -0.686302  0.790974\n2013-01-06 -1.603504 -0.601746  0.013817 -0.532378",
      "text/html": "<div>\n<style scoped>\n    .dataframe tbody tr th:only-of-type {\n        vertical-align: middle;\n    }\n\n    .dataframe tbody tr th {\n        vertical-align: top;\n    }\n\n    .dataframe thead th {\n        text-align: right;\n    }\n</style>\n<table border=\"1\" class=\"dataframe\">\n  <thead>\n    <tr style=\"text-align: right;\">\n      <th></th>\n      <th>Big</th>\n      <th>Medium</th>\n      <th>Small</th>\n      <th>Tiny</th>\n    </tr>\n  </thead>\n  <tbody>\n    <tr>\n      <th>2013-01-01</th>\n      <td>1.234532</td>\n      <td>0.244524</td>\n      <td>-0.668575</td>\n      <td>-0.721615</td>\n    </tr>\n    <tr>\n      <th>2013-01-02</th>\n      <td>1.152464</td>\n      <td>0.963525</td>\n      <td>0.368424</td>\n      <td>1.331332</td>\n    </tr>\n    <tr>\n      <th>2013-01-03</th>\n      <td>-0.030914</td>\n      <td>1.460905</td>\n      <td>-0.363886</td>\n      <td>-0.205925</td>\n    </tr>\n    <tr>\n      <th>2013-01-04</th>\n      <td>0.372608</td>\n      <td>1.468275</td>\n      <td>-0.639068</td>\n      <td>1.120021</td>\n    </tr>\n    <tr>\n      <th>2013-01-05</th>\n      <td>-1.545329</td>\n      <td>0.398360</td>\n      <td>-0.686302</td>\n      <td>0.790974</td>\n    </tr>\n    <tr>\n      <th>2013-01-06</th>\n      <td>-1.603504</td>\n      <td>-0.601746</td>\n      <td>0.013817</td>\n      <td>-0.532378</td>\n    </tr>\n  </tbody>\n</table>\n</div>"
     },
     "execution_count": 60,
     "metadata": {},
     "output_type": "execute_result"
    }
   ],
   "source": [
    "df.loc[:]"
   ],
   "metadata": {
    "collapsed": false
   }
  },
  {
   "cell_type": "code",
   "execution_count": 65,
   "outputs": [
    {
     "name": "stdout",
     "output_type": "stream",
     "text": [
      "get the rows between two values-  and specific columns\n"
     ]
    },
    {
     "data": {
      "text/plain": "              Medium      Tiny\n2013-01-02  0.963525  1.331332\n2013-01-03  1.460905 -0.205925\n2013-01-04  1.468275  1.120021",
      "text/html": "<div>\n<style scoped>\n    .dataframe tbody tr th:only-of-type {\n        vertical-align: middle;\n    }\n\n    .dataframe tbody tr th {\n        vertical-align: top;\n    }\n\n    .dataframe thead th {\n        text-align: right;\n    }\n</style>\n<table border=\"1\" class=\"dataframe\">\n  <thead>\n    <tr style=\"text-align: right;\">\n      <th></th>\n      <th>Medium</th>\n      <th>Tiny</th>\n    </tr>\n  </thead>\n  <tbody>\n    <tr>\n      <th>2013-01-02</th>\n      <td>0.963525</td>\n      <td>1.331332</td>\n    </tr>\n    <tr>\n      <th>2013-01-03</th>\n      <td>1.460905</td>\n      <td>-0.205925</td>\n    </tr>\n    <tr>\n      <th>2013-01-04</th>\n      <td>1.468275</td>\n      <td>1.120021</td>\n    </tr>\n  </tbody>\n</table>\n</div>"
     },
     "execution_count": 65,
     "metadata": {},
     "output_type": "execute_result"
    }
   ],
   "source": [
    "print(\"get the rows between two values-  and specific columns\")\n",
    "df.loc[\"20130102\":\"20130104\", [\"Medium\", \"Tiny\"]]"
   ],
   "metadata": {
    "collapsed": false
   }
  },
  {
   "cell_type": "code",
   "execution_count": 67,
   "outputs": [
    {
     "name": "stdout",
     "output_type": "stream",
     "text": [
      "get the first row and a specific column\n"
     ]
    },
    {
     "data": {
      "text/plain": "-0.7216152398205058"
     },
     "execution_count": 67,
     "metadata": {},
     "output_type": "execute_result"
    }
   ],
   "source": [
    "print(\"get the first row and a specific column\")\n",
    "df.loc[dates[0], \"Tiny\"]"
   ],
   "metadata": {
    "collapsed": false
   }
  },
  {
   "cell_type": "code",
   "execution_count": 68,
   "outputs": [
    {
     "data": {
      "text/plain": "1.2345319516925999"
     },
     "execution_count": 68,
     "metadata": {},
     "output_type": "execute_result"
    }
   ],
   "source": [
    "df.at[dates[0], \"Big\"]\n"
   ],
   "metadata": {
    "collapsed": false
   }
  },
  {
   "cell_type": "markdown",
   "source": [
    "---\n",
    "\n",
    "# Selection by position\n",
    "\n",
    "- DataFrame.iloc()\n",
    "- DataFrame.at().\n",
    "\n",
    "Select via the position of the passed integers:\n",
    "\n"
   ],
   "metadata": {
    "collapsed": false
   }
  }
 ],
 "metadata": {
  "kernelspec": {
   "display_name": "Python 3",
   "language": "python",
   "name": "python3"
  },
  "language_info": {
   "codemirror_mode": {
    "name": "ipython",
    "version": 2
   },
   "file_extension": ".py",
   "mimetype": "text/x-python",
   "name": "python",
   "nbconvert_exporter": "python",
   "pygments_lexer": "ipython2",
   "version": "2.7.6"
  }
 },
 "nbformat": 4,
 "nbformat_minor": 0
}
